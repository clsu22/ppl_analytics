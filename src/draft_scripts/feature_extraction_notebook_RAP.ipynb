{
 "cells": [
  {
   "cell_type": "code",
   "execution_count": null,
   "metadata": {},
   "outputs": [],
   "source": [
    "import os, nltk, glob\n",
    "import pandas as pd\n",
    "from docx import Document"
   ]
  },
  {
   "cell_type": "markdown",
   "metadata": {},
   "source": [
    "# Feature Extraction"
   ]
  },
  {
   "cell_type": "code",
   "execution_count": null,
   "metadata": {},
   "outputs": [],
   "source": [
    "import pandas as pd\n",
    "import re \n",
    "import spacy \n",
    "import os \n",
    "import numpy as np"
   ]
  },
  {
   "cell_type": "code",
   "execution_count": null,
   "metadata": {},
   "outputs": [],
   "source": [
    "!pwd"
   ]
  },
  {
   "cell_type": "code",
   "execution_count": null,
   "metadata": {},
   "outputs": [],
   "source": [
    "# Read CSV files\n",
    "resume_info = pd.read_csv('../../data/input/feature_extraction/manual_extraction_template.csv')\n",
    "retailers_df = pd.read_csv('../../data/input/feature_extraction/retail_list.csv')\n",
    "restaurant_df = pd.read_csv('../../data/input/feature_extraction/food_retail_list.csv')\n",
    "supermarket_df = pd.read_csv('../../data/input/feature_extraction/supermarket_retail_list.csv')\n",
    "companies_df = pd.read_csv('../../data/input/feature_extraction/resume_companies.csv')\n"
   ]
  },
  {
   "cell_type": "code",
   "execution_count": null,
   "metadata": {},
   "outputs": [],
   "source": [
    "restaurant_df.head()"
   ]
  },
  {
   "cell_type": "code",
   "execution_count": null,
   "metadata": {},
   "outputs": [],
   "source": [
    "#retailers_df.describe()"
   ]
  },
  {
   "cell_type": "code",
   "execution_count": null,
   "metadata": {},
   "outputs": [],
   "source": [
    "#companies_df.describe()"
   ]
  },
  {
   "cell_type": "code",
   "execution_count": null,
   "metadata": {},
   "outputs": [],
   "source": [
    "# Cleaning\n",
    "\n",
    "# Remove empty lines\n",
    "retailers_df = retailers_df.dropna()\n",
    "companies_df = companies_df.dropna()\n",
    "# Remove duplicates\n",
    "retailers_df = retailers_df.drop_duplicates(subset=None, keep='first', inplace=False) \n",
    "companies_df = companies_df.drop_duplicates(subset=None, keep='first', inplace=False)\n",
    "# Reset_Index\n",
    "retailers_df = retailers_df.reset_index().drop('index',1)\n",
    "#.drop('index',1)\n",
    "companies_df = companies_df.reset_index().drop('index',1)"
   ]
  },
  {
   "cell_type": "code",
   "execution_count": null,
   "metadata": {},
   "outputs": [],
   "source": [
    "# Step 0 Clean Text function\n",
    "def clean_c_name(text):\n",
    "    \n",
    "    text = str(text.split('/')[0])\n",
    "    text = str(text.split(',')[0])\n",
    "    #text = str(text.split('(')[0])\n",
    "    \n",
    "    # Replace a sequence of whitespaces by a single whitespace\n",
    "    text = re.sub(r'\\s+', ' ', text)\n",
    "\n",
    "    # Remove other strange characters\n",
    "    text = re.sub(r'''[\\*\\~]+''', \"\", text)\n",
    "    \n",
    "    # Remove '.' from last place\n",
    "    if text.endswith('.'):\n",
    "        text= text[:-1]\n",
    "    \n",
    "    text_out = text\n",
    "    \n",
    "    return text_out "
   ]
  },
  {
   "cell_type": "code",
   "execution_count": null,
   "metadata": {},
   "outputs": [],
   "source": [
    "# STEP_1 Prepare df function\n",
    "def prepare_df(df, col_name_out ='retail_new_name', col_name_in ='retail_name'):\n",
    "    '''\n",
    "    '''\n",
    "    \n",
    "    # Remove empty lines\n",
    "    df = df.dropna()\n",
    "    \n",
    "    # Remove duplicates\n",
    "    df = df.drop_duplicates(subset=None, keep='first', inplace=False)\n",
    "    \n",
    "    # Reset_Index\n",
    "    df = df.reset_index().drop('index',1)\n",
    "    \n",
    "    # Clean names\n",
    "    df[col_name_out] = df[col_name_in].apply(clean_c_name)\n",
    "    df[col_name_out] = df[col_name_out].str.strip().str.lower().str.replace('(', '').str.replace(')', '').str.replace(',','')\n",
    "    \n",
    "    # Sort df\n",
    "    df.sort_values(by=[col_name_in], ascending=True)\n",
    "    \n",
    "    return df \n",
    "    "
   ]
  },
  {
   "cell_type": "code",
   "execution_count": null,
   "metadata": {
    "scrolled": true
   },
   "outputs": [],
   "source": [
    "test_retail_df = prepare_df(restaurant_df,'rest_name', 'restaurant_retailers')\n",
    "test_retail_df"
   ]
  },
  {
   "cell_type": "code",
   "execution_count": null,
   "metadata": {
    "scrolled": true
   },
   "outputs": [],
   "source": [
    "#retailers_df['retail_name'].to_list()"
   ]
  },
  {
   "cell_type": "code",
   "execution_count": null,
   "metadata": {},
   "outputs": [],
   "source": [
    "#companies_df"
   ]
  },
  {
   "cell_type": "code",
   "execution_count": null,
   "metadata": {},
   "outputs": [],
   "source": [
    "#\"Glentel/ Wireless ETC\".split('/')"
   ]
  },
  {
   "cell_type": "code",
   "execution_count": null,
   "metadata": {},
   "outputs": [],
   "source": [
    "#\"Indian Health Consultant, Delhi, India\".split(',')[0]"
   ]
  },
  {
   "cell_type": "code",
   "execution_count": null,
   "metadata": {
    "scrolled": true
   },
   "outputs": [],
   "source": [
    "companies_df['company_1'] = companies_df['company'].apply(clean_c_name)\n",
    "companies_df['company_1'] = companies_df['company_1'].str.strip().str.lower().str.replace('(', '').str.replace(')', '')\n",
    "companies_df['company_1'].to_list()"
   ]
  },
  {
   "cell_type": "code",
   "execution_count": null,
   "metadata": {},
   "outputs": [],
   "source": [
    "#companies_df.columns = companies_df.columns.str.strip().str.lower().str.replace(' ', '_').str.replace('(', '').str.replace(')', '')"
   ]
  },
  {
   "cell_type": "code",
   "execution_count": null,
   "metadata": {},
   "outputs": [],
   "source": [
    "# #!python -m spacy download en_core_web_sm\n",
    "# nlp = spacy.load(\"en_core_web_sm\")"
   ]
  },
  {
   "cell_type": "code",
   "execution_count": null,
   "metadata": {},
   "outputs": [],
   "source": [
    "# def preprocess(text, min_token_len = 3, \n",
    "#                irrelevant_pos = ['ADV','PRON','CCONJ','PUNCT','PART','DET','ADP','SPACE']):\n",
    "#     try:\n",
    "#         text = re.sub(r'([\\t]+)', ' ', text)\n",
    "        \n",
    "#         text = str(text.split('/')[0])\n",
    "#         text = str(text.split(',')[0])\n",
    "#         #text = str(text.split('(')[0])\n",
    "\n",
    "#         # Replace a sequence of whitespaces by a single whitespace\n",
    "#         text = re.sub(r'\\s+', ' ', text)\n",
    "\n",
    "#         # Remove other strange characters\n",
    "#         text = re.sub(r'''[\\*\\~]+''', \"\", text)\n",
    "\n",
    "#         doc = nlp(text)\n",
    "        \n",
    "#         result = ' '.join([token.lemma_ for token in doc \n",
    "#                       if token.is_stop == False\n",
    "#                           and token.pos_ not in irrelevant_pos \n",
    "#                           and token.is_alpha \n",
    "#                           #and not token.like_url \n",
    "#                           #and not token.like_email \n",
    "#                           #and not token.is_stop\n",
    "#                           #and not token.text.isupper()\n",
    "#                           #and not token.text.isdigit()\n",
    "#                           and not token.is_punct\n",
    "#                           and len(token) >= min_token_len])\n",
    "#     except TypeError:\n",
    "#         return(\"no resume found\")\n",
    "#     return result"
   ]
  },
  {
   "cell_type": "code",
   "execution_count": null,
   "metadata": {},
   "outputs": [],
   "source": [
    "# companies_df['company_2'] = companies_df['company'].apply(preprocess)\n",
    "# companies_df['company_2'] = companies_df['company_2'].str.lower()\n",
    "# #companies_df#['company_2'].to_list()"
   ]
  },
  {
   "cell_type": "code",
   "execution_count": null,
   "metadata": {
    "scrolled": true
   },
   "outputs": [],
   "source": [
    "companies_df.sort_values(by=['company'], ascending=True)#['company_2'].to_list()"
   ]
  },
  {
   "cell_type": "code",
   "execution_count": null,
   "metadata": {
    "scrolled": true
   },
   "outputs": [],
   "source": [
    "retailers_df['retailer_1'] = retailers_df['retail_name'].apply(clean_c_name)\n",
    "retailers_df['retailer_1'] = retailers_df['retail_name'].str.strip().str.lower().str.replace('(', '').str.replace(')', '').str.replace(',','')\n",
    "retailers_df['retailer_1'].to_list()"
   ]
  },
  {
   "cell_type": "code",
   "execution_count": null,
   "metadata": {},
   "outputs": [],
   "source": [
    "pd.set_option('display.max_columns', None) \n",
    "pd.set_option('display.max_rows', None) \n",
    "pd.set_option('display.max_colwidth', None)  "
   ]
  },
  {
   "cell_type": "code",
   "execution_count": null,
   "metadata": {
    "scrolled": true
   },
   "outputs": [],
   "source": [
    "retailers_df.sort_values(by=['retail_name'], ascending=True)"
   ]
  },
  {
   "cell_type": "code",
   "execution_count": null,
   "metadata": {},
   "outputs": [],
   "source": [
    "retailers_df.loc[retailers_df['retailer_1']=='mcdonald']"
   ]
  },
  {
   "cell_type": "markdown",
   "metadata": {},
   "source": [
    " # Similarity Algorithms"
   ]
  },
  {
   "cell_type": "markdown",
   "metadata": {},
   "source": [
    "## 1 Levenstein distance (Source:https://en.wikipedia.org/wiki/Levenshtein_distance)"
   ]
  },
  {
   "cell_type": "code",
   "execution_count": null,
   "metadata": {},
   "outputs": [],
   "source": [
    "#pip install python-Levenshtein\n",
    "#pip install textdistance\n",
    "import Levenshtein\n",
    "import textdistance"
   ]
  },
  {
   "cell_type": "code",
   "execution_count": null,
   "metadata": {},
   "outputs": [],
   "source": [
    "textdistance.levenshtein.normalized_similarity('ontario ventilation company','ontario ventilation company')"
   ]
  },
  {
   "cell_type": "code",
   "execution_count": null,
   "metadata": {},
   "outputs": [],
   "source": [
    "#companies_df['company_1'].to_list()"
   ]
  },
  {
   "cell_type": "code",
   "execution_count": null,
   "metadata": {},
   "outputs": [],
   "source": [
    "#from collections import defaultdict\n",
    "\n",
    "# inputs\n",
    "\n",
    "company_list = companies_df['company_1'].to_list()\n",
    "reference_list = retailers_df['retailer_1'].to_list()\n",
    "\n",
    "\n",
    "compare_dict = {}\n",
    "pairs = []\n",
    "\n",
    "for company in company_list[0:5]:\n",
    "# for company in company_list:\n",
    "    \n",
    "    similar_dict = {}\n",
    "    compare_dict.setdefault(company,[]).append(similar_dict)\n",
    "    \n",
    "    for retailer in retailers_df['retailer_1'][0:5]:\n",
    "#     for retailer in reference_list:  \n",
    "        \n",
    "        pair = (company,retailer)\n",
    "        pairs.append(pair)\n",
    "        \n",
    "# Calculate similarity - Levenshtein Distance - also know as edit distance \n",
    "# The return value is a float between 0 and 1, where 0 means totally different, and 1 equal.\n",
    "        \n",
    "        similarity = textdistance.levenshtein.normalized_similarity(company, retailer)\n",
    "        \n",
    "        similar_dict.setdefault(retailer,[]).append(similarity)\n",
    "        \n",
    "# Get the most similar (maximum similarity index)\n",
    "most_similar_dict={}\n",
    "        \n",
    "for company, compare in compare_dict.items():\n",
    "    \n",
    "    most_similar = [{k:round(v[0],4)} for k,v in compare[0].items() if v==max(compare[0].values())][0]\n",
    "#    print(most_similar)\n",
    "# This way stopped working :(\n",
    "#     ms_retailer = list(most_similar.keys())[0]\n",
    "#     ms_retail_index = list(most_similar.values())[0]\n",
    "\n",
    "    [[ms_retailer, ms_retail_index]] = most_similar.items()\n",
    "    \n",
    "\n",
    "    most_similar_dict.setdefault(\"company\",[]).append(company)\n",
    "    most_similar_dict.setdefault(\"ms_retailer\",[]).append(ms_retailer)\n",
    "    most_similar_dict.setdefault(\"ms_retail_index\",[]).append(ms_retail_index)\n",
    "    \n",
    "# Calculate retail flag\n",
    "    if ms_retail_index > 0.7:\n",
    "        retail_flag = 1\n",
    "    else:\n",
    "        retail_flag = 0\n",
    "        \n",
    "    most_similar_dict.setdefault(\"retail_flag\",[]).append(retail_flag)\n",
    "\n",
    "# Results\n",
    "similar_retail_df = pd.DataFrame(most_similar_dict)\n",
    "# similar_retail_df.sort_values(by=['ms_retail_index'], ascending=False) "
   ]
  },
  {
   "cell_type": "code",
   "execution_count": null,
   "metadata": {},
   "outputs": [],
   "source": [
    "# from platform import python_version\n",
    "# print(python_version())"
   ]
  },
  {
   "cell_type": "code",
   "execution_count": null,
   "metadata": {},
   "outputs": [],
   "source": [
    "# import sys\n",
    "# sys.executable"
   ]
  },
  {
   "cell_type": "code",
   "execution_count": null,
   "metadata": {},
   "outputs": [],
   "source": [
    "# most_similar = {'alife rivington club': 0.25}\n",
    "# #type(most_similar)\n",
    "# [[ms_retailer,v]] = most_similar.items()\n",
    "# ms_retailer\n"
   ]
  },
  {
   "cell_type": "code",
   "execution_count": null,
   "metadata": {},
   "outputs": [],
   "source": [
    "# company_list = companies_df['company_1'].to_list()\n",
    "# type(company_list)"
   ]
  },
  {
   "cell_type": "code",
   "execution_count": null,
   "metadata": {},
   "outputs": [],
   "source": [
    "# Compare companies list to list and generate similarity index and flag based on cutoff\n",
    "\n",
    "def gen_flag(input_list, ref_list, out_name = 'ms_retailer', flag_name = 'f_retail', threshold = 0.7):\n",
    "    '''\n",
    "    '''\n",
    "    \n",
    "    # Check inputs are ok for processing\n",
    "    \n",
    "    if type(input_list) == 'pandas.core.series.Series':\n",
    "        input_list = input_list.to_list()\n",
    "        \n",
    "    if type(input_list) == 'list':\n",
    "        input_list = input_list\n",
    "    \n",
    "    if type(ref_list) == 'pandas.core.series.Series':\n",
    "        input_list = input_list.to_list()\n",
    "        \n",
    "    if type(ref_list) == 'list':\n",
    "        input_list = input_list\n",
    "    \n",
    "    compare_dict = {}\n",
    "    pairs = []\n",
    "\n",
    "    # for company in input_list[0:5]:\n",
    "    for company in input_list:\n",
    "\n",
    "        similar_dict = {}\n",
    "        compare_dict.setdefault(company,[]).append(similar_dict)\n",
    "\n",
    "    #     for retailer in ref_list[0:5]:\n",
    "        for retailer in ref_list:  \n",
    "\n",
    "            pair = (company,retailer)\n",
    "            pairs.append(pair)\n",
    "\n",
    "    # Calculate similarity - Levenshtein Distance - also know as edit distance \n",
    "    # The return value is a float between 0 and 1, where 0 means totally different, and 1 equal.\n",
    "\n",
    "            similarity = textdistance.levenshtein.normalized_similarity(company, retailer)\n",
    "\n",
    "            similar_dict.setdefault(retailer,[]).append(similarity)\n",
    "\n",
    "    # Get the most similar (maximum similarity index)\n",
    "    most_similar_dict={}\n",
    "\n",
    "    for company, compare in compare_dict.items():\n",
    "\n",
    "        most_similar = [{k:round(v[0],4)} for k,v in compare[0].items() if v==max(compare[0].values())][0]\n",
    "        \n",
    "        [[ms_retailer, ms_retail_index]] = most_similar.items()\n",
    "\n",
    "        most_similar_dict.setdefault(\"company\",[]).append(company)\n",
    "        most_similar_dict.setdefault(out_name,[]).append(ms_retailer)\n",
    "        most_similar_dict.setdefault(\"ms_index\",[]).append(ms_retail_index)\n",
    "\n",
    "    # Calculate retail flag\n",
    "        if ms_retail_index >= threshold:\n",
    "            retail_flag = int(1)\n",
    "        else:\n",
    "            retail_flag = int(0)\n",
    "\n",
    "        most_similar_dict.setdefault(flag_name,[]).append(retail_flag)\n",
    "\n",
    "    # Results\n",
    "    similar_df = pd.DataFrame(most_similar_dict)\n",
    "    \n",
    "    return similar_df\n"
   ]
  },
  {
   "cell_type": "code",
   "execution_count": null,
   "metadata": {},
   "outputs": [],
   "source": [
    "# General Retail experience flag\n",
    "similar_retail_df = gen_flag(companies_df['company_1'], retailers_df['retailer_1'], 'ms_retailer', 'retailer_flag')"
   ]
  },
  {
   "cell_type": "code",
   "execution_count": null,
   "metadata": {},
   "outputs": [],
   "source": [
    "similar_retail_df.sort_values(by=['ms_index'], ascending=False).head(20)"
   ]
  },
  {
   "cell_type": "code",
   "execution_count": null,
   "metadata": {
    "scrolled": true
   },
   "outputs": [],
   "source": [
    "similar_retail_df.sort_values(by=['company'], ascending=False)"
   ]
  },
  {
   "cell_type": "markdown",
   "metadata": {},
   "source": [
    "## 1 Food-Convenience-Pharmacy Retailers"
   ]
  },
  {
   "cell_type": "code",
   "execution_count": null,
   "metadata": {},
   "outputs": [],
   "source": [
    "# 1 load list of Food Retailers\n",
    "supermarket_df = pd.read_csv('../../data/input/feature_extraction/supermarket_retail_list.csv')"
   ]
  },
  {
   "cell_type": "code",
   "execution_count": null,
   "metadata": {},
   "outputs": [],
   "source": [
    "supermarket_df.head(5)"
   ]
  },
  {
   "cell_type": "code",
   "execution_count": null,
   "metadata": {},
   "outputs": [],
   "source": [
    "fcp_list = supermarket_df['Supermarket_retailers'].to_list() + food_conv_pharm_list"
   ]
  },
  {
   "cell_type": "code",
   "execution_count": null,
   "metadata": {
    "scrolled": true
   },
   "outputs": [],
   "source": [
    "# 2 Clean data frame for comparison\n",
    "#def prepare_df(df, col_name_out ='retail_new_name', col_name_in ='retail_name'):\n",
    "supermkt_df = prepare_df(supermarket_df, col_name_out ='supermkt_retailer', col_name_in ='Supermarket_retailers')\n",
    "supermkt_df"
   ]
  },
  {
   "cell_type": "code",
   "execution_count": null,
   "metadata": {},
   "outputs": [],
   "source": [
    "# 3 Generate Supermarket Retail flag \n",
    "similar_supermkt_df = gen_flag(companies_df['company_1'], \n",
    "                            supermkt_df['supermkt_retailer'], \n",
    "                            out_name = 'ms_retailer', \n",
    "                            flag_name = 'supermkt', \n",
    "                            threshold = 0.85)"
   ]
  },
  {
   "cell_type": "code",
   "execution_count": null,
   "metadata": {
    "scrolled": true
   },
   "outputs": [],
   "source": [
    "# Inspect resutls by index\n",
    "similar_supermkt_df.sort_values(by=['ms_index'], ascending=False).head(20)"
   ]
  },
  {
   "cell_type": "code",
   "execution_count": null,
   "metadata": {},
   "outputs": [],
   "source": [
    "# Number of supermarket realted jobs\n",
    "smkt_jobs = (similar_supermkt_df.supermkt == 1).sum()\n",
    "total_jobs = similar_supermkt_df.shape[0]\n",
    "smkt_jobs_ratio = round(smkt_jobs/total_jobs*100,3)\n",
    "print (\"supermarket realted jobs\", smkt_jobs,\"(\",smkt_jobs_ratio,\"%\",\")\")"
   ]
  },
  {
   "cell_type": "code",
   "execution_count": null,
   "metadata": {
    "scrolled": true
   },
   "outputs": [],
   "source": [
    "# Inspect resutls by name\n",
    "similar_supermkt_df.sort_values(by=['company'], ascending=True)"
   ]
  },
  {
   "cell_type": "code",
   "execution_count": null,
   "metadata": {},
   "outputs": [],
   "source": [
    "# Explore df for key words\n",
    "similar_supermkt_df[similar_supermkt_df['company'].str.contains('drug')]"
   ]
  },
  {
   "cell_type": "code",
   "execution_count": null,
   "metadata": {},
   "outputs": [],
   "source": [
    "# List of convenience stores (https://en.wikipedia.org/wiki/List_of_convenience_stores & https://en.wikipedia.org/wiki/List_of_Canadian_stores)\n",
    "convenience_store_list = [\n",
    "\"Aisle 24\", \n",
    "\"Avondale Stores\", \n",
    "\"Circke K\", \n",
    "\"Couche-Tard\",\n",
    "\"Provi-Soir\",\n",
    "\"Hasty Market\",\n",
    "\"Irving Blue Canoe\",\n",
    "\"Irving Mainway\",\n",
    "\"Needs Convenience\",\n",
    "\"OLCO\",\n",
    "\"On the Run\",\n",
    "\"Pioneer\",\n",
    "\"Quickie Convenience Stores\",\n",
    "\"7-Eleven\",\n",
    "\"Becker's\",\n",
    "\"Mac's Convenience Stores\", \n",
    "\"Dollarama\"]"
   ]
  },
  {
   "cell_type": "code",
   "execution_count": null,
   "metadata": {},
   "outputs": [],
   "source": [
    "# Clean Convenience store list\n",
    "convenience_store_df = pd.DataFrame({\"convenience_store\":convenience_store_list})\n",
    "convenience_df = prepare_df(convenience_store_df, col_name_out ='convenience_retailer', \n",
    "                            col_name_in ='convenience_store')\n",
    "convenience_retail_list = convenience_df['convenience_retailer'].to_list()\n",
    "# convenience_retail_list"
   ]
  },
  {
   "cell_type": "code",
   "execution_count": null,
   "metadata": {},
   "outputs": [],
   "source": [
    "# Final list to be edited \n",
    "convenience_retail_list = [\n",
    "'aisle 24',\n",
    "'avondale stores',\n",
    "'circke k',\n",
    "'couche-tard',\n",
    "'provi-soir',\n",
    "'hasty market',\n",
    "'irving blue canoe',\n",
    "'irving mainway',\n",
    "'needs convenience',\n",
    "'olco',\n",
    "'on the run',\n",
    "'pioneer',\n",
    "'quickie convenience stores',\n",
    "'7-eleven',\n",
    "\"becker's\",\n",
    "\"mac's convenience stores\",\n",
    "'dollarama', \n",
    "\"mac’s convenience store calgary\"]"
   ]
  },
  {
   "cell_type": "code",
   "execution_count": null,
   "metadata": {},
   "outputs": [],
   "source": [
    "food_producer = [\"aliyas foods ltd.\"]"
   ]
  },
  {
   "cell_type": "code",
   "execution_count": null,
   "metadata": {},
   "outputs": [],
   "source": [
    "government = [\"agriculture and agri-food canada\"]"
   ]
  },
  {
   "cell_type": "code",
   "execution_count": null,
   "metadata": {},
   "outputs": [],
   "source": [
    "#add_restaurant_list = [\"tucker's market place\", \"bier markt\", \"blco foods\"]"
   ]
  },
  {
   "cell_type": "code",
   "execution_count": null,
   "metadata": {},
   "outputs": [],
   "source": [
    "marketing_list = similar_supermkt_df[similar_supermkt_df['company'].str.contains('marketing')]['company'].to_list()"
   ]
  },
  {
   "cell_type": "code",
   "execution_count": null,
   "metadata": {},
   "outputs": [],
   "source": [
    "# Explore dataframe for words\n",
    "supermkt_df[supermkt_df['supermkt_retailer'].str.contains('food')]"
   ]
  },
  {
   "cell_type": "code",
   "execution_count": null,
   "metadata": {},
   "outputs": [],
   "source": [
    "supermarket_aditional_list = ['walmart supercentre', 'walmart canada corp', 'walmart super center', 'walmart', 'ancaster walmart supercentre']"
   ]
  },
  {
   "cell_type": "code",
   "execution_count": null,
   "metadata": {},
   "outputs": [],
   "source": [
    "food_retailer_usr_list = supermarket_aditional_list + convenience_retail_list\n",
    "print(food_retailer_usr_list)"
   ]
  },
  {
   "cell_type": "code",
   "execution_count": null,
   "metadata": {},
   "outputs": [],
   "source": [
    "food_retailer_usr_list = ['walmart supercentre', 'walmart canada corp', 'walmart super center', 'walmart', \n",
    "                          'ancaster walmart supercentre', 'aisle 24', 'avondale stores', 'circke k', 'couche-tard', 'provi-soir', \n",
    "                          'hasty market', 'irving blue canoe', 'irving mainway', 'needs convenience', 'olco', 'on the run', 'pioneer', \n",
    "                          'quickie convenience stores', '7-eleven', \"becker's\", \"mac's convenience stores\", 'dollarama', \n",
    "                          'mac’s convenience store calgary']"
   ]
  },
  {
   "cell_type": "code",
   "execution_count": null,
   "metadata": {},
   "outputs": [],
   "source": [
    "food_retailer_keyword_list = ['market', 'food' , 'drug']"
   ]
  },
  {
   "cell_type": "code",
   "execution_count": null,
   "metadata": {
    "scrolled": true
   },
   "outputs": [],
   "source": [
    "# Create edited supermarket list\n",
    "supermkt_df1 = supermkt_df.copy()\n",
    "newRow = ['walmart supercentre', 'walmart canada corp', 'walmart super center', 'walmart', 'ancaster walmart supercentre']\n",
    "supermkt_df1 = supermkt_df1 .append(pd.DataFrame(newRow, columns=['supermkt_retailer']), ignore_index=True)\n",
    "\n",
    "# Update list for keywords \"market\"\n",
    "newRow = ['husky market', 'toronto weston flea market',\"visal-mega market\"]\n",
    "supermkt_df1 = supermkt_df1 .append(pd.DataFrame(newRow, columns=['supermkt_retailer']), ignore_index=True)\n",
    "\n",
    "# Update list for keywords \"food\"\n",
    "newRow = [\"farmway foods\"]\n",
    "supermkt_df1 = supermkt_df1 .append(pd.DataFrame(newRow, columns=['supermkt_retailer']), ignore_index=True)\n",
    "\n",
    "# Update list for keywords \"drug\"\n",
    "newRow = [\"london drugs inc\", \"lawtons drugs\"]\n",
    "supermkt_df1 = supermkt_df1 .append(pd.DataFrame(newRow, columns=['supermkt_retailer']), ignore_index=True)\n",
    "\n",
    "# Update list based on convenience store list\n",
    "newRow = convenience_retail_list\n",
    "supermkt_df1 = supermkt_df1 .append(pd.DataFrame(newRow, columns=['supermkt_retailer']), ignore_index=True)\n",
    "\n",
    "supermkt_df1 = supermkt_df1.drop_duplicates(subset='supermkt_retailer', keep='first', inplace=False)\n",
    "\n",
    "supermkt_df1.tail(30)"
   ]
  },
  {
   "cell_type": "code",
   "execution_count": null,
   "metadata": {},
   "outputs": [],
   "source": []
  },
  {
   "cell_type": "code",
   "execution_count": null,
   "metadata": {},
   "outputs": [],
   "source": [
    "# 3 Generate Supermarket Retail flag with new list\n",
    "similar_supermkt_df = gen_flag(companies_df['company_1'], \n",
    "                            supermkt_df1['supermkt_retailer'], \n",
    "                            out_name = 'ms_retailer', \n",
    "                            flag_name = 'supermkt', \n",
    "                            threshold = 0.85)"
   ]
  },
  {
   "cell_type": "code",
   "execution_count": null,
   "metadata": {
    "scrolled": false
   },
   "outputs": [],
   "source": [
    "# Inspect resutls by index\n",
    "similar_supermkt_df.sort_values(by=['ms_index'], ascending=False).head(50)"
   ]
  },
  {
   "cell_type": "code",
   "execution_count": null,
   "metadata": {},
   "outputs": [],
   "source": [
    "# Number of supermarket realted jobs\n",
    "smkt_jobs = (similar_supermkt_df.supermkt == 1).sum()\n",
    "total_jobs = similar_supermkt_df.shape[0]\n",
    "smkt_jobs_ratio = round(smkt_jobs/total_jobs*100,3)\n",
    "print (\"supermarket realted jobs\", smkt_jobs,\"(\",smkt_jobs_ratio,\"%\",\")\")"
   ]
  },
  {
   "cell_type": "markdown",
   "metadata": {},
   "source": [
    "## 1 ) Food Serving Retailers"
   ]
  },
  {
   "cell_type": "code",
   "execution_count": null,
   "metadata": {},
   "outputs": [],
   "source": [
    "# 1 load list of supermarkets\n",
    "foodservice_df = pd.read_csv('../../data/input/feature_extraction/food_retail_list.csv')"
   ]
  },
  {
   "cell_type": "code",
   "execution_count": null,
   "metadata": {},
   "outputs": [],
   "source": [
    "foodservice_df.head(5)"
   ]
  },
  {
   "cell_type": "code",
   "execution_count": null,
   "metadata": {
    "scrolled": true
   },
   "outputs": [],
   "source": [
    "# 2 Clean data frame for comparison\n",
    "#def prepare_df(df, col_name_out ='retail_new_name', col_name_in ='retail_name'):\n",
    "foodserving_df = prepare_df(foodservice_df, \n",
    "                            col_name_out ='foodserving_retailer', \n",
    "                            col_name_in ='restaurant_retailers')\n",
    "foodserving_df"
   ]
  },
  {
   "cell_type": "code",
   "execution_count": null,
   "metadata": {},
   "outputs": [],
   "source": [
    "# 3 Generate Supermarket Retail flag \n",
    "similar_foodserving_df = gen_flag(companies_df['company_1'], \n",
    "                            foodserving_df['foodserving_retailer'], \n",
    "                            out_name = 'ms_retailer', \n",
    "                            flag_name = 'food_serving', \n",
    "                            threshold = 0.8)"
   ]
  },
  {
   "cell_type": "code",
   "execution_count": null,
   "metadata": {
    "scrolled": true
   },
   "outputs": [],
   "source": [
    "# Inspect resutls by index\n",
    "similar_foodserving_df.sort_values(by=['ms_index'], ascending=False)"
   ]
  },
  {
   "cell_type": "code",
   "execution_count": null,
   "metadata": {},
   "outputs": [],
   "source": [
    "# Number of food service realted jobs\n",
    "fs_jobs = (similar_foodserving_df.food_serving == 1).sum()\n",
    "total_jobs = similar_foodserving_df.shape[0]\n",
    "fs_jobs_ratio = round(fs_jobs/total_jobs*100,3)\n",
    "print (\"food service realted jobs\", fs_jobs,\"(\",fs_jobs_ratio,\"%\",\")\")"
   ]
  },
  {
   "cell_type": "code",
   "execution_count": null,
   "metadata": {
    "scrolled": true
   },
   "outputs": [],
   "source": [
    "# Inspect resutls by index\n",
    "similar_foodserving_df.sort_values(by=['company'], ascending=True)"
   ]
  },
  {
   "cell_type": "code",
   "execution_count": null,
   "metadata": {},
   "outputs": [],
   "source": [
    "# Explore df for key words\n",
    "similar_foodserving_df[similar_foodserving_df['company'].str.contains('canada')]"
   ]
  },
  {
   "cell_type": "code",
   "execution_count": null,
   "metadata": {},
   "outputs": [],
   "source": [
    "# Explore df for key words\n",
    "foodserving_df[foodserving_df['foodserving_retailer'].str.contains(\"denny's\")]"
   ]
  },
  {
   "cell_type": "code",
   "execution_count": null,
   "metadata": {},
   "outputs": [],
   "source": [
    "additional_list = ['a & w', 'a&w', 'chuck e. cheese', 'wendy', \"wendy's\", 'touchdown willies', \n",
    "                   \"touchdown willy's tap & grill\", 'tony roma’s fallsview', 'tony roma’s', \"denny's\", \n",
    "                   'denneys', 'hard rock cafe', 'hard rock café', 'pickle barrel', 'hummingbird pub', \n",
    "                   'starbucks', 'the london club', 'the nutty chocolatier', 'wild wings', 'forrat’s lounge', \n",
    "                   'costa blanca', 'harveys & swiss chalet', \"tucker's market place\", 'bier markt', 'blco foods', \n",
    "                   'hard rock cafe']\n",
    "len(additional_list)"
   ]
  },
  {
   "cell_type": "code",
   "execution_count": null,
   "metadata": {},
   "outputs": [],
   "source": [
    "keyword_list = [\"restaurant\",\"pizza\", \"steak\", \"burger\", \"grill\", \"dry bar\", \"coffee\", \"donald\", \"taco\", \n",
    "                \"catering\", \"burrito\", \"snack\", \"cafe\", \"pretzels\", \"mexican\", \"sweet\", \"coffee shop\",\n",
    "               \"cuisine\", \"cafeteria\", \"chocolat\", \"chicken\"]\n",
    "\n",
    "keyword_dict={}\n",
    "\n",
    "# Find keywords and list results per keyword\n",
    "for item in keyword_list:\n",
    "    result_list = similar_foodserving_df[similar_foodserving_df['company'].str.contains(item)]['company'].to_list()\n",
    "    keyword_dict.setdefault(\"keyword\",[]).append(item)\n",
    "    keyword_dict.setdefault(\"matched_results\",[]).append(result_list)\n",
    "    \n",
    "keyword_df = pd.DataFrame(keyword_dict)\n",
    "keyword_df"
   ]
  },
  {
   "cell_type": "code",
   "execution_count": null,
   "metadata": {},
   "outputs": [],
   "source": [
    "# Create Exception list to remove enitities wrongly capture\n",
    "keyword_remove_list = [\"\"]"
   ]
  },
  {
   "cell_type": "code",
   "execution_count": null,
   "metadata": {
    "scrolled": true
   },
   "outputs": [],
   "source": [
    "# Create edited restaurant list\n",
    "\n",
    "foodserving_df1 = foodserving_df.copy()\n",
    "\n",
    "keyword_input_list = keyword_df['matched_results'].to_list()\n",
    "keyword_exception_list = keyword_remove_list\n",
    "keyword_lists = [item for item in keyword_input_list if item not in keyword_exception_list]\n",
    "\n",
    "# Update list using keyword list\n",
    "for sinngle_list in keyword_input_lists:\n",
    "    newRow = single_list \n",
    "    foodserving_df1 = foodserving_df1.append(pd.DataFrame(newRow, \n",
    "                                                         columns=['foodserving_retailer']), ignore_index=True)\n",
    "\n",
    "# Update list with additional entities\n",
    "newRow = additional_list \n",
    "foodserving_df1 = foodserving_df1.append(pd.DataFrame(newRow, \n",
    "                                                     columns=['foodserving_retailer']), ignore_index=True)\n",
    "# Remove Duplicates\n",
    "foodserving_df1 = foodserving_df1.drop_duplicates(subset='foodserving_retailer', keep='first', inplace=False)\n",
    "\n",
    "# Display original vs new list\n",
    "foodserving_df1.tail(len(keyword_list + additional_list) + 20)\n"
   ]
  },
  {
   "cell_type": "code",
   "execution_count": null,
   "metadata": {},
   "outputs": [],
   "source": [
    "#Generate Foodservice Retail flag\n",
    "\n",
    "similar_foodserving_df = gen_flag(companies_df['company_1'], \n",
    "                            foodserving_df1['foodserving_retailer'].to_list(), \n",
    "                            out_name = 'ms_retailer', \n",
    "                            flag_name = 'food_serving', \n",
    "                            threshold = 0.8)"
   ]
  },
  {
   "cell_type": "code",
   "execution_count": null,
   "metadata": {},
   "outputs": [],
   "source": [
    "# Number of food service realted jobs\n",
    "fs_jobs = (similar_foodserving_df.food_serving == 1).sum()\n",
    "total_jobs = similar_foodserving_df.shape[0]\n",
    "fs_jobs_ratio = round(fs_jobs/total_jobs*100,3)\n",
    "print (\"food service realted jobs\", fs_jobs,\"(\",fs_jobs_ratio,\"%\",\")\")"
   ]
  },
  {
   "cell_type": "code",
   "execution_count": null,
   "metadata": {
    "scrolled": true
   },
   "outputs": [],
   "source": [
    "# Inspect resutls by index\n",
    "similar_foodserving_df.sort_values(by=['ms_index'], ascending=False)"
   ]
  },
  {
   "cell_type": "markdown",
   "metadata": {},
   "source": [
    "## 2 ) Food Retailers"
   ]
  },
  {
   "cell_type": "code",
   "execution_count": null,
   "metadata": {},
   "outputs": [],
   "source": [
    "# 1 load list of supermarkets\n",
    "supermarket_df = pd.read_csv('../../data/input/feature_extraction/supermarket_retail_list.csv')"
   ]
  },
  {
   "cell_type": "code",
   "execution_count": null,
   "metadata": {},
   "outputs": [],
   "source": []
  },
  {
   "cell_type": "markdown",
   "metadata": {},
   "source": [
    "# Shopping Mall List of Stores"
   ]
  },
  {
   "cell_type": "code",
   "execution_count": 13,
   "metadata": {},
   "outputs": [
    {
     "data": {
      "text/plain": [
       "DataTransformerRegistry.enable('json')"
      ]
     },
     "execution_count": 13,
     "metadata": {},
     "output_type": "execute_result"
    }
   ],
   "source": [
    "import pandas as pd\n",
    "import numpy as np\n",
    "import altair as alt\n",
    "import janitor\n",
    "import re\n",
    "import IPython\n",
    "\n",
    "# For Jupyter lab\n",
    "#alt.renderers.enable('default')\n",
    "# For notebook \n",
    "alt.renderers.enable('notebook')\n",
    "alt.data_transformers.enable('json')\n",
    "# Render for jupyter notebook\n"
   ]
  },
  {
   "cell_type": "code",
   "execution_count": 2,
   "metadata": {},
   "outputs": [
    {
     "name": "stdout",
     "output_type": "stream",
     "text": [
      "default\n"
     ]
    }
   ],
   "source": [
    "# Check Altair Renderer active\n",
    "print(alt.renderers.active)"
   ]
  },
  {
   "cell_type": "code",
   "execution_count": 3,
   "metadata": {},
   "outputs": [],
   "source": [
    "master_list_df = pd.read_csv('../../data/input/feature_extraction/master_list_sectors1.csv')\n",
    "#master_list_df = master_list_df[master_list_df.Store != 'nan']"
   ]
  },
  {
   "cell_type": "code",
   "execution_count": 4,
   "metadata": {},
   "outputs": [],
   "source": [
    "#master_list_df.dropna(subset = ['Store']) # not working :(\n",
    "#master_list_df = master_list_df[master_list_df.Store != 'NaN']\n",
    "master_list_df= master_list_df[:712]"
   ]
  },
  {
   "cell_type": "code",
   "execution_count": 5,
   "metadata": {
    "scrolled": true
   },
   "outputs": [
    {
     "data": {
      "text/plain": [
       "(712, 2)"
      ]
     },
     "execution_count": 5,
     "metadata": {},
     "output_type": "execute_result"
    }
   ],
   "source": [
    "master_list_df.shape"
   ]
  },
  {
   "cell_type": "code",
   "execution_count": 6,
   "metadata": {},
   "outputs": [],
   "source": [
    "#master_list_df[['Store','Sector']] = master_list_df[['Store','Sector']].astype(\"str\")"
   ]
  },
  {
   "cell_type": "code",
   "execution_count": 7,
   "metadata": {},
   "outputs": [],
   "source": [
    "#master_list_df.str.strip().str.replace('(', '').str.replace(')', '').str.replace(',','')"
   ]
  },
  {
   "cell_type": "code",
   "execution_count": 8,
   "metadata": {},
   "outputs": [],
   "source": [
    "# Step 0 Clean Text function\n",
    "def clean_master_list(text):\n",
    "    \n",
    "    text = str(text)\n",
    "    #text = str(text.split('/')[0])\n",
    "    text = str(text.split(',')[0])\n",
    "    #text = str(text.split('(')[0])\n",
    "    \n",
    "    # Replace a sequence of whitespaces by a single whitespace\n",
    "    text = re.sub(r'\\s+', ' ', text)\n",
    "\n",
    "    # Remove other strange characters\n",
    "    text = re.sub(r'''[\\*\\~]+''', \"\", text)\n",
    "    \n",
    "    # Remove '.' from last place\n",
    "    if text.endswith('.'):\n",
    "        text= text[:-1]\n",
    "        \n",
    "    # Remove ' ' space from 1st place\n",
    "    if text.startswith(' '):\n",
    "        text= text[1:]\n",
    "    \n",
    "    text_out = text\n",
    "    \n",
    "    return text_out "
   ]
  },
  {
   "cell_type": "code",
   "execution_count": 9,
   "metadata": {},
   "outputs": [],
   "source": [
    "# STEP_1 Prepare df function\n",
    "def prepare_master_list(df, entity_name ='entitity', sector_name ='category'):\n",
    "    '''\n",
    "    '''\n",
    "    \n",
    "# Clean names\n",
    "    df[entity_name] = df[entity_name].apply(clean_master_list)\n",
    "    df[sector_name] = df[sector_name].apply(clean_master_list)\n",
    "    \n",
    "# Remove empty lines\n",
    "    df = df.dropna(subset=[entity_name])\n",
    "    \n",
    "# Remove duplicates and Sort df\n",
    "#     df = df.drop_duplicates(subset=None, keep='first', inplace=False)\n",
    "#     df = df.sort_values(by=[entity_name], ascending=True)\n",
    "    \n",
    "# Remove duplicates (redundacy) and sort using dictionary function if pandas remove duplicate does not work for unknown reasons\n",
    "    company_sector_dict = pd.Series(df[sector_name].values, index=df[entity_name]).to_dict()\n",
    "    df_dic = {}\n",
    "    for k,v in company_sector_dict.items():\n",
    "        df_dic.setdefault(\"entity\",[]).append(k)\n",
    "        df_dic.setdefault(\"category\",[]).append(v)\n",
    "    df = pd.DataFrame(df_dic)\n",
    "    \n",
    "# Reset_Index\n",
    "    df = df.reset_index().drop('index',1)\n",
    "# Rename df columns\n",
    "    #df = df.rename({entity_name:'entity', sector_name:'category'}, axis=1)\n",
    "    \n",
    "    return df "
   ]
  },
  {
   "cell_type": "code",
   "execution_count": 10,
   "metadata": {},
   "outputs": [],
   "source": [
    "def category_plot(df, col_name='category'):\n",
    "    '''\n",
    "    '''\n",
    "    \n",
    "    s = df[col_name].value_counts() \n",
    "    freq = pd.DataFrame({col_name:s.index, 'Count':s.values}) \n",
    "    \n",
    "    plot = alt.Chart(freq).transform_joinaggregate(\n",
    "    Total='sum(Count)',\n",
    "    ).transform_calculate(\n",
    "        Percentage=\"datum.Count / datum.Total\"\n",
    "    ).mark_bar().encode(\n",
    "        alt.X('Percentage:Q', axis=alt.Axis(format='.0%')),\n",
    "        y=str(col_name)+':N'\n",
    "    )\n",
    "\n",
    "    return plot\n"
   ]
  },
  {
   "cell_type": "code",
   "execution_count": 14,
   "metadata": {
    "scrolled": true
   },
   "outputs": [
    {
     "data": {
      "application/javascript": [
       "const spec = {\"config\": {\"view\": {\"width\": 400, \"height\": 300}, \"mark\": {\"tooltip\": null}}, \"data\": {\"url\": \"altair-data-5529ae672642598e106a1a9f96613b87.json\", \"format\": {\"type\": \"json\"}}, \"mark\": \"bar\", \"encoding\": {\"x\": {\"type\": \"quantitative\", \"axis\": {\"format\": \".0%\"}, \"field\": \"Percentage\"}, \"y\": {\"type\": \"nominal\", \"field\": \"Sector\"}}, \"transform\": [{\"joinaggregate\": [{\"op\": \"sum\", \"field\": \"Count\", \"as\": \"Total\"}]}, {\"calculate\": \"datum.Count / datum.Total\", \"as\": \"Percentage\"}], \"$schema\": \"https://vega.github.io/schema/vega-lite/v3.4.0.json\"};\n",
       "const opt = {};\n",
       "const type = \"vega-lite\";\n",
       "const id = \"9fead30d-77ab-431e-a5ee-74fac855ab8e\";\n",
       "\n",
       "const output_area = this;\n",
       "\n",
       "require([\"nbextensions/jupyter-vega/index\"], function(vega) {\n",
       "  const target = document.createElement(\"div\");\n",
       "  target.id = id;\n",
       "  target.className = \"vega-embed\";\n",
       "\n",
       "  const style = document.createElement(\"style\");\n",
       "  style.textContent = [\n",
       "    \".vega-embed .error p {\",\n",
       "    \"  color: firebrick;\",\n",
       "    \"  font-size: 14px;\",\n",
       "    \"}\",\n",
       "  ].join(\"\\\\n\");\n",
       "\n",
       "  // element is a jQuery wrapped DOM element inside the output area\n",
       "  // see http://ipython.readthedocs.io/en/stable/api/generated/\\\n",
       "  // IPython.display.html#IPython.display.Javascript.__init__\n",
       "  element[0].appendChild(target);\n",
       "  element[0].appendChild(style);\n",
       "\n",
       "  vega.render(\"#\" + id, spec, type, opt, output_area);\n",
       "}, function (err) {\n",
       "  if (err.requireType !== \"scripterror\") {\n",
       "    throw(err);\n",
       "  }\n",
       "});\n"
      ],
      "text/plain": [
       "<vega.vegalite.VegaLite at 0x1a258b2610>"
      ]
     },
     "metadata": {
      "jupyter-vega": "#9fead30d-77ab-431e-a5ee-74fac855ab8e"
     },
     "output_type": "display_data"
    },
    {
     "data": {
      "text/plain": []
     },
     "execution_count": 14,
     "metadata": {},
     "output_type": "execute_result"
    },
    {
     "data": {
      "image/png": "[encoded data removed]"
     },
     "metadata": {
      "jupyter-vega": "#9fead30d-77ab-431e-a5ee-74fac855ab8e"
     },
     "output_type": "display_data"
    }
   ],
   "source": [
    "category_plot(master_list_df, col_name ='Sector')"
   ]
  },
  {
   "cell_type": "code",
   "execution_count": 12,
   "metadata": {},
   "outputs": [
    {
     "data": {
      "text/plain": [
       "'3.2.0'"
      ]
     },
     "execution_count": 12,
     "metadata": {},
     "output_type": "execute_result"
    }
   ],
   "source": [
    "alt.__version__"
   ]
  },
  {
   "cell_type": "code",
   "execution_count": 15,
   "metadata": {
    "scrolled": true
   },
   "outputs": [
    {
     "data": {
      "application/javascript": [
       "const spec = {\"config\": {\"view\": {\"width\": 400, \"height\": 300}, \"mark\": {\"tooltip\": null}}, \"data\": {\"url\": \"altair-data-699a44b512d8fe8c68b6aa89e8a0ebec.json\", \"format\": {\"type\": \"json\"}}, \"mark\": \"bar\", \"encoding\": {\"x\": {\"type\": \"quantitative\", \"axis\": {\"format\": \".0%\"}, \"field\": \"Percentage\"}, \"y\": {\"type\": \"nominal\", \"field\": \"category\"}}, \"transform\": [{\"joinaggregate\": [{\"op\": \"sum\", \"field\": \"Count\", \"as\": \"Total\"}]}, {\"calculate\": \"datum.Count / datum.Total\", \"as\": \"Percentage\"}], \"$schema\": \"https://vega.github.io/schema/vega-lite/v3.4.0.json\"};\n",
       "const opt = {};\n",
       "const type = \"vega-lite\";\n",
       "const id = \"3aff153e-8f5e-448b-ae5b-d755b34e65d1\";\n",
       "\n",
       "const output_area = this;\n",
       "\n",
       "require([\"nbextensions/jupyter-vega/index\"], function(vega) {\n",
       "  const target = document.createElement(\"div\");\n",
       "  target.id = id;\n",
       "  target.className = \"vega-embed\";\n",
       "\n",
       "  const style = document.createElement(\"style\");\n",
       "  style.textContent = [\n",
       "    \".vega-embed .error p {\",\n",
       "    \"  color: firebrick;\",\n",
       "    \"  font-size: 14px;\",\n",
       "    \"}\",\n",
       "  ].join(\"\\\\n\");\n",
       "\n",
       "  // element is a jQuery wrapped DOM element inside the output area\n",
       "  // see http://ipython.readthedocs.io/en/stable/api/generated/\\\n",
       "  // IPython.display.html#IPython.display.Javascript.__init__\n",
       "  element[0].appendChild(target);\n",
       "  element[0].appendChild(style);\n",
       "\n",
       "  vega.render(\"#\" + id, spec, type, opt, output_area);\n",
       "}, function (err) {\n",
       "  if (err.requireType !== \"scripterror\") {\n",
       "    throw(err);\n",
       "  }\n",
       "});\n"
      ],
      "text/plain": [
       "<vega.vegalite.VegaLite at 0x1a2587b750>"
      ]
     },
     "metadata": {
      "jupyter-vega": "#3aff153e-8f5e-448b-ae5b-d755b34e65d1"
     },
     "output_type": "display_data"
    },
    {
     "data": {
      "text/plain": []
     },
     "execution_count": 15,
     "metadata": {},
     "output_type": "execute_result"
    },
    {
     "data": {
      "image/png": "[encoded data removed]"
     },
     "metadata": {
      "jupyter-vega": "#3aff153e-8f5e-448b-ae5b-d755b34e65d1"
     },
     "output_type": "display_data"
    }
   ],
   "source": [
    "master_list_df1 = prepare_master_list(master_list_df, entity_name ='Store', sector_name ='Sector')\n",
    "#master_list_df1.head(1)\n",
    "category_plot(master_list_df1)"
   ]
  },
  {
   "cell_type": "code",
   "execution_count": null,
   "metadata": {},
   "outputs": [],
   "source": [
    "# Explore df for key words\n",
    "master_list_df1[master_list_df1['category'].str.contains('Automobile')]"
   ]
  },
  {
   "cell_type": "code",
   "execution_count": null,
   "metadata": {},
   "outputs": [],
   "source": [
    "# Explore df for key words\n",
    "master_list_df1[master_list_df1['entity'].str.contains('mexx')]"
   ]
  },
  {
   "cell_type": "code",
   "execution_count": null,
   "metadata": {},
   "outputs": [],
   "source": [
    "# Merge Categories using a dictionary\n",
    "\n",
    "group_dict = {\"Toys\":\"Toys and Games\", \n",
    "              \"Haircare\": \"Beauty & Cosmetics\", \n",
    "              \"Conventional electricity\": \"Energy\", \n",
    "              \"Pharmacy\" : \"Convenience\", \n",
    "              \"Apparel & Clothing\": \"Clothing & Footwear\",\n",
    "              \"Footwear\": \"Clothing & Footwear\",\n",
    "              \"Food retailers\": \"Food-Convenience-Pharmacy\",\n",
    "              \"Convenience\" : \"Food-Convenience-Pharmacy\"\n",
    "             }\n",
    "df3 = master_list_df1.copy()\n",
    "df3.loc[df3.category.isin(group_dict.keys()), \"category\"] = df3.loc[df3.category.isin(group_dict.keys()), \"category\"].map(group_dict)\n",
    "\n",
    "category_plot(df3)"
   ]
  },
  {
   "cell_type": "code",
   "execution_count": null,
   "metadata": {},
   "outputs": [],
   "source": [
    "df3.head(2)"
   ]
  },
  {
   "cell_type": "code",
   "execution_count": null,
   "metadata": {},
   "outputs": [],
   "source": [
    "# Write CSV File\n",
    "out_df = df3\n",
    "file_path = \"../../data/input/feature_extraction\"\n",
    "file_name = \"master_list_sectors2\"\n",
    "write_csv(out_df, file_name, file_path)"
   ]
  },
  {
   "cell_type": "markdown",
   "metadata": {},
   "source": [
    "### Company List for Food-Convenience-Pharmacy"
   ]
  },
  {
   "cell_type": "code",
   "execution_count": null,
   "metadata": {},
   "outputs": [],
   "source": [
    "food_conv_pharm_list = df3[df3['category'].str.contains('Food-Convenience-Pharmacy')]['entity'].to_list()\n",
    "fcp_list = supermarket_df['Supermarket_retailers'].to_list() + food_conv_pharm_list\n",
    "fcp_df = pd.DataFrame({'fcp_retailers': fcp_list})"
   ]
  },
  {
   "cell_type": "code",
   "execution_count": null,
   "metadata": {},
   "outputs": [],
   "source": [
    "### Write CSV file w/o loosing special characters"
   ]
  },
  {
   "cell_type": "code",
   "execution_count": null,
   "metadata": {},
   "outputs": [],
   "source": [
    "# Write CSV function\n",
    "def write_csv(df, file_name=\"file_name\", file_path= \"../../data/input/feature_extraction\", out_sys = \"win\"):\n",
    "    '''\n",
    "    '''\n",
    "    \n",
    "    ouput_path_name = file_path+'/'+file_name\n",
    "    \n",
    "    if out_sys == \"win\":\n",
    "    # For windows systems\n",
    "        csv_file = df.to_csv(ouput_path_name+'.csv', encoding='utf-8-sig', index=False)\n",
    "    elif out_sys == \"macsss\":\n",
    "    # For mac systems\n",
    "        csv_file = df.to_csv(ouput_path_name+'.csv', encoding=\"utf-8\", index=False)\n",
    "    \n",
    "    print(\"Exported CSV file to {} \\n\".format(ouput_path_name+'.csv'))\n"
   ]
  },
  {
   "cell_type": "code",
   "execution_count": null,
   "metadata": {},
   "outputs": [],
   "source": [
    "out_df = fcp_df \n",
    "file_name = \"food_convenience_pharmacy\"\n",
    "write_csv(out_df, file_name)"
   ]
  },
  {
   "cell_type": "markdown",
   "metadata": {
    "jupyter": {
     "source_hidden": true
    }
   },
   "source": [
    "### Company List for Clothing and Footwear Retailers"
   ]
  },
  {
   "cell_type": "code",
   "execution_count": null,
   "metadata": {
    "scrolled": true
   },
   "outputs": [],
   "source": [
    "clothing_footwear_retailers = df3[df3['category'].str.contains('Clothing & Footwear')]['entity'].to_list()\n",
    "consumer_electronics_retailers "
   ]
  },
  {
   "cell_type": "code",
   "execution_count": null,
   "metadata": {},
   "outputs": [],
   "source": [
    "clothing_footwear_df = pd.DataFrame({'cloth_foot_retailers': clothing_footwear_retailers})\n",
    "export_file_name = \"clothing_footwear_retailers\"\n",
    "write_csv(clothing_footwear_df, export_file_name)"
   ]
  },
  {
   "cell_type": "markdown",
   "metadata": {},
   "source": [
    "### Company List for Consumer Electronics"
   ]
  },
  {
   "cell_type": "code",
   "execution_count": null,
   "metadata": {},
   "outputs": [],
   "source": [
    "consumer_electronics_retailers = df3[df3['category'].str.contains('Consumer electronics')]['entity'].to_list()\n",
    "consumer_electronics_retailers"
   ]
  },
  {
   "cell_type": "code",
   "execution_count": null,
   "metadata": {},
   "outputs": [],
   "source": [
    "# Additional Sources\n",
    "#https://www.howtosavemoney.ca/25-canadian-computer-and-electronics-stores-you-ve-never-heard-of\n",
    "can_25_uncommon_ce_stores = [\"NewEgg\", \"Dell\", \"The Source\", \"Memory Express\", \"Canada Computers\", \n",
    "                            \"Amazon Electronics\", \"Best Buy\", \"Staples\", \"DirectDial\", \"PC-Canada\",\n",
    "                            \"My Teknology\", \"ShopRBC\", \"Visions Electronics\", \"SoftwareCity\",\n",
    "                            \"PC Canada\", \"Infonec\", \"PCVOnline\", \"FrontierPC\", \"CenDirect\", \n",
    "                             \"Mike’s Computer Shop\", \"ITFactory\", \"Ashlin Technology Solutions\",\"PCZone\",\n",
    "                             \"BeDirect\", \"Apple Store\"]"
   ]
  },
  {
   "cell_type": "code",
   "execution_count": null,
   "metadata": {},
   "outputs": [],
   "source": [
    "# Merge and remove duplicates\n",
    "consumer_electronics_retailers_1 = can_25_uncommon_ce_stores + consumer_electronics_retailers\n",
    "consumer_electronics_retailers_1 = list(set(consumer_electronics_retailers_1))"
   ]
  },
  {
   "cell_type": "code",
   "execution_count": null,
   "metadata": {},
   "outputs": [],
   "source": [
    "c_electronics_df = pd.DataFrame({'consumer_electronics_retailers': consumer_electronics_retailers_1})\n",
    "export_file_name = \"consumer_electronics_retailers\"\n",
    "write_csv(c_electronics_df, export_file_name)"
   ]
  },
  {
   "cell_type": "markdown",
   "metadata": {},
   "source": [
    "### Company List for Automobile Dealership"
   ]
  },
  {
   "cell_type": "code",
   "execution_count": null,
   "metadata": {},
   "outputs": [],
   "source": [
    "auto_retailers = df3[df3['category'].str.contains('Auto')]['entity'].to_list()\n",
    "auto_retailers"
   ]
  },
  {
   "cell_type": "code",
   "execution_count": null,
   "metadata": {},
   "outputs": [],
   "source": [
    "# Additional Sources\n",
    "#https://autofile.ca/en-ca/auto-brand\n",
    "#List of auto brands to be used as keys\n",
    "#auto_brands_in_canada = pd.read_csv('../../data/input/feature_extraction/master_list_sectors1.csv')"
   ]
  },
  {
   "cell_type": "code",
   "execution_count": null,
   "metadata": {},
   "outputs": [],
   "source": [
    "# Merge and remove duplicates\n",
    "# automobile_dealers = can_25_uncommon_ce_stores + consumer_electronics_retailers\n",
    "# consumer_electronics_retailers_1 = list(set(consumer_electronics_retailers_1))"
   ]
  },
  {
   "cell_type": "code",
   "execution_count": null,
   "metadata": {},
   "outputs": [],
   "source": [
    "auto_dealers_df = pd.DataFrame({'auto_dealers': auto_retailers})\n",
    "export_file_name = \"auto_dealers\"\n",
    "write_csv(c_electronics_df, export_file_name)"
   ]
  },
  {
   "cell_type": "code",
   "execution_count": null,
   "metadata": {},
   "outputs": [],
   "source": [
    "!pwd"
   ]
  },
  {
   "cell_type": "markdown",
   "metadata": {},
   "source": [
    " ## Manipulate Resume Info"
   ]
  },
  {
   "cell_type": "code",
   "execution_count": null,
   "metadata": {},
   "outputs": [],
   "source": [
    "resume_info.columns = resume_info.columns.str.strip().str.lower().str.replace(' ', '_').str.replace('(', '').str.replace(')', '')\n",
    "resume_info.head(1)"
   ]
  },
  {
   "cell_type": "code",
   "execution_count": null,
   "metadata": {},
   "outputs": [],
   "source": [
    "# Step 0 Clean Text function\n",
    "def clean_c_name(text):\n",
    "    \n",
    "    text = str(text)\n",
    "    text = str(text.split('/')[0])\n",
    "    text = str(text.split(',')[0])\n",
    "    #text = str(text.split('(')[0])\n",
    "    \n",
    "    # Replace a sequence of whitespaces by a single whitespace\n",
    "    text = re.sub(r'\\s+', ' ', text)\n",
    "\n",
    "    # Remove other strange characters\n",
    "    text = re.sub(r'''[\\*\\~]+''', \"\", text)\n",
    "    \n",
    "    # Remove '.' from last place\n",
    "    if text.endswith('.'):\n",
    "        text= text[:-1]\n",
    "        \n",
    "    # Remove ' ' space from 1st place\n",
    "    if text.startswith(' '):\n",
    "        text= text[1:]\n",
    "    \n",
    "    text_out = text\n",
    "    \n",
    "    return text_out "
   ]
  },
  {
   "cell_type": "code",
   "execution_count": null,
   "metadata": {},
   "outputs": [],
   "source": [
    "# STEP_1 Prepare df function\n",
    "def prepare_df2(df, col_name_out ='retail_new_name', col_name_in ='retail_name'):\n",
    "    '''\n",
    "    '''\n",
    "    \n",
    "    # Remove empty lines\n",
    "    #df = df.dropna()\n",
    "    \n",
    "    # Remove duplicates\n",
    "    #df = df.drop_duplicates(subset=None, keep='first', inplace=False)\n",
    "    \n",
    "    # Reset_Index\n",
    "    df = df.reset_index().drop('index',1)\n",
    "    \n",
    "    # Clean names\n",
    "    df[col_name_out] = df[col_name_in].apply(clean_c_name)\n",
    "    df[col_name_out] = df[col_name_out].str.strip().str.lower().str.replace('(', '').str.replace(')', '').str.replace(',','')\n",
    "    \n",
    "    # Sort df\n",
    "    df.sort_values(by=[col_name_in], ascending=True)\n",
    "    \n",
    "    return df "
   ]
  },
  {
   "cell_type": "code",
   "execution_count": null,
   "metadata": {},
   "outputs": [],
   "source": [
    "# Compare companies list and generate similarity index and flag based on cutoff\n",
    "\n",
    "def gen_flag2(input_list, ref_list, out_name = 'ms_retailer', flag_name = 'f_retail', threshold = 0.7):\n",
    "    '''\n",
    "    '''\n",
    "    \n",
    "    code_list = code_list.to_list()\n",
    "    \n",
    "    # Check inputs are ok for processing\n",
    "    \n",
    "    if type(input_list) == 'pandas.core.series.Series':\n",
    "        input_list = input_list.to_list()\n",
    "        \n",
    "    if type(input_list) == 'list':\n",
    "        input_list = input_list\n",
    "    \n",
    "    if type(ref_list) == 'pandas.core.series.Series':\n",
    "        input_list = input_list.to_list()\n",
    "        \n",
    "    if type(ref_list) == 'list':\n",
    "        input_list = input_list\n",
    "    \n",
    "    compare_dict = {}\n",
    "    pairs = []\n",
    "\n",
    "    # for company in input_list[0:5]:\n",
    "    for company in input_list:\n",
    "\n",
    "        similar_dict = {}\n",
    "        compare_dict.setdefault(company,[]).append(similar_dict)\n",
    "        \n",
    "    #     for retailer in ref_list[0:5]:\n",
    "        for retailer in ref_list:  \n",
    "\n",
    "            pair = (company,retailer)\n",
    "            pairs.append(pair)\n",
    "\n",
    "    # Calculate similarity - Levenshtein Distance - also know as edit distance \n",
    "    # The return value is a float between 0 and 1, where 0 means totally different, and 1 equal.\n",
    "\n",
    "            similarity = textdistance.levenshtein.normalized_similarity(company, retailer)\n",
    "\n",
    "            similar_dict.setdefault(retailer,[]).append(similarity)\n",
    "\n",
    "    # Get the most similar (maximum similarity index)\n",
    "    most_similar_dict={}\n",
    "\n",
    "    for company, compare in compare_dict.items():\n",
    "\n",
    "        most_similar = [{k:round(v[0],4)} for k,v in compare[0].items() if v==max(compare[0].values())][0]\n",
    "        \n",
    "        [[ms_retailer, ms_retail_index]] = most_similar.items()\n",
    "\n",
    "        most_similar_dict.setdefault(\"company\",[]).append(company)\n",
    "        most_similar_dict.setdefault(out_name,[]).append(ms_retailer)\n",
    "        most_similar_dict.setdefault(\"ms_index\",[]).append(ms_retail_index)\n",
    "        \n",
    "\n",
    "    # Calculate retail flag\n",
    "        if ms_retail_index >= threshold:\n",
    "            retail_flag = int(1)\n",
    "        else:\n",
    "            retail_flag = int(0)\n",
    "\n",
    "        most_similar_dict.setdefault(flag_name,[]).append(retail_flag)\n",
    "\n",
    "    # Results\n",
    "    similar_df = pd.DataFrame(most_similar_dict)\n",
    "    \n",
    "    return similar_df"
   ]
  },
  {
   "cell_type": "code",
   "execution_count": null,
   "metadata": {},
   "outputs": [],
   "source": [
    "# Classification WORKFLOW for Extracted Data Template\n",
    "\n",
    "# 1 load data\n",
    "\n",
    "# Company data\n",
    "resume_info = pd.read_csv('../../data/input/feature_extraction/manual_extraction_template.csv')\n",
    "# List of food_service_retailers\n",
    "foodservice_df = pd.read_csv('../../data/input/feature_extraction/food_retail_list.csv')\n",
    "# list of retailers\n",
    "retailers_df = pd.read_csv('../../data/input/feature_extraction/retail_list.csv')\n",
    "\n",
    "\n",
    "# Food service Lists\n",
    "\n",
    "additional_list = ['a & w', 'a&w', 'chuck e. cheese', 'wendy', \"wendy's\", 'touchdown willies', \n",
    "                   \"touchdown willy's tap & grill\", 'tony roma’s fallsview', 'tony roma’s', \"denny's\", \n",
    "                   'denneys', 'hard rock cafe', 'hard rock café', 'pickle barrel', 'hummingbird pub', \n",
    "                   'starbucks', 'the london club', 'the nutty chocolatier', 'wild wings', 'forrat’s lounge', \n",
    "                   'costa blanca', 'harveys & swiss chalet', \"tucker's market place\", 'bier markt', 'blco foods', \n",
    "                   'hard rock cafe']\n",
    "\n",
    "keyword_list = [\"restaurant\",\"pizza\", \"steak\", \"burger\", \"grill\", \"dry bar\", \"coffee\", \"donald\", \"taco\", \n",
    "                            \"catering\", \"burrito\", \"snack\", \"cafe\", \"pretzels\", \"mexican\", \"sweet\", \"coffee shop\",\n",
    "                            \"cuisine\", \"cafeteria\", \"chocolat\", \"chicken\"]\n",
    "\n",
    "keyword_exception_list = [\"\"]\n",
    "\n",
    "#----------------------------------------------FOR LOOP SECTION--------------------------------------------------------#\n",
    "\n",
    "#for i in range(1,3):\n",
    "for i in range(1,2):\n",
    "    col_num = i\n",
    "    \n",
    "# 2 Get work data from resume info dataframe by column into a DF form\n",
    "    col_name_in = str(\"work\"+str(col_num)+\"_company\")\n",
    "    input_company_df = resume_info[[col_name_in]].copy()\n",
    "    \n",
    "# 3 Clean text data for comparison\n",
    "    company_df = prepare_df(input_company_df, col_name_out ='company', col_name_in = col_name_in)\n",
    "    foodserving_df = prepare_df(foodservice_df, col_name_out ='foodserving_retailer', col_name_in ='restaurant_retailers')\n",
    "    \n",
    "# 4 Generate Initial entity flag    \n",
    "    similar_foodserving_df = gen_flag2(company_df['company'], \n",
    "                                      foodserving_df['foodserving_retailer'], \n",
    "                                      out_name = 'ms_retailer', \n",
    "                                      flag_name = 'food_serving', \n",
    "                                      threshold = 0.8)    \n",
    "    \n",
    "# 5 Find associated keywords and list results into a df\n",
    "    keyword_dict={}\n",
    "    for item in keyword_list:\n",
    "        result_list = similar_foodserving_df[similar_foodserving_df['company'].str.contains(item)]['company'].to_list()\n",
    "        keyword_dict.setdefault(\"keyword\",[]).append(item)\n",
    "        keyword_dict.setdefault(\"matched_results\",[]).append(result_list)\n",
    "    keyword_df = pd.DataFrame(keyword_dict)\n",
    "    \n",
    "# 6 Create edited restaurant list\n",
    "\n",
    "    foodserving_df1 = foodserving_df.copy() ###### CHANGE THIS FOR FUNCTION\n",
    "\n",
    "    keyword_input_list = keyword_df['matched_results'].to_list()\n",
    "    keyword_lists = [item for item in keyword_input_list if item not in keyword_exception_list]\n",
    "\n",
    "    # Update list using keyword list\n",
    "    for single_list in keyword_input_lists:\n",
    "        newRow = single_list \n",
    "        foodserving_df1 = foodserving_df1.append(pd.DataFrame(newRow, \n",
    "                                                             columns=['foodserving_retailer']), ignore_index=True)\n",
    "\n",
    "    # Update list with additional entities\n",
    "    newRow = additional_list\n",
    "    foodserving_df1 = foodserving_df1.append(pd.DataFrame(newRow, \n",
    "                                                         columns=['foodserving_retailer']), ignore_index=True)\n",
    "    # Remove Duplicates\n",
    "    foodserving_df1 = foodserving_df1.drop_duplicates(subset='foodserving_retailer', keep='first', inplace=False)\n",
    "        \n",
    "# 7 Generate Final entity flag   \n",
    "    similar_foodserving_df = gen_flag2(company_df['company'], \n",
    "                                      foodserving_df1['foodserving_retailer'], \n",
    "                                      out_name = 'ms_retailer', \n",
    "                                      flag_name = 'food_serving', \n",
    "                                      threshold = 0.8)\n",
    "    \n",
    "\n"
   ]
  },
  {
   "cell_type": "code",
   "execution_count": null,
   "metadata": {},
   "outputs": [],
   "source": [
    "#resume_info"
   ]
  },
  {
   "cell_type": "code",
   "execution_count": null,
   "metadata": {},
   "outputs": [],
   "source": [
    "# 1 load data\n",
    "\n",
    "# Company data\n",
    "resume_info = pd.read_csv('../../data/input/feature_extraction/manual_extraction_template.csv')\n",
    "# List of food_service_retailers\n",
    "foodservice_df = pd.read_csv('../../data/input/feature_extraction/food_retail_list.csv')\n",
    "# list of retailers\n",
    "retailers_df = pd.read_csv('../../data/input/feature_extraction/retail_list.csv')"
   ]
  },
  {
   "cell_type": "code",
   "execution_count": null,
   "metadata": {},
   "outputs": [],
   "source": [
    "foodservice_df.head(1)\n",
    "#foodservice_df.columns[0]"
   ]
  },
  {
   "cell_type": "code",
   "execution_count": null,
   "metadata": {},
   "outputs": [],
   "source": [
    "# Food service Lists\n",
    "\n",
    "foodserving_key_list = [\"restaurant\",\"pizza\", \"steak\", \"burger\", \"grill\", \"dry bar\", \"coffee\", \"donald\", \"taco\", \n",
    "                                \"catering\", \"burrito\", \"snack\", \"cafe\", \"pretzels\", \"mexican\", \"sweet\", \"coffee shop\",\n",
    "                                \"cuisine\", \"cafeteria\", \"chocolat\", \"chicken\"]\n",
    "\n",
    "foodserving_user_list = ['a & w', 'a&w', 'chuck e. cheese', 'wendy', \"wendy's\", 'touchdown willies', \n",
    "                       \"touchdown willy's tap & grill\", 'tony roma’s fallsview', 'tony roma’s', \"denny's\", \n",
    "                       'denneys', 'hard rock cafe', 'hard rock café', 'pickle barrel', 'hummingbird pub', \n",
    "                       'starbucks', 'the london club', 'the nutty chocolatier', 'wild wings', 'forrat’s lounge', \n",
    "                       'costa blanca', 'harveys & swiss chalet', \"tucker's market place\", 'bier markt', 'blco foods', \n",
    "                       'hard rock cafe']\n",
    "keyword_exception_list = []"
   ]
  },
  {
   "cell_type": "code",
   "execution_count": null,
   "metadata": {},
   "outputs": [],
   "source": [
    "# Classification WORKFLOW for Extracted Data Template\n",
    "\n",
    "#reference_df = foodservice_df\n",
    "\n",
    "def retail_flag(i,\n",
    "                input_df,\n",
    "                reference_df,\n",
    "                keyword_list=[],\n",
    "                user_list=[],\n",
    "                keyword_exeption_list=[],\n",
    "                category_name=\"foodserving\",\n",
    "                cat_flagname=\"food_serving\",\n",
    "                similar_threshold=0.8):\n",
    "    '''\n",
    "    '''\n",
    "\n",
    "    \n",
    "# 2 Get work data from resume info dataframe by column into a DF form\n",
    "    col_num = i\n",
    "    col_name_in = str(\"work\"+str(col_num)+\"_company\")\n",
    "    input_company_df = input_df[[\"employee_code\", col_name_in]].copy()\n",
    "    \n",
    "# 3 Clean text data for comparison\n",
    "    company_df = prepare_df2(input_company_df, col_name_out ='company', col_name_in = col_name_in)\n",
    "    \n",
    "    retail_df = prepare_df2(reference_df, col_name_out = category_name+'_retailer', col_name_in=reference_df.columns[0])\n",
    "    \n",
    "    # Create dictionary for employee name and store code from df2\n",
    "    company_dict = pd.Series(company_df[\"work\"+str(col_num)+\"_company\"].values, index=company_df[\"company\"]).to_dict()\n",
    "    \n",
    "# 4 Generate Initial entity flag    \n",
    "    similar_retail_df = gen_flag(company_df['company'],\n",
    "                                      retail_df[category_name+'_retailer'], \n",
    "                                      out_name = 'ms_retailer', \n",
    "                                      flag_name = cat_flagname, \n",
    "                                      threshold = similar_threshold)    \n",
    "    \n",
    "# 5 Find associated keywords and list results into a df\n",
    "    keyword_dict={}\n",
    "    for item in keyword_list:\n",
    "        result_list = similar_retail_df[similar_retail_df['company'].str.contains(item)]['company'].to_list()\n",
    "        keyword_dict.setdefault(\"keyword\",[]).append(item)\n",
    "        keyword_dict.setdefault(\"matched_results\",[]).append(result_list)\n",
    "    keyword_df = pd.DataFrame(keyword_dict)\n",
    "    \n",
    "# 6 Create edited restaurant list\n",
    "\n",
    "    retail_df1 = retail_df.copy() ###### CHANGE THIS FOR FUNCTION\n",
    "\n",
    "    keyword_input_list = keyword_df['matched_results'].to_list()\n",
    "    keyword_list = [item for item in keyword_input_list if item not in keyword_exception_list]\n",
    "\n",
    "    # Update list using keyword list\n",
    "    for single_list in keyword_input_list:\n",
    "        newRow = single_list\n",
    "        retail_df1 = retail_df1.append(pd.DataFrame(newRow, \n",
    "                                                             columns=[category_name+'_retailer']), ignore_index=True)\n",
    "\n",
    "    # Update list with additional entities\n",
    "    newRow = user_list\n",
    "    retail_df1 = retail_df1.append(pd.DataFrame(newRow, \n",
    "                                                         columns=[category_name+'_retailer']), ignore_index=True)\n",
    "    # Remove Duplicates\n",
    "    retail_df1 = retail_df1.drop_duplicates(subset=category_name+'_retailer', keep='first', inplace=False)\n",
    "        \n",
    "# 7 Generate Final entity flag   \n",
    "    similar_retail_df1 = gen_flag(company_df['company'], \n",
    "                                      retail_df1[category_name+'_retailer'], \n",
    "                                      out_name = 'ms_retailer', \n",
    "                                      flag_name = cat_flagname, \n",
    "                                      threshold = similar_threshold)\n",
    "    \n",
    "    # Add employee code to similar_retail_df \n",
    "    #df1 = similar_retail_df1\n",
    "    #df1.loc[df1.company.isin(company_dict.keys()), \"work\"+str(col_num)+\"_company\"] = df1.loc[df1.company.isin(company_dict.keys()),'company'].map(company_dict)\n",
    "    \n",
    "    # Create food service dict\n",
    "    df1 = similar_retail_df1\n",
    "    retail_dict = pd.Series(df1[cat_flagname].values, index=df1['company']).to_dict()\n",
    "    \n",
    "\n",
    "# 8 Write results to dataframe  \n",
    "#     #input_df[\"food_service\"+str(col_num)] = input_df[\"work\"+str(col_num)+\"_company\"]#.apply(preprocess)\n",
    "#     input_df[\"food_service\"+str(col_num)] = similar_retail_df['food_serving'].astype('int64')\n",
    "\n",
    "    df2 = input_df\n",
    "    df2['company'] = company_df['company']\n",
    "\n",
    "    df2.loc[df2.company.isin(retail_dict.keys()), cat_flagname+str(col_num)] = df2.loc[df2.company.isin(retail_dict.keys()), \"company\"].map(retail_dict)\n",
    "    del df2['company']\n",
    "    \n",
    "    return df2"
   ]
  },
  {
   "cell_type": "code",
   "execution_count": null,
   "metadata": {
    "scrolled": true
   },
   "outputs": [],
   "source": [
    "for i in range(1,7+1):\n",
    "    df = retail_flag(i,\n",
    "                resume_info,\n",
    "                foodservice_df,\n",
    "                keyword_list=foodserving_key_list,\n",
    "                user_list=foodserving_user_list,\n",
    "                keyword_exeption_list=[],\n",
    "                category_name=\"foodserving\",\n",
    "                cat_flagname=\"food_serving\",\n",
    "                similar_threshold=0.8)\n",
    "df"
   ]
  },
  {
   "cell_type": "code",
   "execution_count": null,
   "metadata": {},
   "outputs": [],
   "source": [
    "#  Food-Convenience-Pharmacy  Lists\n",
    "\n",
    "fcp_list = supermarket_df['Supermarket_retailers'].to_list() + food_conv_pharm_list\n",
    "fcp_df = pd.DataFrame({'fcp_retailers': fcp_list})\n",
    "\n",
    "fcp_key_list = ['market', 'food' , 'drug']\n",
    "\n",
    "fcp_user_list = ['walmart supercentre', 'walmart canada corp', 'walmart super center', 'walmart', 'ancaster walmart supercentre', \n",
    "                'aisle 24', 'avondale stores', 'circke k', 'couche-tard', 'provi-soir', 'hasty market', 'irving blue canoe', \n",
    "                'irving mainway', 'needs convenience', 'olco', 'on the run', 'pioneer', 'quickie convenience stores', '7-eleven', \n",
    "                \"becker's\", \"mac's convenience stores\", 'dollarama', 'mac’s convenience store calgary']\n",
    "\n",
    "keyword_exception_list = []"
   ]
  },
  {
   "cell_type": "code",
   "execution_count": null,
   "metadata": {
    "scrolled": true
   },
   "outputs": [],
   "source": [
    "for i in range(1,7+1):\n",
    "    df1 = retail_flag(i,\n",
    "                df,\n",
    "                fcp_df,\n",
    "                keyword_list=fcp_key_list,\n",
    "                user_list=fcp_user_list,\n",
    "                keyword_exeption_list=[],\n",
    "                category_name=\"food_conv_phar\",\n",
    "                cat_flagname=\"food_conv_phar\",\n",
    "                similar_threshold=0.85)\n",
    "df1"
   ]
  },
  {
   "cell_type": "code",
   "execution_count": null,
   "metadata": {},
   "outputs": [],
   "source": [
    "# Apply classification function to work columns\n",
    "for i in range(1,7):\n",
    "    col_num = i\n",
    "    resume_info[\"food_service\"+str(col_num)] = resume_info[\"work\"+str(col_num)+\"_company\"]#.apply(preprocess)\n",
    "resume_info.head(1)"
   ]
  },
  {
   "cell_type": "code",
   "execution_count": null,
   "metadata": {},
   "outputs": [],
   "source": [
    "#resume_info[\"work1_company\"] = extract[\"work1_company\"].astype(\"string\")"
   ]
  },
  {
   "cell_type": "code",
   "execution_count": null,
   "metadata": {
    "scrolled": true
   },
   "outputs": [],
   "source": [
    "# for company, compare in compare_dict.items():\n",
    "#     most_similar = [{k:round(v[0],4)} for k,v in compare[0].items() if v==max(compare[0].values())][0]\n",
    "#     print(most_similar.keys().get)"
   ]
  },
  {
   "cell_type": "code",
   "execution_count": null,
   "metadata": {},
   "outputs": [],
   "source": [
    "# for similar in final_dict.values():\n",
    "#     #print(similar)\n",
    "#     most_similar = [{k:v[0]} for k,v in similar[0].items() if v==max(similar[0].values())][0]    \n",
    "#     print(most_similar)  \n",
    "#     print(\"----\")\n",
    "    "
   ]
  },
  {
   "cell_type": "code",
   "execution_count": null,
   "metadata": {},
   "outputs": [],
   "source": [
    "# test_dict = {'abc fine wine & spirits': [0.17391304347826086], 'acme comics & collectibles': [0.11538461538461542], 'alaska commercial company': [0.19999999999999996], 'alfred angelo': [0.23076923076923073], 'alife rivington club': [0.25]}\n",
    "\n",
    "# most_similar = [{k:v[0]} for k,v in test_dict.items() if v==max(test_dict.values())][0]    \n",
    "# most_similar"
   ]
  },
  {
   "cell_type": "code",
   "execution_count": null,
   "metadata": {},
   "outputs": [],
   "source": [
    "# url = 'abcdc.'\n",
    "# if url.endswith('.'):\n",
    "#     url = url[:-1]\n",
    "# url    "
   ]
  },
  {
   "cell_type": "code",
   "execution_count": null,
   "metadata": {},
   "outputs": [],
   "source": [
    "# s = 'WidgetCo, Inc.'\n",
    "# s.replace(',','')"
   ]
  },
  {
   "cell_type": "code",
   "execution_count": null,
   "metadata": {},
   "outputs": [],
   "source": [
    "# text_list = ['walmart Supercenter', 'walmart super center', 'walmart canada', 'walMart', 'WALlmart','WALMART CAnada']\n",
    "# for subject in text_list:\n",
    "#     result = re.sub(r\"(?i)\\Awal(?:lmart|mart(?: (?:Canada|Super(?: ?center)))?)\\Z\", \"walmart\", subject)\n",
    "#     print(result)"
   ]
  },
  {
   "cell_type": "code",
   "execution_count": 25,
   "metadata": {},
   "outputs": [],
   "source": [
    "# 1 Mobile Competitor\n",
    "mobile_user = [\"freedom\", \"koodo\", \"shaw\", \"telus\", \"bell\", \"rogers\", \"the mobile shop\", \"best buy\", \"bestbuy\" \n",
    "               \"videotron\", \"wow\", \"mobile\", \"the source\", \"walmart\", \"glentel\", \"fido\",\n",
    "               'vidéotron', 'multi carrier dealer']\n",
    "\n",
    "kw_mobile = [\"cellular\", \"wireless\", \"fone\", \"phone\"]\n",
    "\n",
    "kw_mob = mobile_user + kw_mobile\n",
    "\n",
    "# Food Services (Restaurants and Fastfood)\n",
    "kw_food = [\"restaurant\",\"pizza\", \"steak\", \"burger\", \"grill\", \"dry bar\", \"coffee\", \"donald\", \"taco\", \n",
    "            \"catering\", \"burrito\", \"snack\", \"cafe\", \"pretzels\", \"mexican\", \"sweet\", \"coffee shop\",\n",
    "            \"cuisine\", \"cafeteria\", \"chocolat\", \"chicken\", \"hard rock\", \"pita\",'subs', 'popeyes']\n",
    "\n",
    "fs_user = ['a & w', 'a&w', 'chuck e. cheese', 'wendy', \"wendy's\", 'touchdown willies', \n",
    "           \"touchdown willy's tap & grill\", 'tony roma’s fallsview', 'tony roma’s', \"denny's\", \n",
    "           'denneys', 'hard rock cafe', 'hard rock café', 'pickle barrel', 'hummingbird pub', \n",
    "           'starbucks', 'the london club', 'the nutty chocolatier', 'wild wings', 'forrat’s lounge', \n",
    "           'costa blanca', 'harveys & swiss chalet', \"tucker's market place\", 'bier markt', \n",
    "           'blco foods',\"freshly squeezed\", \"tim hortons\", 'subway','chuck e cheese', 'moose jaw snow hut',\n",
    "           'jack astor’s', 'wood35', 'the keg', 'earl']\n",
    "\n",
    "# Food Retailers+Convenience Stores+Pharmacy (fcp)\n",
    "\n",
    "# Quick Service =  Fast-food here in Canada\n",
    "gas_station_retail = ['shell', 'esso', 'petro canada', 'canadian tire', 'husky market', 'chevron gas station' ]\n",
    "\n",
    "kw_fcp1 = ['market', 'food' , 'drug', \"wholesale\", 'whole sale' \"walmart\", \"loblaw\", \"target\", \"pharma\",\n",
    "           'dollar store']\n",
    "#maybe => store\n",
    "\n",
    "kw_fcp = gas_station_retail + kw_fcp1\n",
    "\n",
    "fcp_user = ['walmart supercentre', 'walmart canada corp', 'walmart super center', 'walmart', 'ancaster walmart supercentre', \n",
    "            'aisle 24', 'avondale stores', 'circke k', 'couche-tard', 'provi-soir', 'hasty market', 'irving blue canoe', \n",
    "            'irving mainway', 'needs convenience', 'olco', 'on the run', 'pioneer', 'quickie convenience stores', '7eleven', \n",
    "            \"becker's\", \"mac's convenience stores\", 'dollarama', 'mac’s convenience store calgary'\n",
    "           \"loblaw superstore\",'convenience', 'tesco stores', 'safeway', 'costco', \"tri mart express\"]\n",
    "\n",
    "# Consumer Electronics\n",
    "kw_celec = ['computer', 'cellular', \"mobile\", \"fone\", \"phone\", \"lids\", \"wear\", \"electronic\",'samsung', 'amazon',\n",
    "            'virgin media', 'electronic boutique']\n",
    "\n",
    "celec_user = [\"sony\", \"pc world\", \"dyson\", \"walmart\", \"fido\", \"teleco\", \"futureshop\", 'future shop', 'iworld connect']\n",
    "\n",
    "# Car Dealerships\n",
    "kw_auto = ['saab', 'lamborghini', 'buick', 'nissan', 'jeep', 'ram', 'jaguar', 'scion', 'citroen', 'shelby', 'land rover', \n",
    "           'infiniti', 'general motors', 'bentley', 'mini', 'gmc', 'lynk co', 'rolls-royce', 'panoz', 'ferrari', \n",
    "           'chevrolet', 'lincoln', 'mazda', 'srt', 'dodge', 'alfa romeo', 'mclaren', 'car sales', 'fisker', \n",
    "           'fiat', 'cadillac', 'suzuki', 'karma', 'bugatti', 'lexus', 'tesla', 'ford', 'pontiac',\n",
    "           'acura', 'hyundai', 'bmw', 'qoros', 'volvo', 'volkswagen', 'aston martin', 'chrysler', 'maserati',\n",
    "           'polestar', 'porsche', 'lotus', 'mercedes–benz', 'honda', 'subaru', 'detroit electric', 'kia', 'toyota', \n",
    "           'dealership', 'mitsubishi', 'mg','automotive', 'mercedesbenz', 'go auto','canada drives', 'beta auto',\n",
    "           'quality cars', 'cars']\n",
    "\n",
    "#auto_user = ['smart','audi']\n",
    "\n",
    "# Blue Colar (Manual Labor)\n",
    "kw_bcolar = [\"plumb\", \"restoration\", \"repair\", \"land scaping\", \"concrete\", \"finishing\", \"mansory\", \"lawn\", \"roof\", \n",
    "             \"mason\", \"landscaping\", \"ground-keeping\", \"installation\", \"carpent\", \"lawncare\", \"cleaning\", \n",
    "             \"home improvement\", \"public transit\", \"pool clean\", \"mantain\", \"moving co\", 'movers',\n",
    "             'movoing', 'labourer']\n",
    "# Healthcare\n",
    "kw_health = [\"healthcare\", \"therap\", \"transplant\", \"medicine\", \"medical\", \"diagnostic\", 'health centre',\n",
    "             'health center', \"hospital\", \"dental\", \"massage\", \"accupunture\", \"orthodont\", \"doctor\", \"autism\",\n",
    "            'family practice', 'clinic', 'vision']\n",
    "\n",
    "# Sport+Travel+Entertainment+Hoteling\n",
    "kw_steh = [\"club\", \"theater\", \"theatre\", \"sport\", \"goodlife\", \"fit\", \"fitness\", \"gym\", \"cine\", \n",
    "           \"speed\", \"hotel\", \"resort\", \"inn\", \"hilton\", \"howard\", \"holliday\", \"travel\", 'drinksmart',\n",
    "           \"suites\", 'karaoke', 'best western','waterpark', 'tour','hometel','lodge', 'wonderland'\n",
    "          'polarpak']\n",
    "\n",
    "kw_pcem = [\"consulting\", \"professional\", \"attorney\", \"integrated solutions\", \"engineering\",\n",
    "          'integrated staffing', 'customer solution', \"business developers\", \n",
    "          \"industrial developement\", 'solutions', 'contemporary security canada', \"h&r block\", \n",
    "          'tax preparation']\n",
    "\n",
    "# Clothing+Footwear\n",
    "kw_cfwear = ['fashion', 'footwear', \"foot\", \"boot\", \"apparel\", \"lids\", \"wear\", \"shoe\",\n",
    "             'clothing store', 'clothing']\n",
    "\n",
    "cfwear_user = [\"eagle outfitters\", \"bootlegger\", \"champsports\", \"champ sports\", \"browns\", \"fossil\", \"footlocker\",\n",
    "               \"clothier\", \"nike\", \"levi's & Co\", \"lids\", \"mexx\", \"addidas\", \"puma\",\n",
    "               'fossil', 'envy', 'geox','tommy hilfiger', 'levis &co', 'american eagle', \n",
    "              'the blue jays shop', 'holister']\n",
    "\n",
    "cfwear = kw_cfwear + cfwear_user\n",
    "\n",
    "# Banks\n",
    "kw_banks = [\"bank\", 'bmo', 'cibc', 'rbc','rbc royal bank', 'td canada', 'scotiabank', 'bank of',\n",
    "            'funds','trust', 'securities', 'financial', 'td insurance', 'trade', 'card services', 'broker', \n",
    "            'wells fargo', 'citibank']\n",
    "# other possible => bank_name + ['bank', 'trust', 'insurance', 'invest', 'capital']\n",
    "\n",
    "kw_bty = ['hair','hair design','spa', 'jewler', 'cosmetics', 'perfumes', 'salon and spa', 'salon', 'sephora', \n",
    "          'hair salon', 'barbershop', 'jewelry', 'jewel', 'bath & body works', 'lash studio', 'la naturess', \n",
    "         'souvenirs and gifts', \"davids tea\", \"estée lauder\"]\n",
    "\n",
    "\n",
    "# No coded yet\n",
    "\n",
    "# other possible => bank_name + ['bank', 'trust', 'insurance', 'invest', 'capital']\n",
    "\n",
    "kw_government = [\"city of\", \"federal\", 'mint', 'public', 'canada post', \"hmcs ontario\", 'police'\n",
    "                'canada revenue agency']\n",
    "\n",
    "education_training = ['university', 'college', 'school', 'academy', 'elementary school', 'preparatory school', \n",
    "                     'education ']\n",
    "\n",
    "child_lterm_care = ['retirement home', 'keepers', 'children', 'living', 'community', 'day care', 'long term care',\n",
    "                   'senior house', '5 rivers youth', 'garderie le petit voilier', 'connor homes','easy home', \n",
    "                   'hospice']\n",
    "\n",
    "house_goods = ['home depot', 'sears', 'bath & body works', 'the brick', 'home lighting factory outlet',\n",
    "               'king furniture', 'furniture']\n",
    "\n",
    "airlines = ['qatar airways', 'westjet']\n",
    "\n",
    "realtor = [\"remax\", ]\n",
    "\n",
    "energy = [\"direct energy\", \"gas agency\"]\n",
    "\n",
    "electronic_repair = ['buy n cell', 'buyncell', 'ubreakifix']\n",
    "\n",
    "car_rental = ['budget truck and car rental']\n",
    "\n",
    "\n",
    "\n"
   ]
  },
  {
   "cell_type": "code",
   "execution_count": null,
   "metadata": {},
   "outputs": [],
   "source": [
    "def company_industry_label_generator2(comp_name,store_list,store_sector,l1,l2,l3,l4,l5,l6,l7,l8,l9,l10,l11,l12,l13,l14,l15,score_threshold = 0.80):\n",
    "    company_name = clean_txt_f(str(comp_name))\n",
    "    myDict = dict()\n",
    "    search_1 = lookup_similar(company_name,store_list)\n",
    "    if search_1[0]>score_threshold:\n",
    "        myDict[\"industry\"] = store_sector[search_1[2]]\n",
    "        myDict[\"method\"] = 'master_list'\n",
    "        myDict[\"company_matched\"] = search_1[1]\n",
    "        myDict[\"similarity_score\"] = search_1[0]\n",
    "        return myDict\n",
    "    elif any(kw in company_name for kw in l1):\n",
    "#         myDict[\"industry\"] = \"Mobile Industry\"\n",
    "        myDict[\"industry\"] = \"Telecomunications \"\n",
    "        myDict[\"method\"] = 'keyword'\n",
    "        myDict[\"company_matched\"] = \"NA_Keyword\"\n",
    "        myDict[\"similarity_score\"] = 1\n",
    "        return myDict\n",
    "    elif any(kw in company_name for kw in l2):\n",
    "        myDict[\"industry\"] = \"Food Service\"\n",
    "        myDict[\"method\"] = 'keyword'\n",
    "        myDict[\"company_matched\"] = \"NA_Keyword\"\n",
    "        myDict[\"similarity_score\"] = 1\n",
    "        return myDict\n",
    "    elif any(kw in company_name for kw in l3):\n",
    "        myDict[\"industry\"] = \"Food-Convenience-Pharmacy\"\n",
    "        myDict[\"method\"] = 'keyword'\n",
    "        myDict[\"company_matched\"] = \"NA_Keyword\"\n",
    "        myDict[\"similarity_score\"] = 1\n",
    "        return myDict\n",
    "    elif any(kw in company_name for kw in l4):\n",
    "        myDict[\"industry\"] = \"Consumer electronics\"\n",
    "        myDict[\"method\"] = 'keyword'\n",
    "        myDict[\"company_matched\"] = \"NA_Keyword\"\n",
    "        myDict[\"similarity_score\"] = 1\n",
    "        return myDict\n",
    "    elif any(kw in company_name for kw in l8):\n",
    "        myDict[\"industry\"] = \"Sport_Travel_Enterntain_Hotel\"\n",
    "        myDict[\"method\"] = 'keyword'\n",
    "        myDict[\"company_matched\"] = \"NA_Keyword\"\n",
    "        myDict[\"similarity_score\"] = 1\n",
    "        return myDict\n",
    "    elif any(kw in company_name for kw in l5):\n",
    "        myDict[\"industry\"] = \"Car Dealers\"\n",
    "        myDict[\"method\"] = 'keyword'\n",
    "        myDict[\"company_matched\"] = \"NA_Keyword\"\n",
    "        myDict[\"similarity_score\"] = 1\n",
    "        return myDict\n",
    "    elif any(kw in company_name for kw in l6):\n",
    "        myDict[\"industry\"] = \"Blue Collar\"\n",
    "        myDict[\"method\"] = 'keyword'\n",
    "        myDict[\"company_matched\"] = \"NA_Keyword\"\n",
    "        myDict[\"similarity_score\"] = 1\n",
    "        return myDict\n",
    "    elif any(kw in company_name for kw in l7):\n",
    "        myDict[\"industry\"] = \"Healthcare\"\n",
    "        myDict[\"method\"] = 'keyword'\n",
    "        myDict[\"company_matched\"] = \"NA_Keyword\"\n",
    "        myDict[\"similarity_score\"] = 1\n",
    "        return myDict\n",
    "    elif any(kw in company_name for kw in l9):\n",
    "        myDict[\"industry\"] = \"Profesional_Services\"\n",
    "        myDict[\"method\"] = 'keyword'\n",
    "        myDict[\"company_matched\"] = \"NA_Keyword\"\n",
    "        myDict[\"similarity_score\"] = 1\n",
    "        return myDict\n",
    "    #User list Section\n",
    "    elif any(kw in company_name for kw in l10):\n",
    "        myDict[\"industry\"] = \"Food Service\"\n",
    "        myDict[\"method\"] = 'user'\n",
    "        myDict[\"company_matched\"] = \"NA_Keyword\"\n",
    "        myDict[\"similarity_score\"] = 1\n",
    "        return myDict\n",
    "    elif any(kw in company_name for kw in l11):\n",
    "        myDict[\"industry\"] = \"Food-Convenience-Pharmacy\"\n",
    "        myDict[\"method\"] = 'user'\n",
    "        myDict[\"company_matched\"] = \"NA_Keyword\"\n",
    "        myDict[\"similarity_score\"] = 1\n",
    "        return myDict\n",
    "    elif any(kw in company_name for kw in l12):\n",
    "        myDict[\"industry\"] = \"Consumer electronics\"\n",
    "        myDict[\"method\"] = 'user'\n",
    "        myDict[\"company_matched\"] = \"NA_Keyword\"\n",
    "        myDict[\"similarity_score\"] = 1\n",
    "        return myDict\n",
    "    elif any(kw in company_name for kw in l13):\n",
    "        myDict[\"industry\"] = \"Clothing & Footwear\"\n",
    "        myDict[\"method\"] = 'user'\n",
    "        myDict[\"company_matched\"] = \"NA_Keyword\"\n",
    "        myDict[\"similarity_score\"] = 1\n",
    "        return myDict\n",
    "    elif any(kw in company_name for kw in l14):\n",
    "        myDict[\"industry\"] = \"Banks\"\n",
    "        myDict[\"method\"] = 'keyword'\n",
    "        myDict[\"company_matched\"] = \"NA_Keyword\"\n",
    "        myDict[\"similarity_score\"] = 1\n",
    "        return myDict\n",
    "    elif any(kw in company_name for kw in l15):\n",
    "        myDict[\"industry\"] = \"Beauty & Vanity\"\n",
    "        myDict[\"method\"] = 'keyword'\n",
    "        myDict[\"company_matched\"] = \"NA_Keyword\"\n",
    "        myDict[\"similarity_score\"] = 1\n",
    "        return myDict\n",
    "    else:\n",
    "        myDict[\"industry\"] = \"unknown\"\n",
    "        myDict[\"method\"] = 'not_matched'\n",
    "        myDict[\"company_matched\"] = \"not_matched\"\n",
    "        myDict[\"similarity_score\"] = 0\n",
    "        return myDict"
   ]
  }
 ],
 "metadata": {
  "kernelspec": {
   "display_name": "Python 3",
   "language": "python",
   "name": "python3"
  },
  "language_info": {
   "codemirror_mode": {
    "name": "ipython",
    "version": 3
   },
   "file_extension": ".py",
   "mimetype": "text/x-python",
   "name": "python",
   "nbconvert_exporter": "python",
   "pygments_lexer": "ipython3",
   "version": "3.7.6"
  }
 },
 "nbformat": 4,
 "nbformat_minor": 4
}
