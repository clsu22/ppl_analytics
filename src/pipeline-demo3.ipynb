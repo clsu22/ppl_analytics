{
 "cells": [
  {
   "cell_type": "code",
   "execution_count": 178,
   "metadata": {},
   "outputs": [],
   "source": [
    "import pandas as pd\n",
    "import re\n",
    "import datetime\n",
    "import numpy as np\n",
    "import matplotlib.pyplot as plt\n",
    "import string \n",
    "import warnings\n",
    "warnings.simplefilter('ignore')\n",
    "from sklearn.linear_model import LogisticRegression\n",
    "from sklearn.feature_extraction.text import CountVectorizer, TfidfVectorizer\n",
    "from sklearn.metrics import recall_score, roc_auc_score, accuracy_score, plot_confusion_matrix, classification_report\n",
    "#from imblearn.over_sampling import SMOTE\n",
    "from sklearn.model_selection import GridSearchCV, RandomizedSearchCV\n",
    "from regressors import stats\n",
    "from sklearn.feature_selection import chi2"
   ]
  },
  {
   "cell_type": "code",
   "execution_count": 179,
   "metadata": {},
   "outputs": [],
   "source": [
    "from sklearn import tree \n",
    "from sklearn.tree import DecisionTreeClassifier\n",
    "\n",
    "# Lecture 2\n",
    "from sklearn.model_selection import train_test_split \n",
    "\n",
    "# Lecture 3\n",
    "from sklearn.neighbors import KNeighborsClassifier, KNeighborsRegressor\n",
    "from statsmodels.nonparametric.smoothers_lowess import lowess\n",
    "\n",
    "# Lecture 4\n",
    "from sklearn.naive_bayes import BernoulliNB, GaussianNB, MultinomialNB\n",
    "from sklearn.preprocessing import normalize, scale, Normalizer, StandardScaler, OneHotEncoder\n",
    "\n",
    "# Lecture 5\n",
    "from sklearn.linear_model import LogisticRegression, LinearRegression\n",
    "\n",
    "# Lecture 6\n",
    "from sklearn.svm import SVC, SVR, LinearSVC\n",
    "from sklearn.multiclass import OneVsRestClassifier, OneVsOneClassifier\n",
    "from sklearn.ensemble import RandomForestClassifier\n",
    "\n",
    "# Lecture 7\n",
    "from sklearn.ensemble import VotingClassifier, AdaBoostClassifier, GradientBoostingClassifier, RandomForestRegressor\n",
    "from sklearn.tree import DecisionTreeRegressor\n",
    "from lightgbm import LGBMClassifier\n",
    "from xgboost import XGBClassifier\n",
    "\n",
    "# Lecture 8\n",
    "from sklearn.compose import ColumnTransformer\n",
    "from sklearn.impute import SimpleImputer\n",
    "from sklearn.model_selection import GridSearchCV\n",
    "from sklearn.pipeline import Pipeline, FeatureUnion, make_pipeline\n",
    "from sklearn.preprocessing import FunctionTransformer\n",
    "\n",
    "# Other\n",
    "import numpy as np\n",
    "import pandas as pd\n",
    "import pickle \n",
    "\n",
    "import graphviz\n",
    "\n",
    "from sklearn import datasets\n",
    "from sklearn.datasets import make_blobs, make_hastie_10_2\n",
    "from sklearn.datasets import fetch_20newsgroups\n",
    "from sklearn.feature_extraction.text import TfidfVectorizer, TfidfTransformer\n",
    "from sklearn.feature_extraction.text import CountVectorizer\n",
    "\n",
    "\n",
    "# pip install git+git://github.com/mgelbart/plot-classifier.git\n",
    "from plot_classifier import plot_classifier\n",
    "\n",
    "import matplotlib.pyplot as plt\n",
    "%matplotlib inline\n",
    "\n",
    "import pandas as pd\n",
    "pd.set_option(\"display.max_colwidth\", 200)\n",
    "\n",
    "import altair as alt\n",
    "import time\n",
    "\n",
    "# pip install ipython-autotime\n",
    "import autotime"
   ]
  },
  {
   "cell_type": "code",
   "execution_count": 180,
   "metadata": {},
   "outputs": [],
   "source": [
    "def show_scores(model, \n",
    "                X_train, y_train,\n",
    "                X_valid, y_valid):\n",
    "    \"\"\"\n",
    "    Shows train and test error \n",
    "    Parameters\n",
    "    ----------\n",
    "    model: sklearn classifier model\n",
    "        The sklearn model\n",
    "    X_train: numpy.ndarray        \n",
    "        The X part of the train set\n",
    "    y_train: numpy.ndarray\n",
    "        The y part of the train set    \n",
    "    X_valid: numpy.ndarray        \n",
    "        The X part of the validation set\n",
    "    y_valid: numpy.ndarray\n",
    "        The y part of the validation set    \n",
    "    Returns\n",
    "    -------\n",
    "        None\n",
    "        prints the train and validation errors. \n",
    "            \n",
    "    \"\"\"    \n",
    "    print(\"Training error:   %.2f\" % (1-model.score(X_train, y_train)))\n",
    "    print(\"Validation error: %.2f\" % (1-model.score(X_valid, y_valid)))"
   ]
  },
  {
   "cell_type": "code",
   "execution_count": 181,
   "metadata": {},
   "outputs": [],
   "source": [
    "def get_scores(model, \n",
    "                X_train, y_train,\n",
    "                X_valid, y_valid, \n",
    "                show = True\n",
    "               ):\n",
    "    \"\"\"\n",
    "    Returns train and validation error given a model\n",
    "    train and validation X and y portions\n",
    "    Parameters\n",
    "    ----------\n",
    "    model: sklearn classifier model\n",
    "        The sklearn model\n",
    "    X_train: numpy.ndarray        \n",
    "        The X part of the train set\n",
    "    y_train: numpy.ndarray\n",
    "        The y part of the train set    \n",
    "    X_valid: numpy.ndarray        \n",
    "        The X part of the validation set\n",
    "    y_valid: numpy.ndarray\n",
    "        The y part of the validation set    \n",
    "    Returns\n",
    "    -------\n",
    "        train_err: float\n",
    "        test_err: float\n",
    "            \n",
    "    \"\"\"    \n",
    "    if show: \n",
    "        print(\"Training error:   %.2f\" % (1-model.score(X_train, y_train)))\n",
    "        print(\"Validation error: %.2f\" % (1-model.score(X_valid, y_valid)))\n",
    "        print('\\n')\n",
    "    return (1-model.score(X_train, y_train)), (1-model.score(X_valid, y_valid))"
   ]
  },
  {
   "cell_type": "code",
   "execution_count": 182,
   "metadata": {},
   "outputs": [],
   "source": [
    "def show_sig(num):\n",
    "    if num < 0.001:\n",
    "        return \"***\"\n",
    "    elif num < 0.01:\n",
    "        return \"**\"\n",
    "    elif num < 0.05:\n",
    "        return \"*\"\n",
    "    else:\n",
    "        return \"\""
   ]
  },
  {
   "cell_type": "code",
   "execution_count": 70,
   "metadata": {},
   "outputs": [],
   "source": [
    "# Load dataset \n",
    "train_original = pd.read_csv(\"../data/train_dataset.csv\")\n",
    "test_original = pd.read_csv(\"../data/test_dataset.csv\")\n",
    "resume_original = pd.read_csv(\"../data/05182020_cleaned_english_resumes_V1.0.csv\")\n",
    "avg_work = pd.read_csv(\"../result/avg_work_exp.csv\")\n",
    "competitor = pd.read_csv(\"../result/competitor_experience.csv\")\n",
    "education_concentration = pd.read_csv(\"../data/education_concentration.csv\")\n",
    "work_title = pd.read_csv(\"../data/work_title.csv\")\n",
    "degree = pd.read_csv(\"../data/features_edu_01_training_df.csv\")"
   ]
  },
  {
   "cell_type": "code",
   "execution_count": 71,
   "metadata": {},
   "outputs": [],
   "source": [
    "education_concentration.drop_duplicates(\"employee_code\", inplace=True)\n",
    "work_title.drop_duplicates(\"employee_code\", inplace=True)\n",
    "degree.drop_duplicates(\"employee_code\", inplace=True)\n",
    "\n",
    "\n",
    "education_concentration.rename(columns={'blue collar':'blue collar_concentration', \n",
    "                                        'education': 'education_concentration', \n",
    "                                        'other':'other_concentration'}, inplace=True)\n",
    "\n",
    "work_title.rename(columns={'blue collar':'blue collar_work', \n",
    "                                        'education': 'education_work', \n",
    "                                        'other':'other_work'}, inplace=True)"
   ]
  },
  {
   "cell_type": "code",
   "execution_count": 72,
   "metadata": {},
   "outputs": [],
   "source": [
    "# Prepare train and test datasets\n",
    "train = pd.merge(train_original, resume_original, how=\"left\", on=\"employee_code\").merge(\n",
    "                                     avg_work, how=\"left\", on=\"employee_code\").merge(\n",
    "                                     competitor, how=\"left\", on=\"employee_code\").merge(\n",
    "                                    education_concentration, how=\"left\", on=\"employee_code\").merge(\n",
    "                                    work_title, how = \"left\", on=\"employee_code\").merge(\n",
    "                                    degree, how=\"left\", on=\"employee_code\")\n",
    "\n",
    "\n",
    "#[[\"employee_code\", \"raw_resume\", \"resume_text\", \"resume_bline\", \"clean_text\", \"job_hopper\", \"competitor_experience\", \"hp_class\"]]\n",
    "\n",
    "#test = pd.merge(test_original, resume_original, how=\"left\", on=\"employee_code\"\n",
    "#               )[[\"employee_code\", \"raw_resume\", \"resume_text\", \"resume_bline\", \"clean_text\", \"hp_class\"]]\n",
    "#X_train = train[\"clean_text\"]\n",
    "#y_train = train[\"hp_class\"]\n",
    "#X_test = test[\"clean_text\"]\n",
    "#y_test = test[\"hp_class\"]"
   ]
  },
  {
   "cell_type": "code",
   "execution_count": 75,
   "metadata": {},
   "outputs": [
    {
     "data": {
      "text/plain": [
       "Index(['Unnamed: 0', 'employee_code', 'highest_degree',\n",
       "       'background_highest_degree', 'country_highest_degree'],\n",
       "      dtype='object')"
      ]
     },
     "execution_count": 75,
     "metadata": {},
     "output_type": "execute_result"
    }
   ],
   "source": [
    "degree.columns"
   ]
  },
  {
   "cell_type": "code",
   "execution_count": 77,
   "metadata": {},
   "outputs": [],
   "source": [
    "train = train[[\"employee_code\", 'termination_type', 'rehired_', 'referral_flag', \"raw_resume\",\n",
    "       \"resume_text\", \"resume_bline\", \"clean_text\", \"job_hopper\", \"competitor_experience\", 'accounting', 'arts',\n",
    "       'audio technician', 'blue collar_concentration', 'business',\n",
    "       'communication', 'computer systems', 'criminology', 'dental',\n",
    "       'economics', 'education_concentration', 'engineering', 'english',\n",
    "       'finance', 'general', 'healthcare', 'hospitality', 'human resource',\n",
    "       'interactive arts and technology', 'kinesiology', 'law', 'marketing',\n",
    "       'no education', 'other_concentration', 'physics', 'psychology',\n",
    "       'science', 'sociology', 'statistics', 'administrative', 'assistant manager', 'blue collar_work', 'cashier',\n",
    "       'cook', 'customer service representative', 'driver', 'education_work',\n",
    "       'financial services', 'fitness/sports', 'manager', 'no work',\n",
    "       'other_work', 'sales associate', 'technicians', 'telemarketers', 'highest_degree',\n",
    "       'background_highest_degree', 'country_highest_degree', 'hp_class']]"
   ]
  },
  {
   "cell_type": "markdown",
   "metadata": {},
   "source": [
    "# Pre-feature engineering\n",
    "After comparing unigram and bigram and trigrams, we found bigrams make more sense to resumes.\n",
    "\n",
    "So here we are going to see which bigrams is significant, then we will consider those bigrams counts as features in our model"
   ]
  },
  {
   "cell_type": "code",
   "execution_count": 23,
   "metadata": {},
   "outputs": [],
   "source": [
    "vec = CountVectorizer(max_features=5000, ngram_range=(2, 2))\n",
    "X_train_counts = vec.fit_transform(X_train) \n",
    "X_test_counts = vec.transform(X_test)"
   ]
  },
  {
   "cell_type": "code",
   "execution_count": 24,
   "metadata": {},
   "outputs": [
    {
     "data": {
      "text/plain": [
       "LogisticRegression(C=1.0, class_weight=None, dual=False, fit_intercept=True,\n",
       "                   intercept_scaling=1, l1_ratio=None, max_iter=100,\n",
       "                   multi_class='auto', n_jobs=None, penalty='l2',\n",
       "                   random_state=None, solver='lbfgs', tol=0.0001, verbose=0,\n",
       "                   warm_start=False)"
      ]
     },
     "execution_count": 24,
     "metadata": {},
     "output_type": "execute_result"
    }
   ],
   "source": [
    "lr = LogisticRegression()\n",
    "lr.fit(X_train_counts, y_train)"
   ]
  },
  {
   "cell_type": "code",
   "execution_count": 25,
   "metadata": {},
   "outputs": [
    {
     "data": {
      "text/html": [
       "<div>\n",
       "<style scoped>\n",
       "    .dataframe tbody tr th:only-of-type {\n",
       "        vertical-align: middle;\n",
       "    }\n",
       "\n",
       "    .dataframe tbody tr th {\n",
       "        vertical-align: top;\n",
       "    }\n",
       "\n",
       "    .dataframe thead th {\n",
       "        text-align: right;\n",
       "    }\n",
       "</style>\n",
       "<table border=\"1\" class=\"dataframe\">\n",
       "  <thead>\n",
       "    <tr style=\"text-align: right;\">\n",
       "      <th></th>\n",
       "      <th>Neg feats</th>\n",
       "      <th>Neg weights</th>\n",
       "      <th>Neg pvalues</th>\n",
       "      <th>Neg sig.</th>\n",
       "      <th>Pos feats</th>\n",
       "      <th>Pos weights</th>\n",
       "      <th>Pos pvalues</th>\n",
       "      <th>Pos sig.</th>\n",
       "    </tr>\n",
       "  </thead>\n",
       "  <tbody>\n",
       "    <tr>\n",
       "      <td>0</td>\n",
       "      <td>high school</td>\n",
       "      <td>-0.513144</td>\n",
       "      <td>0.014402</td>\n",
       "      <td>*</td>\n",
       "      <td>efficient service</td>\n",
       "      <td>0.440615</td>\n",
       "      <td>0.000079</td>\n",
       "      <td>***</td>\n",
       "    </tr>\n",
       "    <tr>\n",
       "      <td>1</td>\n",
       "      <td>sale associate</td>\n",
       "      <td>-0.467281</td>\n",
       "      <td>0.085937</td>\n",
       "      <td></td>\n",
       "      <td>rogers communications</td>\n",
       "      <td>0.418416</td>\n",
       "      <td>0.005993</td>\n",
       "      <td>**</td>\n",
       "    </tr>\n",
       "    <tr>\n",
       "      <td>2</td>\n",
       "      <td>team player</td>\n",
       "      <td>-0.426519</td>\n",
       "      <td>0.219790</td>\n",
       "      <td></td>\n",
       "      <td>work ethic</td>\n",
       "      <td>0.382055</td>\n",
       "      <td>0.248989</td>\n",
       "      <td></td>\n",
       "    </tr>\n",
       "    <tr>\n",
       "      <td>3</td>\n",
       "      <td>health safety</td>\n",
       "      <td>-0.355103</td>\n",
       "      <td>0.019471</td>\n",
       "      <td>*</td>\n",
       "      <td>sale closing</td>\n",
       "      <td>0.373974</td>\n",
       "      <td>0.000416</td>\n",
       "      <td>***</td>\n",
       "    </tr>\n",
       "    <tr>\n",
       "      <td>4</td>\n",
       "      <td>excellent service</td>\n",
       "      <td>-0.307044</td>\n",
       "      <td>0.254905</td>\n",
       "      <td></td>\n",
       "      <td>university fraser</td>\n",
       "      <td>0.357177</td>\n",
       "      <td>0.000015</td>\n",
       "      <td>***</td>\n",
       "    </tr>\n",
       "    <tr>\n",
       "      <td>5</td>\n",
       "      <td>cash register</td>\n",
       "      <td>-0.296875</td>\n",
       "      <td>0.045346</td>\n",
       "      <td>*</td>\n",
       "      <td>sale target</td>\n",
       "      <td>0.352404</td>\n",
       "      <td>0.041786</td>\n",
       "      <td>*</td>\n",
       "    </tr>\n",
       "    <tr>\n",
       "      <td>6</td>\n",
       "      <td>ms office</td>\n",
       "      <td>-0.295314</td>\n",
       "      <td>0.284395</td>\n",
       "      <td></td>\n",
       "      <td>university england</td>\n",
       "      <td>0.336289</td>\n",
       "      <td>0.002239</td>\n",
       "      <td>**</td>\n",
       "    </tr>\n",
       "    <tr>\n",
       "      <td>7</td>\n",
       "      <td>food prep</td>\n",
       "      <td>-0.289780</td>\n",
       "      <td>0.060191</td>\n",
       "      <td></td>\n",
       "      <td>marketing business</td>\n",
       "      <td>0.335721</td>\n",
       "      <td>0.413257</td>\n",
       "      <td></td>\n",
       "    </tr>\n",
       "    <tr>\n",
       "      <td>8</td>\n",
       "      <td>project management</td>\n",
       "      <td>-0.272953</td>\n",
       "      <td>0.049651</td>\n",
       "      <td>*</td>\n",
       "      <td>support technician</td>\n",
       "      <td>0.328337</td>\n",
       "      <td>0.002239</td>\n",
       "      <td>**</td>\n",
       "    </tr>\n",
       "    <tr>\n",
       "      <td>9</td>\n",
       "      <td>time management</td>\n",
       "      <td>-0.261679</td>\n",
       "      <td>0.474262</td>\n",
       "      <td></td>\n",
       "      <td>sale representative</td>\n",
       "      <td>0.325761</td>\n",
       "      <td>0.130210</td>\n",
       "      <td></td>\n",
       "    </tr>\n",
       "    <tr>\n",
       "      <td>10</td>\n",
       "      <td>human resource</td>\n",
       "      <td>-0.258573</td>\n",
       "      <td>0.028188</td>\n",
       "      <td>*</td>\n",
       "      <td>training coaching</td>\n",
       "      <td>0.324756</td>\n",
       "      <td>0.015558</td>\n",
       "      <td>*</td>\n",
       "    </tr>\n",
       "    <tr>\n",
       "      <td>11</td>\n",
       "      <td>drive sale</td>\n",
       "      <td>-0.257740</td>\n",
       "      <td>0.697448</td>\n",
       "      <td></td>\n",
       "      <td>sale staff</td>\n",
       "      <td>0.320992</td>\n",
       "      <td>0.090202</td>\n",
       "      <td></td>\n",
       "    </tr>\n",
       "    <tr>\n",
       "      <td>12</td>\n",
       "      <td>manage team</td>\n",
       "      <td>-0.253450</td>\n",
       "      <td>0.134355</td>\n",
       "      <td></td>\n",
       "      <td>experience company</td>\n",
       "      <td>0.316793</td>\n",
       "      <td>0.000079</td>\n",
       "      <td>***</td>\n",
       "    </tr>\n",
       "    <tr>\n",
       "      <td>13</td>\n",
       "      <td>new product</td>\n",
       "      <td>-0.250007</td>\n",
       "      <td>0.250254</td>\n",
       "      <td></td>\n",
       "      <td>mobile expert</td>\n",
       "      <td>0.310978</td>\n",
       "      <td>0.002239</td>\n",
       "      <td>**</td>\n",
       "    </tr>\n",
       "    <tr>\n",
       "      <td>14</td>\n",
       "      <td>associate cashier</td>\n",
       "      <td>-0.243550</td>\n",
       "      <td>0.049651</td>\n",
       "      <td>*</td>\n",
       "      <td>mobile lead</td>\n",
       "      <td>0.306853</td>\n",
       "      <td>0.230887</td>\n",
       "      <td></td>\n",
       "    </tr>\n",
       "    <tr>\n",
       "      <td>15</td>\n",
       "      <td>new staff</td>\n",
       "      <td>-0.240685</td>\n",
       "      <td>0.076570</td>\n",
       "      <td></td>\n",
       "      <td>product promotion</td>\n",
       "      <td>0.301514</td>\n",
       "      <td>0.062772</td>\n",
       "      <td></td>\n",
       "    </tr>\n",
       "    <tr>\n",
       "      <td>16</td>\n",
       "      <td>retail sale</td>\n",
       "      <td>-0.231905</td>\n",
       "      <td>0.243333</td>\n",
       "      <td></td>\n",
       "      <td>information systems</td>\n",
       "      <td>0.299598</td>\n",
       "      <td>0.018090</td>\n",
       "      <td>*</td>\n",
       "    </tr>\n",
       "    <tr>\n",
       "      <td>17</td>\n",
       "      <td>excel word</td>\n",
       "      <td>-0.222028</td>\n",
       "      <td>0.239415</td>\n",
       "      <td></td>\n",
       "      <td>skill set</td>\n",
       "      <td>0.292426</td>\n",
       "      <td>0.062772</td>\n",
       "      <td></td>\n",
       "    </tr>\n",
       "    <tr>\n",
       "      <td>18</td>\n",
       "      <td>word excel</td>\n",
       "      <td>-0.221825</td>\n",
       "      <td>0.552611</td>\n",
       "      <td></td>\n",
       "      <td>relationship sell</td>\n",
       "      <td>0.291124</td>\n",
       "      <td>0.012571</td>\n",
       "      <td>*</td>\n",
       "    </tr>\n",
       "    <tr>\n",
       "      <td>19</td>\n",
       "      <td>new hire</td>\n",
       "      <td>-0.219105</td>\n",
       "      <td>0.033986</td>\n",
       "      <td>*</td>\n",
       "      <td>team building</td>\n",
       "      <td>0.286527</td>\n",
       "      <td>0.465941</td>\n",
       "      <td></td>\n",
       "    </tr>\n",
       "  </tbody>\n",
       "</table>\n",
       "</div>"
      ],
      "text/plain": [
       "             Neg feats  Neg weights  Neg pvalues Neg sig.  \\\n",
       "0          high school    -0.513144     0.014402        *   \n",
       "1       sale associate    -0.467281     0.085937            \n",
       "2          team player    -0.426519     0.219790            \n",
       "3        health safety    -0.355103     0.019471        *   \n",
       "4    excellent service    -0.307044     0.254905            \n",
       "5        cash register    -0.296875     0.045346        *   \n",
       "6            ms office    -0.295314     0.284395            \n",
       "7            food prep    -0.289780     0.060191            \n",
       "8   project management    -0.272953     0.049651        *   \n",
       "9      time management    -0.261679     0.474262            \n",
       "10      human resource    -0.258573     0.028188        *   \n",
       "11          drive sale    -0.257740     0.697448            \n",
       "12         manage team    -0.253450     0.134355            \n",
       "13         new product    -0.250007     0.250254            \n",
       "14   associate cashier    -0.243550     0.049651        *   \n",
       "15           new staff    -0.240685     0.076570            \n",
       "16         retail sale    -0.231905     0.243333            \n",
       "17          excel word    -0.222028     0.239415            \n",
       "18          word excel    -0.221825     0.552611            \n",
       "19            new hire    -0.219105     0.033986        *   \n",
       "\n",
       "                Pos feats  Pos weights  Pos pvalues Pos sig.  \n",
       "0       efficient service     0.440615     0.000079      ***  \n",
       "1   rogers communications     0.418416     0.005993       **  \n",
       "2              work ethic     0.382055     0.248989           \n",
       "3            sale closing     0.373974     0.000416      ***  \n",
       "4       university fraser     0.357177     0.000015      ***  \n",
       "5             sale target     0.352404     0.041786        *  \n",
       "6      university england     0.336289     0.002239       **  \n",
       "7      marketing business     0.335721     0.413257           \n",
       "8      support technician     0.328337     0.002239       **  \n",
       "9     sale representative     0.325761     0.130210           \n",
       "10      training coaching     0.324756     0.015558        *  \n",
       "11             sale staff     0.320992     0.090202           \n",
       "12     experience company     0.316793     0.000079      ***  \n",
       "13          mobile expert     0.310978     0.002239       **  \n",
       "14            mobile lead     0.306853     0.230887           \n",
       "15      product promotion     0.301514     0.062772           \n",
       "16    information systems     0.299598     0.018090        *  \n",
       "17              skill set     0.292426     0.062772           \n",
       "18      relationship sell     0.291124     0.012571        *  \n",
       "19          team building     0.286527     0.465941           "
      ]
     },
     "execution_count": 25,
     "metadata": {},
     "output_type": "execute_result"
    }
   ],
   "source": [
    "# Get features (words in our case)\n",
    "vocab = vec.get_feature_names()\n",
    "weights = lr.coef_.flatten()\n",
    "scores, pvalues = chi2(X_train_counts, y_train)\n",
    "\n",
    "# Sort the coefficients in descending order \n",
    "inds = np.argsort(lr.coef_.flatten())\n",
    "\n",
    "# pick the first 20 as most informative features for negative reviews  \n",
    "negative_words = [vocab[index] for index in inds[:20]]\n",
    "\n",
    "# pick the last 20 features as most informative features for positive reviews  \n",
    "positive_words = [vocab[index] for index in inds[-20:][::-1]]\n",
    "\n",
    "neg_words_weights = [(weights[index]) for index in inds[:20]]\n",
    "pos_words_weights = [(weights[index]) for index in inds[-20:][::-1]]\n",
    "\n",
    "neg_words_pvalues = [(pvalues[index]) for index in inds[:20]]\n",
    "pos_words_pvalues = [(pvalues[index]) for index in inds[-20:][::-1]]\n",
    "\n",
    "df = pd.DataFrame({'Neg feats':negative_words, 'Neg weights':neg_words_weights, \"Neg pvalues\": neg_words_pvalues, \n",
    "                   'Pos feats':positive_words, 'Pos weights':pos_words_weights, \"Pos pvalues\": pos_words_pvalues})\n",
    "df[\"Neg sig.\"] = df[\"Neg pvalues\"].apply(show_sig)\n",
    "df[\"Pos sig.\"] = df[\"Pos pvalues\"].apply(show_sig)\n",
    "df[['Neg feats', 'Neg weights', 'Neg pvalues', 'Neg sig.', 'Pos feats', 'Pos weights', 'Pos pvalues', 'Pos sig.']]"
   ]
  },
  {
   "cell_type": "code",
   "execution_count": null,
   "metadata": {},
   "outputs": [],
   "source": []
  },
  {
   "cell_type": "code",
   "execution_count": 26,
   "metadata": {},
   "outputs": [
    {
     "data": {
      "text/html": [
       "<div>\n",
       "<style scoped>\n",
       "    .dataframe tbody tr th:only-of-type {\n",
       "        vertical-align: middle;\n",
       "    }\n",
       "\n",
       "    .dataframe tbody tr th {\n",
       "        vertical-align: top;\n",
       "    }\n",
       "\n",
       "    .dataframe thead th {\n",
       "        text-align: right;\n",
       "    }\n",
       "</style>\n",
       "<table border=\"1\" class=\"dataframe\">\n",
       "  <thead>\n",
       "    <tr style=\"text-align: right;\">\n",
       "      <th></th>\n",
       "      <th>efficient service</th>\n",
       "      <th>mobile expert</th>\n",
       "      <th>high school</th>\n",
       "      <th>information system</th>\n",
       "      <th>cash register</th>\n",
       "      <th>high school</th>\n",
       "    </tr>\n",
       "  </thead>\n",
       "  <tbody>\n",
       "    <tr>\n",
       "      <td>0</td>\n",
       "      <td>0</td>\n",
       "      <td>0</td>\n",
       "      <td>0</td>\n",
       "      <td>0</td>\n",
       "      <td>0</td>\n",
       "      <td>0</td>\n",
       "    </tr>\n",
       "    <tr>\n",
       "      <td>1</td>\n",
       "      <td>0</td>\n",
       "      <td>0</td>\n",
       "      <td>0</td>\n",
       "      <td>0</td>\n",
       "      <td>0</td>\n",
       "      <td>0</td>\n",
       "    </tr>\n",
       "    <tr>\n",
       "      <td>2</td>\n",
       "      <td>0</td>\n",
       "      <td>0</td>\n",
       "      <td>0</td>\n",
       "      <td>0</td>\n",
       "      <td>0</td>\n",
       "      <td>0</td>\n",
       "    </tr>\n",
       "    <tr>\n",
       "      <td>3</td>\n",
       "      <td>0</td>\n",
       "      <td>0</td>\n",
       "      <td>0</td>\n",
       "      <td>0</td>\n",
       "      <td>1</td>\n",
       "      <td>0</td>\n",
       "    </tr>\n",
       "    <tr>\n",
       "      <td>4</td>\n",
       "      <td>0</td>\n",
       "      <td>0</td>\n",
       "      <td>0</td>\n",
       "      <td>0</td>\n",
       "      <td>0</td>\n",
       "      <td>0</td>\n",
       "    </tr>\n",
       "    <tr>\n",
       "      <td>...</td>\n",
       "      <td>...</td>\n",
       "      <td>...</td>\n",
       "      <td>...</td>\n",
       "      <td>...</td>\n",
       "      <td>...</td>\n",
       "      <td>...</td>\n",
       "    </tr>\n",
       "    <tr>\n",
       "      <td>283</td>\n",
       "      <td>0</td>\n",
       "      <td>0</td>\n",
       "      <td>1</td>\n",
       "      <td>0</td>\n",
       "      <td>0</td>\n",
       "      <td>1</td>\n",
       "    </tr>\n",
       "    <tr>\n",
       "      <td>284</td>\n",
       "      <td>0</td>\n",
       "      <td>0</td>\n",
       "      <td>1</td>\n",
       "      <td>0</td>\n",
       "      <td>0</td>\n",
       "      <td>1</td>\n",
       "    </tr>\n",
       "    <tr>\n",
       "      <td>285</td>\n",
       "      <td>0</td>\n",
       "      <td>0</td>\n",
       "      <td>0</td>\n",
       "      <td>0</td>\n",
       "      <td>1</td>\n",
       "      <td>0</td>\n",
       "    </tr>\n",
       "    <tr>\n",
       "      <td>286</td>\n",
       "      <td>0</td>\n",
       "      <td>0</td>\n",
       "      <td>0</td>\n",
       "      <td>0</td>\n",
       "      <td>0</td>\n",
       "      <td>0</td>\n",
       "    </tr>\n",
       "    <tr>\n",
       "      <td>287</td>\n",
       "      <td>0</td>\n",
       "      <td>0</td>\n",
       "      <td>0</td>\n",
       "      <td>0</td>\n",
       "      <td>0</td>\n",
       "      <td>0</td>\n",
       "    </tr>\n",
       "  </tbody>\n",
       "</table>\n",
       "<p>288 rows × 6 columns</p>\n",
       "</div>"
      ],
      "text/plain": [
       "     efficient service  mobile expert  high school  information system  \\\n",
       "0                    0              0            0                   0   \n",
       "1                    0              0            0                   0   \n",
       "2                    0              0            0                   0   \n",
       "3                    0              0            0                   0   \n",
       "4                    0              0            0                   0   \n",
       "..                 ...            ...          ...                 ...   \n",
       "283                  0              0            1                   0   \n",
       "284                  0              0            1                   0   \n",
       "285                  0              0            0                   0   \n",
       "286                  0              0            0                   0   \n",
       "287                  0              0            0                   0   \n",
       "\n",
       "     cash register  high school  \n",
       "0                0            0  \n",
       "1                0            0  \n",
       "2                0            0  \n",
       "3                1            0  \n",
       "4                0            0  \n",
       "..             ...          ...  \n",
       "283              0            1  \n",
       "284              0            1  \n",
       "285              1            0  \n",
       "286              0            0  \n",
       "287              0            0  \n",
       "\n",
       "[288 rows x 6 columns]"
      ]
     },
     "execution_count": 26,
     "metadata": {},
     "output_type": "execute_result"
    }
   ],
   "source": [
    "X_train_count_df = pd.DataFrame(columns=vec.get_feature_names(), data=X_train_counts.todense())\n",
    "X_train_count_df[[\"efficient service\", \"mobile expert\", \"high school\", \"information system\", \"cash register\", \"high school\"]]"
   ]
  },
  {
   "cell_type": "code",
   "execution_count": 188,
   "metadata": {},
   "outputs": [],
   "source": [
    "# save word counts\n",
    "counts = X_train_count_df[[\"efficient service\", \"mobile expert\", \"high school\", \"information system\", \"cash register\"]]"
   ]
  },
  {
   "cell_type": "code",
   "execution_count": 191,
   "metadata": {},
   "outputs": [],
   "source": [
    "counts[\"employee_code\"] = train.employee_code"
   ]
  },
  {
   "cell_type": "code",
   "execution_count": 192,
   "metadata": {},
   "outputs": [],
   "source": [
    "counts.to_csv(\"../data/word_counts.csv\", index=False)"
   ]
  },
  {
   "cell_type": "code",
   "execution_count": 193,
   "metadata": {},
   "outputs": [
    {
     "data": {
      "text/plain": [
       "Index(['employee_code', 'termination_type', 'rehired_', 'referral_flag',\n",
       "       'raw_resume', 'resume_text', 'resume_bline', 'clean_text', 'job_hopper',\n",
       "       'competitor_experience', 'accounting', 'arts', 'audio technician',\n",
       "       'blue collar_concentration', 'business', 'communication',\n",
       "       'computer systems', 'criminology', 'dental', 'economics',\n",
       "       'education_concentration', 'engineering', 'english', 'finance',\n",
       "       'general', 'healthcare', 'hospitality', 'human resource',\n",
       "       'interactive arts and technology', 'kinesiology', 'law', 'marketing',\n",
       "       'no education', 'other_concentration', 'physics', 'psychology',\n",
       "       'science', 'sociology', 'statistics', 'administrative',\n",
       "       'assistant manager', 'blue collar_work', 'cashier', 'cook',\n",
       "       'customer service representative', 'driver', 'education_work',\n",
       "       'financial services', 'fitness/sports', 'manager', 'no work',\n",
       "       'other_work', 'sales associate', 'technicians', 'telemarketers',\n",
       "       'highest_degree', 'background_highest_degree', 'country_highest_degree',\n",
       "       'hp_class'],\n",
       "      dtype='object')"
      ]
     },
     "execution_count": 193,
     "metadata": {},
     "output_type": "execute_result"
    }
   ],
   "source": [
    "train.columns"
   ]
  },
  {
   "cell_type": "code",
   "execution_count": 28,
   "metadata": {},
   "outputs": [],
   "source": [
    "train2 = pd.concat([X_train_count_df[[\"efficient service\", \"mobile expert\", \"high school\", \"information system\", \"cash register\"]], \n",
    "          train[[\"job_hopper\", \"competitor_experience\", \"hp_class\"]]], axis=1)\n",
    "train3 = pd.concat([education_concentration, train2], axis=1)"
   ]
  },
  {
   "cell_type": "code",
   "execution_count": null,
   "metadata": {},
   "outputs": [],
   "source": [
    "train3"
   ]
  },
  {
   "cell_type": "code",
   "execution_count": 22,
   "metadata": {},
   "outputs": [
    {
     "data": {
      "text/plain": [
       "0.0    218\n",
       "1.0     70\n",
       "Name: hp_class, dtype: int64"
      ]
     },
     "execution_count": 22,
     "metadata": {},
     "output_type": "execute_result"
    }
   ],
   "source": [
    "train2.hp_class.value_counts()"
   ]
  },
  {
   "cell_type": "markdown",
   "metadata": {},
   "source": [
    "### Start pipeline "
   ]
  },
  {
   "cell_type": "code",
   "execution_count": 89,
   "metadata": {},
   "outputs": [],
   "source": [
    "train2 = train.copy()\n",
    "train2.referral_flag = X_train.referral_flag.fillna(0)"
   ]
  },
  {
   "cell_type": "code",
   "execution_count": 177,
   "metadata": {},
   "outputs": [],
   "source": [
    "train2.to_csv(\"../data/0528_training_dataset.csv\", index=False)"
   ]
  },
  {
   "cell_type": "markdown",
   "metadata": {},
   "source": [
    "### step 1: "
   ]
  },
  {
   "cell_type": "code",
   "execution_count": 165,
   "metadata": {},
   "outputs": [],
   "source": [
    "X_train2 = train2.drop(columns=[\"hp_class\"])\n",
    "y_train2 = train2[\"hp_class\"]\n",
    "X_train, X_valid, y_train, y_valid = train_test_split(X_train2, y_train2, \n",
    "                                                         train_size=0.75, random_state=22)"
   ]
  },
  {
   "cell_type": "code",
   "execution_count": 166,
   "metadata": {},
   "outputs": [
    {
     "data": {
      "text/plain": [
       "((216, 58), (72, 58))"
      ]
     },
     "execution_count": 166,
     "metadata": {},
     "output_type": "execute_result"
    }
   ],
   "source": [
    "X_train.shape, X_valid.shape # or maybe not, we can do cross validation instead "
   ]
  },
  {
   "cell_type": "code",
   "execution_count": 167,
   "metadata": {},
   "outputs": [],
   "source": [
    "numeric_features =['referral_flag', 'job_hopper', 'competitor_experience','accounting', 'arts', 'audio technician',\n",
    "       'blue collar_concentration', 'business', 'communication',\n",
    "       'computer systems', 'criminology', 'dental', 'economics',\n",
    "       'education_concentration', 'engineering', 'english', 'finance',\n",
    "       'general', 'healthcare', 'hospitality', 'human resource',\n",
    "       'interactive arts and technology', 'kinesiology', 'law', 'marketing',\n",
    "       'no education', 'other_concentration', 'physics', 'psychology',\n",
    "       'science', 'sociology', 'statistics', 'administrative',\n",
    "       'assistant manager', 'blue collar_work', 'cashier', 'cook',\n",
    "       'customer service representative', 'driver', 'education_work',\n",
    "       'financial services', 'fitness/sports', 'manager', 'no work',\n",
    "       'other_work', 'sales associate', 'technicians', 'telemarketers']\n",
    "categorical_features = ['highest_degree', 'background_highest_degree', 'country_highest_degree']"
   ]
  },
  {
   "cell_type": "code",
   "execution_count": 168,
   "metadata": {},
   "outputs": [],
   "source": [
    "numeric_transformer = Pipeline(steps=[\n",
    "                                      ('imputer', SimpleImputer(strategy='median')),\n",
    "                                      ('scaler', StandardScaler())\n",
    "                                    ])\n",
    "\n",
    "\n",
    "categorical_transformer = Pipeline(steps=[\n",
    "                                          ('imputer', SimpleImputer(strategy='constant', \n",
    "                                                                    fill_value='missing')),\n",
    "                                          ('onehot', OneHotEncoder(handle_unknown='ignore'))\n",
    "                                         ])\n",
    "\n",
    "preprocessor = ColumnTransformer(\n",
    "                                 transformers=[\n",
    "                                    ('num', numeric_transformer, numeric_features),\n",
    "                                    ('cat', categorical_transformer, categorical_features)\n",
    "                                ])"
   ]
  },
  {
   "cell_type": "code",
   "execution_count": 169,
   "metadata": {},
   "outputs": [],
   "source": [
    "models = {\n",
    "          'decision tree': DecisionTreeClassifier(class_weight=\"balanced\"),\n",
    "          'kNN': KNeighborsClassifier(),\n",
    "          'logistic regression': LogisticRegression(class_weight = \"balanced\"),\n",
    "          'RBF SVM' : SVC(class_weight = \"balanced\"), \n",
    "          'random forest' : RandomForestClassifier(class_weight = \"balanced\"), \n",
    "          'xgboost' : XGBClassifier(class_weight = \"balanced\"),\n",
    "          'lgbm': LGBMClassifier(class_weight = \"balanced\")\n",
    "         }"
   ]
  },
  {
   "cell_type": "code",
   "execution_count": 170,
   "metadata": {},
   "outputs": [
    {
     "data": {
      "image/png": "[encoded data removed]",
      "text/plain": [
       "<Figure size 432x288 with 2 Axes>"
      ]
     },
     "metadata": {
      "needs_background": "light"
     },
     "output_type": "display_data"
    },
    {
     "data": {
      "image/png": "[encoded data removed]",
      "text/plain": [
       "<Figure size 432x288 with 2 Axes>"
      ]
     },
     "metadata": {
      "needs_background": "light"
     },
     "output_type": "display_data"
    },
    {
     "data": {
      "image/png": "[encoded data removed]",
      "text/plain": [
       "<Figure size 432x288 with 2 Axes>"
      ]
     },
     "metadata": {
      "needs_background": "light"
     },
     "output_type": "display_data"
    },
    {
     "data": {
      "image/png": "[encoded data removed]",
      "text/plain": [
       "<Figure size 432x288 with 2 Axes>"
      ]
     },
     "metadata": {
      "needs_background": "light"
     },
     "output_type": "display_data"
    },
    {
     "data": {
      "image/png": "[encoded data removed]",
      "text/plain": [
       "<Figure size 432x288 with 2 Axes>"
      ]
     },
     "metadata": {
      "needs_background": "light"
     },
     "output_type": "display_data"
    },
    {
     "data": {
      "image/png": "[encoded data removed]",
      "text/plain": [
       "<Figure size 432x288 with 2 Axes>"
      ]
     },
     "metadata": {
      "needs_background": "light"
     },
     "output_type": "display_data"
    },
    {
     "data": {
      "image/png": "[encoded data removed]",
      "text/plain": [
       "<Figure size 432x288 with 2 Axes>"
      ]
     },
     "metadata": {
      "needs_background": "light"
     },
     "output_type": "display_data"
    }
   ],
   "source": [
    "results_dict = {}\n",
    "for model_name, model in models.items(): \n",
    "    clf = Pipeline(steps=[('preprocessor', preprocessor),\n",
    "                          ('classifier', model)])\n",
    "    clf.fit(X_train, y_train.to_numpy().ravel());\n",
    "    tr_err, valid_err = get_scores(clf, X_train, y_train, \n",
    "                                   X_valid, y_valid, show = False)\n",
    "    y_valid_pred = clf.predict(X_valid)\n",
    "    recall = recall_score(y_valid, y_valid_pred)\n",
    "    results_dict[model_name] = [round(tr_err,3), round(valid_err,3), round(recall, 3)]\n",
    "    disp = plot_confusion_matrix(clf, X_valid, y_valid,\n",
    "                             display_labels=['Non-high performer', 'high performer'],\n",
    "                             cmap=plt.cm.Blues, \n",
    "                             values_format = 'd')\n",
    "    disp.ax_.set_title('Confusion matrix for high performer training data set: '+model_name)"
   ]
  },
  {
   "cell_type": "code",
   "execution_count": 171,
   "metadata": {},
   "outputs": [
    {
     "data": {
      "text/html": [
       "<div>\n",
       "<style scoped>\n",
       "    .dataframe tbody tr th:only-of-type {\n",
       "        vertical-align: middle;\n",
       "    }\n",
       "\n",
       "    .dataframe tbody tr th {\n",
       "        vertical-align: top;\n",
       "    }\n",
       "\n",
       "    .dataframe thead th {\n",
       "        text-align: right;\n",
       "    }\n",
       "</style>\n",
       "<table border=\"1\" class=\"dataframe\">\n",
       "  <thead>\n",
       "    <tr style=\"text-align: right;\">\n",
       "      <th></th>\n",
       "      <th>Train error</th>\n",
       "      <th>Validation error</th>\n",
       "      <th>recall</th>\n",
       "    </tr>\n",
       "  </thead>\n",
       "  <tbody>\n",
       "    <tr>\n",
       "      <td>decision tree</td>\n",
       "      <td>0.000</td>\n",
       "      <td>0.319</td>\n",
       "      <td>0.368</td>\n",
       "    </tr>\n",
       "    <tr>\n",
       "      <td>kNN</td>\n",
       "      <td>0.208</td>\n",
       "      <td>0.250</td>\n",
       "      <td>0.053</td>\n",
       "    </tr>\n",
       "    <tr>\n",
       "      <td>logistic regression</td>\n",
       "      <td>0.194</td>\n",
       "      <td>0.389</td>\n",
       "      <td>0.316</td>\n",
       "    </tr>\n",
       "    <tr>\n",
       "      <td>RBF SVM</td>\n",
       "      <td>0.120</td>\n",
       "      <td>0.333</td>\n",
       "      <td>0.316</td>\n",
       "    </tr>\n",
       "    <tr>\n",
       "      <td>random forest</td>\n",
       "      <td>0.000</td>\n",
       "      <td>0.278</td>\n",
       "      <td>0.000</td>\n",
       "    </tr>\n",
       "    <tr>\n",
       "      <td>xgboost</td>\n",
       "      <td>0.134</td>\n",
       "      <td>0.236</td>\n",
       "      <td>0.211</td>\n",
       "    </tr>\n",
       "    <tr>\n",
       "      <td>lgbm</td>\n",
       "      <td>0.139</td>\n",
       "      <td>0.444</td>\n",
       "      <td>0.316</td>\n",
       "    </tr>\n",
       "  </tbody>\n",
       "</table>\n",
       "</div>"
      ],
      "text/plain": [
       "                     Train error  Validation error  recall\n",
       "decision tree              0.000             0.319   0.368\n",
       "kNN                        0.208             0.250   0.053\n",
       "logistic regression        0.194             0.389   0.316\n",
       "RBF SVM                    0.120             0.333   0.316\n",
       "random forest              0.000             0.278   0.000\n",
       "xgboost                    0.134             0.236   0.211\n",
       "lgbm                       0.139             0.444   0.316"
      ]
     },
     "execution_count": 171,
     "metadata": {},
     "output_type": "execute_result"
    }
   ],
   "source": [
    "results_df = pd.DataFrame(results_dict).T\n",
    "results_df.columns = [\"Train error\", \"Validation error\", \"recall\"]\n",
    "results_df"
   ]
  },
  {
   "cell_type": "code",
   "execution_count": 144,
   "metadata": {},
   "outputs": [],
   "source": [
    "opt_dict = {} # used to collect rmse for the best case of each model\n",
    "df = pd.DataFrame(y_valid).copy() # used to collect obeserved and predicted values\n",
    "\n",
    "def opt(model_name, model, grid):\n",
    "    \"\"\"\n",
    "    calculate optimized test error (rmse) given a model\n",
    "    train and test X and y splits after optimizing \n",
    "    by changing hyperparameters\n",
    "    \n",
    "    Parameters\n",
    "    ----------\n",
    "    model_name: str\n",
    "        A string to be used as model name \n",
    "    model: sklearn classifier model\n",
    "        The sklearn model\n",
    "    grid: dict       \n",
    "        A Dict used to store hyperparameters \n",
    "    \"\"\"   \n",
    "    clf = Pipeline(steps=[('preprocessor', preprocessor),\n",
    "                          ('classifier', model)])\n",
    "    clf.fit(X_train, y_train.to_numpy().ravel());\n",
    "    grid_search = GridSearchCV(clf, grid, cv = 5, scoring=\"f1\")\n",
    "    grid_result = grid_search.fit(X_train, y_train)\n",
    "    print(\"Best param is: \", grid_result.best_params_)\n",
    "    tr_err, valid_err = get_scores(grid_result, X_train, y_train, \n",
    "                                   X_valid, y_valid, show = False)\n",
    "    y_valid_pred = grid_search.predict(X_valid)\n",
    "    recall = recall_score(y_valid, y_valid_pred)\n",
    "    results_dict[model_name] = [round(tr_err,3), round(valid_err,3), round(recall, 3)]\n",
    "    disp = plot_confusion_matrix(grid_result, X_valid, y_valid,\n",
    "                             display_labels=['Non-high performer', 'high performer'],\n",
    "                             cmap=plt.cm.Blues, \n",
    "                             values_format = 'd')\n",
    "    disp.ax_.set_title('Confusion matrix for high performer training data set: '+model_name)"
   ]
  },
  {
   "cell_type": "code",
   "execution_count": null,
   "metadata": {},
   "outputs": [],
   "source": [
    "weights = np.linspace(0.05, 0.95, 20)\n",
    "lg_param_grid = {\"preprocessor__num__imputer__strategy\": ['mean', 'median'],\n",
    "                \"classifier__C\": [0.9, 1.0],\n",
    "                'classifier__class_weight': [{0: x, 1: 1.0-x} for x in weights]\n",
    "                }\n",
    "#svr_param_grid = {\"preprocessor__num__imputer__strategy\": ['mean', 'median'],\n",
    "#                  \"classifier__gamma\": [0.00001, 0.0001, 0.001, 0.01, 0.1, 1, 10, 100]}\n",
    "#knr_param_grid = {\"preprocessor__num__imputer__strategy\": ['mean', 'median'],\n",
    "#                  \"classifier__n_neighbors\": list(range(1,50,1))}\n",
    "rf_param_grid = {\"preprocessor__num__imputer__strategy\": ['mean', 'median'],\n",
    "                  \"classifier__max_depth\": list(range(1,50,1)),\n",
    "                  'classifier__class_weight': [{0: x, 1: 1.0-x} for x in weights]}\n",
    "\n",
    "opt('logistic regression', LogisticRegression(), lg_param_grid)\n",
    "#opt('svr', SVR(gamma = \"auto\"), svr_param_grid)\n",
    "#opt('kneighbor regressor', KNeighborsRegressor(), knr_param_grid)\n",
    "opt('random forest', RandomForestClassifier(), rf_param_grid)"
   ]
  },
  {
   "cell_type": "markdown",
   "metadata": {},
   "source": [
    "--- \n",
    "## Feature selection: FRE "
   ]
  },
  {
   "cell_type": "code",
   "execution_count": null,
   "metadata": {},
   "outputs": [],
   "source": []
  }
 ],
 "metadata": {
  "kernelspec": {
   "display_name": "Python 3",
   "language": "python",
   "name": "python3"
  },
  "language_info": {
   "codemirror_mode": {
    "name": "ipython",
    "version": 3
   },
   "file_extension": ".py",
   "mimetype": "text/x-python",
   "name": "python",
   "nbconvert_exporter": "python",
   "pygments_lexer": "ipython3",
   "version": "3.7.4"
  },
  "toc": {
   "base_numbering": 1,
   "nav_menu": {},
   "number_sections": true,
   "sideBar": true,
   "skip_h1_title": false,
   "title_cell": "Table of Contents",
   "title_sidebar": "Contents",
   "toc_cell": false,
   "toc_position": {},
   "toc_section_display": true,
   "toc_window_display": false
  }
 },
 "nbformat": 4,
 "nbformat_minor": 4
}
