{
 "cells": [
  {
   "cell_type": "code",
   "execution_count": 76,
   "metadata": {},
   "outputs": [],
   "source": [
    "import pandas as pd\n",
    "import re \n",
    "import spacy \n",
    "import os \n",
    "import numpy as np"
   ]
  },
  {
   "cell_type": "code",
   "execution_count": 77,
   "metadata": {},
   "outputs": [],
   "source": [
    "# Load data \n",
    "eng_resumes = pd.read_csv(\"C:/Users/NIV/Documents/02-HR-project/05182020_english_resumes_V1.0.csv\")"
   ]
  },
  {
   "cell_type": "code",
   "execution_count": 78,
   "metadata": {},
   "outputs": [],
   "source": [
    "#!python -m spacy download en_core_web_sm\n",
    "nlp = spacy.load(\"en_core_web_sm\")"
   ]
  },
  {
   "cell_type": "code",
   "execution_count": 79,
   "metadata": {},
   "outputs": [],
   "source": [
    "# Prepare all employee names\n",
    "first_last = eng_resumes.employee_name.str.replace(\",\", \"\").apply(lambda x: x.split(\" \")[1]+\" \"+x.split(\" \")[0]).to_list()\n",
    "last_first = eng_resumes.employee_name.str.replace(\",\", \"\").apply(lambda x: x.split(\" \")[0]+\" \"+x.split(\" \")[1]).to_list()\n",
    "last = eng_resumes.employee_name.str.replace(\",\", \"\").apply(lambda x: (x.split(\" \")[0])).to_list()\n",
    "first = eng_resumes.employee_name.str.replace(\",\", \"\").apply(lambda x: x.split(\" \")[1]).to_list()\n",
    "last_upper = list(map(lambda x: x.upper(), last))\n",
    "first_upper = list(map(lambda x: x.upper(), first))\n",
    "middle = (eng_resumes.employee_name.str.replace(\",\", \"\")\n",
    "     .apply(lambda x: x if len(x.split(\" \"))>2 else \"\")\n",
    "     .where(lambda x: x!=\"\")\n",
    "     .dropna()\n",
    "     .apply(lambda x: x.split(\" \")[2])\n",
    "     .to_list())\n",
    "middle_upper = list(map(lambda x: x.upper(), middle))\n",
    "names = first_last + last_first + last + first + middle + first_upper + last_upper + middle_upper\n",
    "pat_names =r'\\b(?:{})\\b'.format('|'.join(names))"
   ]
  },
  {
   "cell_type": "code",
   "execution_count": 80,
   "metadata": {},
   "outputs": [],
   "source": [
    "# Prepare all cities\n",
    "f = open(\"C:/Users/NIV/Documents/02-HR-project/cities.txt\")\n",
    "lines = f.readlines()\n",
    "f.close()\n",
    "\n",
    "cities = [re.match('[0-9]+\\:\\s(.+)\\,\\s(.+)', line).group(1) for line in lines]\n",
    "provinces = [re.match('[0-9]+\\:\\s(.+)\\,\\s(.+)', line).group(2) for line in lines]\n",
    "cities = list(set(cities))\n",
    "provinces = list(set(provinces)) \n",
    "abbre_prov = [\"AB\", \"BC\", \"MB\", \"NB\", \"NL\", \"NT\", \"NS\", \"NU\", \"ON\", \"PE\", \"QC\", \"SK\", \"YT\"]\n",
    "provinces = provinces + abbre_prov\n",
    "\n",
    "pat_cities =r'\\b(?:{})\\b'.format('|'.join(cities))\n",
    "pat_provinces = r'\\b(?:{})\\b'.format('|'.join(provinces))"
   ]
  },
  {
   "cell_type": "code",
   "execution_count": 81,
   "metadata": {},
   "outputs": [],
   "source": [
    "# Prepare otherwords \n",
    "f = open(\"C:/Users/NIV/Documents/02-HR-project/otherwords.txt\")\n",
    "otherwords = [re.sub('\\n', '', word) for word in f.readlines()]\n",
    "f.close()\n",
    "\n",
    "pat_otherwords = r'\\b(?:{})\\b'.format('|'.join(otherwords))"
   ]
  },
  {
   "cell_type": "markdown",
   "metadata": {},
   "source": [
    "## Start preprocessing"
   ]
  },
  {
   "cell_type": "code",
   "execution_count": 82,
   "metadata": {},
   "outputs": [],
   "source": [
    "def preprocess(text, min_token_len = 2, \n",
    "               irrelevant_pos = ['ADV','PRON','CCONJ','PUNCT','PART','DET','ADP','SPACE']):\n",
    "    try:\n",
    "        text = re.sub(r'([\\n]+)', ' ', text)\n",
    "        # Remove Emails\n",
    "        #text = re.sub(r'\\S*@\\S*\\s?', '', text)\n",
    "        text = re.sub(r'([\\w\\.-]+@[\\w\\.-]+)', '', text)\n",
    "\n",
    "        # Replace names, cities and provinces \n",
    "        text = re.sub(pat_names, '', text)\n",
    "\n",
    "        text = re.sub(pat_cities, '', text)\n",
    "\n",
    "        text = re.sub(pat_provinces, '', text)\n",
    "\n",
    "        text = re.sub(pat_otherwords, '', text)\n",
    "\n",
    "        # Replace a sequence of whitespaces by a single whitespace\n",
    "        text = re.sub(r'\\s+', ' ', text)\n",
    "\n",
    "        # Remove other strange characters\n",
    "        text = re.sub(r'''[\\*\\~]+''', \"\", text)\n",
    "\n",
    "        doc = nlp(text)\n",
    "        result = ' '.join([token.lemma_ for token in doc \n",
    "                      if token.is_stop == False\n",
    "                          and token.pos_ not in irrelevant_pos \n",
    "                          and token.is_alpha \n",
    "                          and not token.like_url \n",
    "                          and not token.like_email \n",
    "                          and not token.is_stop\n",
    "                          #and not token.text.isupper()\n",
    "                          and not token.text.isdigit()\n",
    "                          and not token.is_punct\n",
    "                          and len(token) >= min_token_len])\n",
    "    except TypeError:\n",
    "        return(\"no resume found\")\n",
    "    return result"
   ]
  },
  {
   "cell_type": "code",
   "execution_count": 83,
   "metadata": {},
   "outputs": [],
   "source": [
    "eng_resumes[\"clean_text\"] = eng_resumes['resume_text'].apply(preprocess)"
   ]
  },
  {
   "cell_type": "code",
   "execution_count": 90,
   "metadata": {},
   "outputs": [],
   "source": [
    "eng_resumes.to_csv(\"C:/Users/NIV/Documents/02-HR-project/05182020_cleaned_english_resumes_V1.1.csv\")"
   ]
  },
  {
   "cell_type": "code",
   "execution_count": null,
   "metadata": {},
   "outputs": [],
   "source": []
  }
 ],
 "metadata": {
  "kernelspec": {
   "display_name": "Python 3",
   "language": "python",
   "name": "python3"
  },
  "language_info": {
   "codemirror_mode": {
    "name": "ipython",
    "version": 3
   },
   "file_extension": ".py",
   "mimetype": "text/x-python",
   "name": "python",
   "nbconvert_exporter": "python",
   "pygments_lexer": "ipython3",
   "version": "3.7.4"
  }
 },
 "nbformat": 4,
 "nbformat_minor": 4
}
