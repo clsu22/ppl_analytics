{
 "cells": [
  {
   "cell_type": "code",
   "execution_count": 192,
   "metadata": {},
   "outputs": [],
   "source": [
    "import pandas as pd\n",
    "import re\n",
    "import datetime\n",
    "import numpy as np\n",
    "import matplotlib.pyplot as plt\n",
    "import string \n",
    "import warnings\n",
    "warnings.simplefilter('ignore')\n"
   ]
  },
  {
   "cell_type": "code",
   "execution_count": 193,
   "metadata": {},
   "outputs": [],
   "source": [
    "def load_data(resume_path):\n",
    "    df = pd.read_excel(resume_path)\n",
    "    df.columns = [remove_space(name) for name in df.columns.to_list()]\n",
    "    return df"
   ]
  },
  {
   "cell_type": "code",
   "execution_count": 195,
   "metadata": {},
   "outputs": [],
   "source": [
    "def remove_space(text):\n",
    "    text = re.sub(r'\\s+$', '', text)\n",
    "    text = re.sub(r'^\\s+', '', text)\n",
    "    return text"
   ]
  },
  {
   "cell_type": "code",
   "execution_count": 196,
   "metadata": {},
   "outputs": [],
   "source": [
    "def cap_words(words):\n",
    "    try:\n",
    "        new_word = string.capwords(words)\n",
    "        return new_word\n",
    "    except AttributeError:\n",
    "        return np.nan"
   ]
  },
  {
   "cell_type": "code",
   "execution_count": 197,
   "metadata": {},
   "outputs": [],
   "source": [
    "def find_competitor(company, competitor_lst):\n",
    "    pat_comp =r'.*?(\\b(?:{})\\b).*?'.format('|'.join(competitor_lst))\n",
    "    try:\n",
    "        return re.match(pat_comp, company).group(1)\n",
    "    except AttributeError:\n",
    "        return np.nan\n",
    "    except TypeError:\n",
    "        return np.nan"
   ]
  },
  {
   "cell_type": "code",
   "execution_count": 198,
   "metadata": {},
   "outputs": [],
   "source": [
    "def find_company(text, company):\n",
    "    comp = [company]\n",
    "    pat_comp =r'.*?(\\b(?:{})\\b).*?'.format('|'.join(comp))\n",
    "    return bool(re.match(pat_comp, text))\n",
    "    "
   ]
  },
  {
   "cell_type": "code",
   "execution_count": 200,
   "metadata": {},
   "outputs": [],
   "source": [
    "def add_competitor_flag(df, colname_lst, competitor_lst):\n",
    "    df2 = df[colname_lst]\n",
    "    df2[\"work1_flag\"] = df2.work1_company.apply(cap_words).apply(lambda x: find_competitor(x, competitor_lst))\n",
    "    df2[\"work2_flag\"] = df2.work2_company.apply(cap_words).apply(lambda x: find_competitor(x, competitor_lst))\n",
    "    df2[\"work3_flag\"] = df2.work3_company.apply(cap_words).apply(lambda x: find_competitor(x, competitor_lst))\n",
    "    df2[\"work4_flag\"] = df2.work4_company.apply(cap_words).apply(lambda x: find_competitor(x, competitor_lst))\n",
    "    df2[\"work5_flag\"] = df2.work5_company.apply(cap_words).apply(lambda x: find_competitor(x, competitor_lst))\n",
    "    df2[\"work6_flag\"] = df2.work6_company.apply(cap_words).apply(lambda x: find_competitor(x, competitor_lst))\n",
    "    df2[\"work7_flag\"] = df2.work7_company.apply(cap_words).apply(lambda x: find_competitor(x, competitor_lst))\n",
    "    df3 = df2[[\"employee_code\", \"work1_flag\", \"work2_flag\", \"work3_flag\", \"work4_flag\", \"work5_flag\", \"work6_flag\", \"work7_flag\"]]\n",
    "    df3[\"competitor_experience\"] = df3.apply(lambda row: 0 if \n",
    "                                             pd.isna(row.work1_flag) and \n",
    "                                             pd.isna(row.work2_flag) and \n",
    "                                             pd.isna(row.work3_flag) and\n",
    "                                             pd.isna(row.work4_flag) and \n",
    "                                             pd.isna(row.work5_flag) and \n",
    "                                             pd.isna(row.work6_flag) and\n",
    "                                             pd.isna(row.work7_flag)\n",
    "                                             else 1, axis=1)\n",
    "    return df3"
   ]
  },
  {
   "cell_type": "code",
   "execution_count": 201,
   "metadata": {},
   "outputs": [],
   "source": [
    "def add_comp_flag(df, competitor_lst):\n",
    "    for company in competitor_lst:\n",
    "        df[company+\"_competitor_exp\"] = (df[[\"work1_flag\", \"work2_flag\", \"work3_flag\", \"work4_flag\", \"work5_flag\", \n",
    "                                        \"work6_flag\", \"work7_flag\"]]\n",
    "                                    .fillna(\"\")\n",
    "                                    .apply(lambda row: 1 if find_company(row[\"work1_flag\"], company) or \n",
    "                                                            find_company(row[\"work2_flag\"], company) or \n",
    "                                                            find_company(row[\"work3_flag\"], company) or \n",
    "                                                            find_company(row[\"work4_flag\"], company) or \n",
    "                                                            find_company(row[\"work5_flag\"], company) or \n",
    "                                                            find_company(row[\"work6_flag\"], company) or \n",
    "                                                            find_company(row[\"work7_flag\"], company)\n",
    "                                             else 0, axis=1))\n",
    "    return df\n",
    "\n"
   ]
  },
  {
   "cell_type": "code",
   "execution_count": 202,
   "metadata": {},
   "outputs": [],
   "source": [
    "resume = load_data(\"../data/05242020_manual_extraction_template.xlsx\")\n",
    "colname_lst = [\"employee_code\", \"work1_company\", \"work2_company\", \"work3_company\", \\\n",
    "               \"work4_company\", \"work5_company\", \"work6_company\", \"work7_company\"]\n",
    "comp = ['Freedom', 'Koodo', 'Shaw', 'Telus', 'Bell', 'Rogers', 'The Mobile Shop', \n",
    "        'Best Buy', 'Videotron', 'Wow[!]* Mobile', 'The Source', 'Walmart']\n",
    "\n",
    "df_final = add_comp_flag(add_competitor_flag(resume, colname_lst, comp), comp)\n",
    "\n"
   ]
  },
  {
   "cell_type": "code",
   "execution_count": 206,
   "metadata": {},
   "outputs": [
    {
     "data": {
      "text/html": [
       "<div>\n",
       "<style scoped>\n",
       "    .dataframe tbody tr th:only-of-type {\n",
       "        vertical-align: middle;\n",
       "    }\n",
       "\n",
       "    .dataframe tbody tr th {\n",
       "        vertical-align: top;\n",
       "    }\n",
       "\n",
       "    .dataframe thead th {\n",
       "        text-align: right;\n",
       "    }\n",
       "</style>\n",
       "<table border=\"1\" class=\"dataframe\">\n",
       "  <thead>\n",
       "    <tr style=\"text-align: right;\">\n",
       "      <th></th>\n",
       "      <th>employee_code</th>\n",
       "      <th>work1_flag</th>\n",
       "      <th>work2_flag</th>\n",
       "      <th>work3_flag</th>\n",
       "      <th>work4_flag</th>\n",
       "      <th>work5_flag</th>\n",
       "      <th>work6_flag</th>\n",
       "      <th>work7_flag</th>\n",
       "      <th>competitor_experience</th>\n",
       "      <th>Freedom_competitor_exp</th>\n",
       "      <th>...</th>\n",
       "      <th>Shaw_competitor_exp</th>\n",
       "      <th>Telus_competitor_exp</th>\n",
       "      <th>Bell_competitor_exp</th>\n",
       "      <th>Rogers_competitor_exp</th>\n",
       "      <th>The Mobile Shop_competitor_exp</th>\n",
       "      <th>Best Buy_competitor_exp</th>\n",
       "      <th>Videotron_competitor_exp</th>\n",
       "      <th>Wow[!]* Mobile_competitor_exp</th>\n",
       "      <th>The Source_competitor_exp</th>\n",
       "      <th>Walmart_competitor_exp</th>\n",
       "    </tr>\n",
       "  </thead>\n",
       "  <tbody>\n",
       "    <tr>\n",
       "      <td>161</td>\n",
       "      <td>N8D</td>\n",
       "      <td>The Source</td>\n",
       "      <td>NaN</td>\n",
       "      <td>NaN</td>\n",
       "      <td>NaN</td>\n",
       "      <td>NaN</td>\n",
       "      <td>NaN</td>\n",
       "      <td>NaN</td>\n",
       "      <td>1</td>\n",
       "      <td>0</td>\n",
       "      <td>...</td>\n",
       "      <td>0</td>\n",
       "      <td>0</td>\n",
       "      <td>0</td>\n",
       "      <td>0</td>\n",
       "      <td>0</td>\n",
       "      <td>0</td>\n",
       "      <td>0</td>\n",
       "      <td>0</td>\n",
       "      <td>1</td>\n",
       "      <td>0</td>\n",
       "    </tr>\n",
       "  </tbody>\n",
       "</table>\n",
       "<p>1 rows × 21 columns</p>\n",
       "</div>"
      ],
      "text/plain": [
       "    employee_code  work1_flag work2_flag work3_flag work4_flag work5_flag  \\\n",
       "161           N8D  The Source        NaN        NaN        NaN        NaN   \n",
       "\n",
       "    work6_flag work7_flag  competitor_experience  Freedom_competitor_exp  ...  \\\n",
       "161        NaN        NaN                      1                       0  ...   \n",
       "\n",
       "     Shaw_competitor_exp  Telus_competitor_exp  Bell_competitor_exp  \\\n",
       "161                    0                     0                    0   \n",
       "\n",
       "     Rogers_competitor_exp  The Mobile Shop_competitor_exp  \\\n",
       "161                      0                               0   \n",
       "\n",
       "     Best Buy_competitor_exp  Videotron_competitor_exp  \\\n",
       "161                        0                         0   \n",
       "\n",
       "     Wow[!]* Mobile_competitor_exp  The Source_competitor_exp  \\\n",
       "161                              0                          1   \n",
       "\n",
       "     Walmart_competitor_exp  \n",
       "161                       0  \n",
       "\n",
       "[1 rows x 21 columns]"
      ]
     },
     "execution_count": 206,
     "metadata": {},
     "output_type": "execute_result"
    }
   ],
   "source": [
    "df_final[df_final.employee_code==\"N8D\"] # 1 Yes 0 No "
   ]
  },
  {
   "cell_type": "code",
   "execution_count": 191,
   "metadata": {},
   "outputs": [
    {
     "data": {
      "image/png": "[encoded data removed]",
      "text/plain": [
       "<Figure size 432x288 with 1 Axes>"
      ]
     },
     "metadata": {
      "needs_background": "light"
     },
     "output_type": "display_data"
    }
   ],
   "source": [
    "df_final.competitor_experience.hist()\n",
    "plt.show()"
   ]
  },
  {
   "cell_type": "code",
   "execution_count": 227,
   "metadata": {},
   "outputs": [],
   "source": [
    "df_final.to_csv(\"../result/competitor_experience.csv\", index=False)"
   ]
  },
  {
   "cell_type": "code",
   "execution_count": null,
   "metadata": {},
   "outputs": [],
   "source": []
  },
  {
   "cell_type": "code",
   "execution_count": null,
   "metadata": {},
   "outputs": [],
   "source": []
  }
 ],
 "metadata": {
  "kernelspec": {
   "display_name": "Python 3",
   "language": "python",
   "name": "python3"
  },
  "language_info": {
   "codemirror_mode": {
    "name": "ipython",
    "version": 3
   },
   "file_extension": ".py",
   "mimetype": "text/x-python",
   "name": "python",
   "nbconvert_exporter": "python",
   "pygments_lexer": "ipython3",
   "version": "3.7.4"
  }
 },
 "nbformat": 4,
 "nbformat_minor": 4
}
