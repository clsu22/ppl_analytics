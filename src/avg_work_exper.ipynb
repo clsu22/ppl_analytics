{
 "cells": [
  {
   "cell_type": "code",
   "execution_count": 189,
   "metadata": {
    "ExecuteTime": {
     "end_time": "2020-06-13T13:44:06.790317Z",
     "start_time": "2020-06-13T13:44:06.782326Z"
    }
   },
   "outputs": [],
   "source": [
    "import pandas as pd\n",
    "import re\n",
    "import datetime\n",
    "import numpy as np\n",
    "import matplotlib.pyplot as plt"
   ]
  },
  {
   "cell_type": "code",
   "execution_count": 190,
   "metadata": {
    "ExecuteTime": {
     "end_time": "2020-06-13T13:44:07.130916Z",
     "start_time": "2020-06-13T13:44:07.124627Z"
    }
   },
   "outputs": [],
   "source": [
    "def load_data(resume_path, info_path):\n",
    "    resume = pd.read_excel(resume_path)\n",
    "    info = pd.read_excel(info_path)\n",
    "    df = pd.merge(resume, info, how=\"left\", on=\"employee_code\")\n",
    "    df.columns = [remove_space(name) for name in df.columns.to_list()]\n",
    "    return df\n"
   ]
  },
  {
   "cell_type": "code",
   "execution_count": 191,
   "metadata": {
    "ExecuteTime": {
     "end_time": "2020-06-13T13:44:07.268128Z",
     "start_time": "2020-06-13T13:44:07.264564Z"
    }
   },
   "outputs": [],
   "source": [
    "def remove_space(text):\n",
    "    text = re.sub(r'\\s+$', '', text)\n",
    "    text = re.sub(r'^\\s+', '', text)\n",
    "    return text"
   ]
  },
  {
   "cell_type": "code",
   "execution_count": 192,
   "metadata": {
    "ExecuteTime": {
     "end_time": "2020-06-13T13:44:07.510458Z",
     "start_time": "2020-06-13T13:44:07.497178Z"
    }
   },
   "outputs": [],
   "source": [
    "def format_date(date):\n",
    "    try:\n",
    "        date = re.sub(r'\\n', '', date)\n",
    "        date = re.sub(r'\\u200b', '', date)\n",
    "        date = remove_space(date)\n",
    "        date = re.sub(\"[Cc][Uu][Rr][Rr][Ee][Nn][Tt]\", \"Present\", date)\n",
    "        date = re.sub(\"[Pp][Rr][Ee][Ss][Ee][Nn][Tt]\", \"Present\", date)\n",
    "        date = re.sub(\"[Oo]ngoing\", \"Present\", date)\n",
    "        date = re.sub(\"Feburary\", \"February\", date)\n",
    "        date = re.sub(\"J ULY\", \"JULY\", date)\n",
    "        date = re.sub(\"To\", \"-\", date)\n",
    "        date = re.sub(\"[Nn][Oo][Ww]\", \"Present\", date)\n",
    "        date = re.sub(\"[Tt]ill [Dd]ate\", \"- Present\", date)\n",
    "        date = re.sub(r\"\\sto\\s\", \" - \", date)\n",
    "        date = re.sub(r\"[Ff][Ee][Bb][Uu][Aa][Rr][Yy]\", \"February\", date)\n",
    "        date = re.sub(r\"—\", \" - \", date)\n",
    "        date = re.sub(r\"–\", \" - \", date)\n",
    "        date = re.sub(r\"–\", \" - \", date)\n",
    "        date = re.sub(r\"[\\’]\", \" \", date)\n",
    "        date = re.sub(r\"[0-9]{4}[\\,]\", \" - \", date)\n",
    "        date = re.sub(r\"-\", \" - \", date)\n",
    "        date = re.sub(r\" -\", \" - \", date)\n",
    "        date = re.sub(r\"- \", \" - \", date)\n",
    "        date = re.sub(r\"/\", \" \", date)\n",
    "        date = re.sub(r\"([0-9]+)(\\syear[s]*)\", \" - \", date)\n",
    "        date = re.sub(r\"([0-9]+)(\\s[Mm]onth[s]*.*)\", \" - \", date)\n",
    "        date = re.sub(r\"\\s+\", \" \", date)\n",
    "        date = re.sub(r\"(.*)\\s18\", r\"\\1 2018\", date)\n",
    "        date = re.sub(r\"(.*)\\s12\", r\"\\1 2012\", date)\n",
    "        date = re.sub(r\"(.*)\\s15\", r\"\\1 2015\", date)\n",
    "        date = re.sub(r\"(.*)\\s16\", r\"\\1 2016\", date)\n",
    "        date = re.sub(r\"(.*)\\s14\", r\"\\1 2014\", date)\n",
    "        return date\n",
    "    except TypeError:\n",
    "        return \" - \""
   ]
  },
  {
   "cell_type": "code",
   "execution_count": 193,
   "metadata": {
    "ExecuteTime": {
     "end_time": "2020-06-13T13:44:08.095205Z",
     "start_time": "2020-06-13T13:44:08.091362Z"
    }
   },
   "outputs": [],
   "source": [
    "# format all\n",
    "def format_all(df, colname_lst):\n",
    "    for colname in colname_lst:\n",
    "        resume_incl_hire[colname] = resume_incl_hire[colname].apply(format_date)\n",
    "    return df"
   ]
  },
  {
   "cell_type": "code",
   "execution_count": 194,
   "metadata": {
    "ExecuteTime": {
     "end_time": "2020-06-13T13:44:08.505802Z",
     "start_time": "2020-06-13T13:44:08.501555Z"
    }
   },
   "outputs": [],
   "source": [
    "def calculate_num_month(start_date, end_date):\n",
    "    try:\n",
    "        num_months = (end_date.year - start_date.year) * 12 + (end_date.month - start_date.month)\n",
    "        return num_months\n",
    "    except TypeError:\n",
    "        return \"unknown\""
   ]
  },
  {
   "cell_type": "code",
   "execution_count": 195,
   "metadata": {
    "ExecuteTime": {
     "end_time": "2020-06-13T13:44:09.080225Z",
     "start_time": "2020-06-13T13:44:09.070541Z"
    }
   },
   "outputs": [],
   "source": [
    "def work_length_calculater(df, colname, hire=\"Hire Date\"):\n",
    "    \"\"\"\n",
    "\n",
    "    :param df: a dataframe with formatted work date\n",
    "    :param colname: a column name of the work used to be calculated length\n",
    "    :param hire: a column name of hire date, default is \"Hire Date\"\n",
    "    :return:\n",
    "    \"\"\"\n",
    "    start = df[colname].str.split(\" - \", expand=True)[0]\n",
    "    end = df[colname].str.split(\" - \", expand=True)[1]\n",
    "    hire = df[hire]\n",
    "    new = pd.concat([end, hire], axis=1).rename(columns={1: \"end\"})\n",
    "    new.end = new.apply(\n",
    "        lambda row: row[\"Hire Date\"] if \"Present\" in row['end'] else row[\n",
    "            \"end\"], axis=1)\n",
    "    new = pd.concat([new, start], axis=1).rename(columns={0: \"start\"})\n",
    "    new.end = pd.to_datetime(new.end)\n",
    "    new.start = pd.to_datetime(new.start)\n",
    "    new[\"num_month\"] = new.apply(\n",
    "        lambda row: calculate_num_month(row.start, row.end), axis=1)\n",
    "    df = new[[\"start\", \"end\", \"num_month\"]]\n",
    "    return df"
   ]
  },
  {
   "cell_type": "code",
   "execution_count": 202,
   "metadata": {
    "ExecuteTime": {
     "end_time": "2020-06-13T14:04:15.923210Z",
     "start_time": "2020-06-13T14:04:15.884671Z"
    }
   },
   "outputs": [],
   "source": [
    "def avg_work_calculater(df, colname_lst, hire=\"Hire Date\"):\n",
    "    \"\"\"\n",
    "    calculate work length for all jobs and calculate the avg work experience\n",
    "\n",
    "    :param df: a dataframe with formatted work date\n",
    "    :param colname_lst: column names of all work\n",
    "    :param hire: a column name of hire date, default is \"Hire Date\"\n",
    "    :return: a dataframe containing all work length and avg work length\n",
    "    \"\"\"\n",
    "    work1 = work_length_calculater(df, colname_lst[0], hire)[\"num_month\"]\n",
    "    work2 = work_length_calculater(df, colname_lst[1], hire)[\"num_month\"]\n",
    "    work3 = work_length_calculater(df, colname_lst[2], hire)[\"num_month\"]\n",
    "    work4 = work_length_calculater(df, colname_lst[3], hire)[\"num_month\"]\n",
    "    work5 = work_length_calculater(df, colname_lst[4], hire)[\"num_month\"]\n",
    "    work6 = work_length_calculater(df, colname_lst[5], hire)[\"num_month\"]\n",
    "    work7 = work_length_calculater(df, colname_lst[6], hire)[\"num_month\"]\n",
    "    df_all = pd.concat([work1, work2, work3, work4, work5, work6, work7],\n",
    "                       axis=1)\n",
    "    df_all.columns = [\"work1\", \"work2\", \"work3\", \"work4\", \"work5\", \"work6\",\n",
    "                      \"work7\"]\n",
    "\n",
    "    # df_all['num'] = df_all.count(axis=1)\n",
    "    # df_all['total'] = df_all.sum(axis=1)\n",
    "    df_all[\"work1\"] = df_all.work1.apply(lambda x: -x if x < 0 else x)\n",
    "    df_all[\"work2\"] = df_all.work2.apply(lambda x: -x if x < 0 else x)\n",
    "    df_all[\"work3\"] = df_all.work3.apply(lambda x: -x if x < 0 else x)\n",
    "    df_all[\"work4\"] = df_all.work4.apply(lambda x: -x if x < 0 else x)\n",
    "    df_all[\"work5\"] = df_all.work5.apply(lambda x: -x if x < 0 else x)\n",
    "    df_all[\"work6\"] = df_all.work6.apply(lambda x: -x if x < 0 else x)\n",
    "    df_all[\"work7\"] = df_all.work7.apply(lambda x: -x if x < 0 else x)\n",
    "    df_all['avg'] = (df_all.sum(axis=1) / df_all.count(axis=1)).round(2)\n",
    "    df_all[\"employee_code\"] = df.employee_code\n",
    "    df_all = df_all[\n",
    "        [\"employee_code\", \"work1\", \"work2\", \"work3\", \"work4\", \"work5\", \"work6\",\n",
    "         \"work7\", \"avg\"]]\n",
    "    companys = df[\n",
    "        [\"work1_company\", \"work2_company\", \"work3_company\", \"work4_company\",\n",
    "         \"work5_company\", \"work6_company\", \"work7_company\"]]\n",
    "    df_all2 = pd.concat([df_all, companys], axis=1)\n",
    "    df_all3 = (df_all2[\n",
    "        [\"employee_code\", \"work1_company\", \"work1\", \"work2_company\",\n",
    "         \"work2\", \"work3_company\",\n",
    "         \"work3\", \"work4_company\", \"work4\", \"work5_company\",\n",
    "         \"work5\", \"work6_company\", \"work6\", \"work7_company\", \"work7\", \"avg\"]]\n",
    "        .rename(\n",
    "        columns={\"work1\": \"work1_length\", \"work2\": \"work2_length\",\n",
    "                 \"work3\": \"work3_length\",\n",
    "                 \"work4\": \"work4_length\", \"work5\": \"work5_length\",\n",
    "                 \"work6\": \"work6_length\",\n",
    "                 \"work7\": \"work7_length\"}))\n",
    "    return df_all3"
   ]
  },
  {
   "cell_type": "code",
   "execution_count": 203,
   "metadata": {
    "ExecuteTime": {
     "end_time": "2020-06-13T14:04:16.213735Z",
     "start_time": "2020-06-13T14:04:16.207877Z"
    }
   },
   "outputs": [],
   "source": [
    "def job_hopper(num, threshold):\n",
    "    if pd.isna(num):\n",
    "        return np.nan\n",
    "    elif num < threshold:\n",
    "        return 1\n",
    "    else:\n",
    "        return 0"
   ]
  },
  {
   "cell_type": "code",
   "execution_count": 204,
   "metadata": {
    "ExecuteTime": {
     "end_time": "2020-06-13T14:04:17.159162Z",
     "start_time": "2020-06-13T14:04:16.838614Z"
    }
   },
   "outputs": [],
   "source": [
    "# run \n",
    "path1 = \"../data/0612_manual_extraction_template_test.xlsx\"\n",
    "path2 = \"../data/matching_list_maunually-checked_V1.2.xlsx\"\n",
    "column_lst = [\"work1_time\", \"work2_time\", \"work3_time\", \"work4_time\", \"work5_time\", \"work6_time\", \"work7_time\"]\n",
    "resume_incl_hire = load_data(path1, path2)\n",
    "resume_incl_hire2 = format_all(resume_incl_hire, column_lst)\n",
    "df_final = avg_work_calculater(resume_incl_hire2, column_lst)\n",
    "#df_final[\"employee_code\"] = resume_incl_hire.employee_code\n",
    "#df_final = df_final[[\"employee_code\", \"work1\", \"work2\", \"work3\", \"work4\", \"work5\", \"work6\", \"work7\", \"avg\"]]\n",
    "#df_final[\"avg_group\"] = pd.cut(df_final.avg, 5)\n",
    "# Add a column `job_hopper`\n",
    "df_final[\"job_hopper\"] = df_final.avg.apply(lambda x: job_hopper(x, 12))\n"
   ]
  },
  {
   "cell_type": "code",
   "execution_count": 205,
   "metadata": {
    "ExecuteTime": {
     "end_time": "2020-06-13T14:04:18.395196Z",
     "start_time": "2020-06-13T14:04:18.344025Z"
    }
   },
   "outputs": [
    {
     "data": {
      "text/html": [
       "<div>\n",
       "<style scoped>\n",
       "    .dataframe tbody tr th:only-of-type {\n",
       "        vertical-align: middle;\n",
       "    }\n",
       "\n",
       "    .dataframe tbody tr th {\n",
       "        vertical-align: top;\n",
       "    }\n",
       "\n",
       "    .dataframe thead th {\n",
       "        text-align: right;\n",
       "    }\n",
       "</style>\n",
       "<table border=\"1\" class=\"dataframe\">\n",
       "  <thead>\n",
       "    <tr style=\"text-align: right;\">\n",
       "      <th></th>\n",
       "      <th>employee_code</th>\n",
       "      <th>work1_company</th>\n",
       "      <th>work1_length</th>\n",
       "      <th>work2_company</th>\n",
       "      <th>work2_length</th>\n",
       "      <th>work3_company</th>\n",
       "      <th>work3_length</th>\n",
       "      <th>work4_company</th>\n",
       "      <th>work4_length</th>\n",
       "      <th>work5_company</th>\n",
       "      <th>work5_length</th>\n",
       "      <th>work6_company</th>\n",
       "      <th>work6_length</th>\n",
       "      <th>work7_company</th>\n",
       "      <th>work7_length</th>\n",
       "      <th>avg</th>\n",
       "      <th>job_hopper</th>\n",
       "    </tr>\n",
       "  </thead>\n",
       "  <tbody>\n",
       "    <tr>\n",
       "      <td>0</td>\n",
       "      <td>GKH</td>\n",
       "      <td>Glentel Inc.</td>\n",
       "      <td>77.0</td>\n",
       "      <td>YM Inc.</td>\n",
       "      <td>45.0</td>\n",
       "      <td>AFGHAN STUDENT ASSOCIATION (ASA)</td>\n",
       "      <td>60.0</td>\n",
       "      <td>NaN</td>\n",
       "      <td>NaN</td>\n",
       "      <td>NaN</td>\n",
       "      <td>NaN</td>\n",
       "      <td>NaN</td>\n",
       "      <td>NaN</td>\n",
       "      <td>NaN</td>\n",
       "      <td>NaN</td>\n",
       "      <td>60.67</td>\n",
       "      <td>0.0</td>\n",
       "    </tr>\n",
       "    <tr>\n",
       "      <td>1</td>\n",
       "      <td>IP5</td>\n",
       "      <td>GLENTEL Inc.</td>\n",
       "      <td>0.0</td>\n",
       "      <td>Destination Mobile</td>\n",
       "      <td>12.0</td>\n",
       "      <td>Destination Mobile</td>\n",
       "      <td>34.0</td>\n",
       "      <td>Social Companion</td>\n",
       "      <td>14.0</td>\n",
       "      <td>GLENTEL Inc.</td>\n",
       "      <td>16.0</td>\n",
       "      <td>NaN</td>\n",
       "      <td>NaN</td>\n",
       "      <td>NaN</td>\n",
       "      <td>NaN</td>\n",
       "      <td>15.20</td>\n",
       "      <td>0.0</td>\n",
       "    </tr>\n",
       "    <tr>\n",
       "      <td>2</td>\n",
       "      <td>K3E</td>\n",
       "      <td>Samsung Experience Store</td>\n",
       "      <td>55.0</td>\n",
       "      <td>Avis Budget Group</td>\n",
       "      <td>44.0</td>\n",
       "      <td>Rogers</td>\n",
       "      <td>NaN</td>\n",
       "      <td>NaN</td>\n",
       "      <td>NaN</td>\n",
       "      <td>NaN</td>\n",
       "      <td>NaN</td>\n",
       "      <td>NaN</td>\n",
       "      <td>NaN</td>\n",
       "      <td>NaN</td>\n",
       "      <td>NaN</td>\n",
       "      <td>49.50</td>\n",
       "      <td>0.0</td>\n",
       "    </tr>\n",
       "    <tr>\n",
       "      <td>3</td>\n",
       "      <td>KQQ</td>\n",
       "      <td>U.A.E</td>\n",
       "      <td>36.0</td>\n",
       "      <td>hyper market</td>\n",
       "      <td>NaN</td>\n",
       "      <td>U.A.E</td>\n",
       "      <td>12.0</td>\n",
       "      <td>RW&amp;CO</td>\n",
       "      <td>5.0</td>\n",
       "      <td>Shoe Warehouse</td>\n",
       "      <td>5.0</td>\n",
       "      <td>Wirelesswave</td>\n",
       "      <td>30.0</td>\n",
       "      <td>NaN</td>\n",
       "      <td>NaN</td>\n",
       "      <td>17.60</td>\n",
       "      <td>0.0</td>\n",
       "    </tr>\n",
       "    <tr>\n",
       "      <td>4</td>\n",
       "      <td>KVU</td>\n",
       "      <td>Discount Car And Truck Rental</td>\n",
       "      <td>6.0</td>\n",
       "      <td>Bell Canada</td>\n",
       "      <td>8.0</td>\n",
       "      <td>The Mobile Shop</td>\n",
       "      <td>3.0</td>\n",
       "      <td>Tbooth Wireless</td>\n",
       "      <td>12.0</td>\n",
       "      <td>Best Buy</td>\n",
       "      <td>30.0</td>\n",
       "      <td>Homesense</td>\n",
       "      <td>15.0</td>\n",
       "      <td>NaN</td>\n",
       "      <td>NaN</td>\n",
       "      <td>12.33</td>\n",
       "      <td>0.0</td>\n",
       "    </tr>\n",
       "    <tr>\n",
       "      <td>...</td>\n",
       "      <td>...</td>\n",
       "      <td>...</td>\n",
       "      <td>...</td>\n",
       "      <td>...</td>\n",
       "      <td>...</td>\n",
       "      <td>...</td>\n",
       "      <td>...</td>\n",
       "      <td>...</td>\n",
       "      <td>...</td>\n",
       "      <td>...</td>\n",
       "      <td>...</td>\n",
       "      <td>...</td>\n",
       "      <td>...</td>\n",
       "      <td>...</td>\n",
       "      <td>...</td>\n",
       "      <td>...</td>\n",
       "      <td>...</td>\n",
       "    </tr>\n",
       "    <tr>\n",
       "      <td>67</td>\n",
       "      <td>NBQ</td>\n",
       "      <td>786 Accounting</td>\n",
       "      <td>5.0</td>\n",
       "      <td>Best Buy</td>\n",
       "      <td>10.0</td>\n",
       "      <td>Old Navy</td>\n",
       "      <td>5.0</td>\n",
       "      <td>Tim Horton</td>\n",
       "      <td>9.0</td>\n",
       "      <td>NaN</td>\n",
       "      <td>NaN</td>\n",
       "      <td>NaN</td>\n",
       "      <td>NaN</td>\n",
       "      <td>NaN</td>\n",
       "      <td>NaN</td>\n",
       "      <td>7.25</td>\n",
       "      <td>1.0</td>\n",
       "    </tr>\n",
       "    <tr>\n",
       "      <td>68</td>\n",
       "      <td>NCM</td>\n",
       "      <td>Bell</td>\n",
       "      <td>35.0</td>\n",
       "      <td>Best Buy</td>\n",
       "      <td>10.0</td>\n",
       "      <td>Winners</td>\n",
       "      <td>NaN</td>\n",
       "      <td>NaN</td>\n",
       "      <td>NaN</td>\n",
       "      <td>NaN</td>\n",
       "      <td>NaN</td>\n",
       "      <td>NaN</td>\n",
       "      <td>NaN</td>\n",
       "      <td>NaN</td>\n",
       "      <td>NaN</td>\n",
       "      <td>22.50</td>\n",
       "      <td>0.0</td>\n",
       "    </tr>\n",
       "    <tr>\n",
       "      <td>69</td>\n",
       "      <td>NCV</td>\n",
       "      <td>The Source</td>\n",
       "      <td>7.0</td>\n",
       "      <td>Safeway</td>\n",
       "      <td>11.0</td>\n",
       "      <td>CLS</td>\n",
       "      <td>21.0</td>\n",
       "      <td>Kognitive Marketing</td>\n",
       "      <td>4.0</td>\n",
       "      <td>NaN</td>\n",
       "      <td>NaN</td>\n",
       "      <td>NaN</td>\n",
       "      <td>NaN</td>\n",
       "      <td>NaN</td>\n",
       "      <td>NaN</td>\n",
       "      <td>10.75</td>\n",
       "      <td>1.0</td>\n",
       "    </tr>\n",
       "    <tr>\n",
       "      <td>70</td>\n",
       "      <td>NDB</td>\n",
       "      <td>Rogers Communications</td>\n",
       "      <td>3.0</td>\n",
       "      <td>Sun City Ford</td>\n",
       "      <td>12.0</td>\n",
       "      <td>Nissan</td>\n",
       "      <td>18.0</td>\n",
       "      <td>NaN</td>\n",
       "      <td>NaN</td>\n",
       "      <td>NaN</td>\n",
       "      <td>NaN</td>\n",
       "      <td>NaN</td>\n",
       "      <td>NaN</td>\n",
       "      <td>NaN</td>\n",
       "      <td>NaN</td>\n",
       "      <td>11.00</td>\n",
       "      <td>1.0</td>\n",
       "    </tr>\n",
       "    <tr>\n",
       "      <td>71</td>\n",
       "      <td>NDG</td>\n",
       "      <td>Car2Go</td>\n",
       "      <td>29.0</td>\n",
       "      <td>Joey Barlow</td>\n",
       "      <td>28.0</td>\n",
       "      <td>McDonalds</td>\n",
       "      <td>9.0</td>\n",
       "      <td>NaN</td>\n",
       "      <td>NaN</td>\n",
       "      <td>NaN</td>\n",
       "      <td>NaN</td>\n",
       "      <td>NaN</td>\n",
       "      <td>NaN</td>\n",
       "      <td>NaN</td>\n",
       "      <td>NaN</td>\n",
       "      <td>22.00</td>\n",
       "      <td>0.0</td>\n",
       "    </tr>\n",
       "  </tbody>\n",
       "</table>\n",
       "<p>72 rows × 17 columns</p>\n",
       "</div>"
      ],
      "text/plain": [
       "   employee_code                  work1_company  work1_length  \\\n",
       "0            GKH                  Glentel Inc.           77.0   \n",
       "1            IP5                   GLENTEL Inc.           0.0   \n",
       "2            K3E       Samsung Experience Store          55.0   \n",
       "3            KQQ                          U.A.E          36.0   \n",
       "4            KVU  Discount Car And Truck Rental           6.0   \n",
       "..           ...                            ...           ...   \n",
       "67           NBQ                786 Accounting            5.0   \n",
       "68           NCM                           Bell          35.0   \n",
       "69           NCV                    The Source            7.0   \n",
       "70           NDB         Rogers Communications            3.0   \n",
       "71           NDG                        Car2Go           29.0   \n",
       "\n",
       "          work2_company  work2_length                     work3_company  \\\n",
       "0               YM Inc.          45.0  AFGHAN STUDENT ASSOCIATION (ASA)   \n",
       "1   Destination Mobile           12.0                Destination Mobile   \n",
       "2     Avis Budget Group          44.0                            Rogers   \n",
       "3          hyper market           NaN                             U.A.E   \n",
       "4           Bell Canada           8.0                   The Mobile Shop   \n",
       "..                  ...           ...                               ...   \n",
       "67             Best Buy          10.0                          Old Navy   \n",
       "68             Best Buy          10.0                           Winners   \n",
       "69              Safeway          11.0                               CLS   \n",
       "70        Sun City Ford          12.0                            Nissan   \n",
       "71         Joey Barlow           28.0                         McDonalds   \n",
       "\n",
       "    work3_length         work4_company  work4_length   work5_company  \\\n",
       "0           60.0                   NaN           NaN             NaN   \n",
       "1           34.0     Social Companion           14.0   GLENTEL Inc.    \n",
       "2            NaN                   NaN           NaN             NaN   \n",
       "3           12.0                 RW&CO           5.0  Shoe Warehouse   \n",
       "4            3.0       Tbooth Wireless          12.0        Best Buy   \n",
       "..           ...                   ...           ...             ...   \n",
       "67           5.0            Tim Horton           9.0             NaN   \n",
       "68           NaN                   NaN           NaN             NaN   \n",
       "69          21.0  Kognitive Marketing            4.0             NaN   \n",
       "70          18.0                   NaN           NaN             NaN   \n",
       "71           9.0                   NaN           NaN             NaN   \n",
       "\n",
       "    work5_length work6_company  work6_length work7_company  work7_length  \\\n",
       "0            NaN           NaN           NaN           NaN           NaN   \n",
       "1           16.0           NaN           NaN           NaN           NaN   \n",
       "2            NaN           NaN           NaN           NaN           NaN   \n",
       "3            5.0  Wirelesswave          30.0           NaN           NaN   \n",
       "4           30.0     Homesense          15.0           NaN           NaN   \n",
       "..           ...           ...           ...           ...           ...   \n",
       "67           NaN           NaN           NaN           NaN           NaN   \n",
       "68           NaN           NaN           NaN           NaN           NaN   \n",
       "69           NaN           NaN           NaN           NaN           NaN   \n",
       "70           NaN           NaN           NaN           NaN           NaN   \n",
       "71           NaN           NaN           NaN           NaN           NaN   \n",
       "\n",
       "      avg  job_hopper  \n",
       "0   60.67         0.0  \n",
       "1   15.20         0.0  \n",
       "2   49.50         0.0  \n",
       "3   17.60         0.0  \n",
       "4   12.33         0.0  \n",
       "..    ...         ...  \n",
       "67   7.25         1.0  \n",
       "68  22.50         0.0  \n",
       "69  10.75         1.0  \n",
       "70  11.00         1.0  \n",
       "71  22.00         0.0  \n",
       "\n",
       "[72 rows x 17 columns]"
      ]
     },
     "execution_count": 205,
     "metadata": {},
     "output_type": "execute_result"
    }
   ],
   "source": [
    "df_final"
   ]
  },
  {
   "cell_type": "code",
   "execution_count": 206,
   "metadata": {
    "ExecuteTime": {
     "end_time": "2020-06-13T14:04:25.259802Z",
     "start_time": "2020-06-13T14:04:25.248519Z"
    }
   },
   "outputs": [],
   "source": [
    "df_final.to_csv(\"../result/work_experience_test.csv\", index=False)"
   ]
  },
  {
   "cell_type": "code",
   "execution_count": 188,
   "metadata": {
    "ExecuteTime": {
     "end_time": "2020-06-13T13:40:47.020038Z",
     "start_time": "2020-06-13T13:40:47.010171Z"
    }
   },
   "outputs": [
    {
     "data": {
      "text/plain": [
       "NAT    1\n",
       "N18    1\n",
       "N2H    1\n",
       "N4L    1\n",
       "MZN    1\n",
       "      ..\n",
       "MQV    1\n",
       "N5V    1\n",
       "NAU    1\n",
       "MV6    1\n",
       "N14    1\n",
       "Name: employee_code, Length: 72, dtype: int64"
      ]
     },
     "execution_count": 188,
     "metadata": {},
     "output_type": "execute_result"
    }
   ],
   "source": [
    "df_final.employee_code.value_counts()"
   ]
  },
  {
   "cell_type": "code",
   "execution_count": 46,
   "metadata": {},
   "outputs": [
    {
     "data": {
      "text/plain": [
       "0.0    217\n",
       "1.0     64\n",
       "Name: job_hopper, dtype: int64"
      ]
     },
     "execution_count": 46,
     "metadata": {},
     "output_type": "execute_result"
    }
   ],
   "source": [
    "pd.value_counts(df_final.job_hopper)\n"
   ]
  },
  {
   "cell_type": "code",
   "execution_count": 47,
   "metadata": {},
   "outputs": [
    {
     "data": {
      "text/plain": [
       "<matplotlib.axes._subplots.AxesSubplot at 0x113d22990>"
      ]
     },
     "execution_count": 47,
     "metadata": {},
     "output_type": "execute_result"
    },
    {
     "data": {
      "image/png": "[encoded data removed]",
      "text/plain": [
       "<Figure size 432x288 with 1 Axes>"
      ]
     },
     "metadata": {
      "needs_background": "light"
     },
     "output_type": "display_data"
    }
   ],
   "source": [
    "df_final.job_hopper.hist()\n"
   ]
  },
  {
   "cell_type": "code",
   "execution_count": 48,
   "metadata": {},
   "outputs": [],
   "source": [
    "df_final.to_csv(\"../result/avg_work_exp.csv\", index=False)\n"
   ]
  },
  {
   "cell_type": "code",
   "execution_count": null,
   "metadata": {},
   "outputs": [],
   "source": []
  },
  {
   "cell_type": "code",
   "execution_count": null,
   "metadata": {},
   "outputs": [],
   "source": []
  }
 ],
 "metadata": {
  "kernelspec": {
   "display_name": "Python 3",
   "language": "python",
   "name": "python3"
  },
  "language_info": {
   "codemirror_mode": {
    "name": "ipython",
    "version": 3
   },
   "file_extension": ".py",
   "mimetype": "text/x-python",
   "name": "python",
   "nbconvert_exporter": "python",
   "pygments_lexer": "ipython3",
   "version": "3.7.4"
  },
  "toc": {
   "base_numbering": 1,
   "nav_menu": {},
   "number_sections": true,
   "sideBar": true,
   "skip_h1_title": false,
   "title_cell": "Table of Contents",
   "title_sidebar": "Contents",
   "toc_cell": false,
   "toc_position": {},
   "toc_section_display": true,
   "toc_window_display": false
  }
 },
 "nbformat": 4,
 "nbformat_minor": 4
}
