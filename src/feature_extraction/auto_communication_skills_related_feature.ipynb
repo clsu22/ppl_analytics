{
 "cells": [
  {
   "cell_type": "code",
   "execution_count": 1,
   "metadata": {},
   "outputs": [],
   "source": [
    "import pandas as pd\n",
    "import re \n",
    "import spacy \n",
    "import os \n",
    "import numpy as np"
   ]
  },
  {
   "cell_type": "code",
   "execution_count": 2,
   "metadata": {},
   "outputs": [],
   "source": [
    "nlp = spacy.load(\"en_core_web_sm\")"
   ]
  },
  {
   "cell_type": "markdown",
   "metadata": {},
   "source": [
    "## Share paths"
   ]
  },
  {
   "cell_type": "code",
   "execution_count": 3,
   "metadata": {},
   "outputs": [],
   "source": [
    "#df = pd.read_csv(\"../../../Glentel Inc/HR Analytics - Documents/Capstone Data/ubc_mds_team_share/06_clean_data/05182020_cleaned_english_resumes_V1.0.csv\")"
   ]
  },
  {
   "cell_type": "code",
   "execution_count": 4,
   "metadata": {},
   "outputs": [],
   "source": [
    "#df_train = pd.read_csv(\"../../../Glentel Inc/HR Analytics - Documents/Capstone Data/ubc_mds_team_share/02_eda_data/output/train_dataset.csv\")"
   ]
  },
  {
   "cell_type": "markdown",
   "metadata": {},
   "source": [
    "## Local Paths"
   ]
  },
  {
   "cell_type": "code",
   "execution_count": 5,
   "metadata": {},
   "outputs": [],
   "source": [
    "df = pd.read_csv(\"../../data/input/feature_extraction/05182020_cleaned_english_resumes_V1.0.csv\")"
   ]
  },
  {
   "cell_type": "code",
   "execution_count": 6,
   "metadata": {},
   "outputs": [
    {
     "data": {
      "text/html": [
       "<div>\n",
       "<style scoped>\n",
       "    .dataframe tbody tr th:only-of-type {\n",
       "        vertical-align: middle;\n",
       "    }\n",
       "\n",
       "    .dataframe tbody tr th {\n",
       "        vertical-align: top;\n",
       "    }\n",
       "\n",
       "    .dataframe thead th {\n",
       "        text-align: right;\n",
       "    }\n",
       "</style>\n",
       "<table border=\"1\" class=\"dataframe\">\n",
       "  <thead>\n",
       "    <tr style=\"text-align: right;\">\n",
       "      <th></th>\n",
       "      <th>Unnamed: 0</th>\n",
       "      <th>employee_name</th>\n",
       "      <th>employee_code</th>\n",
       "      <th>store</th>\n",
       "      <th>raw_resume</th>\n",
       "      <th>resume_text</th>\n",
       "      <th>resume_bline</th>\n",
       "      <th>language</th>\n",
       "      <th>file_type</th>\n",
       "      <th>clean_text</th>\n",
       "    </tr>\n",
       "  </thead>\n",
       "  <tbody>\n",
       "    <tr>\n",
       "      <th>0</th>\n",
       "      <td>0</td>\n",
       "      <td>Abbasi, Samiee Z</td>\n",
       "      <td>N42</td>\n",
       "      <td>WW 374</td>\n",
       "      <td>\\n\\n\\n\\n\\n\\n\\n\\n\\n\\n\\n\\n\\n\\n\\n\\n\\n\\n\\n\\n\\n\\n\\n...</td>\n",
       "      <td>Samiee Zahid Abbasi 61 Muscat Crescent Ajax, ...</td>\n",
       "      <td>['', '', '', '', '', '', '', '', '', '', '', '...</td>\n",
       "      <td>English</td>\n",
       "      <td>docx</td>\n",
       "      <td>Zahid Muscat Crescent look build great work fa...</td>\n",
       "    </tr>\n",
       "    <tr>\n",
       "      <th>1</th>\n",
       "      <td>1</td>\n",
       "      <td>Abdi, Melika</td>\n",
       "      <td>N3O</td>\n",
       "      <td>TB 146</td>\n",
       "      <td>\\n\\n\\n\\n\\n\\n\\n\\n\\n\\n\\n\\n\\n\\n\\n\\n\\n\\n\\n\\n\\n\\n\\n...</td>\n",
       "      <td>Skills Experience MELIKA ABDI Carmelo Avenue ...</td>\n",
       "      <td>['', '', '', '', '', '', '', '', '', '', '', '...</td>\n",
       "      <td>English</td>\n",
       "      <td>pdf</td>\n",
       "      <td>Skills Experience Carmelo Avenue Ph ability wo...</td>\n",
       "    </tr>\n",
       "    <tr>\n",
       "      <th>2</th>\n",
       "      <td>2</td>\n",
       "      <td>Abdulali, Kaizar</td>\n",
       "      <td>BDP</td>\n",
       "      <td>WW 252</td>\n",
       "      <td>\\n\\n\\n\\n\\n\\n\\n\\n\\n\\n\\n\\n\\n\\n\\n\\n\\n\\n\\n\\n\\n\\n\\n...</td>\n",
       "      <td>KAIZAR ABDULALI kaizar83@gmail.com | 780 990-...</td>\n",
       "      <td>['', '', '', '', '', '', '', '', '', '', '', '...</td>\n",
       "      <td>English</td>\n",
       "      <td>pdf</td>\n",
       "      <td>thank consideration role Project Manager Busin...</td>\n",
       "    </tr>\n",
       "  </tbody>\n",
       "</table>\n",
       "</div>"
      ],
      "text/plain": [
       "   Unnamed: 0     employee_name employee_code   store  \\\n",
       "0           0  Abbasi, Samiee Z           N42  WW 374   \n",
       "1           1      Abdi, Melika           N3O  TB 146   \n",
       "2           2  Abdulali, Kaizar           BDP  WW 252   \n",
       "\n",
       "                                          raw_resume  \\\n",
       "0  \\n\\n\\n\\n\\n\\n\\n\\n\\n\\n\\n\\n\\n\\n\\n\\n\\n\\n\\n\\n\\n\\n\\n...   \n",
       "1  \\n\\n\\n\\n\\n\\n\\n\\n\\n\\n\\n\\n\\n\\n\\n\\n\\n\\n\\n\\n\\n\\n\\n...   \n",
       "2  \\n\\n\\n\\n\\n\\n\\n\\n\\n\\n\\n\\n\\n\\n\\n\\n\\n\\n\\n\\n\\n\\n\\n...   \n",
       "\n",
       "                                         resume_text  \\\n",
       "0   Samiee Zahid Abbasi 61 Muscat Crescent Ajax, ...   \n",
       "1   Skills Experience MELIKA ABDI Carmelo Avenue ...   \n",
       "2   KAIZAR ABDULALI kaizar83@gmail.com | 780 990-...   \n",
       "\n",
       "                                        resume_bline language file_type  \\\n",
       "0  ['', '', '', '', '', '', '', '', '', '', '', '...  English      docx   \n",
       "1  ['', '', '', '', '', '', '', '', '', '', '', '...  English       pdf   \n",
       "2  ['', '', '', '', '', '', '', '', '', '', '', '...  English       pdf   \n",
       "\n",
       "                                          clean_text  \n",
       "0  Zahid Muscat Crescent look build great work fa...  \n",
       "1  Skills Experience Carmelo Avenue Ph ability wo...  \n",
       "2  thank consideration role Project Manager Busin...  "
      ]
     },
     "execution_count": 6,
     "metadata": {},
     "output_type": "execute_result"
    }
   ],
   "source": [
    "df.head(3)"
   ]
  },
  {
   "cell_type": "code",
   "execution_count": 7,
   "metadata": {},
   "outputs": [],
   "source": [
    "df_train = pd.read_csv(\"../../data/input/feature_extraction/0607_02_training_dataset.csv\")"
   ]
  },
  {
   "cell_type": "code",
   "execution_count": 8,
   "metadata": {},
   "outputs": [
    {
     "data": {
      "text/html": [
       "<div>\n",
       "<style scoped>\n",
       "    .dataframe tbody tr th:only-of-type {\n",
       "        vertical-align: middle;\n",
       "    }\n",
       "\n",
       "    .dataframe tbody tr th {\n",
       "        vertical-align: top;\n",
       "    }\n",
       "\n",
       "    .dataframe thead th {\n",
       "        text-align: right;\n",
       "    }\n",
       "</style>\n",
       "<table border=\"1\" class=\"dataframe\">\n",
       "  <thead>\n",
       "    <tr style=\"text-align: right;\">\n",
       "      <th></th>\n",
       "      <th>employee_code</th>\n",
       "      <th>rehired_</th>\n",
       "      <th>referral_flag</th>\n",
       "      <th>job_hopper</th>\n",
       "      <th>average_tenure_per_job</th>\n",
       "      <th>shortest_tenure</th>\n",
       "      <th>competitor_experience</th>\n",
       "      <th>Freedom_competitor_exp</th>\n",
       "      <th>Koodo_competitor_exp</th>\n",
       "      <th>Shaw_competitor_exp</th>\n",
       "      <th>...</th>\n",
       "      <th>telco_electro_jobs</th>\n",
       "      <th>telco_electro_recency</th>\n",
       "      <th>recency_type_telco_electro_exp</th>\n",
       "      <th>no_job_categorical</th>\n",
       "      <th>telco_electro_perc_group</th>\n",
       "      <th>read_score_categorical</th>\n",
       "      <th>flag_hd_bachelor_plus</th>\n",
       "      <th>flag_hd_highschool</th>\n",
       "      <th>business_flag</th>\n",
       "      <th>no_jobs</th>\n",
       "    </tr>\n",
       "  </thead>\n",
       "  <tbody>\n",
       "    <tr>\n",
       "      <th>0</th>\n",
       "      <td>MZE</td>\n",
       "      <td>No</td>\n",
       "      <td>1.0</td>\n",
       "      <td>0.0</td>\n",
       "      <td>22.00</td>\n",
       "      <td>14.0</td>\n",
       "      <td>1</td>\n",
       "      <td>0</td>\n",
       "      <td>0</td>\n",
       "      <td>0</td>\n",
       "      <td>...</td>\n",
       "      <td>1</td>\n",
       "      <td>2</td>\n",
       "      <td>low</td>\n",
       "      <td>few</td>\n",
       "      <td>significant</td>\n",
       "      <td>low</td>\n",
       "      <td>0</td>\n",
       "      <td>1</td>\n",
       "      <td>0</td>\n",
       "      <td>2</td>\n",
       "    </tr>\n",
       "    <tr>\n",
       "      <th>1</th>\n",
       "      <td>MRU</td>\n",
       "      <td>No</td>\n",
       "      <td>0.0</td>\n",
       "      <td>0.0</td>\n",
       "      <td>12.33</td>\n",
       "      <td>3.0</td>\n",
       "      <td>1</td>\n",
       "      <td>0</td>\n",
       "      <td>0</td>\n",
       "      <td>0</td>\n",
       "      <td>...</td>\n",
       "      <td>1</td>\n",
       "      <td>1</td>\n",
       "      <td>high</td>\n",
       "      <td>multiple</td>\n",
       "      <td>significant</td>\n",
       "      <td>high</td>\n",
       "      <td>0</td>\n",
       "      <td>0</td>\n",
       "      <td>0</td>\n",
       "      <td>3</td>\n",
       "    </tr>\n",
       "  </tbody>\n",
       "</table>\n",
       "<p>2 rows × 75 columns</p>\n",
       "</div>"
      ],
      "text/plain": [
       "  employee_code rehired_  referral_flag  job_hopper  average_tenure_per_job  \\\n",
       "0           MZE       No            1.0         0.0                   22.00   \n",
       "1           MRU       No            0.0         0.0                   12.33   \n",
       "\n",
       "   shortest_tenure  competitor_experience  Freedom_competitor_exp  \\\n",
       "0             14.0                      1                       0   \n",
       "1              3.0                      1                       0   \n",
       "\n",
       "   Koodo_competitor_exp  Shaw_competitor_exp  ...  telco_electro_jobs  \\\n",
       "0                     0                    0  ...                   1   \n",
       "1                     0                    0  ...                   1   \n",
       "\n",
       "   telco_electro_recency  recency_type_telco_electro_exp  no_job_categorical  \\\n",
       "0                      2                             low                 few   \n",
       "1                      1                            high            multiple   \n",
       "\n",
       "   telco_electro_perc_group  read_score_categorical  flag_hd_bachelor_plus  \\\n",
       "0               significant                     low                      0   \n",
       "1               significant                    high                      0   \n",
       "\n",
       "   flag_hd_highschool  business_flag  no_jobs  \n",
       "0                   1              0        2  \n",
       "1                   0              0        3  \n",
       "\n",
       "[2 rows x 75 columns]"
      ]
     },
     "execution_count": 8,
     "metadata": {},
     "output_type": "execute_result"
    }
   ],
   "source": [
    "df_train.head(2)"
   ]
  },
  {
   "cell_type": "code",
   "execution_count": 9,
   "metadata": {},
   "outputs": [],
   "source": [
    "df_train_code = df_train[['employee_code', 'hp_class']]"
   ]
  },
  {
   "cell_type": "code",
   "execution_count": 10,
   "metadata": {},
   "outputs": [],
   "source": [
    "df_resume = df[['employee_code', 'employee_name', 'clean_text', 'resume_text']]"
   ]
  },
  {
   "cell_type": "code",
   "execution_count": 34,
   "metadata": {},
   "outputs": [],
   "source": [
    "df_resume_clean = df_train_code.merge(df_resume, on='employee_code')"
   ]
  },
  {
   "cell_type": "code",
   "execution_count": 35,
   "metadata": {
    "scrolled": true
   },
   "outputs": [
    {
     "data": {
      "text/html": [
       "<div>\n",
       "<style scoped>\n",
       "    .dataframe tbody tr th:only-of-type {\n",
       "        vertical-align: middle;\n",
       "    }\n",
       "\n",
       "    .dataframe tbody tr th {\n",
       "        vertical-align: top;\n",
       "    }\n",
       "\n",
       "    .dataframe thead th {\n",
       "        text-align: right;\n",
       "    }\n",
       "</style>\n",
       "<table border=\"1\" class=\"dataframe\">\n",
       "  <thead>\n",
       "    <tr style=\"text-align: right;\">\n",
       "      <th></th>\n",
       "      <th>employee_code</th>\n",
       "      <th>hp_class</th>\n",
       "      <th>employee_name</th>\n",
       "      <th>clean_text</th>\n",
       "      <th>resume_text</th>\n",
       "    </tr>\n",
       "  </thead>\n",
       "  <tbody>\n",
       "    <tr>\n",
       "      <th>0</th>\n",
       "      <td>MZE</td>\n",
       "      <td>0.0</td>\n",
       "      <td>Birla, Shelly</td>\n",
       "      <td>Avenue Tel reference available request objecti...</td>\n",
       "      <td>SHELLY BIRLA 1293 Midland Avenue Toronto, ON ...</td>\n",
       "    </tr>\n",
       "    <tr>\n",
       "      <th>1</th>\n",
       "      <td>MRU</td>\n",
       "      <td>0.0</td>\n",
       "      <td>Williams, Dave</td>\n",
       "      <td>Resume obtain utilize opportunity grow benefit...</td>\n",
       "      <td>Indeed Resume Dave Williams To obtain and uti...</td>\n",
       "    </tr>\n",
       "  </tbody>\n",
       "</table>\n",
       "</div>"
      ],
      "text/plain": [
       "  employee_code  hp_class   employee_name  \\\n",
       "0           MZE       0.0   Birla, Shelly   \n",
       "1           MRU       0.0  Williams, Dave   \n",
       "\n",
       "                                          clean_text  \\\n",
       "0  Avenue Tel reference available request objecti...   \n",
       "1  Resume obtain utilize opportunity grow benefit...   \n",
       "\n",
       "                                         resume_text  \n",
       "0   SHELLY BIRLA 1293 Midland Avenue Toronto, ON ...  \n",
       "1   Indeed Resume Dave Williams To obtain and uti...  "
      ]
     },
     "execution_count": 35,
     "metadata": {},
     "output_type": "execute_result"
    }
   ],
   "source": [
    "df_resume_clean.head(2)"
   ]
  },
  {
   "cell_type": "markdown",
   "metadata": {},
   "source": [
    "## \"Team player\" phrase  and \"Team\" word features"
   ]
  },
  {
   "cell_type": "code",
   "execution_count": 36,
   "metadata": {},
   "outputs": [],
   "source": [
    "def communication_skills_manual(txt):\n",
    "    txt = str(txt).lower()\n",
    "    if any(x in txt for x in ['communic']):\n",
    "        flag = 1\n",
    "    else:\n",
    "        flag = 0\n",
    "    return flag"
   ]
  },
  {
   "cell_type": "code",
   "execution_count": 37,
   "metadata": {},
   "outputs": [],
   "source": [
    "def communication_skills_phrase(txt):\n",
    "    txt = str(txt).lower()\n",
    "    #if re.search(\"communication skills\", txt):\n",
    "    if re.search(r\"\\b(comm?unic?[^\\s]+ ?skill?s?)\\b\", txt):\n",
    "        flag = 1\n",
    "    else:\n",
    "        flag = 0\n",
    "    return flag"
   ]
  },
  {
   "cell_type": "markdown",
   "metadata": {},
   "source": [
    "## Check Regex Pattern "
   ]
  },
  {
   "cell_type": "code",
   "execution_count": 38,
   "metadata": {},
   "outputs": [],
   "source": [
    "def regex_test(regex_pattern, wanna_capture_list):\n",
    "    '''\n",
    "    '''\n",
    "    \n",
    "    match_list =[]\n",
    "    for item in wanna_capture_list:\n",
    "        if re.search(regex_pattern, item):\n",
    "            match_list.append(item)\n",
    "\n",
    "    percentage_matched = round(len(match_list)/len(wanna_capture_list)*100,2)\n",
    "    print(\"{} percent matched\".format(percentage_matched))\n",
    "    no_matched_list = list(set(wanna_capture_list) - set(match_list))\n",
    "    print(\"NO MATCHED LIST: {}\".format(no_matched_list))\n",
    "    return match_list"
   ]
  },
  {
   "cell_type": "markdown",
   "metadata": {},
   "source": [
    "#### Communication Skill words"
   ]
  },
  {
   "cell_type": "code",
   "execution_count": 39,
   "metadata": {},
   "outputs": [
    {
     "name": "stdout",
     "output_type": "stream",
     "text": [
      "100.0 percent matched\n",
      "NO MATCHED LIST: []\n"
     ]
    },
    {
     "data": {
      "text/plain": [
       "['communication skill',\n",
       " 'comunication skills',\n",
       " 'communicationskills',\n",
       " 'comunicationskill',\n",
       " 'comunicatorskil',\n",
       " 'communicator skills',\n",
       " 'communicative skils']"
      ]
     },
     "execution_count": 39,
     "metadata": {},
     "output_type": "execute_result"
    }
   ],
   "source": [
    "wanna_capture_list  = ['communication skill', 'comunication skills', 'communicationskills', \n",
    "                       'comunicationskill', 'comunicatorskil','communicator skills', 'communicative skils']\n",
    "\n",
    "regex_pattern = r\"\\b(comm?unic?[^\\s]+ ?skill?s?)\\b\"\n",
    "\n",
    "regex_test(regex_pattern, wanna_capture_list)"
   ]
  },
  {
   "cell_type": "code",
   "execution_count": 40,
   "metadata": {},
   "outputs": [],
   "source": [
    "def communic_word(txt):\n",
    "    txt = str(txt).lower()\n",
    "    if re.search(r'\\b(comm?unic[^\\s]+)\\b', txt):\n",
    "        flag = 1\n",
    "    else:\n",
    "        flag = 0\n",
    "    return flag"
   ]
  },
  {
   "cell_type": "code",
   "execution_count": 41,
   "metadata": {},
   "outputs": [],
   "source": [
    "def communic_word_list(txt):\n",
    "    txt = str(txt).lower()\n",
    "    \n",
    "    return list(set(re.findall(r'\\b(comm?unic[^\\s]+)\\b', txt)))\n"
   ]
  },
  {
   "cell_type": "code",
   "execution_count": 42,
   "metadata": {
    "scrolled": true
   },
   "outputs": [
    {
     "data": {
      "text/html": [
       "<div>\n",
       "<style scoped>\n",
       "    .dataframe tbody tr th:only-of-type {\n",
       "        vertical-align: middle;\n",
       "    }\n",
       "\n",
       "    .dataframe tbody tr th {\n",
       "        vertical-align: top;\n",
       "    }\n",
       "\n",
       "    .dataframe thead th {\n",
       "        text-align: right;\n",
       "    }\n",
       "</style>\n",
       "<table border=\"1\" class=\"dataframe\">\n",
       "  <thead>\n",
       "    <tr style=\"text-align: right;\">\n",
       "      <th></th>\n",
       "      <th>employee_code</th>\n",
       "      <th>hp_class</th>\n",
       "      <th>employee_name</th>\n",
       "      <th>clean_text</th>\n",
       "      <th>resume_text</th>\n",
       "      <th>communication_skills_manual</th>\n",
       "      <th>communication_skills_phrase</th>\n",
       "      <th>communication_word_root</th>\n",
       "      <th>communic_word_list</th>\n",
       "    </tr>\n",
       "  </thead>\n",
       "  <tbody>\n",
       "    <tr>\n",
       "      <th>0</th>\n",
       "      <td>MZE</td>\n",
       "      <td>0.0</td>\n",
       "      <td>Birla, Shelly</td>\n",
       "      <td>Avenue Tel reference available request objecti...</td>\n",
       "      <td>SHELLY BIRLA 1293 Midland Avenue Toronto, ON ...</td>\n",
       "      <td>1</td>\n",
       "      <td>1</td>\n",
       "      <td>1</td>\n",
       "      <td>[communication, communicating]</td>\n",
       "    </tr>\n",
       "    <tr>\n",
       "      <th>1</th>\n",
       "      <td>MRU</td>\n",
       "      <td>0.0</td>\n",
       "      <td>Williams, Dave</td>\n",
       "      <td>Resume obtain utilize opportunity grow benefit...</td>\n",
       "      <td>Indeed Resume Dave Williams To obtain and uti...</td>\n",
       "      <td>1</td>\n",
       "      <td>0</td>\n",
       "      <td>1</td>\n",
       "      <td>[communicate]</td>\n",
       "    </tr>\n",
       "    <tr>\n",
       "      <th>2</th>\n",
       "      <td>LAP</td>\n",
       "      <td>0.0</td>\n",
       "      <td>Smith, Mandy</td>\n",
       "      <td>Employment History Hill August present sale Pr...</td>\n",
       "      <td>Mandy Smith 410 Cartier Street, North Bay, ON...</td>\n",
       "      <td>1</td>\n",
       "      <td>0</td>\n",
       "      <td>1</td>\n",
       "      <td>[communication]</td>\n",
       "    </tr>\n",
       "    <tr>\n",
       "      <th>3</th>\n",
       "      <td>MYD</td>\n",
       "      <td>1.0</td>\n",
       "      <td>Ren, Jingya Claire</td>\n",
       "      <td>Manston Cres career objective seek time sale r...</td>\n",
       "      <td>Jingya Ren (Claire) 98 Manston Cres, Markham ...</td>\n",
       "      <td>1</td>\n",
       "      <td>1</td>\n",
       "      <td>1</td>\n",
       "      <td>[communication]</td>\n",
       "    </tr>\n",
       "    <tr>\n",
       "      <th>4</th>\n",
       "      <td>JJB</td>\n",
       "      <td>0.0</td>\n",
       "      <td>Kumta, Ajit</td>\n",
       "      <td>Resume Contact LinkedIn Skills Microsoft Offic...</td>\n",
       "      <td>Resume Contact www.linkedin.com/in/ajitkumta ...</td>\n",
       "      <td>1</td>\n",
       "      <td>0</td>\n",
       "      <td>0</td>\n",
       "      <td>[]</td>\n",
       "    </tr>\n",
       "    <tr>\n",
       "      <th>...</th>\n",
       "      <td>...</td>\n",
       "      <td>...</td>\n",
       "      <td>...</td>\n",
       "      <td>...</td>\n",
       "      <td>...</td>\n",
       "      <td>...</td>\n",
       "      <td>...</td>\n",
       "      <td>...</td>\n",
       "      <td>...</td>\n",
       "    </tr>\n",
       "    <tr>\n",
       "      <th>283</th>\n",
       "      <td>N1Q</td>\n",
       "      <td>0.0</td>\n",
       "      <td>Maisuri, Hetvi</td>\n",
       "      <td>Contact mail Technical Skills programming lang...</td>\n",
       "      <td>HETVI MAISURI Burnaby, BC Contact No: 6045005...</td>\n",
       "      <td>1</td>\n",
       "      <td>0</td>\n",
       "      <td>1</td>\n",
       "      <td>[communication]</td>\n",
       "    </tr>\n",
       "    <tr>\n",
       "      <th>284</th>\n",
       "      <td>MTI</td>\n",
       "      <td>0.0</td>\n",
       "      <td>Delaney, Jeremy</td>\n",
       "      <td>Jess Road Saint work experience January Januar...</td>\n",
       "      <td>Jess L Jeremy Delaney 300 Kingsville Road Sai...</td>\n",
       "      <td>0</td>\n",
       "      <td>0</td>\n",
       "      <td>0</td>\n",
       "      <td>[]</td>\n",
       "    </tr>\n",
       "    <tr>\n",
       "      <th>285</th>\n",
       "      <td>N8M</td>\n",
       "      <td>0.0</td>\n",
       "      <td>Virani, Rushabh</td>\n",
       "      <td>ARVI Thorncliffe Park CAREER OBJECTIVE work re...</td>\n",
       "      <td>RUSHABH VIRANI (ARVI) 50 Thorncliffe Park Dr....</td>\n",
       "      <td>1</td>\n",
       "      <td>1</td>\n",
       "      <td>1</td>\n",
       "      <td>[communication, communicating]</td>\n",
       "    </tr>\n",
       "    <tr>\n",
       "      <th>286</th>\n",
       "      <td>MZX</td>\n",
       "      <td>0.0</td>\n",
       "      <td>Haghighat-Parast, Shawnar</td>\n",
       "      <td>PARAST lph Yonge st job OBJECTIVE gain profess...</td>\n",
       "      <td>SHAWNAR PARAST LPH 19 9471 Yonge st Richmond ...</td>\n",
       "      <td>0</td>\n",
       "      <td>0</td>\n",
       "      <td>0</td>\n",
       "      <td>[]</td>\n",
       "    </tr>\n",
       "    <tr>\n",
       "      <th>287</th>\n",
       "      <td>N4J</td>\n",
       "      <td>0.0</td>\n",
       "      <td>Gill, Kiran</td>\n",
       "      <td>Resume Sudury Work Experience Companionship Co...</td>\n",
       "      <td>Indeed Resume Kiran Gill Sudury kiraan_gill@h...</td>\n",
       "      <td>0</td>\n",
       "      <td>0</td>\n",
       "      <td>0</td>\n",
       "      <td>[]</td>\n",
       "    </tr>\n",
       "  </tbody>\n",
       "</table>\n",
       "<p>288 rows × 9 columns</p>\n",
       "</div>"
      ],
      "text/plain": [
       "    employee_code  hp_class              employee_name  \\\n",
       "0             MZE       0.0              Birla, Shelly   \n",
       "1             MRU       0.0             Williams, Dave   \n",
       "2             LAP       0.0               Smith, Mandy   \n",
       "3             MYD       1.0         Ren, Jingya Claire   \n",
       "4             JJB       0.0                Kumta, Ajit   \n",
       "..            ...       ...                        ...   \n",
       "283           N1Q       0.0             Maisuri, Hetvi   \n",
       "284           MTI       0.0            Delaney, Jeremy   \n",
       "285           N8M       0.0            Virani, Rushabh   \n",
       "286           MZX       0.0  Haghighat-Parast, Shawnar   \n",
       "287           N4J       0.0                Gill, Kiran   \n",
       "\n",
       "                                            clean_text  \\\n",
       "0    Avenue Tel reference available request objecti...   \n",
       "1    Resume obtain utilize opportunity grow benefit...   \n",
       "2    Employment History Hill August present sale Pr...   \n",
       "3    Manston Cres career objective seek time sale r...   \n",
       "4    Resume Contact LinkedIn Skills Microsoft Offic...   \n",
       "..                                                 ...   \n",
       "283  Contact mail Technical Skills programming lang...   \n",
       "284  Jess Road Saint work experience January Januar...   \n",
       "285  ARVI Thorncliffe Park CAREER OBJECTIVE work re...   \n",
       "286  PARAST lph Yonge st job OBJECTIVE gain profess...   \n",
       "287  Resume Sudury Work Experience Companionship Co...   \n",
       "\n",
       "                                           resume_text  \\\n",
       "0     SHELLY BIRLA 1293 Midland Avenue Toronto, ON ...   \n",
       "1     Indeed Resume Dave Williams To obtain and uti...   \n",
       "2     Mandy Smith 410 Cartier Street, North Bay, ON...   \n",
       "3     Jingya Ren (Claire) 98 Manston Cres, Markham ...   \n",
       "4     Resume Contact www.linkedin.com/in/ajitkumta ...   \n",
       "..                                                 ...   \n",
       "283   HETVI MAISURI Burnaby, BC Contact No: 6045005...   \n",
       "284   Jess L Jeremy Delaney 300 Kingsville Road Sai...   \n",
       "285   RUSHABH VIRANI (ARVI) 50 Thorncliffe Park Dr....   \n",
       "286   SHAWNAR PARAST LPH 19 9471 Yonge st Richmond ...   \n",
       "287   Indeed Resume Kiran Gill Sudury kiraan_gill@h...   \n",
       "\n",
       "     communication_skills_manual  communication_skills_phrase  \\\n",
       "0                              1                            1   \n",
       "1                              1                            0   \n",
       "2                              1                            0   \n",
       "3                              1                            1   \n",
       "4                              1                            0   \n",
       "..                           ...                          ...   \n",
       "283                            1                            0   \n",
       "284                            0                            0   \n",
       "285                            1                            1   \n",
       "286                            0                            0   \n",
       "287                            0                            0   \n",
       "\n",
       "     communication_word_root              communic_word_list  \n",
       "0                          1  [communication, communicating]  \n",
       "1                          1                   [communicate]  \n",
       "2                          1                 [communication]  \n",
       "3                          1                 [communication]  \n",
       "4                          0                              []  \n",
       "..                       ...                             ...  \n",
       "283                        1                 [communication]  \n",
       "284                        0                              []  \n",
       "285                        1  [communication, communicating]  \n",
       "286                        0                              []  \n",
       "287                        0                              []  \n",
       "\n",
       "[288 rows x 9 columns]"
      ]
     },
     "execution_count": 42,
     "metadata": {},
     "output_type": "execute_result"
    }
   ],
   "source": [
    "df_resume_clean['communication_skills_manual'] = df_resume_clean.resume_text.apply(lambda x: communication_skills_manual(x))\n",
    "\n",
    "df_resume_clean['communication_skills_phrase'] = df_resume_clean.resume_text.apply(lambda x: communication_skills_phrase(x))\n",
    "df_resume_clean['communication_word_root'] = df_resume_clean.resume_text.apply(lambda x: communic_word(x))\n",
    "df_resume_clean['communic_word_list'] = df_resume_clean.resume_text.apply(lambda x: communic_word_list(x))\n",
    "\n",
    "df_resume_clean\n"
   ]
  },
  {
   "cell_type": "markdown",
   "metadata": {},
   "source": [
    "### List of words catched by communic_word regex"
   ]
  },
  {
   "cell_type": "code",
   "execution_count": 43,
   "metadata": {},
   "outputs": [
    {
     "data": {
      "text/plain": [
       "['communication',\n",
       " 'communicative',\n",
       " 'communicated',\n",
       " 'communication/phone',\n",
       " 'communicate',\n",
       " 'communicating',\n",
       " 'communicator',\n",
       " 'communications',\n",
       " 'communication/presentation',\n",
       " 'communicates']"
      ]
     },
     "execution_count": 43,
     "metadata": {},
     "output_type": "execute_result"
    }
   ],
   "source": [
    "x=df_resume_clean.communic_word_list.to_list()\n",
    "list(set([j for i in x for j in i]))"
   ]
  },
  {
   "cell_type": "code",
   "execution_count": 44,
   "metadata": {},
   "outputs": [],
   "source": [
    "# df_resume_clean[df_resume_clean['team_player']==1]['resume_text'].sample(n=1).iloc[0]"
   ]
  },
  {
   "cell_type": "markdown",
   "metadata": {},
   "source": [
    "## Keyword Statistics"
   ]
  },
  {
   "cell_type": "code",
   "execution_count": 45,
   "metadata": {
    "scrolled": true
   },
   "outputs": [
    {
     "data": {
      "text/plain": [
       "employee_code                  205\n",
       "hp_class                       205\n",
       "employee_name                  205\n",
       "clean_text                     205\n",
       "resume_text                    205\n",
       "communication_skills_manual    205\n",
       "communication_skills_phrase    205\n",
       "communication_word_root        205\n",
       "communic_word_list             205\n",
       "dtype: int64"
      ]
     },
     "execution_count": 45,
     "metadata": {},
     "output_type": "execute_result"
    }
   ],
   "source": [
    "df_resume_clean[df_resume_clean['communication_skills_manual']==1].count()"
   ]
  },
  {
   "cell_type": "code",
   "execution_count": 46,
   "metadata": {},
   "outputs": [
    {
     "data": {
      "text/plain": [
       "<matplotlib.axes._subplots.AxesSubplot at 0x146f716aac8>"
      ]
     },
     "execution_count": 46,
     "metadata": {},
     "output_type": "execute_result"
    },
    {
     "data": {
      "image/png": "[encoded data removed]",
      "text/plain": [
       "<Figure size 432x288 with 1 Axes>"
      ]
     },
     "metadata": {
      "needs_background": "light"
     },
     "output_type": "display_data"
    }
   ],
   "source": [
    "df_resume_clean.communication_skills_manual.hist()"
   ]
  },
  {
   "cell_type": "code",
   "execution_count": 47,
   "metadata": {
    "scrolled": false
   },
   "outputs": [
    {
     "data": {
      "text/plain": [
       "employee_code                  94\n",
       "hp_class                       94\n",
       "employee_name                  94\n",
       "clean_text                     94\n",
       "resume_text                    94\n",
       "communication_skills_manual    94\n",
       "communication_skills_phrase    94\n",
       "communication_word_root        94\n",
       "communic_word_list             94\n",
       "dtype: int64"
      ]
     },
     "execution_count": 47,
     "metadata": {},
     "output_type": "execute_result"
    }
   ],
   "source": [
    "df_resume_clean[df_resume_clean['communication_skills_phrase']==1].count()"
   ]
  },
  {
   "cell_type": "code",
   "execution_count": 48,
   "metadata": {},
   "outputs": [
    {
     "data": {
      "text/plain": [
       "<matplotlib.axes._subplots.AxesSubplot at 0x146fa434808>"
      ]
     },
     "execution_count": 48,
     "metadata": {},
     "output_type": "execute_result"
    },
    {
     "data": {
      "image/png": "[encoded data removed]",
      "text/plain": [
       "<Figure size 432x288 with 1 Axes>"
      ]
     },
     "metadata": {
      "needs_background": "light"
     },
     "output_type": "display_data"
    }
   ],
   "source": [
    "df_resume_clean.communication_skills_phrase.hist()"
   ]
  },
  {
   "cell_type": "code",
   "execution_count": 49,
   "metadata": {},
   "outputs": [
    {
     "data": {
      "text/plain": [
       "employee_code                  202\n",
       "hp_class                       202\n",
       "employee_name                  202\n",
       "clean_text                     202\n",
       "resume_text                    202\n",
       "communication_skills_manual    202\n",
       "communication_skills_phrase    202\n",
       "communication_word_root        202\n",
       "communic_word_list             202\n",
       "dtype: int64"
      ]
     },
     "execution_count": 49,
     "metadata": {},
     "output_type": "execute_result"
    }
   ],
   "source": [
    "df_resume_clean[df_resume_clean['communication_word_root']==1].count()"
   ]
  },
  {
   "cell_type": "code",
   "execution_count": 50,
   "metadata": {
    "scrolled": true
   },
   "outputs": [
    {
     "data": {
      "text/plain": [
       "<matplotlib.axes._subplots.AxesSubplot at 0x146fb4ad348>"
      ]
     },
     "execution_count": 50,
     "metadata": {},
     "output_type": "execute_result"
    },
    {
     "data": {
      "image/png": "[encoded data removed]",
      "text/plain": [
       "<Figure size 432x288 with 1 Axes>"
      ]
     },
     "metadata": {
      "needs_background": "light"
     },
     "output_type": "display_data"
    }
   ],
   "source": [
    "df_resume_clean.communication_word_root.hist()"
   ]
  },
  {
   "cell_type": "code",
   "execution_count": 51,
   "metadata": {},
   "outputs": [
    {
     "data": {
      "text/html": [
       "<div>\n",
       "<style scoped>\n",
       "    .dataframe tbody tr th:only-of-type {\n",
       "        vertical-align: middle;\n",
       "    }\n",
       "\n",
       "    .dataframe tbody tr th {\n",
       "        vertical-align: top;\n",
       "    }\n",
       "\n",
       "    .dataframe thead th {\n",
       "        text-align: right;\n",
       "    }\n",
       "</style>\n",
       "<table border=\"1\" class=\"dataframe\">\n",
       "  <thead>\n",
       "    <tr style=\"text-align: right;\">\n",
       "      <th></th>\n",
       "      <th>hp_class</th>\n",
       "      <th>communication_skills_manual</th>\n",
       "      <th>communication_skills_phrase</th>\n",
       "      <th>communication_word_root</th>\n",
       "    </tr>\n",
       "  </thead>\n",
       "  <tbody>\n",
       "    <tr>\n",
       "      <th>count</th>\n",
       "      <td>288.000000</td>\n",
       "      <td>288.000000</td>\n",
       "      <td>288.000000</td>\n",
       "      <td>288.000000</td>\n",
       "    </tr>\n",
       "    <tr>\n",
       "      <th>mean</th>\n",
       "      <td>0.243056</td>\n",
       "      <td>0.711806</td>\n",
       "      <td>0.326389</td>\n",
       "      <td>0.701389</td>\n",
       "    </tr>\n",
       "    <tr>\n",
       "      <th>std</th>\n",
       "      <td>0.429675</td>\n",
       "      <td>0.453710</td>\n",
       "      <td>0.469708</td>\n",
       "      <td>0.458446</td>\n",
       "    </tr>\n",
       "    <tr>\n",
       "      <th>min</th>\n",
       "      <td>0.000000</td>\n",
       "      <td>0.000000</td>\n",
       "      <td>0.000000</td>\n",
       "      <td>0.000000</td>\n",
       "    </tr>\n",
       "    <tr>\n",
       "      <th>25%</th>\n",
       "      <td>0.000000</td>\n",
       "      <td>0.000000</td>\n",
       "      <td>0.000000</td>\n",
       "      <td>0.000000</td>\n",
       "    </tr>\n",
       "    <tr>\n",
       "      <th>50%</th>\n",
       "      <td>0.000000</td>\n",
       "      <td>1.000000</td>\n",
       "      <td>0.000000</td>\n",
       "      <td>1.000000</td>\n",
       "    </tr>\n",
       "    <tr>\n",
       "      <th>75%</th>\n",
       "      <td>0.000000</td>\n",
       "      <td>1.000000</td>\n",
       "      <td>1.000000</td>\n",
       "      <td>1.000000</td>\n",
       "    </tr>\n",
       "    <tr>\n",
       "      <th>max</th>\n",
       "      <td>1.000000</td>\n",
       "      <td>1.000000</td>\n",
       "      <td>1.000000</td>\n",
       "      <td>1.000000</td>\n",
       "    </tr>\n",
       "  </tbody>\n",
       "</table>\n",
       "</div>"
      ],
      "text/plain": [
       "         hp_class  communication_skills_manual  communication_skills_phrase  \\\n",
       "count  288.000000                   288.000000                   288.000000   \n",
       "mean     0.243056                     0.711806                     0.326389   \n",
       "std      0.429675                     0.453710                     0.469708   \n",
       "min      0.000000                     0.000000                     0.000000   \n",
       "25%      0.000000                     0.000000                     0.000000   \n",
       "50%      0.000000                     1.000000                     0.000000   \n",
       "75%      0.000000                     1.000000                     1.000000   \n",
       "max      1.000000                     1.000000                     1.000000   \n",
       "\n",
       "       communication_word_root  \n",
       "count               288.000000  \n",
       "mean                  0.701389  \n",
       "std                   0.458446  \n",
       "min                   0.000000  \n",
       "25%                   0.000000  \n",
       "50%                   1.000000  \n",
       "75%                   1.000000  \n",
       "max                   1.000000  "
      ]
     },
     "execution_count": 51,
     "metadata": {},
     "output_type": "execute_result"
    }
   ],
   "source": [
    "df_resume_clean.describe()"
   ]
  },
  {
   "cell_type": "markdown",
   "metadata": {},
   "source": [
    "# Generate Ouput"
   ]
  },
  {
   "cell_type": "code",
   "execution_count": 52,
   "metadata": {},
   "outputs": [],
   "source": [
    "df_resume_clean = df_resume_clean.drop(['hp_class', 'employee_name', 'clean_text', 'resume_text', 'communic_word_list'], axis=1)"
   ]
  },
  {
   "cell_type": "code",
   "execution_count": 55,
   "metadata": {},
   "outputs": [],
   "source": [
    "df_resume_clean.to_csv('../../data/output/feature_extraction/auto_communic_word_related_features.csv')"
   ]
  },
  {
   "cell_type": "code",
   "execution_count": 33,
   "metadata": {},
   "outputs": [],
   "source": [
    "#df_resume_clean.to_csv('../../../Glentel Inc/HR Analytics - Documents/Capstone Data/ubc_mds_team_share/06_clean_data/auto_education_concentration.csv')"
   ]
  },
  {
   "cell_type": "markdown",
   "metadata": {},
   "source": [
    "# Generate Function"
   ]
  },
  {
   "cell_type": "markdown",
   "metadata": {},
   "source": [
    "### Package installation missing:"
   ]
  },
  {
   "cell_type": "code",
   "execution_count": null,
   "metadata": {},
   "outputs": [],
   "source": [
    "# docopt\n",
    "#conda install -c anaconda docopt"
   ]
  }
 ],
 "metadata": {
  "kernelspec": {
   "display_name": "Python 3",
   "language": "python",
   "name": "python3"
  },
  "language_info": {
   "codemirror_mode": {
    "name": "ipython",
    "version": 3
   },
   "file_extension": ".py",
   "mimetype": "text/x-python",
   "name": "python",
   "nbconvert_exporter": "python",
   "pygments_lexer": "ipython3",
   "version": "3.7.6"
  }
 },
 "nbformat": 4,
 "nbformat_minor": 4
}
