{
 "cells": [
  {
   "cell_type": "code",
   "execution_count": 3625,
   "metadata": {},
   "outputs": [],
   "source": [
    "import pandas as pd\n",
    "import re\n",
    "import datetime\n",
    "import numpy as np\n",
    "import matplotlib.pyplot as plt"
   ]
  },
  {
   "cell_type": "code",
   "execution_count": 3626,
   "metadata": {},
   "outputs": [],
   "source": [
    "def load_data(resume_path, info_path):\n",
    "    resume = pd.read_excel(resume_path)\n",
    "    info = pd.read_excel(info_path)\n",
    "    df = pd.merge(resume, info, how=\"left\", on=\"employee_code\")\n",
    "    df.columns = [remove_space(name) for name in df.columns.to_list()]\n",
    "    return df"
   ]
  },
  {
   "cell_type": "code",
   "execution_count": 3627,
   "metadata": {},
   "outputs": [],
   "source": [
    "def remove_space(text):\n",
    "    text = re.sub(r'\\s+$', '', text)\n",
    "    text = re.sub(r'^\\s+', '', text)\n",
    "    return text"
   ]
  },
  {
   "cell_type": "code",
   "execution_count": 3628,
   "metadata": {},
   "outputs": [],
   "source": [
    "def format_date(date):\n",
    "    try:\n",
    "        date = re.sub(r'\\n', '', date)\n",
    "        date = re.sub(r'\\u200b', '', date)\n",
    "        date = remove_space(date)\n",
    "        date = re.sub(\"[Cc][Uu][Rr][Rr][Ee][Nn][Tt]\", \"Present\", date)\n",
    "        date = re.sub(\"[Pp][Rr][Ee][Ss][Ee][Nn][Tt]\", \"Present\", date)\n",
    "        date = re.sub(\"Ongoing\", \"Present\", date)\n",
    "        date = re.sub(\"[Nn][Oo][Ww]\", \"Present\", date)\n",
    "        date = re.sub(\"[Tt]ill [Dd]ate\", \"- Present\", date)\n",
    "        date = re.sub(r\"\\sto\\s\", \" - \", date)\n",
    "        date = re.sub(r\"[Ff][Ee][Bb][Uu][Aa][Rr][Yy]\", \"February\", date)\n",
    "        date = re.sub(r\"—\", \" - \", date)\n",
    "        date = re.sub(r\"–\", \" - \", date)\n",
    "        date = re.sub(r\"–\", \" - \", date)\n",
    "        date = re.sub(r\"[\\’]\", \" \", date)\n",
    "        date = re.sub(r\"[0-9]{4}[\\,]\", \" - \", date)\n",
    "        date = re.sub(r\"-\", \" - \", date)\n",
    "        date = re.sub(r\" -\", \" - \", date)\n",
    "        date = re.sub(r\"- \", \" - \", date)\n",
    "        date = re.sub(r\"/\", \" \", date)\n",
    "        date = re.sub(r\"([0-9]+)(\\syear[s]*)\", \" - \", date)\n",
    "        date = re.sub(r\"([0-9]+)(\\s[Mm]onth[s]*.*)\", \" - \", date)\n",
    "        date = re.sub(r\"\\s+\", \" \", date)\n",
    "        date = re.sub(r\"(.*)\\s18\", r\"\\1 2018\", date)\n",
    "        date = re.sub(r\"(.*)\\s12\", r\"\\1 2012\", date)\n",
    "        date = re.sub(r\"(.*)\\s15\", r\"\\1 2015\", date)\n",
    "        date = re.sub(r\"(.*)\\s16\", r\"\\1 2016\", date)\n",
    "        date = re.sub(r\"(.*)\\s14\", r\"\\1 2014\", date)\n",
    "        return date\n",
    "    except TypeError:\n",
    "        return \" - \""
   ]
  },
  {
   "cell_type": "code",
   "execution_count": 3629,
   "metadata": {},
   "outputs": [],
   "source": [
    "# format all\n",
    "def format_all(df, colname_lst):\n",
    "    for colname in colname_lst:\n",
    "        resume_incl_hire[colname] = resume_incl_hire[colname].apply(format_date)\n",
    "    return df"
   ]
  },
  {
   "cell_type": "code",
   "execution_count": 3630,
   "metadata": {},
   "outputs": [],
   "source": [
    "def calculate_num_month(start_date, end_date):\n",
    "    try:\n",
    "        num_months = (end_date.year - start_date.year) * 12 + (end_date.month - start_date.month)\n",
    "        return num_months\n",
    "    except TypeError:\n",
    "        return \"unknown\""
   ]
  },
  {
   "cell_type": "code",
   "execution_count": 3631,
   "metadata": {},
   "outputs": [],
   "source": [
    "def work_length_calculater(df, colname, hire):\n",
    "    start = df[colname].str.split(\" - \", expand=True)[0]\n",
    "    end = df[colname].str.split(\" - \", expand=True)[1]\n",
    "    hire = df[hire]\n",
    "    new = pd.concat([end, hire], axis=1).rename(columns = {1: \"end\"})\n",
    "    new.end = new.apply(lambda row: row[\"Hire Date\"] if \"Present\" in row['end'] else row[\"end\"], axis=1)\n",
    "    new = pd.concat([new, start], axis=1).rename(columns = {0: \"start\"})\n",
    "    new.end = pd.to_datetime(new.end)\n",
    "    new.start = pd.to_datetime(new.start)\n",
    "    new[\"num_month\"] = new.apply(lambda row: calculate_num_month(row.start, row.end), axis=1)\n",
    "    df = new[[\"start\", \"end\", \"num_month\"]]\n",
    "    return df"
   ]
  },
  {
   "cell_type": "code",
   "execution_count": 3632,
   "metadata": {},
   "outputs": [],
   "source": [
    "def avg_work_calculater(df, colname_lst, hire):\n",
    "    work1 = work_length_calculater(df, column_lst[0], \"Hire Date\")[\"num_month\"]\n",
    "    work2 = work_length_calculater(df, column_lst[1], \"Hire Date\")[\"num_month\"]\n",
    "    work3 = work_length_calculater(df, column_lst[2], \"Hire Date\")[\"num_month\"]\n",
    "    work4 = work_length_calculater(df, column_lst[3], \"Hire Date\")[\"num_month\"]\n",
    "    work5 = work_length_calculater(df, column_lst[4], \"Hire Date\")[\"num_month\"]\n",
    "    work6 = work_length_calculater(df, column_lst[5], \"Hire Date\")[\"num_month\"]\n",
    "    work7 = work_length_calculater(df, column_lst[6], \"Hire Date\")[\"num_month\"]\n",
    "    df_all = pd.concat([work1, work2, work3, work4, work5, work6, work7], axis=1)\n",
    "    df_all.columns = [\"work1\", \"work2\", \"work3\", \"work4\", \"work5\", \"work6\", \"work7\"]\n",
    "    #df_all['num'] = df_all.count(axis=1)\n",
    "    #df_all['total'] = df_all.sum(axis=1)\n",
    "    df_all['avg'] = (df_all.sum(axis=1)/df_all.count(axis=1)).round(2)\n",
    "    return df_all"
   ]
  },
  {
   "cell_type": "code",
   "execution_count": 3633,
   "metadata": {},
   "outputs": [],
   "source": [
    "def job_hopper(num):\n",
    "    if pd.isna(num):\n",
    "        return np.nan\n",
    "    elif num < 12:\n",
    "        return 1\n",
    "    else:\n",
    "        return 0"
   ]
  },
  {
   "cell_type": "code",
   "execution_count": 3634,
   "metadata": {},
   "outputs": [],
   "source": [
    "# run \n",
    "path1 = \"../data/05242020_manual_extraction_template.xlsx\"\n",
    "path2 = \"../data/matching_list_maunually-checked_V1.2.xlsx\"\n",
    "column_lst = [\"work1_time\", \"work2_time\", \"work3_time\", \"work4_time\", \"work5_time\", \"work6_time\", \"work7_time\"]\n",
    "resume_incl_hire = load_data(path1, path2)\n",
    "resume_incl_hire2 = format_all(resume_incl_hire, column_lst)\n",
    "df_final = avg_work_calculater(resume_incl_hire2, column_lst, \"Hire Date\")\n",
    "df_final[\"employee_code\"] = resume_incl_hire.employee_code\n",
    "df_final = df_final[[\"employee_code\", \"work1\", \"work2\", \"work3\", \"work4\", \"work5\", \"work6\", \"work7\", \"avg\"]]\n",
    "#df_final[\"avg_group\"] = pd.cut(df_final.avg, 5)"
   ]
  },
  {
   "cell_type": "markdown",
   "metadata": {},
   "source": [
    "### Job Hopper definition – Anyone with less than one year of tenure between jobs."
   ]
  },
  {
   "cell_type": "code",
   "execution_count": 3635,
   "metadata": {},
   "outputs": [],
   "source": [
    "# Add a column `job_hopper`\n",
    "df_final[\"job_hopper\"] = df_final.avg.apply(job_hopper)"
   ]
  },
  {
   "cell_type": "code",
   "execution_count": 3636,
   "metadata": {},
   "outputs": [
    {
     "data": {
      "text/html": [
       "<div>\n",
       "<style scoped>\n",
       "    .dataframe tbody tr th:only-of-type {\n",
       "        vertical-align: middle;\n",
       "    }\n",
       "\n",
       "    .dataframe tbody tr th {\n",
       "        vertical-align: top;\n",
       "    }\n",
       "\n",
       "    .dataframe thead th {\n",
       "        text-align: right;\n",
       "    }\n",
       "</style>\n",
       "<table border=\"1\" class=\"dataframe\">\n",
       "  <thead>\n",
       "    <tr style=\"text-align: right;\">\n",
       "      <th></th>\n",
       "      <th>employee_code</th>\n",
       "      <th>work1</th>\n",
       "      <th>work2</th>\n",
       "      <th>work3</th>\n",
       "      <th>work4</th>\n",
       "      <th>work5</th>\n",
       "      <th>work6</th>\n",
       "      <th>work7</th>\n",
       "      <th>avg</th>\n",
       "      <th>job_hopper</th>\n",
       "    </tr>\n",
       "  </thead>\n",
       "  <tbody>\n",
       "    <tr>\n",
       "      <td>0</td>\n",
       "      <td>BDP</td>\n",
       "      <td>44.0</td>\n",
       "      <td>63.0</td>\n",
       "      <td>36.0</td>\n",
       "      <td>NaN</td>\n",
       "      <td>NaN</td>\n",
       "      <td>NaN</td>\n",
       "      <td>NaN</td>\n",
       "      <td>47.67</td>\n",
       "      <td>0.0</td>\n",
       "    </tr>\n",
       "    <tr>\n",
       "      <td>1</td>\n",
       "      <td>F6Q</td>\n",
       "      <td>NaN</td>\n",
       "      <td>22.0</td>\n",
       "      <td>NaN</td>\n",
       "      <td>NaN</td>\n",
       "      <td>NaN</td>\n",
       "      <td>NaN</td>\n",
       "      <td>NaN</td>\n",
       "      <td>22.00</td>\n",
       "      <td>0.0</td>\n",
       "    </tr>\n",
       "    <tr>\n",
       "      <td>2</td>\n",
       "      <td>MRN</td>\n",
       "      <td>24.0</td>\n",
       "      <td>24.0</td>\n",
       "      <td>NaN</td>\n",
       "      <td>NaN</td>\n",
       "      <td>NaN</td>\n",
       "      <td>NaN</td>\n",
       "      <td>NaN</td>\n",
       "      <td>24.00</td>\n",
       "      <td>0.0</td>\n",
       "    </tr>\n",
       "    <tr>\n",
       "      <td>3</td>\n",
       "      <td>MXO</td>\n",
       "      <td>54.0</td>\n",
       "      <td>21.0</td>\n",
       "      <td>7.0</td>\n",
       "      <td>26.0</td>\n",
       "      <td>NaN</td>\n",
       "      <td>NaN</td>\n",
       "      <td>NaN</td>\n",
       "      <td>27.00</td>\n",
       "      <td>0.0</td>\n",
       "    </tr>\n",
       "    <tr>\n",
       "      <td>4</td>\n",
       "      <td>N0Y</td>\n",
       "      <td>4.0</td>\n",
       "      <td>14.0</td>\n",
       "      <td>19.0</td>\n",
       "      <td>8.0</td>\n",
       "      <td>NaN</td>\n",
       "      <td>NaN</td>\n",
       "      <td>NaN</td>\n",
       "      <td>11.25</td>\n",
       "      <td>1.0</td>\n",
       "    </tr>\n",
       "  </tbody>\n",
       "</table>\n",
       "</div>"
      ],
      "text/plain": [
       "  employee_code  work1  work2  work3  work4  work5  work6  work7    avg  \\\n",
       "0           BDP   44.0   63.0   36.0    NaN    NaN    NaN    NaN  47.67   \n",
       "1           F6Q    NaN   22.0    NaN    NaN    NaN    NaN    NaN  22.00   \n",
       "2           MRN   24.0   24.0    NaN    NaN    NaN    NaN    NaN  24.00   \n",
       "3           MXO   54.0   21.0    7.0   26.0    NaN    NaN    NaN  27.00   \n",
       "4           N0Y    4.0   14.0   19.0    8.0    NaN    NaN    NaN  11.25   \n",
       "\n",
       "   job_hopper  \n",
       "0         0.0  \n",
       "1         0.0  \n",
       "2         0.0  \n",
       "3         0.0  \n",
       "4         1.0  "
      ]
     },
     "execution_count": 3636,
     "metadata": {},
     "output_type": "execute_result"
    }
   ],
   "source": [
    "df_final.head()"
   ]
  },
  {
   "cell_type": "code",
   "execution_count": 3637,
   "metadata": {},
   "outputs": [
    {
     "data": {
      "text/plain": [
       "0.0    216\n",
       "1.0     66\n",
       "Name: job_hopper, dtype: int64"
      ]
     },
     "execution_count": 3637,
     "metadata": {},
     "output_type": "execute_result"
    }
   ],
   "source": [
    "pd.value_counts(df_final.job_hopper)"
   ]
  },
  {
   "cell_type": "code",
   "execution_count": 3638,
   "metadata": {},
   "outputs": [
    {
     "data": {
      "text/plain": [
       "<matplotlib.axes._subplots.AxesSubplot at 0x129d550d0>"
      ]
     },
     "execution_count": 3638,
     "metadata": {},
     "output_type": "execute_result"
    },
    {
     "data": {
      "image/png": "[encoded data removed]",
      "text/plain": [
       "<Figure size 432x288 with 1 Axes>"
      ]
     },
     "metadata": {
      "needs_background": "light"
     },
     "output_type": "display_data"
    }
   ],
   "source": [
    "df_final.job_hopper.hist()"
   ]
  },
  {
   "cell_type": "code",
   "execution_count": 3639,
   "metadata": {},
   "outputs": [],
   "source": [
    "df_final.to_csv(\"../result/avg_work_exp.csv\", index=False)"
   ]
  },
  {
   "cell_type": "code",
   "execution_count": null,
   "metadata": {},
   "outputs": [],
   "source": []
  }
 ],
 "metadata": {
  "kernelspec": {
   "display_name": "Python 3",
   "language": "python",
   "name": "python3"
  },
  "language_info": {
   "codemirror_mode": {
    "name": "ipython",
    "version": 3
   },
   "file_extension": ".py",
   "mimetype": "text/x-python",
   "name": "python",
   "nbconvert_exporter": "python",
   "pygments_lexer": "ipython3",
   "version": "3.7.4"
  }
 },
 "nbformat": 4,
 "nbformat_minor": 4
}
