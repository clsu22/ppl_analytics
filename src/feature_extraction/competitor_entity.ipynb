{
 "cells": [
  {
   "cell_type": "code",
   "execution_count": 184,
   "metadata": {},
   "outputs": [],
   "source": [
    "import pandas as pd\n",
    "import re\n",
    "import datetime\n",
    "import numpy as np\n",
    "import matplotlib.pyplot as plt\n",
    "import string \n",
    "import warnings\n",
    "warnings.simplefilter('ignore')\n"
   ]
  },
  {
   "cell_type": "code",
   "execution_count": 5,
   "metadata": {},
   "outputs": [],
   "source": [
    "def load_data(resume_path):\n",
    "    df = pd.read_excel(resume_path)\n",
    "    df.columns = [remove_space(name) for name in df.columns.to_list()]\n",
    "    return df"
   ]
  },
  {
   "cell_type": "code",
   "execution_count": 4,
   "metadata": {},
   "outputs": [],
   "source": [
    "def remove_space(text):\n",
    "    text = re.sub(r'\\s+$', '', text)\n",
    "    text = re.sub(r'^\\s+', '', text)\n",
    "    return text"
   ]
  },
  {
   "cell_type": "code",
   "execution_count": 82,
   "metadata": {},
   "outputs": [],
   "source": [
    "def cap_words(words):\n",
    "    try:\n",
    "        new_word = string.capwords(words)\n",
    "        return new_word\n",
    "    except AttributeError:\n",
    "        return np.nan"
   ]
  },
  {
   "cell_type": "code",
   "execution_count": 155,
   "metadata": {},
   "outputs": [],
   "source": [
    "def find_competitor(company, competitor_lst):\n",
    "    pat_comp =r'.*?(\\b(?:{})\\b).*?'.format('|'.join(competitor_lst))\n",
    "    try:\n",
    "        return re.match(pat_comp, company).group(1)\n",
    "    except AttributeError:\n",
    "        return np.nan\n",
    "    except TypeError:\n",
    "        return np.nan"
   ]
  },
  {
   "cell_type": "code",
   "execution_count": 186,
   "metadata": {},
   "outputs": [],
   "source": [
    "def add_competitor_flag(df, colname_lst):\n",
    "    df2 = df[colname_lst]\n",
    "    df2[\"work1_flag\"] = df2.work1_company.apply(cap_words).apply(lambda x: find_competitor(x, comp))\n",
    "    df2[\"work2_flag\"] = df2.work2_company.apply(cap_words).apply(lambda x: find_competitor(x, comp))\n",
    "    df2[\"work3_flag\"] = df2.work3_company.apply(cap_words).apply(lambda x: find_competitor(x, comp))\n",
    "    df2[\"work4_flag\"] = df2.work4_company.apply(cap_words).apply(lambda x: find_competitor(x, comp))\n",
    "    df2[\"work5_flag\"] = df2.work5_company.apply(cap_words).apply(lambda x: find_competitor(x, comp))\n",
    "    df2[\"work6_flag\"] = df2.work6_company.apply(cap_words).apply(lambda x: find_competitor(x, comp))\n",
    "    df2[\"work7_flag\"] = df2.work7_company.apply(cap_words).apply(lambda x: find_competitor(x, comp))\n",
    "    df3 = df2[[\"employee_code\", \"work1_flag\", \"work2_flag\", \"work3_flag\", \"work4_flag\", \"work5_flag\", \"work6_flag\", \"work7_flag\"]]\n",
    "    df3[\"competitor_experience\"] = df3.apply(lambda row: 0 if \n",
    "                                             pd.isna(row.work1_flag) and \n",
    "                                             pd.isna(row.work2_flag) and \n",
    "                                             pd.isna(row.work3_flag) and\n",
    "                                             pd.isna(row.work4_flag) and \n",
    "                                             pd.isna(row.work5_flag) and \n",
    "                                             pd.isna(row.work6_flag) and\n",
    "                                             pd.isna(row.work7_flag)\n",
    "                                             else 1, axis=1)\n",
    "    return df3"
   ]
  },
  {
   "cell_type": "code",
   "execution_count": 201,
   "metadata": {},
   "outputs": [],
   "source": [
    "resume = load_data(\"../data/05242020_manual_extraction_template.xlsx\")\n",
    "colname_lst = [\"employee_code\", \"work1_company\", \"work2_company\", \"work3_company\", \\\n",
    "               \"work4_company\", \"work5_company\", \"work6_company\", \"work7_company\"]\n",
    "comp = ['Freedom', 'Koodo', 'Shaw', 'Telus', 'Bell', 'Rogers', 'The Mobile Shop', \\\n",
    "        'Best Buy', 'Videotron', 'Wow', 'Mobile', 'The Source', 'Walmart']\n",
    "df_final = add_competitor_flag(resume, colname_lst)"
   ]
  },
  {
   "cell_type": "code",
   "execution_count": 202,
   "metadata": {},
   "outputs": [
    {
     "data": {
      "text/html": [
       "<div>\n",
       "<style scoped>\n",
       "    .dataframe tbody tr th:only-of-type {\n",
       "        vertical-align: middle;\n",
       "    }\n",
       "\n",
       "    .dataframe tbody tr th {\n",
       "        vertical-align: top;\n",
       "    }\n",
       "\n",
       "    .dataframe thead th {\n",
       "        text-align: right;\n",
       "    }\n",
       "</style>\n",
       "<table border=\"1\" class=\"dataframe\">\n",
       "  <thead>\n",
       "    <tr style=\"text-align: right;\">\n",
       "      <th></th>\n",
       "      <th>employee_code</th>\n",
       "      <th>work1_flag</th>\n",
       "      <th>work2_flag</th>\n",
       "      <th>work3_flag</th>\n",
       "      <th>work4_flag</th>\n",
       "      <th>work5_flag</th>\n",
       "      <th>work6_flag</th>\n",
       "      <th>work7_flag</th>\n",
       "      <th>competitor_experience</th>\n",
       "    </tr>\n",
       "  </thead>\n",
       "  <tbody>\n",
       "    <tr>\n",
       "      <td>0</td>\n",
       "      <td>BDP</td>\n",
       "      <td>NaN</td>\n",
       "      <td>NaN</td>\n",
       "      <td>NaN</td>\n",
       "      <td>NaN</td>\n",
       "      <td>NaN</td>\n",
       "      <td>NaN</td>\n",
       "      <td>NaN</td>\n",
       "      <td>0</td>\n",
       "    </tr>\n",
       "    <tr>\n",
       "      <td>1</td>\n",
       "      <td>F6Q</td>\n",
       "      <td>NaN</td>\n",
       "      <td>Rogers</td>\n",
       "      <td>NaN</td>\n",
       "      <td>NaN</td>\n",
       "      <td>NaN</td>\n",
       "      <td>NaN</td>\n",
       "      <td>NaN</td>\n",
       "      <td>1</td>\n",
       "    </tr>\n",
       "    <tr>\n",
       "      <td>2</td>\n",
       "      <td>MRN</td>\n",
       "      <td>NaN</td>\n",
       "      <td>NaN</td>\n",
       "      <td>NaN</td>\n",
       "      <td>NaN</td>\n",
       "      <td>NaN</td>\n",
       "      <td>NaN</td>\n",
       "      <td>NaN</td>\n",
       "      <td>0</td>\n",
       "    </tr>\n",
       "    <tr>\n",
       "      <td>3</td>\n",
       "      <td>MXO</td>\n",
       "      <td>NaN</td>\n",
       "      <td>NaN</td>\n",
       "      <td>NaN</td>\n",
       "      <td>NaN</td>\n",
       "      <td>NaN</td>\n",
       "      <td>NaN</td>\n",
       "      <td>NaN</td>\n",
       "      <td>0</td>\n",
       "    </tr>\n",
       "    <tr>\n",
       "      <td>4</td>\n",
       "      <td>N0Y</td>\n",
       "      <td>NaN</td>\n",
       "      <td>Best Buy</td>\n",
       "      <td>NaN</td>\n",
       "      <td>NaN</td>\n",
       "      <td>NaN</td>\n",
       "      <td>NaN</td>\n",
       "      <td>NaN</td>\n",
       "      <td>1</td>\n",
       "    </tr>\n",
       "  </tbody>\n",
       "</table>\n",
       "</div>"
      ],
      "text/plain": [
       "  employee_code work1_flag work2_flag work3_flag work4_flag work5_flag  \\\n",
       "0           BDP        NaN        NaN        NaN        NaN        NaN   \n",
       "1           F6Q        NaN     Rogers        NaN        NaN        NaN   \n",
       "2           MRN        NaN        NaN        NaN        NaN        NaN   \n",
       "3           MXO        NaN        NaN        NaN        NaN        NaN   \n",
       "4           N0Y        NaN   Best Buy        NaN        NaN        NaN   \n",
       "\n",
       "  work6_flag work7_flag  competitor_experience  \n",
       "0        NaN        NaN                      0  \n",
       "1        NaN        NaN                      1  \n",
       "2        NaN        NaN                      0  \n",
       "3        NaN        NaN                      0  \n",
       "4        NaN        NaN                      1  "
      ]
     },
     "execution_count": 202,
     "metadata": {},
     "output_type": "execute_result"
    }
   ],
   "source": [
    "df_final.head() # 1 Yes 0 No "
   ]
  },
  {
   "cell_type": "code",
   "execution_count": 203,
   "metadata": {},
   "outputs": [
    {
     "data": {
      "image/png": "[encoded data removed]",
      "text/plain": [
       "<Figure size 432x288 with 1 Axes>"
      ]
     },
     "metadata": {
      "needs_background": "light"
     },
     "output_type": "display_data"
    }
   ],
   "source": [
    "df_final.competitor_experience.hist()\n",
    "plt.show()"
   ]
  },
  {
   "cell_type": "code",
   "execution_count": 197,
   "metadata": {},
   "outputs": [],
   "source": [
    "df_final.to_csv(\"../result/competitor_experience.csv\", index=False)"
   ]
  }
 ],
 "metadata": {
  "kernelspec": {
   "display_name": "Python 3",
   "language": "python",
   "name": "python3"
  },
  "language_info": {
   "codemirror_mode": {
    "name": "ipython",
    "version": 3
   },
   "file_extension": ".py",
   "mimetype": "text/x-python",
   "name": "python",
   "nbconvert_exporter": "python",
   "pygments_lexer": "ipython3",
   "version": "3.7.4"
  }
 },
 "nbformat": 4,
 "nbformat_minor": 4
}
