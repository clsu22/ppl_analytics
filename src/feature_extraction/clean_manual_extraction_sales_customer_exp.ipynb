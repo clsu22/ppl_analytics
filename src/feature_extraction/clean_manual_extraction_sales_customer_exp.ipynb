{
 "cells": [
  {
   "cell_type": "code",
   "execution_count": 1,
   "metadata": {},
   "outputs": [],
   "source": [
    "import pandas as pd\n",
    "import re \n",
    "import spacy \n",
    "import os \n",
    "import numpy as np\n",
    "import altair as alt\n",
    "import textdistance\n",
    "from sklearn.preprocessing import MultiLabelBinarizer\n",
    "alt.data_transformers.enable('json')\n",
    "pd.options.display.max_colwidth = 100"
   ]
  },
  {
   "cell_type": "code",
   "execution_count": 2,
   "metadata": {},
   "outputs": [],
   "source": [
    "nlp = spacy.load(\"en_core_web_sm\")"
   ]
  },
  {
   "cell_type": "code",
   "execution_count": 7,
   "metadata": {},
   "outputs": [],
   "source": [
    "df_work_title = pd.read_csv(\"../../../Glentel Inc/HR Analytics - Documents/Capstone Data/ubc_mds_team_share/06_clean_data/work_title.csv\")\n",
    "df_work_title.columns = df_work_title.columns.str.strip().str.lower().str.replace(' ', '_').str.replace('(', '').str.replace(')', '')\n",
    "df_work_title = df_work_title.drop(['unnamed:_0', 'employee_name', 'administrative_jobtitle', 'assistant_manager_jobtitle',\n",
    "       'blue_collar_jobtitle', 'cashier_jobtitle', 'cook_jobtitle',\n",
    "       'customer_service_representative_jobtitle', 'driver_jobtitle',\n",
    "       'education_jobtitle', 'financial_services_jobtitle',\n",
    "       'fitness_sports_jobtitle', 'manager_jobtitle', 'no_work_title',\n",
    "       'other_jobtitle', 'sales_associate_jobtitle', 'server_jobtitle',\n",
    "       'technicians_jobtitle', 'telemarketers_jobtitle', 'work7_title_label'], axis=1)"
   ]
  },
  {
   "cell_type": "code",
   "execution_count": 9,
   "metadata": {},
   "outputs": [
    {
     "data": {
      "text/html": [
       "<div>\n",
       "<style scoped>\n",
       "    .dataframe tbody tr th:only-of-type {\n",
       "        vertical-align: middle;\n",
       "    }\n",
       "\n",
       "    .dataframe tbody tr th {\n",
       "        vertical-align: top;\n",
       "    }\n",
       "\n",
       "    .dataframe thead th {\n",
       "        text-align: right;\n",
       "    }\n",
       "</style>\n",
       "<table border=\"1\" class=\"dataframe\">\n",
       "  <thead>\n",
       "    <tr style=\"text-align: right;\">\n",
       "      <th></th>\n",
       "      <th>employee_code</th>\n",
       "      <th>work1_title_label</th>\n",
       "      <th>work2_title_label</th>\n",
       "      <th>work3_title_label</th>\n",
       "      <th>work4_title_label</th>\n",
       "      <th>work5_title_label</th>\n",
       "      <th>work6_title_label</th>\n",
       "    </tr>\n",
       "  </thead>\n",
       "  <tbody>\n",
       "    <tr>\n",
       "      <th>0</th>\n",
       "      <td>BDP</td>\n",
       "      <td>sales associate</td>\n",
       "      <td>sales associate</td>\n",
       "      <td>sales associate</td>\n",
       "      <td>not_specified</td>\n",
       "      <td>not_specified</td>\n",
       "      <td>not_specified</td>\n",
       "    </tr>\n",
       "    <tr>\n",
       "      <th>1</th>\n",
       "      <td>F6Q</td>\n",
       "      <td>sales associate</td>\n",
       "      <td>customer service representative</td>\n",
       "      <td>not_specified</td>\n",
       "      <td>not_specified</td>\n",
       "      <td>not_specified</td>\n",
       "      <td>not_specified</td>\n",
       "    </tr>\n",
       "    <tr>\n",
       "      <th>2</th>\n",
       "      <td>MRN</td>\n",
       "      <td>sales associate</td>\n",
       "      <td>cashier</td>\n",
       "      <td>not_specified</td>\n",
       "      <td>not_specified</td>\n",
       "      <td>not_specified</td>\n",
       "      <td>not_specified</td>\n",
       "    </tr>\n",
       "    <tr>\n",
       "      <th>3</th>\n",
       "      <td>MXO</td>\n",
       "      <td>manager</td>\n",
       "      <td>fitness/sports</td>\n",
       "      <td>administrative</td>\n",
       "      <td>sales associate</td>\n",
       "      <td>not_specified</td>\n",
       "      <td>not_specified</td>\n",
       "    </tr>\n",
       "    <tr>\n",
       "      <th>4</th>\n",
       "      <td>N0Y</td>\n",
       "      <td>sales associate</td>\n",
       "      <td>sales associate</td>\n",
       "      <td>customer service representative</td>\n",
       "      <td>fitness/sports</td>\n",
       "      <td>not_specified</td>\n",
       "      <td>not_specified</td>\n",
       "    </tr>\n",
       "    <tr>\n",
       "      <th>...</th>\n",
       "      <td>...</td>\n",
       "      <td>...</td>\n",
       "      <td>...</td>\n",
       "      <td>...</td>\n",
       "      <td>...</td>\n",
       "      <td>...</td>\n",
       "      <td>...</td>\n",
       "    </tr>\n",
       "    <tr>\n",
       "      <th>284</th>\n",
       "      <td>MUD</td>\n",
       "      <td>technicians</td>\n",
       "      <td>education</td>\n",
       "      <td>manager</td>\n",
       "      <td>administrative</td>\n",
       "      <td>not_specified</td>\n",
       "      <td>not_specified</td>\n",
       "    </tr>\n",
       "    <tr>\n",
       "      <th>285</th>\n",
       "      <td>L46</td>\n",
       "      <td>financial services</td>\n",
       "      <td>sales associate</td>\n",
       "      <td>administrative</td>\n",
       "      <td>not_specified</td>\n",
       "      <td>not_specified</td>\n",
       "      <td>not_specified</td>\n",
       "    </tr>\n",
       "    <tr>\n",
       "      <th>286</th>\n",
       "      <td>N87</td>\n",
       "      <td>other_jobtitle</td>\n",
       "      <td>manager</td>\n",
       "      <td>customer service representative</td>\n",
       "      <td>not_specified</td>\n",
       "      <td>not_specified</td>\n",
       "      <td>not_specified</td>\n",
       "    </tr>\n",
       "    <tr>\n",
       "      <th>287</th>\n",
       "      <td>ND9</td>\n",
       "      <td>cashier</td>\n",
       "      <td>other_jobtitle</td>\n",
       "      <td>sales associate</td>\n",
       "      <td>sales associate</td>\n",
       "      <td>not_specified</td>\n",
       "      <td>not_specified</td>\n",
       "    </tr>\n",
       "    <tr>\n",
       "      <th>288</th>\n",
       "      <td>MU6</td>\n",
       "      <td>manager</td>\n",
       "      <td>assistant manager</td>\n",
       "      <td>sales associate</td>\n",
       "      <td>not_specified</td>\n",
       "      <td>not_specified</td>\n",
       "      <td>not_specified</td>\n",
       "    </tr>\n",
       "  </tbody>\n",
       "</table>\n",
       "<p>289 rows × 7 columns</p>\n",
       "</div>"
      ],
      "text/plain": [
       "    employee_code   work1_title_label                work2_title_label  \\\n",
       "0             BDP     sales associate                  sales associate   \n",
       "1             F6Q     sales associate  customer service representative   \n",
       "2             MRN     sales associate                          cashier   \n",
       "3             MXO             manager                   fitness/sports   \n",
       "4             N0Y     sales associate                  sales associate   \n",
       "..            ...                 ...                              ...   \n",
       "284           MUD         technicians                        education   \n",
       "285           L46  financial services                  sales associate   \n",
       "286           N87      other_jobtitle                          manager   \n",
       "287           ND9             cashier                   other_jobtitle   \n",
       "288           MU6             manager                assistant manager   \n",
       "\n",
       "                   work3_title_label work4_title_label work5_title_label  \\\n",
       "0                    sales associate     not_specified     not_specified   \n",
       "1                      not_specified     not_specified     not_specified   \n",
       "2                      not_specified     not_specified     not_specified   \n",
       "3                     administrative   sales associate     not_specified   \n",
       "4    customer service representative    fitness/sports     not_specified   \n",
       "..                               ...               ...               ...   \n",
       "284                          manager    administrative     not_specified   \n",
       "285                   administrative     not_specified     not_specified   \n",
       "286  customer service representative     not_specified     not_specified   \n",
       "287                  sales associate   sales associate     not_specified   \n",
       "288                  sales associate     not_specified     not_specified   \n",
       "\n",
       "    work6_title_label  \n",
       "0       not_specified  \n",
       "1       not_specified  \n",
       "2       not_specified  \n",
       "3       not_specified  \n",
       "4       not_specified  \n",
       "..                ...  \n",
       "284     not_specified  \n",
       "285     not_specified  \n",
       "286     not_specified  \n",
       "287     not_specified  \n",
       "288     not_specified  \n",
       "\n",
       "[289 rows x 7 columns]"
      ]
     },
     "execution_count": 9,
     "metadata": {},
     "output_type": "execute_result"
    }
   ],
   "source": [
    "df_work_title"
   ]
  },
  {
   "cell_type": "code",
   "execution_count": 10,
   "metadata": {},
   "outputs": [
    {
     "data": {
      "text/html": [
       "<div>\n",
       "<style scoped>\n",
       "    .dataframe tbody tr th:only-of-type {\n",
       "        vertical-align: middle;\n",
       "    }\n",
       "\n",
       "    .dataframe tbody tr th {\n",
       "        vertical-align: top;\n",
       "    }\n",
       "\n",
       "    .dataframe thead th {\n",
       "        text-align: right;\n",
       "    }\n",
       "</style>\n",
       "<table border=\"1\" class=\"dataframe\">\n",
       "  <thead>\n",
       "    <tr style=\"text-align: right;\">\n",
       "      <th></th>\n",
       "      <th>employee_code</th>\n",
       "      <th>work1_title_label</th>\n",
       "      <th>work2_title_label</th>\n",
       "      <th>work3_title_label</th>\n",
       "      <th>work4_title_label</th>\n",
       "      <th>work5_title_label</th>\n",
       "      <th>work6_title_label</th>\n",
       "    </tr>\n",
       "  </thead>\n",
       "  <tbody>\n",
       "    <tr>\n",
       "      <th>0</th>\n",
       "      <td>BDP</td>\n",
       "      <td>sales associate</td>\n",
       "      <td>sales associate</td>\n",
       "      <td>sales associate</td>\n",
       "      <td>not_specified</td>\n",
       "      <td>not_specified</td>\n",
       "      <td>not_specified</td>\n",
       "    </tr>\n",
       "  </tbody>\n",
       "</table>\n",
       "</div>"
      ],
      "text/plain": [
       "  employee_code work1_title_label work2_title_label work3_title_label  \\\n",
       "0           BDP   sales associate   sales associate   sales associate   \n",
       "\n",
       "  work4_title_label work5_title_label work6_title_label  \n",
       "0     not_specified     not_specified     not_specified  "
      ]
     },
     "execution_count": 10,
     "metadata": {},
     "output_type": "execute_result"
    }
   ],
   "source": [
    "df_work_title.head(1)"
   ]
  },
  {
   "cell_type": "code",
   "execution_count": null,
   "metadata": {},
   "outputs": [],
   "source": []
  },
  {
   "cell_type": "code",
   "execution_count": 11,
   "metadata": {},
   "outputs": [],
   "source": [
    "df_work_exp = pd.read_csv(\"../../../Glentel Inc/HR Analytics - Documents/Capstone Data/ubc_mds_team_share/06_clean_data/work_experience.csv\")\n",
    "df_work_exp.columns = df_work_exp.columns.str.strip().str.lower().str.replace(' ', '_').str.replace('(', '').str.replace(')', '')\n",
    "df_work_exp = df_work_exp.drop(['work1_company', 'work2_company','work3_company', 'work4_company', \n",
    "                                'work5_company', 'work6_company', 'work7_company'], axis=1)"
   ]
  },
  {
   "cell_type": "code",
   "execution_count": 12,
   "metadata": {},
   "outputs": [],
   "source": [
    "df_work_exp_time = pd.merge(df_work_exp, df_work_title, on='employee_code')"
   ]
  },
  {
   "cell_type": "code",
   "execution_count": 13,
   "metadata": {},
   "outputs": [],
   "source": [
    "df_work_exp_time = df_work_exp_time[['employee_code', 'work1_length', 'work1_title_label', 'work2_length', 'work2_title_label', 'work3_length', 'work3_title_label', 'work4_length', 'work4_title_label', 'work5_length', 'work5_title_label', 'work6_length', 'work6_title_label']]\n",
    "df_work_exp_time = df_work_exp_time.fillna(0)"
   ]
  },
  {
   "cell_type": "code",
   "execution_count": 14,
   "metadata": {},
   "outputs": [
    {
     "data": {
      "text/plain": [
       "array(['sales associate', 'customer service representative', 'cashier',\n",
       "       'fitness/sports', 'telemarketers', 'manager', 'other_jobtitle',\n",
       "       'assistant manager', 'education', 'technicians', 'not_specified',\n",
       "       'server', 'blue collar', 'administrative', 'financial services',\n",
       "       'driver'], dtype=object)"
      ]
     },
     "execution_count": 14,
     "metadata": {},
     "output_type": "execute_result"
    }
   ],
   "source": [
    "df_work_exp_time['work2_title_label'].unique()"
   ]
  },
  {
   "cell_type": "code",
   "execution_count": 15,
   "metadata": {},
   "outputs": [],
   "source": [
    "for i in range(1, 7):\n",
    "    df_work_exp_time['work'+str(i)+'_length'] = np.abs(df_work_exp_time['work'+str(i)+'_length'])"
   ]
  },
  {
   "cell_type": "code",
   "execution_count": 16,
   "metadata": {},
   "outputs": [],
   "source": [
    "sales_exp = np.zeros(df_work_exp_time.shape[0])\n",
    "customer_ser_exp = np.zeros(df_work_exp_time.shape[0])\n",
    "leader_ship_exp = np.zeros(df_work_exp_time.shape[0])\n",
    "\n",
    "for i in range(0, df_work_exp_time.shape[0]):\n",
    "    for j in range(1,7):\n",
    "        if df_work_exp_time['work'+str(j)+'_title_label'][i] == 'sales associate':\n",
    "            sales_exp[i] += df_work_exp_time['work'+str(j)+'_length'][i]\n",
    "        if any(x in df_work_exp_time['work'+str(j)+'_title_label'][i] for x in ['service', 'server']):\n",
    "            customer_ser_exp[i] += df_work_exp_time['work'+str(j)+'_length'][i]\n",
    "        if any(x in df_work_exp_time['work'+str(j)+'_title_label'][i] for x in ['manager']):\n",
    "               leader_ship_exp[i] += df_work_exp_time['work'+str(j)+'_length'][i]"
   ]
  },
  {
   "cell_type": "code",
   "execution_count": 17,
   "metadata": {},
   "outputs": [],
   "source": [
    "df_work_exp_time['sales_exp_months'] = sales_exp\n",
    "df_work_exp_time['customer_serv_exp_months'] = customer_ser_exp\n",
    "df_work_exp_time['leader_ship_exp_months'] = leader_ship_exp"
   ]
  },
  {
   "cell_type": "code",
   "execution_count": 18,
   "metadata": {},
   "outputs": [],
   "source": [
    "df_work_exp_time = df_work_exp_time.drop(['work1_length', 'work1_title_label', 'work2_length',\n",
    "       'work2_title_label', 'work3_length', 'work3_title_label',\n",
    "       'work4_length', 'work4_title_label', 'work5_length',\n",
    "       'work5_title_label', 'work6_length', 'work6_title_label'], axis=1)"
   ]
  },
  {
   "cell_type": "code",
   "execution_count": 19,
   "metadata": {},
   "outputs": [],
   "source": [
    "df_work_exp_time.to_csv('../../../Glentel Inc/HR Analytics - Documents/Capstone Data/ubc_mds_team_share/06_clean_data/sales_custom_exp.csv')"
   ]
  },
  {
   "cell_type": "code",
   "execution_count": null,
   "metadata": {},
   "outputs": [],
   "source": []
  }
 ],
 "metadata": {
  "kernelspec": {
   "display_name": "Python 3",
   "language": "python",
   "name": "python3"
  },
  "language_info": {
   "codemirror_mode": {
    "name": "ipython",
    "version": 3
   },
   "file_extension": ".py",
   "mimetype": "text/x-python",
   "name": "python",
   "nbconvert_exporter": "python",
   "pygments_lexer": "ipython3",
   "version": "3.7.6"
  }
 },
 "nbformat": 4,
 "nbformat_minor": 4
}
