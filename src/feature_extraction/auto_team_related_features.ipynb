{
 "cells": [
  {
   "cell_type": "code",
   "execution_count": 76,
   "metadata": {},
   "outputs": [],
   "source": [
    "import pandas as pd\n",
    "import re \n",
    "import spacy \n",
    "import os \n",
    "import numpy as np"
   ]
  },
  {
   "cell_type": "code",
   "execution_count": 77,
   "metadata": {},
   "outputs": [],
   "source": [
    "nlp = spacy.load(\"en_core_web_sm\")"
   ]
  },
  {
   "cell_type": "markdown",
   "metadata": {},
   "source": [
    "## Share paths"
   ]
  },
  {
   "cell_type": "code",
   "execution_count": 78,
   "metadata": {},
   "outputs": [],
   "source": [
    "#df = pd.read_csv(\"../../../Glentel Inc/HR Analytics - Documents/Capstone Data/ubc_mds_team_share/06_clean_data/05182020_cleaned_english_resumes_V1.0.csv\")"
   ]
  },
  {
   "cell_type": "code",
   "execution_count": 79,
   "metadata": {},
   "outputs": [],
   "source": [
    "#df_train = pd.read_csv(\"../../../Glentel Inc/HR Analytics - Documents/Capstone Data/ubc_mds_team_share/02_eda_data/output/train_dataset.csv\")"
   ]
  },
  {
   "cell_type": "markdown",
   "metadata": {},
   "source": [
    "## Local Paths"
   ]
  },
  {
   "cell_type": "code",
   "execution_count": 80,
   "metadata": {},
   "outputs": [],
   "source": [
    "df = pd.read_csv(\"../../data/input/feature_extraction/05182020_cleaned_english_resumes_V1.0.csv\")"
   ]
  },
  {
   "cell_type": "code",
   "execution_count": 81,
   "metadata": {},
   "outputs": [
    {
     "data": {
      "text/html": [
       "<div>\n",
       "<style scoped>\n",
       "    .dataframe tbody tr th:only-of-type {\n",
       "        vertical-align: middle;\n",
       "    }\n",
       "\n",
       "    .dataframe tbody tr th {\n",
       "        vertical-align: top;\n",
       "    }\n",
       "\n",
       "    .dataframe thead th {\n",
       "        text-align: right;\n",
       "    }\n",
       "</style>\n",
       "<table border=\"1\" class=\"dataframe\">\n",
       "  <thead>\n",
       "    <tr style=\"text-align: right;\">\n",
       "      <th></th>\n",
       "      <th>Unnamed: 0</th>\n",
       "      <th>employee_name</th>\n",
       "      <th>employee_code</th>\n",
       "      <th>store</th>\n",
       "      <th>raw_resume</th>\n",
       "      <th>resume_text</th>\n",
       "      <th>resume_bline</th>\n",
       "      <th>language</th>\n",
       "      <th>file_type</th>\n",
       "      <th>clean_text</th>\n",
       "    </tr>\n",
       "  </thead>\n",
       "  <tbody>\n",
       "    <tr>\n",
       "      <th>0</th>\n",
       "      <td>0</td>\n",
       "      <td>Abbasi, Samiee Z</td>\n",
       "      <td>N42</td>\n",
       "      <td>WW 374</td>\n",
       "      <td>\\n\\n\\n\\n\\n\\n\\n\\n\\n\\n\\n\\n\\n\\n\\n\\n\\n\\n\\n\\n\\n\\n\\n\\n\\n\\n\\n\\n\\n\\n\\n\\n\\n\\n\\n\\n\\n\\n\\n\\n\\n\\n\\n\\n\\n\\n\\n\\n...</td>\n",
       "      <td>Samiee Zahid Abbasi 61 Muscat Crescent Ajax, ON L1Z 0B8 Phone: 647-285-3809 E-mail: sabbasii@ic...</td>\n",
       "      <td>['', '', '', '', '', '', '', '', '', '', '', '', '', '', '', '', '', '', '', '', '', '', '', '',...</td>\n",
       "      <td>English</td>\n",
       "      <td>docx</td>\n",
       "      <td>Zahid Muscat Crescent look build great work fastpaced environment skill Abilities read write spe...</td>\n",
       "    </tr>\n",
       "    <tr>\n",
       "      <th>1</th>\n",
       "      <td>1</td>\n",
       "      <td>Abdi, Melika</td>\n",
       "      <td>N3O</td>\n",
       "      <td>TB 146</td>\n",
       "      <td>\\n\\n\\n\\n\\n\\n\\n\\n\\n\\n\\n\\n\\n\\n\\n\\n\\n\\n\\n\\n\\n\\n\\n\\n\\n\\n\\n\\n\\n\\n\\n\\n\\n\\n\\n\\n\\n\\n\\nSkills\\n\\nExperien...</td>\n",
       "      <td>Skills Experience MELIKA ABDI Carmelo Avenue Coquitlam, BC V3B7M9 Ph: 6047049487 melikaabdi94@g...</td>\n",
       "      <td>['', '', '', '', '', '', '', '', '', '', '', '', '', '', '', '', '', '', '', '', '', '', '', '',...</td>\n",
       "      <td>English</td>\n",
       "      <td>pdf</td>\n",
       "      <td>Skills Experience Carmelo Avenue Ph ability work pressure effective leadership managemet Teamwor...</td>\n",
       "    </tr>\n",
       "    <tr>\n",
       "      <th>2</th>\n",
       "      <td>2</td>\n",
       "      <td>Abdulali, Kaizar</td>\n",
       "      <td>BDP</td>\n",
       "      <td>WW 252</td>\n",
       "      <td>\\n\\n\\n\\n\\n\\n\\n\\n\\n\\n\\n\\n\\n\\n\\n\\n\\n\\n\\n\\n\\n\\n\\n\\n\\n\\n\\n\\n\\n\\n\\n\\n\\n\\n\\n\\n\\n\\n\\n\\n\\n\\n\\n\\n\\n\\n\\n\\n...</td>\n",
       "      <td>KAIZAR ABDULALI kaizar83@gmail.com | 780 990-8304 May 15th, 2019 Thank you for your considerati...</td>\n",
       "      <td>['', '', '', '', '', '', '', '', '', '', '', '', '', '', '', '', '', '', '', '', '', '', '', '',...</td>\n",
       "      <td>English</td>\n",
       "      <td>pdf</td>\n",
       "      <td>thank consideration role Project Manager Business Analyst year Wireless Electronics Retail sale ...</td>\n",
       "    </tr>\n",
       "  </tbody>\n",
       "</table>\n",
       "</div>"
      ],
      "text/plain": [
       "   Unnamed: 0     employee_name employee_code   store  \\\n",
       "0           0  Abbasi, Samiee Z           N42  WW 374   \n",
       "1           1      Abdi, Melika           N3O  TB 146   \n",
       "2           2  Abdulali, Kaizar           BDP  WW 252   \n",
       "\n",
       "                                                                                            raw_resume  \\\n",
       "0  \\n\\n\\n\\n\\n\\n\\n\\n\\n\\n\\n\\n\\n\\n\\n\\n\\n\\n\\n\\n\\n\\n\\n\\n\\n\\n\\n\\n\\n\\n\\n\\n\\n\\n\\n\\n\\n\\n\\n\\n\\n\\n\\n\\n\\n\\n\\n\\n...   \n",
       "1  \\n\\n\\n\\n\\n\\n\\n\\n\\n\\n\\n\\n\\n\\n\\n\\n\\n\\n\\n\\n\\n\\n\\n\\n\\n\\n\\n\\n\\n\\n\\n\\n\\n\\n\\n\\n\\n\\n\\nSkills\\n\\nExperien...   \n",
       "2  \\n\\n\\n\\n\\n\\n\\n\\n\\n\\n\\n\\n\\n\\n\\n\\n\\n\\n\\n\\n\\n\\n\\n\\n\\n\\n\\n\\n\\n\\n\\n\\n\\n\\n\\n\\n\\n\\n\\n\\n\\n\\n\\n\\n\\n\\n\\n\\n...   \n",
       "\n",
       "                                                                                           resume_text  \\\n",
       "0   Samiee Zahid Abbasi 61 Muscat Crescent Ajax, ON L1Z 0B8 Phone: 647-285-3809 E-mail: sabbasii@ic...   \n",
       "1   Skills Experience MELIKA ABDI Carmelo Avenue Coquitlam, BC V3B7M9 Ph: 6047049487 melikaabdi94@g...   \n",
       "2   KAIZAR ABDULALI kaizar83@gmail.com | 780 990-8304 May 15th, 2019 Thank you for your considerati...   \n",
       "\n",
       "                                                                                          resume_bline  \\\n",
       "0  ['', '', '', '', '', '', '', '', '', '', '', '', '', '', '', '', '', '', '', '', '', '', '', '',...   \n",
       "1  ['', '', '', '', '', '', '', '', '', '', '', '', '', '', '', '', '', '', '', '', '', '', '', '',...   \n",
       "2  ['', '', '', '', '', '', '', '', '', '', '', '', '', '', '', '', '', '', '', '', '', '', '', '',...   \n",
       "\n",
       "  language file_type  \\\n",
       "0  English      docx   \n",
       "1  English       pdf   \n",
       "2  English       pdf   \n",
       "\n",
       "                                                                                            clean_text  \n",
       "0  Zahid Muscat Crescent look build great work fastpaced environment skill Abilities read write spe...  \n",
       "1  Skills Experience Carmelo Avenue Ph ability work pressure effective leadership managemet Teamwor...  \n",
       "2  thank consideration role Project Manager Business Analyst year Wireless Electronics Retail sale ...  "
      ]
     },
     "execution_count": 81,
     "metadata": {},
     "output_type": "execute_result"
    }
   ],
   "source": [
    "df.head(3)"
   ]
  },
  {
   "cell_type": "code",
   "execution_count": 82,
   "metadata": {},
   "outputs": [],
   "source": [
    "df_train = pd.read_csv(\"../../data/input/feature_extraction/0607_02_training_dataset.csv\")"
   ]
  },
  {
   "cell_type": "code",
   "execution_count": 83,
   "metadata": {},
   "outputs": [
    {
     "data": {
      "text/html": [
       "<div>\n",
       "<style scoped>\n",
       "    .dataframe tbody tr th:only-of-type {\n",
       "        vertical-align: middle;\n",
       "    }\n",
       "\n",
       "    .dataframe tbody tr th {\n",
       "        vertical-align: top;\n",
       "    }\n",
       "\n",
       "    .dataframe thead th {\n",
       "        text-align: right;\n",
       "    }\n",
       "</style>\n",
       "<table border=\"1\" class=\"dataframe\">\n",
       "  <thead>\n",
       "    <tr style=\"text-align: right;\">\n",
       "      <th></th>\n",
       "      <th>employee_code</th>\n",
       "      <th>rehired_</th>\n",
       "      <th>referral_flag</th>\n",
       "      <th>job_hopper</th>\n",
       "      <th>average_tenure_per_job</th>\n",
       "      <th>shortest_tenure</th>\n",
       "      <th>competitor_experience</th>\n",
       "      <th>Freedom_competitor_exp</th>\n",
       "      <th>Koodo_competitor_exp</th>\n",
       "      <th>Shaw_competitor_exp</th>\n",
       "      <th>...</th>\n",
       "      <th>telco_electro_jobs</th>\n",
       "      <th>telco_electro_recency</th>\n",
       "      <th>recency_type_telco_electro_exp</th>\n",
       "      <th>no_job_categorical</th>\n",
       "      <th>telco_electro_perc_group</th>\n",
       "      <th>read_score_categorical</th>\n",
       "      <th>flag_hd_bachelor_plus</th>\n",
       "      <th>flag_hd_highschool</th>\n",
       "      <th>business_flag</th>\n",
       "      <th>no_jobs</th>\n",
       "    </tr>\n",
       "  </thead>\n",
       "  <tbody>\n",
       "    <tr>\n",
       "      <th>0</th>\n",
       "      <td>MZE</td>\n",
       "      <td>No</td>\n",
       "      <td>1.0</td>\n",
       "      <td>0.0</td>\n",
       "      <td>22.00</td>\n",
       "      <td>14.0</td>\n",
       "      <td>1</td>\n",
       "      <td>0</td>\n",
       "      <td>0</td>\n",
       "      <td>0</td>\n",
       "      <td>...</td>\n",
       "      <td>1</td>\n",
       "      <td>2</td>\n",
       "      <td>low</td>\n",
       "      <td>few</td>\n",
       "      <td>significant</td>\n",
       "      <td>low</td>\n",
       "      <td>0</td>\n",
       "      <td>1</td>\n",
       "      <td>0</td>\n",
       "      <td>2</td>\n",
       "    </tr>\n",
       "    <tr>\n",
       "      <th>1</th>\n",
       "      <td>MRU</td>\n",
       "      <td>No</td>\n",
       "      <td>0.0</td>\n",
       "      <td>0.0</td>\n",
       "      <td>12.33</td>\n",
       "      <td>3.0</td>\n",
       "      <td>1</td>\n",
       "      <td>0</td>\n",
       "      <td>0</td>\n",
       "      <td>0</td>\n",
       "      <td>...</td>\n",
       "      <td>1</td>\n",
       "      <td>1</td>\n",
       "      <td>high</td>\n",
       "      <td>multiple</td>\n",
       "      <td>significant</td>\n",
       "      <td>high</td>\n",
       "      <td>0</td>\n",
       "      <td>0</td>\n",
       "      <td>0</td>\n",
       "      <td>3</td>\n",
       "    </tr>\n",
       "  </tbody>\n",
       "</table>\n",
       "<p>2 rows × 75 columns</p>\n",
       "</div>"
      ],
      "text/plain": [
       "  employee_code rehired_  referral_flag  job_hopper  average_tenure_per_job  \\\n",
       "0           MZE       No            1.0         0.0                   22.00   \n",
       "1           MRU       No            0.0         0.0                   12.33   \n",
       "\n",
       "   shortest_tenure  competitor_experience  Freedom_competitor_exp  \\\n",
       "0             14.0                      1                       0   \n",
       "1              3.0                      1                       0   \n",
       "\n",
       "   Koodo_competitor_exp  Shaw_competitor_exp  ...  telco_electro_jobs  \\\n",
       "0                     0                    0  ...                   1   \n",
       "1                     0                    0  ...                   1   \n",
       "\n",
       "   telco_electro_recency  recency_type_telco_electro_exp  no_job_categorical  \\\n",
       "0                      2                             low                 few   \n",
       "1                      1                            high            multiple   \n",
       "\n",
       "   telco_electro_perc_group  read_score_categorical  flag_hd_bachelor_plus  \\\n",
       "0               significant                     low                      0   \n",
       "1               significant                    high                      0   \n",
       "\n",
       "   flag_hd_highschool  business_flag  no_jobs  \n",
       "0                   1              0        2  \n",
       "1                   0              0        3  \n",
       "\n",
       "[2 rows x 75 columns]"
      ]
     },
     "execution_count": 83,
     "metadata": {},
     "output_type": "execute_result"
    }
   ],
   "source": [
    "df_train.head(2)"
   ]
  },
  {
   "cell_type": "code",
   "execution_count": 84,
   "metadata": {},
   "outputs": [],
   "source": [
    "df_train_code = df_train[['employee_code', 'hp_class']]"
   ]
  },
  {
   "cell_type": "code",
   "execution_count": 85,
   "metadata": {},
   "outputs": [],
   "source": [
    "df_resume = df[['employee_code', 'employee_name', 'clean_text', 'resume_text']]"
   ]
  },
  {
   "cell_type": "code",
   "execution_count": 86,
   "metadata": {},
   "outputs": [],
   "source": [
    "df_resume_clean = df_train_code.merge(df_resume, on='employee_code')"
   ]
  },
  {
   "cell_type": "code",
   "execution_count": 87,
   "metadata": {
    "scrolled": true
   },
   "outputs": [
    {
     "data": {
      "text/html": [
       "<div>\n",
       "<style scoped>\n",
       "    .dataframe tbody tr th:only-of-type {\n",
       "        vertical-align: middle;\n",
       "    }\n",
       "\n",
       "    .dataframe tbody tr th {\n",
       "        vertical-align: top;\n",
       "    }\n",
       "\n",
       "    .dataframe thead th {\n",
       "        text-align: right;\n",
       "    }\n",
       "</style>\n",
       "<table border=\"1\" class=\"dataframe\">\n",
       "  <thead>\n",
       "    <tr style=\"text-align: right;\">\n",
       "      <th></th>\n",
       "      <th>employee_code</th>\n",
       "      <th>hp_class</th>\n",
       "      <th>employee_name</th>\n",
       "      <th>clean_text</th>\n",
       "      <th>resume_text</th>\n",
       "    </tr>\n",
       "  </thead>\n",
       "  <tbody>\n",
       "    <tr>\n",
       "      <th>0</th>\n",
       "      <td>MZE</td>\n",
       "      <td>0.0</td>\n",
       "      <td>Birla, Shelly</td>\n",
       "      <td>Avenue Tel reference available request objective obtain fulltime position enable utilize custome...</td>\n",
       "      <td>SHELLY BIRLA 1293 Midland Avenue Toronto, ON M1K4H4 Tel: (647) 554 - 5181 shelly_birla@hotmail....</td>\n",
       "    </tr>\n",
       "    <tr>\n",
       "      <th>1</th>\n",
       "      <td>MRU</td>\n",
       "      <td>0.0</td>\n",
       "      <td>Williams, Dave</td>\n",
       "      <td>Resume obtain utilize opportunity grow benefit employer self Work Experience Assistant Store Man...</td>\n",
       "      <td>Indeed Resume Dave Williams To obtain and utilize opportunities; while growing, benefiting the ...</td>\n",
       "    </tr>\n",
       "  </tbody>\n",
       "</table>\n",
       "</div>"
      ],
      "text/plain": [
       "  employee_code  hp_class   employee_name  \\\n",
       "0           MZE       0.0   Birla, Shelly   \n",
       "1           MRU       0.0  Williams, Dave   \n",
       "\n",
       "                                                                                            clean_text  \\\n",
       "0  Avenue Tel reference available request objective obtain fulltime position enable utilize custome...   \n",
       "1  Resume obtain utilize opportunity grow benefit employer self Work Experience Assistant Store Man...   \n",
       "\n",
       "                                                                                           resume_text  \n",
       "0   SHELLY BIRLA 1293 Midland Avenue Toronto, ON M1K4H4 Tel: (647) 554 - 5181 shelly_birla@hotmail....  \n",
       "1   Indeed Resume Dave Williams To obtain and utilize opportunities; while growing, benefiting the ...  "
      ]
     },
     "execution_count": 87,
     "metadata": {},
     "output_type": "execute_result"
    }
   ],
   "source": [
    "df_resume_clean.head(2)"
   ]
  },
  {
   "cell_type": "markdown",
   "metadata": {},
   "source": [
    "## \"Team player\" phrase  and \"Team\" word features"
   ]
  },
  {
   "cell_type": "code",
   "execution_count": 88,
   "metadata": {},
   "outputs": [],
   "source": [
    "def team_player_phrase(txt):\n",
    "    txt = str(txt).lower()\n",
    "    if re.search(\"team player\", txt):\n",
    "        flag = 1\n",
    "    else:\n",
    "        flag = 0\n",
    "    return flag"
   ]
  },
  {
   "cell_type": "code",
   "execution_count": 89,
   "metadata": {},
   "outputs": [],
   "source": [
    "def team_word(txt):\n",
    "    txt = str(txt).lower()\n",
    "    if re.search(\"team\", txt):\n",
    "        flag = 1\n",
    "    else:\n",
    "        flag = 0\n",
    "    return flag"
   ]
  },
  {
   "cell_type": "code",
   "execution_count": 90,
   "metadata": {},
   "outputs": [
    {
     "data": {
      "text/html": [
       "<div>\n",
       "<style scoped>\n",
       "    .dataframe tbody tr th:only-of-type {\n",
       "        vertical-align: middle;\n",
       "    }\n",
       "\n",
       "    .dataframe tbody tr th {\n",
       "        vertical-align: top;\n",
       "    }\n",
       "\n",
       "    .dataframe thead th {\n",
       "        text-align: right;\n",
       "    }\n",
       "</style>\n",
       "<table border=\"1\" class=\"dataframe\">\n",
       "  <thead>\n",
       "    <tr style=\"text-align: right;\">\n",
       "      <th></th>\n",
       "      <th>employee_code</th>\n",
       "      <th>hp_class</th>\n",
       "      <th>employee_name</th>\n",
       "      <th>clean_text</th>\n",
       "      <th>resume_text</th>\n",
       "      <th>team_player_phrase</th>\n",
       "      <th>team_word</th>\n",
       "    </tr>\n",
       "  </thead>\n",
       "  <tbody>\n",
       "    <tr>\n",
       "      <th>0</th>\n",
       "      <td>MZE</td>\n",
       "      <td>0.0</td>\n",
       "      <td>Birla, Shelly</td>\n",
       "      <td>Avenue Tel reference available request objective obtain fulltime position enable utilize custome...</td>\n",
       "      <td>SHELLY BIRLA 1293 Midland Avenue Toronto, ON M1K4H4 Tel: (647) 554 - 5181 shelly_birla@hotmail....</td>\n",
       "      <td>1</td>\n",
       "      <td>1</td>\n",
       "    </tr>\n",
       "    <tr>\n",
       "      <th>1</th>\n",
       "      <td>MRU</td>\n",
       "      <td>0.0</td>\n",
       "      <td>Williams, Dave</td>\n",
       "      <td>Resume obtain utilize opportunity grow benefit employer self Work Experience Assistant Store Man...</td>\n",
       "      <td>Indeed Resume Dave Williams To obtain and utilize opportunities; while growing, benefiting the ...</td>\n",
       "      <td>0</td>\n",
       "      <td>0</td>\n",
       "    </tr>\n",
       "  </tbody>\n",
       "</table>\n",
       "</div>"
      ],
      "text/plain": [
       "  employee_code  hp_class   employee_name  \\\n",
       "0           MZE       0.0   Birla, Shelly   \n",
       "1           MRU       0.0  Williams, Dave   \n",
       "\n",
       "                                                                                            clean_text  \\\n",
       "0  Avenue Tel reference available request objective obtain fulltime position enable utilize custome...   \n",
       "1  Resume obtain utilize opportunity grow benefit employer self Work Experience Assistant Store Man...   \n",
       "\n",
       "                                                                                           resume_text  \\\n",
       "0   SHELLY BIRLA 1293 Midland Avenue Toronto, ON M1K4H4 Tel: (647) 554 - 5181 shelly_birla@hotmail....   \n",
       "1   Indeed Resume Dave Williams To obtain and utilize opportunities; while growing, benefiting the ...   \n",
       "\n",
       "   team_player_phrase  team_word  \n",
       "0                   1          1  \n",
       "1                   0          0  "
      ]
     },
     "execution_count": 90,
     "metadata": {},
     "output_type": "execute_result"
    }
   ],
   "source": [
    "df_resume_clean['team_player_phrase'] = df_resume_clean.resume_text.apply(lambda x: team_player_phrase(x))\n",
    "df_resume_clean['team_word'] = df_resume_clean.resume_text.apply(lambda x: team_word(x))\n",
    "df_resume_clean.head(2)"
   ]
  },
  {
   "cell_type": "code",
   "execution_count": 91,
   "metadata": {},
   "outputs": [],
   "source": [
    "#df_resume_clean[df_resume_clean['team_player']==1]['resume_text'].sample(n=1).iloc[0]"
   ]
  },
  {
   "cell_type": "markdown",
   "metadata": {},
   "source": [
    "## Keyword Statistics"
   ]
  },
  {
   "cell_type": "code",
   "execution_count": 92,
   "metadata": {
    "scrolled": false
   },
   "outputs": [
    {
     "data": {
      "text/plain": [
       "employee_code         42\n",
       "hp_class              42\n",
       "employee_name         42\n",
       "clean_text            42\n",
       "resume_text           42\n",
       "team_player_phrase    42\n",
       "team_word             42\n",
       "dtype: int64"
      ]
     },
     "execution_count": 92,
     "metadata": {},
     "output_type": "execute_result"
    }
   ],
   "source": [
    "df_resume_clean[df_resume_clean['team_player_phrase']==1].count()"
   ]
  },
  {
   "cell_type": "code",
   "execution_count": 93,
   "metadata": {},
   "outputs": [
    {
     "data": {
      "text/plain": [
       "<matplotlib.axes._subplots.AxesSubplot at 0x194acc9a108>"
      ]
     },
     "execution_count": 93,
     "metadata": {},
     "output_type": "execute_result"
    },
    {
     "data": {
      "image/png": "[encoded data removed]",
      "text/plain": [
       "<Figure size 432x288 with 1 Axes>"
      ]
     },
     "metadata": {
      "needs_background": "light"
     },
     "output_type": "display_data"
    }
   ],
   "source": [
    "df_resume_clean.team_player_phrase.hist()"
   ]
  },
  {
   "cell_type": "code",
   "execution_count": 94,
   "metadata": {},
   "outputs": [
    {
     "data": {
      "text/plain": [
       "employee_code         221\n",
       "hp_class              221\n",
       "employee_name         221\n",
       "clean_text            221\n",
       "resume_text           221\n",
       "team_player_phrase    221\n",
       "team_word             221\n",
       "dtype: int64"
      ]
     },
     "execution_count": 94,
     "metadata": {},
     "output_type": "execute_result"
    }
   ],
   "source": [
    "df_resume_clean[df_resume_clean['team_word']==1].count()"
   ]
  },
  {
   "cell_type": "code",
   "execution_count": 95,
   "metadata": {
    "scrolled": false
   },
   "outputs": [
    {
     "data": {
      "text/plain": [
       "<matplotlib.axes._subplots.AxesSubplot at 0x194af206708>"
      ]
     },
     "execution_count": 95,
     "metadata": {},
     "output_type": "execute_result"
    },
    {
     "data": {
      "image/png": "[encoded data removed]",
      "text/plain": [
       "<Figure size 432x288 with 1 Axes>"
      ]
     },
     "metadata": {
      "needs_background": "light"
     },
     "output_type": "display_data"
    }
   ],
   "source": [
    "df_resume_clean.team_word.hist()"
   ]
  },
  {
   "cell_type": "code",
   "execution_count": 96,
   "metadata": {},
   "outputs": [
    {
     "data": {
      "text/html": [
       "<div>\n",
       "<style scoped>\n",
       "    .dataframe tbody tr th:only-of-type {\n",
       "        vertical-align: middle;\n",
       "    }\n",
       "\n",
       "    .dataframe tbody tr th {\n",
       "        vertical-align: top;\n",
       "    }\n",
       "\n",
       "    .dataframe thead th {\n",
       "        text-align: right;\n",
       "    }\n",
       "</style>\n",
       "<table border=\"1\" class=\"dataframe\">\n",
       "  <thead>\n",
       "    <tr style=\"text-align: right;\">\n",
       "      <th></th>\n",
       "      <th>hp_class</th>\n",
       "      <th>team_player_phrase</th>\n",
       "      <th>team_word</th>\n",
       "    </tr>\n",
       "  </thead>\n",
       "  <tbody>\n",
       "    <tr>\n",
       "      <th>count</th>\n",
       "      <td>288.000000</td>\n",
       "      <td>288.000000</td>\n",
       "      <td>288.000000</td>\n",
       "    </tr>\n",
       "    <tr>\n",
       "      <th>mean</th>\n",
       "      <td>0.243056</td>\n",
       "      <td>0.145833</td>\n",
       "      <td>0.767361</td>\n",
       "    </tr>\n",
       "    <tr>\n",
       "      <th>std</th>\n",
       "      <td>0.429675</td>\n",
       "      <td>0.353553</td>\n",
       "      <td>0.423249</td>\n",
       "    </tr>\n",
       "    <tr>\n",
       "      <th>min</th>\n",
       "      <td>0.000000</td>\n",
       "      <td>0.000000</td>\n",
       "      <td>0.000000</td>\n",
       "    </tr>\n",
       "    <tr>\n",
       "      <th>25%</th>\n",
       "      <td>0.000000</td>\n",
       "      <td>0.000000</td>\n",
       "      <td>1.000000</td>\n",
       "    </tr>\n",
       "    <tr>\n",
       "      <th>50%</th>\n",
       "      <td>0.000000</td>\n",
       "      <td>0.000000</td>\n",
       "      <td>1.000000</td>\n",
       "    </tr>\n",
       "    <tr>\n",
       "      <th>75%</th>\n",
       "      <td>0.000000</td>\n",
       "      <td>0.000000</td>\n",
       "      <td>1.000000</td>\n",
       "    </tr>\n",
       "    <tr>\n",
       "      <th>max</th>\n",
       "      <td>1.000000</td>\n",
       "      <td>1.000000</td>\n",
       "      <td>1.000000</td>\n",
       "    </tr>\n",
       "  </tbody>\n",
       "</table>\n",
       "</div>"
      ],
      "text/plain": [
       "         hp_class  team_player_phrase   team_word\n",
       "count  288.000000          288.000000  288.000000\n",
       "mean     0.243056            0.145833    0.767361\n",
       "std      0.429675            0.353553    0.423249\n",
       "min      0.000000            0.000000    0.000000\n",
       "25%      0.000000            0.000000    1.000000\n",
       "50%      0.000000            0.000000    1.000000\n",
       "75%      0.000000            0.000000    1.000000\n",
       "max      1.000000            1.000000    1.000000"
      ]
     },
     "execution_count": 96,
     "metadata": {},
     "output_type": "execute_result"
    }
   ],
   "source": [
    "df_resume_clean.describe()"
   ]
  },
  {
   "cell_type": "markdown",
   "metadata": {},
   "source": [
    "# Generate Ouput"
   ]
  },
  {
   "cell_type": "code",
   "execution_count": 97,
   "metadata": {},
   "outputs": [],
   "source": [
    "df_resume_clean = df_resume_clean.drop(['hp_class', 'employee_name', 'clean_text', 'resume_text'], axis=1)"
   ]
  },
  {
   "cell_type": "code",
   "execution_count": 98,
   "metadata": {},
   "outputs": [],
   "source": [
    "df_resume_clean.to_csv('../../data/input/feature_extraction/auto_team_related_features.csv')"
   ]
  },
  {
   "cell_type": "code",
   "execution_count": null,
   "metadata": {},
   "outputs": [],
   "source": [
    "#df_resume_clean.to_csv('../../../Glentel Inc/HR Analytics - Documents/Capstone Data/ubc_mds_team_share/06_clean_data/auto_education_concentration.csv')"
   ]
  },
  {
   "cell_type": "markdown",
   "metadata": {},
   "source": [
    "# Generate Function"
   ]
  },
  {
   "cell_type": "markdown",
   "metadata": {},
   "source": [
    "### Package installation missing:"
   ]
  },
  {
   "cell_type": "code",
   "execution_count": null,
   "metadata": {},
   "outputs": [],
   "source": [
    "# docopt\n",
    "#conda install -c anaconda docopt"
   ]
  }
 ],
 "metadata": {
  "kernelspec": {
   "display_name": "Python 3",
   "language": "python",
   "name": "python3"
  },
  "language_info": {
   "codemirror_mode": {
    "name": "ipython",
    "version": 3
   },
   "file_extension": ".py",
   "mimetype": "text/x-python",
   "name": "python",
   "nbconvert_exporter": "python",
   "pygments_lexer": "ipython3",
   "version": "3.7.6"
  }
 },
 "nbformat": 4,
 "nbformat_minor": 4
}
