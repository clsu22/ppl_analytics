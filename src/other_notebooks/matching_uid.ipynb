{
 "cells": [
  {
   "cell_type": "code",
   "execution_count": 491,
   "metadata": {},
   "outputs": [],
   "source": [
    "import pdfplumber\n",
    "import pandas as pd\n",
    "import os\n",
    "#import spacy \n",
    "import numpy as np\n",
    "from IPython.display import clear_output\n",
    "import re"
   ]
  },
  {
   "cell_type": "code",
   "execution_count": 494,
   "metadata": {},
   "outputs": [],
   "source": [
    "def get_names(dirname):\n",
    "    \"\"\"\n",
    "    Get employee names, store ids and filenames\n",
    "    \"\"\"\n",
    "    employee_names = []\n",
    "    store_ids = []\n",
    "    filepaths = []\n",
    "    uids = []\n",
    "    for root, dirs, files in os.walk(dirname):\n",
    "        for item in files:\n",
    "            if \".xlsx\" in item:\n",
    "                skip=True\n",
    "                continue\n",
    "            else:\n",
    "                filename = os.path.join(root, item)\n",
    "                filepaths.append(filename)\n",
    "                item = re.sub('[\\s]+', ' ', \n",
    "                              re.sub('^\\s\\-\\s', ' - ', \n",
    "                                     re.sub('[\\(\\)]+', ' - ', item)))\n",
    "                item = re.sub(' - not formatted', ' ', item)\n",
    "                item = re.sub('(\\s\\-)[A-Z0-9]', ' - ', item)\n",
    "                #item = re.sub('[A-Z0-9](\\-\\s)[A-Z0-9]', ' - ', item)\n",
    "                item = re.sub('.pdf', ' ', item)\n",
    "                item = re.sub('.rtf', ' ', item)\n",
    "                item = re.sub('.doc[x]*', ' ', item)\n",
    "                item = re.sub('[\\s]+', ' ', item)\n",
    "                #id = re.findall('[A-Z0-9]{3}', item)\n",
    "                splits = item.split(\" - \")\n",
    "                employee_name = splits[0]\n",
    "                #print(employee_name)\n",
    "                #print(item)\n",
    "                if len(splits) != 1:\n",
    "                    #print(item)\n",
    "                    store_id = splits[1]\n",
    "                    if len(splits) == 3:\n",
    "                        uid = splits[2]\n",
    "                    else: \n",
    "                        uid = ''\n",
    "                        print(employee_name, \"don't have uid\")\n",
    "                    #print(store_id)\n",
    "                else: \n",
    "                    store_id = ''\n",
    "                    print(employee_name, \"don't have store id\")\n",
    "                #print(uid)\n",
    "                employee_names.append(employee_name)\n",
    "                store_ids.append(store_id) \n",
    "                uids.append(uid)\n",
    "    #print(\"get names: finished\")\n",
    "    return employee_names, store_ids, filepaths, uids"
   ]
  },
  {
   "cell_type": "code",
   "execution_count": 495,
   "metadata": {},
   "outputs": [],
   "source": [
    "def convert_to_table(dirname):\n",
    "    dirpath = dirname\n",
    "    employee_names, store_ids, filepaths, uids = get_names(dirpath)\n",
    "    all_dict = {\"employee_name\":[], \"store\":[], \"uid\":[]}\n",
    "    for i in range(len(filepaths)):\n",
    "        try:\n",
    "            clear_output(wait=True)\n",
    "            employee_name = employee_names[i]\n",
    "            store_id = store_ids[i]\n",
    "            uid = uids[i]\n",
    "            path = filepaths[i]\n",
    "            all_dict[\"employee_name\"].append(employee_name)\n",
    "            all_dict[\"store\"].append(store_id)\n",
    "            all_dict[\"uid\"].append(uid)\n",
    "            print(\"Current progress:\", i, \"/\", len(filepaths)-1, np.round((i+1)/len(filepaths)*100, 2), \"%\")\n",
    "            print(\"finished\", employee_name)\n",
    "        except TypeError:\n",
    "            continue\n",
    "    return pd.DataFrame(all_dict)"
   ]
  },
  {
   "cell_type": "code",
   "execution_count": 496,
   "metadata": {},
   "outputs": [
    {
     "name": "stdout",
     "output_type": "stream",
     "text": [
      "Current progress: 538 / 538 100.0 %\n",
      "finished Yan, Xu\n"
     ]
    }
   ],
   "source": [
    "dirpath = \"../Career Builder (Resumes)/\"\n",
    "df = convert_to_table(dirpath)"
   ]
  },
  {
   "cell_type": "code",
   "execution_count": 497,
   "metadata": {},
   "outputs": [],
   "source": [
    "# one abnormal name, change by hand \n",
    "df[df.employee_name==\"Muhoza\"]\n",
    "df.iloc[293, 0] = \"Muhoza Juste\"\n",
    "df.iloc[293,1] = \"WW 353\"\n",
    "df.iloc[293,2] = \"N5M\""
   ]
  },
  {
   "cell_type": "markdown",
   "metadata": {},
   "source": [
    "- There are 6 names unmatched to the name in new_hire file -> change them manually for matching "
   ]
  },
  {
   "cell_type": "code",
   "execution_count": 502,
   "metadata": {},
   "outputs": [],
   "source": [
    "# Akash, Sadana -> Sadana, Akash\n",
    "df.iloc[12, 0] = \"Sadana, Akash\"\n",
    "# Bell, Sarah -> Ball, Sarah\n",
    "df.iloc[59, 0] = \"Ball, Sarah\"\n",
    "# Mcgregor, Ethan -> McGregor, Ethan\n",
    "df.iloc[267, 0] = \"McGregor, Ethan\"\n",
    "# Nasir, Mohammad -> Nasir, Mohammad Humayon\n",
    "df.iloc[303, 0] = \"Nasir, Mohammad Humayon\"\n",
    "# Sohi, Jaipal -> Sohi, Jaipal Singh\n",
    "df.iloc[411, 0] = \"Sohi, Jaipal Singh\""
   ]
  },
  {
   "cell_type": "code",
   "execution_count": 503,
   "metadata": {},
   "outputs": [],
   "source": [
    "df[df.employee_name==\"Bois, Kevin\"]\n",
    "df.iloc[68, 0] = \"Bois, Dan Kevin\"\n",
    "df.iloc[68, 1] = \"TB 421\"\n",
    "df.iloc[68, 2] = \"MVT\""
   ]
  },
  {
   "cell_type": "code",
   "execution_count": 504,
   "metadata": {},
   "outputs": [
    {
     "data": {
      "text/plain": [
       "539"
      ]
     },
     "execution_count": 504,
     "metadata": {},
     "output_type": "execute_result"
    }
   ],
   "source": [
    "len(df)"
   ]
  },
  {
   "cell_type": "markdown",
   "metadata": {},
   "source": [
    "# Then join new_hire table for uid "
   ]
  },
  {
   "cell_type": "code",
   "execution_count": 505,
   "metadata": {},
   "outputs": [],
   "source": [
    "has_resumes = df.copy()"
   ]
  },
  {
   "cell_type": "code",
   "execution_count": 506,
   "metadata": {},
   "outputs": [],
   "source": [
    "new_hire = pd.read_excel(\"../1 - New Hires for CB Resumes Pull.xlsx\")\n",
    "new_hire_modified = new_hire.copy()"
   ]
  },
  {
   "cell_type": "code",
   "execution_count": 507,
   "metadata": {},
   "outputs": [],
   "source": [
    "def remove_last_space(string):\n",
    "    if string !=\"\" and string[-1] == ' ':\n",
    "        string = string[:-1]\n",
    "    if string !=\"\" and string[-3:] == 'FRE':\n",
    "        string = string[:-4]\n",
    "    return string "
   ]
  },
  {
   "cell_type": "code",
   "execution_count": 508,
   "metadata": {},
   "outputs": [],
   "source": [
    "def get_storeid(text):\n",
    "    \"\"\"\n",
    "    Parse store_id for matching \n",
    "    \"\"\"\n",
    "    try:\n",
    "        parse = re.match('([A-Z]{2})\\s[a-zA-Z\\séè\\'\\.\\-]+([0-9]+)', text)\n",
    "        banner = parse.group(1)\n",
    "        code = parse.group(2)\n",
    "        store_id = banner + \" \" + code\n",
    "        return store_id\n",
    "    except AttributeError:\n",
    "        print(text)\n",
    "        return \"\""
   ]
  },
  {
   "cell_type": "code",
   "execution_count": 509,
   "metadata": {},
   "outputs": [],
   "source": [
    "has_resumes.store = has_resumes.store.astype(str)\n",
    "has_resumes.store = has_resumes.store.apply(lambda x: remove_last_space(x))\n",
    "has_resumes.employee_name = has_resumes.employee_name.apply(lambda x: remove_last_space(x))"
   ]
  },
  {
   "cell_type": "code",
   "execution_count": 510,
   "metadata": {},
   "outputs": [],
   "source": [
    "new_hire_modified['store'] = new_hire.Store.apply(lambda x: get_storeid(x))\n",
    "new_hire_modified = new_hire_modified.drop(columns=[\"Store\"])\n",
    "new_hire_modified.rename(columns = {'Employee Name (Last, First)': \"employee_name\"}, inplace=True)\n",
    "new_hire_modified.employee_name = new_hire_modified.employee_name.apply(lambda x: remove_last_space(x))"
   ]
  },
  {
   "cell_type": "code",
   "execution_count": 511,
   "metadata": {},
   "outputs": [],
   "source": [
    "df_merged = (pd.merge(has_resumes, new_hire_modified, how=\"left\", on=[\"employee_name\", \"store\"])).drop(columns=[\"uid\", \"Resume Pulled?\"])"
   ]
  },
  {
   "cell_type": "code",
   "execution_count": 512,
   "metadata": {},
   "outputs": [
    {
     "name": "stdout",
     "output_type": "stream",
     "text": [
      "<class 'pandas.core.frame.DataFrame'>\n",
      "Int64Index: 539 entries, 0 to 538\n",
      "Data columns (total 7 columns):\n",
      " #   Column                 Non-Null Count  Dtype  \n",
      "---  ------                 --------------  -----  \n",
      " 0   employee_name          539 non-null    object \n",
      " 1   store                  539 non-null    object \n",
      " 2   ADP ID                 524 non-null    float64\n",
      " 3   3-Digit ID             524 non-null    object \n",
      " 4   District               524 non-null    object \n",
      " 5   Job Title Description  524 non-null    object \n",
      " 6   Hire Date              524 non-null    object \n",
      "dtypes: float64(1), object(6)\n",
      "memory usage: 33.7+ KB\n"
     ]
    }
   ],
   "source": [
    "df_merged.info()"
   ]
  },
  {
   "cell_type": "code",
   "execution_count": 513,
   "metadata": {},
   "outputs": [
    {
     "data": {
      "text/html": [
       "<div>\n",
       "<style scoped>\n",
       "    .dataframe tbody tr th:only-of-type {\n",
       "        vertical-align: middle;\n",
       "    }\n",
       "\n",
       "    .dataframe tbody tr th {\n",
       "        vertical-align: top;\n",
       "    }\n",
       "\n",
       "    .dataframe thead th {\n",
       "        text-align: right;\n",
       "    }\n",
       "</style>\n",
       "<table border=\"1\" class=\"dataframe\">\n",
       "  <thead>\n",
       "    <tr style=\"text-align: right;\">\n",
       "      <th></th>\n",
       "      <th>employee_name</th>\n",
       "      <th>store</th>\n",
       "      <th>ADP ID</th>\n",
       "      <th>3-Digit ID</th>\n",
       "      <th>District</th>\n",
       "      <th>Job Title Description</th>\n",
       "      <th>Hire Date</th>\n",
       "    </tr>\n",
       "  </thead>\n",
       "  <tbody>\n",
       "    <tr>\n",
       "      <th>46</th>\n",
       "      <td>Bajwa, Manpreet</td>\n",
       "      <td>WETC 1112</td>\n",
       "      <td>NaN</td>\n",
       "      <td>NaN</td>\n",
       "      <td>NaN</td>\n",
       "      <td>NaN</td>\n",
       "      <td>NaN</td>\n",
       "    </tr>\n",
       "    <tr>\n",
       "      <th>104</th>\n",
       "      <td>Cole, Jason</td>\n",
       "      <td>WE 55</td>\n",
       "      <td>NaN</td>\n",
       "      <td>NaN</td>\n",
       "      <td>NaN</td>\n",
       "      <td>NaN</td>\n",
       "      <td>NaN</td>\n",
       "    </tr>\n",
       "    <tr>\n",
       "      <th>128</th>\n",
       "      <td>Engy Ibrahim</td>\n",
       "      <td>TB 433</td>\n",
       "      <td>NaN</td>\n",
       "      <td>NaN</td>\n",
       "      <td>NaN</td>\n",
       "      <td>NaN</td>\n",
       "      <td>NaN</td>\n",
       "    </tr>\n",
       "    <tr>\n",
       "      <th>192</th>\n",
       "      <td>Kablanian, Alexan</td>\n",
       "      <td>TB 463</td>\n",
       "      <td>NaN</td>\n",
       "      <td>NaN</td>\n",
       "      <td>NaN</td>\n",
       "      <td>NaN</td>\n",
       "      <td>NaN</td>\n",
       "    </tr>\n",
       "    <tr>\n",
       "      <th>201</th>\n",
       "      <td>Kaur, Sukhpreet</td>\n",
       "      <td>WW 1157</td>\n",
       "      <td>NaN</td>\n",
       "      <td>NaN</td>\n",
       "      <td>NaN</td>\n",
       "      <td>NaN</td>\n",
       "      <td>NaN</td>\n",
       "    </tr>\n",
       "    <tr>\n",
       "      <th>293</th>\n",
       "      <td>Muhoza Juste</td>\n",
       "      <td>WW 353</td>\n",
       "      <td>NaN</td>\n",
       "      <td>NaN</td>\n",
       "      <td>NaN</td>\n",
       "      <td>NaN</td>\n",
       "      <td>NaN</td>\n",
       "    </tr>\n",
       "    <tr>\n",
       "      <th>310</th>\n",
       "      <td>Nishad, Rayees</td>\n",
       "      <td>TB425</td>\n",
       "      <td>NaN</td>\n",
       "      <td>NaN</td>\n",
       "      <td>NaN</td>\n",
       "      <td>NaN</td>\n",
       "      <td>NaN</td>\n",
       "    </tr>\n",
       "    <tr>\n",
       "      <th>313</th>\n",
       "      <td>O'Brien, Ashley</td>\n",
       "      <td>WE 591</td>\n",
       "      <td>NaN</td>\n",
       "      <td>NaN</td>\n",
       "      <td>NaN</td>\n",
       "      <td>NaN</td>\n",
       "      <td>NaN</td>\n",
       "    </tr>\n",
       "    <tr>\n",
       "      <th>334</th>\n",
       "      <td>Primeaux-Kostka, Alex</td>\n",
       "      <td>WW 1168</td>\n",
       "      <td>NaN</td>\n",
       "      <td>NaN</td>\n",
       "      <td>NaN</td>\n",
       "      <td>NaN</td>\n",
       "      <td>NaN</td>\n",
       "    </tr>\n",
       "    <tr>\n",
       "      <th>404</th>\n",
       "      <td>Singh, Satwinder</td>\n",
       "      <td>WE 162</td>\n",
       "      <td>NaN</td>\n",
       "      <td>NaN</td>\n",
       "      <td>NaN</td>\n",
       "      <td>NaN</td>\n",
       "      <td>NaN</td>\n",
       "    </tr>\n",
       "    <tr>\n",
       "      <th>476</th>\n",
       "      <td>Zhu, WeiWei</td>\n",
       "      <td>WW353</td>\n",
       "      <td>NaN</td>\n",
       "      <td>NaN</td>\n",
       "      <td>NaN</td>\n",
       "      <td>NaN</td>\n",
       "      <td>NaN</td>\n",
       "    </tr>\n",
       "    <tr>\n",
       "      <th>482</th>\n",
       "      <td>Boucher, Jeremie</td>\n",
       "      <td>WE 1197</td>\n",
       "      <td>NaN</td>\n",
       "      <td>NaN</td>\n",
       "      <td>NaN</td>\n",
       "      <td>NaN</td>\n",
       "      <td>NaN</td>\n",
       "    </tr>\n",
       "    <tr>\n",
       "      <th>515</th>\n",
       "      <td>Thomas, Marc</td>\n",
       "      <td>WE515</td>\n",
       "      <td>NaN</td>\n",
       "      <td>NaN</td>\n",
       "      <td>NaN</td>\n",
       "      <td>NaN</td>\n",
       "      <td>NaN</td>\n",
       "    </tr>\n",
       "    <tr>\n",
       "      <th>528</th>\n",
       "      <td>Hayward, Sheldon</td>\n",
       "      <td></td>\n",
       "      <td>NaN</td>\n",
       "      <td>NaN</td>\n",
       "      <td>NaN</td>\n",
       "      <td>NaN</td>\n",
       "      <td>NaN</td>\n",
       "    </tr>\n",
       "    <tr>\n",
       "      <th>531</th>\n",
       "      <td>Lirette, Mariah</td>\n",
       "      <td>TB 501</td>\n",
       "      <td>NaN</td>\n",
       "      <td>NaN</td>\n",
       "      <td>NaN</td>\n",
       "      <td>NaN</td>\n",
       "      <td>NaN</td>\n",
       "    </tr>\n",
       "  </tbody>\n",
       "</table>\n",
       "</div>"
      ],
      "text/plain": [
       "             employee_name      store  ADP ID 3-Digit ID District  \\\n",
       "46         Bajwa, Manpreet  WETC 1112     NaN        NaN      NaN   \n",
       "104            Cole, Jason      WE 55     NaN        NaN      NaN   \n",
       "128           Engy Ibrahim     TB 433     NaN        NaN      NaN   \n",
       "192      Kablanian, Alexan     TB 463     NaN        NaN      NaN   \n",
       "201        Kaur, Sukhpreet    WW 1157     NaN        NaN      NaN   \n",
       "293           Muhoza Juste     WW 353     NaN        NaN      NaN   \n",
       "310         Nishad, Rayees      TB425     NaN        NaN      NaN   \n",
       "313        O'Brien, Ashley     WE 591     NaN        NaN      NaN   \n",
       "334  Primeaux-Kostka, Alex    WW 1168     NaN        NaN      NaN   \n",
       "404       Singh, Satwinder     WE 162     NaN        NaN      NaN   \n",
       "476            Zhu, WeiWei      WW353     NaN        NaN      NaN   \n",
       "482       Boucher, Jeremie    WE 1197     NaN        NaN      NaN   \n",
       "515           Thomas, Marc      WE515     NaN        NaN      NaN   \n",
       "528       Hayward, Sheldon                NaN        NaN      NaN   \n",
       "531        Lirette, Mariah     TB 501     NaN        NaN      NaN   \n",
       "\n",
       "    Job Title Description Hire Date  \n",
       "46                    NaN       NaN  \n",
       "104                   NaN       NaN  \n",
       "128                   NaN       NaN  \n",
       "192                   NaN       NaN  \n",
       "201                   NaN       NaN  \n",
       "293                   NaN       NaN  \n",
       "310                   NaN       NaN  \n",
       "313                   NaN       NaN  \n",
       "334                   NaN       NaN  \n",
       "404                   NaN       NaN  \n",
       "476                   NaN       NaN  \n",
       "482                   NaN       NaN  \n",
       "515                   NaN       NaN  \n",
       "528                   NaN       NaN  \n",
       "531                   NaN       NaN  "
      ]
     },
     "execution_count": 513,
     "metadata": {},
     "output_type": "execute_result"
    }
   ],
   "source": [
    "df_merged[df_merged[\"3-Digit ID\"].isnull()]"
   ]
  },
  {
   "cell_type": "markdown",
   "metadata": {},
   "source": [
    "- Some employee's store is unmatched to the store recorded in new_hire -> manually modify them for matching "
   ]
  },
  {
   "cell_type": "code",
   "execution_count": 514,
   "metadata": {},
   "outputs": [],
   "source": [
    "has_resumes_modified = has_resumes.set_index(\"employee_name\")\n",
    "new_hire_modified2 = new_hire_modified.set_index(\"employee_name\")"
   ]
  },
  {
   "cell_type": "code",
   "execution_count": 515,
   "metadata": {},
   "outputs": [],
   "source": [
    "has_resumes_modified.loc[\"Bajwa, Manpreet\",\"store\"] = new_hire_modified2.loc[\"Bajwa, Manpreet\",\"store\"]\n",
    "has_resumes_modified.loc[\"Cole, Jason\",\"store\"] = new_hire_modified2.loc[\"Cole, Jason\",\"store\"]\n",
    "has_resumes_modified.loc[\"Kablanian, Alexan\",\"store\"] = new_hire_modified2.loc[\"Kablanian, Alexan\",\"store\"]\n",
    "has_resumes_modified.loc[\"Kaur, Sukhpreet\",\"store\"] = new_hire_modified2.loc[\"Kaur, Sukhpreet\",\"store\"]\n",
    "has_resumes_modified.loc[\"Nishad, Rayees\",\"store\"] = new_hire_modified2.loc[\"Nishad, Rayees\",\"store\"]\n",
    "has_resumes_modified.loc[\"Primeaux-Kostka, Alex\",\"store\"] = new_hire_modified2.loc[\"Primeaux-Kostka, Alex\",\"store\"]\n",
    "has_resumes_modified.loc[\"Singh, Satwinder\",\"store\"] = new_hire_modified2.loc[\"Singh, Satwinder\",\"store\"]\n",
    "has_resumes_modified.loc[\"Zhu, WeiWei\",\"store\"] = new_hire_modified2.loc[\"Zhu, WeiWei\",\"store\"]\n",
    "has_resumes_modified.loc[\"Boucher, Jeremie\",\"store\"] = new_hire_modified2.loc[\"Boucher, Jeremie\",\"store\"]\n",
    "has_resumes_modified.loc[\"Thomas, Marc\",\"store\"] = new_hire_modified2.loc[\"Thomas, Marc\",\"store\"]\n",
    "has_resumes_modified.loc[\"Hayward, Sheldon\",\"store\"] = new_hire_modified2.loc[\"Hayward, Sheldon\",\"store\"]\n",
    "has_resumes_modified.loc[\"Lirette, Mariah\",\"store\"] = new_hire_modified2.loc[\"Lirette, Mariah\",\"store\"]"
   ]
  },
  {
   "cell_type": "code",
   "execution_count": 516,
   "metadata": {},
   "outputs": [],
   "source": [
    "has_resumes_modified = has_resumes_modified.reset_index()"
   ]
  },
  {
   "cell_type": "code",
   "execution_count": 517,
   "metadata": {},
   "outputs": [],
   "source": [
    "new_hire_modified2 = new_hire_modified2.reset_index()"
   ]
  },
  {
   "cell_type": "markdown",
   "metadata": {},
   "source": [
    "# Join again "
   ]
  },
  {
   "cell_type": "code",
   "execution_count": 518,
   "metadata": {},
   "outputs": [],
   "source": [
    "df_merged2 = (pd.merge(has_resumes_modified, new_hire_modified2, how=\"left\", on=[\"employee_name\", \"store\"])).drop(columns=[\"uid\", \"Resume Pulled?\"])"
   ]
  },
  {
   "cell_type": "code",
   "execution_count": 519,
   "metadata": {},
   "outputs": [
    {
     "data": {
      "text/html": [
       "<div>\n",
       "<style scoped>\n",
       "    .dataframe tbody tr th:only-of-type {\n",
       "        vertical-align: middle;\n",
       "    }\n",
       "\n",
       "    .dataframe tbody tr th {\n",
       "        vertical-align: top;\n",
       "    }\n",
       "\n",
       "    .dataframe thead th {\n",
       "        text-align: right;\n",
       "    }\n",
       "</style>\n",
       "<table border=\"1\" class=\"dataframe\">\n",
       "  <thead>\n",
       "    <tr style=\"text-align: right;\">\n",
       "      <th></th>\n",
       "      <th>employee_name</th>\n",
       "      <th>store</th>\n",
       "      <th>ADP ID</th>\n",
       "      <th>3-Digit ID</th>\n",
       "      <th>District</th>\n",
       "      <th>Job Title Description</th>\n",
       "      <th>Hire Date</th>\n",
       "    </tr>\n",
       "  </thead>\n",
       "  <tbody>\n",
       "    <tr>\n",
       "      <th>128</th>\n",
       "      <td>Engy Ibrahim</td>\n",
       "      <td>TB 433</td>\n",
       "      <td>NaN</td>\n",
       "      <td>NaN</td>\n",
       "      <td>NaN</td>\n",
       "      <td>NaN</td>\n",
       "      <td>NaN</td>\n",
       "    </tr>\n",
       "    <tr>\n",
       "      <th>293</th>\n",
       "      <td>Muhoza Juste</td>\n",
       "      <td>WW 353</td>\n",
       "      <td>NaN</td>\n",
       "      <td>NaN</td>\n",
       "      <td>NaN</td>\n",
       "      <td>NaN</td>\n",
       "      <td>NaN</td>\n",
       "    </tr>\n",
       "    <tr>\n",
       "      <th>313</th>\n",
       "      <td>O'Brien, Ashley</td>\n",
       "      <td>WE 591</td>\n",
       "      <td>NaN</td>\n",
       "      <td>NaN</td>\n",
       "      <td>NaN</td>\n",
       "      <td>NaN</td>\n",
       "      <td>NaN</td>\n",
       "    </tr>\n",
       "  </tbody>\n",
       "</table>\n",
       "</div>"
      ],
      "text/plain": [
       "       employee_name   store  ADP ID 3-Digit ID District  \\\n",
       "128     Engy Ibrahim  TB 433     NaN        NaN      NaN   \n",
       "293     Muhoza Juste  WW 353     NaN        NaN      NaN   \n",
       "313  O'Brien, Ashley  WE 591     NaN        NaN      NaN   \n",
       "\n",
       "    Job Title Description Hire Date  \n",
       "128                   NaN       NaN  \n",
       "293                   NaN       NaN  \n",
       "313                   NaN       NaN  "
      ]
     },
     "execution_count": 519,
     "metadata": {},
     "output_type": "execute_result"
    }
   ],
   "source": [
    "df_merged2[df_merged2[\"3-Digit ID\"].isnull()]"
   ]
  },
  {
   "cell_type": "markdown",
   "metadata": {},
   "source": [
    "- Engy Ibrahim, Muhoza Juste and O'Brien, Ashley don't exist in new_hire file. \n",
    "- employee_code for Engy Ibrahim, Muhoza Juste are downloaded within their resume file name, so I added their employee name by hand. \n",
    "- However, O'Brien, Ashley's employee code can't be found."
   ]
  },
  {
   "cell_type": "code",
   "execution_count": 520,
   "metadata": {},
   "outputs": [],
   "source": [
    "df_merged2 = df_merged2.set_index(\"employee_name\")"
   ]
  },
  {
   "cell_type": "code",
   "execution_count": 521,
   "metadata": {},
   "outputs": [],
   "source": [
    "df_merged2.loc[\"Engy Ibrahim\", \"3-Digit ID\"] = \"MWA\"\n",
    "df_merged2.loc[\"Muhoza Juste\", \"3-Digit ID\"] = \"N5M\""
   ]
  },
  {
   "cell_type": "code",
   "execution_count": 522,
   "metadata": {},
   "outputs": [],
   "source": [
    "df_merged_final = df_merged2.reset_index()"
   ]
  },
  {
   "cell_type": "code",
   "execution_count": 523,
   "metadata": {},
   "outputs": [
    {
     "data": {
      "text/html": [
       "<div>\n",
       "<style scoped>\n",
       "    .dataframe tbody tr th:only-of-type {\n",
       "        vertical-align: middle;\n",
       "    }\n",
       "\n",
       "    .dataframe tbody tr th {\n",
       "        vertical-align: top;\n",
       "    }\n",
       "\n",
       "    .dataframe thead th {\n",
       "        text-align: right;\n",
       "    }\n",
       "</style>\n",
       "<table border=\"1\" class=\"dataframe\">\n",
       "  <thead>\n",
       "    <tr style=\"text-align: right;\">\n",
       "      <th></th>\n",
       "      <th>employee_name</th>\n",
       "      <th>store</th>\n",
       "      <th>ADP ID</th>\n",
       "      <th>3-Digit ID</th>\n",
       "      <th>District</th>\n",
       "      <th>Job Title Description</th>\n",
       "      <th>Hire Date</th>\n",
       "    </tr>\n",
       "  </thead>\n",
       "  <tbody>\n",
       "    <tr>\n",
       "      <th>313</th>\n",
       "      <td>O'Brien, Ashley</td>\n",
       "      <td>WE 591</td>\n",
       "      <td>NaN</td>\n",
       "      <td>NaN</td>\n",
       "      <td>NaN</td>\n",
       "      <td>NaN</td>\n",
       "      <td>NaN</td>\n",
       "    </tr>\n",
       "  </tbody>\n",
       "</table>\n",
       "</div>"
      ],
      "text/plain": [
       "       employee_name   store  ADP ID 3-Digit ID District  \\\n",
       "313  O'Brien, Ashley  WE 591     NaN        NaN      NaN   \n",
       "\n",
       "    Job Title Description Hire Date  \n",
       "313                   NaN       NaN  "
      ]
     },
     "execution_count": 523,
     "metadata": {},
     "output_type": "execute_result"
    }
   ],
   "source": [
    "df_merged_final[df_merged_final[\"3-Digit ID\"].isnull()]"
   ]
  },
  {
   "cell_type": "markdown",
   "metadata": {},
   "source": [
    "# final table: df_merged_final"
   ]
  },
  {
   "cell_type": "code",
   "execution_count": 524,
   "metadata": {},
   "outputs": [],
   "source": [
    "df_merged_final.rename(columns={\"3-Digit ID\":\"employee_code\"}, inplace=True)"
   ]
  },
  {
   "cell_type": "code",
   "execution_count": 525,
   "metadata": {},
   "outputs": [],
   "source": [
    "df_merged_final = df_merged_final[[\"employee_name\", \"employee_code\", \"store\", \"ADP ID\", \"District\", \"Job Title Description\", \"Hire Date\"]]"
   ]
  },
  {
   "cell_type": "code",
   "execution_count": 526,
   "metadata": {},
   "outputs": [
    {
     "data": {
      "text/html": [
       "<div>\n",
       "<style scoped>\n",
       "    .dataframe tbody tr th:only-of-type {\n",
       "        vertical-align: middle;\n",
       "    }\n",
       "\n",
       "    .dataframe tbody tr th {\n",
       "        vertical-align: top;\n",
       "    }\n",
       "\n",
       "    .dataframe thead th {\n",
       "        text-align: right;\n",
       "    }\n",
       "</style>\n",
       "<table border=\"1\" class=\"dataframe\">\n",
       "  <thead>\n",
       "    <tr style=\"text-align: right;\">\n",
       "      <th></th>\n",
       "      <th>employee_name</th>\n",
       "      <th>employee_code</th>\n",
       "      <th>store</th>\n",
       "      <th>ADP ID</th>\n",
       "      <th>District</th>\n",
       "      <th>Job Title Description</th>\n",
       "      <th>Hire Date</th>\n",
       "    </tr>\n",
       "  </thead>\n",
       "  <tbody>\n",
       "    <tr>\n",
       "      <th>0</th>\n",
       "      <td>Abbasi, Samiee Z</td>\n",
       "      <td>N42</td>\n",
       "      <td>WW 374</td>\n",
       "      <td>25256.0</td>\n",
       "      <td>GTA East</td>\n",
       "      <td>SALES ASSOCIATE</td>\n",
       "      <td>Thursday, July 18, 2019</td>\n",
       "    </tr>\n",
       "    <tr>\n",
       "      <th>1</th>\n",
       "      <td>Abdi, Melika</td>\n",
       "      <td>N3O</td>\n",
       "      <td>TB 146</td>\n",
       "      <td>25237.0</td>\n",
       "      <td>BC East</td>\n",
       "      <td>SALES ASSOCIATE</td>\n",
       "      <td>Thursday, July 11, 2019</td>\n",
       "    </tr>\n",
       "    <tr>\n",
       "      <th>2</th>\n",
       "      <td>Abdulali, Kaizar</td>\n",
       "      <td>BDP</td>\n",
       "      <td>WW 252</td>\n",
       "      <td>25258.0</td>\n",
       "      <td>Alberta North</td>\n",
       "      <td>SALES MANAGER</td>\n",
       "      <td>Monday, July 29, 2019</td>\n",
       "    </tr>\n",
       "    <tr>\n",
       "      <th>3</th>\n",
       "      <td>Abro, Muhammad Wali</td>\n",
       "      <td>N62</td>\n",
       "      <td>WW 394</td>\n",
       "      <td>25331.0</td>\n",
       "      <td>GTA West</td>\n",
       "      <td>SALES ASSOCIATE</td>\n",
       "      <td>Tuesday, August 6, 2019</td>\n",
       "    </tr>\n",
       "    <tr>\n",
       "      <th>4</th>\n",
       "      <td>Abrum, Nabil</td>\n",
       "      <td>N7R</td>\n",
       "      <td>WE 540</td>\n",
       "      <td>25404.0</td>\n",
       "      <td>GTA West &amp; Ottawa - ETC</td>\n",
       "      <td>SALES ASSOCIATE</td>\n",
       "      <td>Wednesday, September 11, 2019</td>\n",
       "    </tr>\n",
       "    <tr>\n",
       "      <th>...</th>\n",
       "      <td>...</td>\n",
       "      <td>...</td>\n",
       "      <td>...</td>\n",
       "      <td>...</td>\n",
       "      <td>...</td>\n",
       "      <td>...</td>\n",
       "      <td>...</td>\n",
       "    </tr>\n",
       "    <tr>\n",
       "      <th>534</th>\n",
       "      <td>Sukhiani, Salman</td>\n",
       "      <td>N03</td>\n",
       "      <td>WW 341</td>\n",
       "      <td>25104.0</td>\n",
       "      <td>GTA Central</td>\n",
       "      <td>SALES ASSOCIATE</td>\n",
       "      <td>Monday, May 27, 2019</td>\n",
       "    </tr>\n",
       "    <tr>\n",
       "      <th>535</th>\n",
       "      <td>Tremblay, Shawnee</td>\n",
       "      <td>N3L</td>\n",
       "      <td>WE 556</td>\n",
       "      <td>25239.0</td>\n",
       "      <td>Quebec West - ETC</td>\n",
       "      <td>SALES ASSOCIATE</td>\n",
       "      <td>Tuesday, July 23, 2019</td>\n",
       "    </tr>\n",
       "    <tr>\n",
       "      <th>536</th>\n",
       "      <td>Turner, Kyle</td>\n",
       "      <td>MPQ</td>\n",
       "      <td>WW 854</td>\n",
       "      <td>24774.0</td>\n",
       "      <td>Atlantic</td>\n",
       "      <td>SALES ASSOCIATE</td>\n",
       "      <td>Thursday, February 7, 2019</td>\n",
       "    </tr>\n",
       "    <tr>\n",
       "      <th>537</th>\n",
       "      <td>Wu, Alexander</td>\n",
       "      <td>LVW</td>\n",
       "      <td>WW 115</td>\n",
       "      <td>25057.0</td>\n",
       "      <td>BC East</td>\n",
       "      <td>SALES ASSOCIATE</td>\n",
       "      <td>Thursday, May 16, 2019</td>\n",
       "    </tr>\n",
       "    <tr>\n",
       "      <th>538</th>\n",
       "      <td>Yan, Xu</td>\n",
       "      <td>MSN</td>\n",
       "      <td>TB 612</td>\n",
       "      <td>24850.0</td>\n",
       "      <td>Quebec NE</td>\n",
       "      <td>SALES ASSOCIATE</td>\n",
       "      <td>Tuesday, February 26, 2019</td>\n",
       "    </tr>\n",
       "  </tbody>\n",
       "</table>\n",
       "<p>539 rows × 7 columns</p>\n",
       "</div>"
      ],
      "text/plain": [
       "           employee_name employee_code   store   ADP ID  \\\n",
       "0       Abbasi, Samiee Z           N42  WW 374  25256.0   \n",
       "1           Abdi, Melika           N3O  TB 146  25237.0   \n",
       "2       Abdulali, Kaizar           BDP  WW 252  25258.0   \n",
       "3    Abro, Muhammad Wali           N62  WW 394  25331.0   \n",
       "4           Abrum, Nabil           N7R  WE 540  25404.0   \n",
       "..                   ...           ...     ...      ...   \n",
       "534     Sukhiani, Salman           N03  WW 341  25104.0   \n",
       "535    Tremblay, Shawnee           N3L  WE 556  25239.0   \n",
       "536         Turner, Kyle           MPQ  WW 854  24774.0   \n",
       "537        Wu, Alexander           LVW  WW 115  25057.0   \n",
       "538              Yan, Xu           MSN  TB 612  24850.0   \n",
       "\n",
       "                    District Job Title Description  \\\n",
       "0                   GTA East       SALES ASSOCIATE   \n",
       "1                    BC East       SALES ASSOCIATE   \n",
       "2              Alberta North         SALES MANAGER   \n",
       "3                   GTA West       SALES ASSOCIATE   \n",
       "4    GTA West & Ottawa - ETC       SALES ASSOCIATE   \n",
       "..                       ...                   ...   \n",
       "534              GTA Central       SALES ASSOCIATE   \n",
       "535        Quebec West - ETC       SALES ASSOCIATE   \n",
       "536                 Atlantic       SALES ASSOCIATE   \n",
       "537                  BC East       SALES ASSOCIATE   \n",
       "538                Quebec NE       SALES ASSOCIATE   \n",
       "\n",
       "                         Hire Date  \n",
       "0          Thursday, July 18, 2019  \n",
       "1          Thursday, July 11, 2019  \n",
       "2            Monday, July 29, 2019  \n",
       "3          Tuesday, August 6, 2019  \n",
       "4    Wednesday, September 11, 2019  \n",
       "..                             ...  \n",
       "534           Monday, May 27, 2019  \n",
       "535         Tuesday, July 23, 2019  \n",
       "536     Thursday, February 7, 2019  \n",
       "537         Thursday, May 16, 2019  \n",
       "538     Tuesday, February 26, 2019  \n",
       "\n",
       "[539 rows x 7 columns]"
      ]
     },
     "execution_count": 526,
     "metadata": {},
     "output_type": "execute_result"
    }
   ],
   "source": [
    "df_merged_final"
   ]
  },
  {
   "cell_type": "markdown",
   "metadata": {},
   "source": [
    "# Summary \n",
    "1. There are 539 employees having resumes (pdf, doc, docx, rtf).\n",
    "2. 538/539 employees have unique `employee_code`, only one employee (O'Brien, Ashley) doesn't have matched `employee_code`"
   ]
  },
  {
   "cell_type": "code",
   "execution_count": null,
   "metadata": {},
   "outputs": [],
   "source": []
  }
 ],
 "metadata": {
  "kernelspec": {
   "display_name": "Python 3",
   "language": "python",
   "name": "python3"
  },
  "language_info": {
   "codemirror_mode": {
    "name": "ipython",
    "version": 3
   },
   "file_extension": ".py",
   "mimetype": "text/x-python",
   "name": "python",
   "nbconvert_exporter": "python",
   "pygments_lexer": "ipython3",
   "version": "3.7.6"
  }
 },
 "nbformat": 4,
 "nbformat_minor": 4
}
