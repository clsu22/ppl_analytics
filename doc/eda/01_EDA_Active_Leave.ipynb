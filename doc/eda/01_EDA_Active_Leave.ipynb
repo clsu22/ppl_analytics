{
 "cells": [
  {
   "cell_type": "code",
   "execution_count": 20,
   "metadata": {},
   "outputs": [],
   "source": [
    "import pandas as pd\n",
    "import plotnine as p9\n",
    "import numpy as np\n",
    "import os"
   ]
  },
  {
   "cell_type": "markdown",
   "metadata": {},
   "source": [
    "### Read Files"
   ]
  },
  {
   "cell_type": "code",
   "execution_count": 16,
   "metadata": {},
   "outputs": [],
   "source": [
    "df_act_leave = pd.read_excel('../../SharePoint/HR Analytics - Documents/Capstone Data/V2 data 5.1.2020/Active + Leave (Weekly) - 2020_04_28.xlsx')"
   ]
  },
  {
   "cell_type": "markdown",
   "metadata": {},
   "source": [
    "## Active + Leaves (weekly)"
   ]
  },
  {
   "cell_type": "code",
   "execution_count": 23,
   "metadata": {
    "scrolled": true
   },
   "outputs": [
    {
     "data": {
      "text/html": [
       "<div>\n",
       "<style scoped>\n",
       "    .dataframe tbody tr th:only-of-type {\n",
       "        vertical-align: middle;\n",
       "    }\n",
       "\n",
       "    .dataframe tbody tr th {\n",
       "        vertical-align: top;\n",
       "    }\n",
       "\n",
       "    .dataframe thead th {\n",
       "        text-align: right;\n",
       "    }\n",
       "</style>\n",
       "<table border=\"1\" class=\"dataframe\">\n",
       "  <thead>\n",
       "    <tr style=\"text-align: right;\">\n",
       "      <th></th>\n",
       "      <th>Employee Code</th>\n",
       "      <th>Original Hire Date</th>\n",
       "      <th>Recent Hire Date (if applicable)</th>\n",
       "      <th>Gender</th>\n",
       "      <th>Job Title</th>\n",
       "      <th>Position Status</th>\n",
       "      <th>Worker Category</th>\n",
       "      <th>Birth Year</th>\n",
       "      <th>Report Date (week ending)</th>\n",
       "      <th>Generation</th>\n",
       "      <th>Tenure</th>\n",
       "      <th>Tenure Group</th>\n",
       "      <th>QTY</th>\n",
       "    </tr>\n",
       "  </thead>\n",
       "  <tbody>\n",
       "    <tr>\n",
       "      <th>0</th>\n",
       "      <td>A12</td>\n",
       "      <td>Monday, March 6, 2006</td>\n",
       "      <td>Monday, March 6, 2006</td>\n",
       "      <td>Male</td>\n",
       "      <td>SALES MANAGER</td>\n",
       "      <td>Active</td>\n",
       "      <td>Permanent Full Time</td>\n",
       "      <td>1981</td>\n",
       "      <td>Friday, January 5, 2018</td>\n",
       "      <td>Gen X: 1965-1982</td>\n",
       "      <td>4323</td>\n",
       "      <td>10-15 Years</td>\n",
       "      <td>1</td>\n",
       "    </tr>\n",
       "    <tr>\n",
       "      <th>1</th>\n",
       "      <td>A12</td>\n",
       "      <td>Monday, March 6, 2006</td>\n",
       "      <td>Monday, March 6, 2006</td>\n",
       "      <td>Male</td>\n",
       "      <td>SALES MANAGER</td>\n",
       "      <td>Active</td>\n",
       "      <td>Permanent Full Time</td>\n",
       "      <td>1981</td>\n",
       "      <td>Friday, January 12, 2018</td>\n",
       "      <td>Gen X: 1965-1982</td>\n",
       "      <td>4330</td>\n",
       "      <td>10-15 Years</td>\n",
       "      <td>1</td>\n",
       "    </tr>\n",
       "    <tr>\n",
       "      <th>2</th>\n",
       "      <td>A12</td>\n",
       "      <td>Monday, March 6, 2006</td>\n",
       "      <td>Monday, March 6, 2006</td>\n",
       "      <td>Male</td>\n",
       "      <td>SALES MANAGER</td>\n",
       "      <td>Active</td>\n",
       "      <td>Permanent Full Time</td>\n",
       "      <td>1981</td>\n",
       "      <td>Friday, January 19, 2018</td>\n",
       "      <td>Gen X: 1965-1982</td>\n",
       "      <td>4337</td>\n",
       "      <td>10-15 Years</td>\n",
       "      <td>1</td>\n",
       "    </tr>\n",
       "    <tr>\n",
       "      <th>3</th>\n",
       "      <td>A12</td>\n",
       "      <td>Monday, March 6, 2006</td>\n",
       "      <td>Monday, March 6, 2006</td>\n",
       "      <td>Male</td>\n",
       "      <td>SALES MANAGER</td>\n",
       "      <td>Active</td>\n",
       "      <td>Permanent Full Time</td>\n",
       "      <td>1981</td>\n",
       "      <td>Friday, January 26, 2018</td>\n",
       "      <td>Gen X: 1965-1982</td>\n",
       "      <td>4344</td>\n",
       "      <td>10-15 Years</td>\n",
       "      <td>1</td>\n",
       "    </tr>\n",
       "    <tr>\n",
       "      <th>4</th>\n",
       "      <td>A12</td>\n",
       "      <td>Monday, March 6, 2006</td>\n",
       "      <td>Monday, March 6, 2006</td>\n",
       "      <td>Male</td>\n",
       "      <td>SALES MANAGER</td>\n",
       "      <td>Active</td>\n",
       "      <td>Permanent Full Time</td>\n",
       "      <td>1981</td>\n",
       "      <td>Friday, February 2, 2018</td>\n",
       "      <td>Gen X: 1965-1982</td>\n",
       "      <td>4351</td>\n",
       "      <td>10-15 Years</td>\n",
       "      <td>1</td>\n",
       "    </tr>\n",
       "  </tbody>\n",
       "</table>\n",
       "</div>"
      ],
      "text/plain": [
       "  Employee Code     Original Hire Date Recent Hire Date (if applicable)  \\\n",
       "0           A12  Monday, March 6, 2006            Monday, March 6, 2006   \n",
       "1           A12  Monday, March 6, 2006            Monday, March 6, 2006   \n",
       "2           A12  Monday, March 6, 2006            Monday, March 6, 2006   \n",
       "3           A12  Monday, March 6, 2006            Monday, March 6, 2006   \n",
       "4           A12  Monday, March 6, 2006            Monday, March 6, 2006   \n",
       "\n",
       "  Gender      Job Title Position Status      Worker Category  Birth Year  \\\n",
       "0   Male  SALES MANAGER          Active  Permanent Full Time        1981   \n",
       "1   Male  SALES MANAGER          Active  Permanent Full Time        1981   \n",
       "2   Male  SALES MANAGER          Active  Permanent Full Time        1981   \n",
       "3   Male  SALES MANAGER          Active  Permanent Full Time        1981   \n",
       "4   Male  SALES MANAGER          Active  Permanent Full Time        1981   \n",
       "\n",
       "  Report Date (week ending)        Generation  Tenure Tenure Group  QTY  \n",
       "0   Friday, January 5, 2018  Gen X: 1965-1982    4323  10-15 Years    1  \n",
       "1  Friday, January 12, 2018  Gen X: 1965-1982    4330  10-15 Years    1  \n",
       "2  Friday, January 19, 2018  Gen X: 1965-1982    4337  10-15 Years    1  \n",
       "3  Friday, January 26, 2018  Gen X: 1965-1982    4344  10-15 Years    1  \n",
       "4  Friday, February 2, 2018  Gen X: 1965-1982    4351  10-15 Years    1  "
      ]
     },
     "execution_count": 23,
     "metadata": {},
     "output_type": "execute_result"
    }
   ],
   "source": [
    "df_act_leave.head()"
   ]
  },
  {
   "cell_type": "code",
   "execution_count": 33,
   "metadata": {
    "scrolled": false
   },
   "outputs": [
    {
     "data": {
      "text/html": [
       "<div>\n",
       "<style scoped>\n",
       "    .dataframe tbody tr th:only-of-type {\n",
       "        vertical-align: middle;\n",
       "    }\n",
       "\n",
       "    .dataframe tbody tr th {\n",
       "        vertical-align: top;\n",
       "    }\n",
       "\n",
       "    .dataframe thead th {\n",
       "        text-align: right;\n",
       "    }\n",
       "</style>\n",
       "<table border=\"1\" class=\"dataframe\">\n",
       "  <thead>\n",
       "    <tr style=\"text-align: right;\">\n",
       "      <th></th>\n",
       "      <th>Employee Code</th>\n",
       "      <th>Original Hire Date</th>\n",
       "      <th>Recent Hire Date (if applicable)</th>\n",
       "      <th>Gender</th>\n",
       "      <th>Job Title</th>\n",
       "      <th>Position Status</th>\n",
       "      <th>Worker Category</th>\n",
       "      <th>Birth Year</th>\n",
       "      <th>Report Date (week ending)</th>\n",
       "      <th>Generation</th>\n",
       "      <th>Tenure</th>\n",
       "      <th>Tenure Group</th>\n",
       "      <th>QTY</th>\n",
       "    </tr>\n",
       "  </thead>\n",
       "  <tbody>\n",
       "    <tr>\n",
       "      <th>204138</th>\n",
       "      <td>ZW1</td>\n",
       "      <td>Monday, June 19, 2017</td>\n",
       "      <td>Monday, June 19, 2017</td>\n",
       "      <td>Female</td>\n",
       "      <td>SALES MANAGER</td>\n",
       "      <td>Active</td>\n",
       "      <td>Permanent Full Time</td>\n",
       "      <td>1985</td>\n",
       "      <td>Friday, March 27, 2020</td>\n",
       "      <td>Millenial: 1983-1999</td>\n",
       "      <td>1012</td>\n",
       "      <td>2-3 Years</td>\n",
       "      <td>1</td>\n",
       "    </tr>\n",
       "    <tr>\n",
       "      <th>204139</th>\n",
       "      <td>ZW1</td>\n",
       "      <td>Monday, June 19, 2017</td>\n",
       "      <td>Monday, June 19, 2017</td>\n",
       "      <td>Female</td>\n",
       "      <td>SALES MANAGER</td>\n",
       "      <td>Active</td>\n",
       "      <td>Permanent Full Time</td>\n",
       "      <td>1985</td>\n",
       "      <td>Friday, April 3, 2020</td>\n",
       "      <td>Millenial: 1983-1999</td>\n",
       "      <td>1019</td>\n",
       "      <td>2-3 Years</td>\n",
       "      <td>1</td>\n",
       "    </tr>\n",
       "    <tr>\n",
       "      <th>204140</th>\n",
       "      <td>ZW1</td>\n",
       "      <td>Monday, June 19, 2017</td>\n",
       "      <td>Monday, June 19, 2017</td>\n",
       "      <td>Female</td>\n",
       "      <td>SALES MANAGER</td>\n",
       "      <td>Active</td>\n",
       "      <td>Permanent Full Time</td>\n",
       "      <td>1985</td>\n",
       "      <td>Friday, April 10, 2020</td>\n",
       "      <td>Millenial: 1983-1999</td>\n",
       "      <td>1026</td>\n",
       "      <td>2-3 Years</td>\n",
       "      <td>1</td>\n",
       "    </tr>\n",
       "    <tr>\n",
       "      <th>204141</th>\n",
       "      <td>ZW1</td>\n",
       "      <td>Monday, June 19, 2017</td>\n",
       "      <td>Monday, June 19, 2017</td>\n",
       "      <td>Female</td>\n",
       "      <td>SALES MANAGER</td>\n",
       "      <td>Active</td>\n",
       "      <td>Permanent Full Time</td>\n",
       "      <td>1985</td>\n",
       "      <td>Friday, April 17, 2020</td>\n",
       "      <td>Millenial: 1983-1999</td>\n",
       "      <td>1033</td>\n",
       "      <td>2-3 Years</td>\n",
       "      <td>1</td>\n",
       "    </tr>\n",
       "    <tr>\n",
       "      <th>204142</th>\n",
       "      <td>ZW1</td>\n",
       "      <td>Monday, June 19, 2017</td>\n",
       "      <td>Monday, June 19, 2017</td>\n",
       "      <td>Female</td>\n",
       "      <td>SALES MANAGER</td>\n",
       "      <td>Active</td>\n",
       "      <td>Permanent Full Time</td>\n",
       "      <td>1985</td>\n",
       "      <td>Friday, April 24, 2020</td>\n",
       "      <td>Millenial: 1983-1999</td>\n",
       "      <td>1040</td>\n",
       "      <td>2-3 Years</td>\n",
       "      <td>1</td>\n",
       "    </tr>\n",
       "  </tbody>\n",
       "</table>\n",
       "</div>"
      ],
      "text/plain": [
       "       Employee Code     Original Hire Date Recent Hire Date (if applicable)  \\\n",
       "204138           ZW1  Monday, June 19, 2017            Monday, June 19, 2017   \n",
       "204139           ZW1  Monday, June 19, 2017            Monday, June 19, 2017   \n",
       "204140           ZW1  Monday, June 19, 2017            Monday, June 19, 2017   \n",
       "204141           ZW1  Monday, June 19, 2017            Monday, June 19, 2017   \n",
       "204142           ZW1  Monday, June 19, 2017            Monday, June 19, 2017   \n",
       "\n",
       "        Gender      Job Title Position Status      Worker Category  \\\n",
       "204138  Female  SALES MANAGER          Active  Permanent Full Time   \n",
       "204139  Female  SALES MANAGER          Active  Permanent Full Time   \n",
       "204140  Female  SALES MANAGER          Active  Permanent Full Time   \n",
       "204141  Female  SALES MANAGER          Active  Permanent Full Time   \n",
       "204142  Female  SALES MANAGER          Active  Permanent Full Time   \n",
       "\n",
       "        Birth Year Report Date (week ending)            Generation  Tenure  \\\n",
       "204138        1985    Friday, March 27, 2020  Millenial: 1983-1999    1012   \n",
       "204139        1985     Friday, April 3, 2020  Millenial: 1983-1999    1019   \n",
       "204140        1985    Friday, April 10, 2020  Millenial: 1983-1999    1026   \n",
       "204141        1985    Friday, April 17, 2020  Millenial: 1983-1999    1033   \n",
       "204142        1985    Friday, April 24, 2020  Millenial: 1983-1999    1040   \n",
       "\n",
       "       Tenure Group  QTY  \n",
       "204138    2-3 Years    1  \n",
       "204139    2-3 Years    1  \n",
       "204140    2-3 Years    1  \n",
       "204141    2-3 Years    1  \n",
       "204142    2-3 Years    1  "
      ]
     },
     "execution_count": 33,
     "metadata": {},
     "output_type": "execute_result"
    }
   ],
   "source": [
    "df_act_leave.tail()"
   ]
  },
  {
   "cell_type": "code",
   "execution_count": 36,
   "metadata": {},
   "outputs": [
    {
     "data": {
      "text/plain": [
       "(204143, 13)"
      ]
     },
     "execution_count": 36,
     "metadata": {},
     "output_type": "execute_result"
    }
   ],
   "source": [
    "#check shape\n",
    "df_act_leave.shape"
   ]
  },
  {
   "cell_type": "code",
   "execution_count": 31,
   "metadata": {
    "scrolled": true
   },
   "outputs": [
    {
     "name": "stdout",
     "output_type": "stream",
     "text": [
      "Unique Employee Codes: 3435\n"
     ]
    }
   ],
   "source": [
    "#unqiue employees codes  \n",
    "\n",
    "emp_code_uni = len(df_act_leave[\"Employee Code\"].unique().tolist())\n",
    "print(f\"Unique Employee Codes: {emp_code_uni}\")"
   ]
  },
  {
   "cell_type": "code",
   "execution_count": 35,
   "metadata": {},
   "outputs": [
    {
     "data": {
      "text/plain": [
       "array(['Male', 'Female', 'Not Specified'], dtype=object)"
      ]
     },
     "execution_count": 35,
     "metadata": {},
     "output_type": "execute_result"
    }
   ],
   "source": [
    "# types of gender \n",
    "\n",
    "df_act_leave[\"Gender\"].unique()"
   ]
  },
  {
   "cell_type": "code",
   "execution_count": 39,
   "metadata": {
    "scrolled": true
   },
   "outputs": [
    {
     "data": {
      "text/plain": [
       "array(['SALES MANAGER', 'DISTRICT TEAM LEADER', 'SALES ASSOCIATE',\n",
       "       'ASSISTANT MANAGER', 'MANAGER IN TRAINING', 'TEMPORARY MANAGER',\n",
       "       'MULTIPLE STORE MANAGER', 'ACTING MANAGER',\n",
       "       'APPLE SERVICE TECHNICIAN', 'APPLE REPAIR TECHNICIAN'],\n",
       "      dtype=object)"
      ]
     },
     "execution_count": 39,
     "metadata": {},
     "output_type": "execute_result"
    }
   ],
   "source": [
    "#position types \n",
    "df_act_leave[\"Job Title\"].unique()"
   ]
  },
  {
   "cell_type": "code",
   "execution_count": 40,
   "metadata": {},
   "outputs": [
    {
     "data": {
      "text/plain": [
       "array(['Active', 'Leave'], dtype=object)"
      ]
     },
     "execution_count": 40,
     "metadata": {},
     "output_type": "execute_result"
    }
   ],
   "source": [
    "df_act_leave[\"Position Status\"].unique()"
   ]
  },
  {
   "cell_type": "code",
   "execution_count": 41,
   "metadata": {},
   "outputs": [
    {
     "data": {
      "text/plain": [
       "array(['Permanent Full Time', 'Permanent Part Time',\n",
       "       'Temporary Part Time', 'Temporary Full Time'], dtype=object)"
      ]
     },
     "execution_count": 41,
     "metadata": {},
     "output_type": "execute_result"
    }
   ],
   "source": [
    "df_act_leave[\"Worker Category\"].unique()"
   ]
  },
  {
   "cell_type": "code",
   "execution_count": 44,
   "metadata": {},
   "outputs": [
    {
     "data": {
      "text/plain": [
       "array(['Gen X: 1965-1982', 'Millenial: 1983-1999',\n",
       "       'Baby Boomer: 1945-1964', 'Gen Z: 2000-Present'], dtype=object)"
      ]
     },
     "execution_count": 44,
     "metadata": {},
     "output_type": "execute_result"
    }
   ],
   "source": [
    "df_act_leave[\"Generation\"].unique()"
   ]
  },
  {
   "cell_type": "code",
   "execution_count": 45,
   "metadata": {},
   "outputs": [
    {
     "data": {
      "text/plain": [
       "array(['10-15 Years', '15+ Years', '5-10 Years', '3-5 Years', '2-3 Years',\n",
       "       'Under 1 Year', '1-2 Years'], dtype=object)"
      ]
     },
     "execution_count": 45,
     "metadata": {},
     "output_type": "execute_result"
    }
   ],
   "source": [
    "df_act_leave[\"Tenure Group\"].unique()"
   ]
  },
  {
   "cell_type": "code",
   "execution_count": 46,
   "metadata": {},
   "outputs": [
    {
     "data": {
      "text/plain": [
       "array([1], dtype=int64)"
      ]
     },
     "execution_count": 46,
     "metadata": {},
     "output_type": "execute_result"
    }
   ],
   "source": [
    "df_act_leave[\"QTY\"].unique()"
   ]
  },
  {
   "cell_type": "markdown",
   "metadata": {},
   "source": [
    "### Summary Data Table\n",
    "\n",
    "Number of rows and columns\n",
    "    - Rows: 204143\n",
    "    - Columns: 13\n",
    "\n",
    "Columns:\n",
    "- Employee Code: Three digit code linking the table unique employee codes \n",
    "    - unqique employees \n",
    "- Original hire date: day in a wday, month, day, year \n",
    "- Recent Hire Date (if applicable): day in a wday, month, day, year usually matches the Original Hire Date\n",
    "- Gender: employees' geneder values: [male, female, non specified]\n",
    "- Job Titles: employees' job title some values: ['SALES MANAGER', 'DISTRICT TEAM LEADER', 'SALES ASSOCIATE', 'ASSISTANT MANAGER', 'MANAGER IN TRAINING']\n",
    "- Position Status: If they are `Active` in a given week or on `Leave`\n",
    "- Worker Category: employeement status of employee values= ['Permanent Full Time', 'Permanent Part Time', 'Temporary Part Time', 'Temporary Full Time']\n",
    "- Birth year: employees' birth year\n",
    "- Report Date: date of the report the entry was pulled from\n",
    "- Generation: employees' generation values = ['Gen X: 1965-1982', 'Millenial: 1983-1999', 'Baby Boomer: 1945-1964', 'Gen Z: 2000-Present']\n",
    "- Tenure: employees' code tenure \n",
    "- Tenure Group: employees years with the company some values ['10-15 Years', '15+ Years', '5-10 Years']\n",
    "- QTY it always has a value of `1`"
   ]
  },
  {
   "cell_type": "code",
   "execution_count": 47,
   "metadata": {},
   "outputs": [
    {
     "name": "stdout",
     "output_type": "stream",
     "text": [
      "Employee Code                       object\n",
      "Original Hire Date                  object\n",
      "Recent Hire Date (if applicable)    object\n",
      "Gender                              object\n",
      "Job Title                           object\n",
      "Position Status                     object\n",
      "Worker Category                     object\n",
      "Birth Year                           int64\n",
      "Report Date (week ending)           object\n",
      "Generation                          object\n",
      "Tenure                               int64\n",
      "Tenure Group                        object\n",
      "QTY                                  int64\n",
      "dtype: object\n"
     ]
    }
   ],
   "source": [
    "df_act_leave.groupby()"
   ]
  },
  {
   "cell_type": "markdown",
   "metadata": {},
   "source": [
    "**No more graphs could made**"
   ]
  }
 ],
 "metadata": {
  "kernelspec": {
   "display_name": "Python 3",
   "language": "python",
   "name": "python3"
  },
  "language_info": {
   "codemirror_mode": {
    "name": "ipython",
    "version": 3
   },
   "file_extension": ".py",
   "mimetype": "text/x-python",
   "name": "python",
   "nbconvert_exporter": "python",
   "pygments_lexer": "ipython3",
   "version": "3.7.6"
  }
 },
 "nbformat": 4,
 "nbformat_minor": 4
}
