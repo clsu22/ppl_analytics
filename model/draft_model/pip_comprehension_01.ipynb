{
 "cells": [
  {
   "cell_type": "markdown",
   "metadata": {},
   "source": [
    "Pipeline:\n",
    "\n",
    "\\- read data\n",
    "\n",
    "\\- separate training and validation dataset \n",
    "\n",
    "1. Baseline model \n",
    "    - dummy\n",
    "\n",
    "2. Logistic regression \n",
    "    - RFE Feature selection \n",
    "    - Hyperparameter tuning \n",
    "    - Interpretation \n",
    "        - by weights \n",
    "        - by SHAP \n",
    "3. Other ML classifiers \n",
    "\n",
    "--- still considering using SMOTE "
   ]
  },
  {
   "cell_type": "code",
   "execution_count": 1,
   "metadata": {},
   "outputs": [],
   "source": [
    "import pandas as pd\n",
    "import re\n",
    "import datetime\n",
    "import numpy as np\n",
    "import matplotlib.pyplot as plt\n",
    "import string \n",
    "import warnings\n",
    "warnings.simplefilter('ignore')\n",
    "from sklearn.linear_model import LogisticRegression\n",
    "from sklearn.feature_extraction.text import CountVectorizer, TfidfVectorizer\n",
    "from sklearn.metrics import recall_score, roc_auc_score, accuracy_score, plot_confusion_matrix, classification_report\n",
    "#from imblearn.over_sampling import SMOTE\n",
    "from sklearn.model_selection import GridSearchCV, RandomizedSearchCV\n",
    "from regressors import stats\n",
    "from sklearn.feature_selection import chi2"
   ]
  },
  {
   "cell_type": "code",
   "execution_count": 2,
   "metadata": {},
   "outputs": [],
   "source": [
    "from sklearn import tree \n",
    "from sklearn.tree import DecisionTreeClassifier\n",
    "from sklearn.model_selection import train_test_split \n",
    "\n",
    "from sklearn.neighbors import KNeighborsClassifier, KNeighborsRegressor\n",
    "from sklearn.preprocessing import normalize, scale, Normalizer, StandardScaler, OneHotEncoder\n",
    "\n",
    "from sklearn.linear_model import LogisticRegression, LinearRegression\n",
    "\n",
    "from sklearn.svm import SVC, SVR, LinearSVC\n",
    "from sklearn.multiclass import OneVsRestClassifier, OneVsOneClassifier\n",
    "from sklearn.ensemble import RandomForestClassifier\n",
    "\n",
    "from sklearn.ensemble import VotingClassifier, AdaBoostClassifier, GradientBoostingClassifier, RandomForestRegressor\n",
    "from sklearn.tree import DecisionTreeRegressor\n",
    "from lightgbm import LGBMClassifier\n",
    "from xgboost import XGBClassifier\n",
    "from sklearn.compose import ColumnTransformer\n",
    "from sklearn.impute import SimpleImputer\n",
    "from sklearn.model_selection import GridSearchCV\n",
    "from sklearn.pipeline import Pipeline, FeatureUnion, make_pipeline\n",
    "from sklearn.preprocessing import FunctionTransformer\n",
    "\n",
    "from sklearn.feature_extraction.text import TfidfVectorizer, TfidfTransformer\n",
    "from sklearn.feature_extraction.text import CountVectorizer\n",
    "\n",
    "import matplotlib.pyplot as plt\n",
    "%matplotlib inline\n",
    "\n",
    "import pandas as pd\n",
    "pd.set_option(\"display.max_colwidth\", 200)\n",
    "\n",
    "import altair as alt\n",
    "import time\n",
    "\n",
    "# pip install ipython-autotime\n",
    "import autotime\n",
    "from sklearn.feature_selection import RFECV\n",
    "\n",
    "from sklearn.metrics import make_scorer, precision_score, f1_score, accuracy_score, average_precision_score\n",
    "from sklearn.metrics import classification_report, confusion_matrix\n",
    "from sklearn.metrics import recall_score, precision_score\n",
    "from sklearn.metrics import roc_auc_score, roc_curve\n",
    "\n",
    "from itertools import compress\n",
    "import matplotlib\n",
    "import matplotlib.pyplot as plt\n",
    "\n",
    "#import shap\n",
    "#shap.initjs()"
   ]
  },
  {
   "cell_type": "code",
   "execution_count": 3,
   "metadata": {},
   "outputs": [],
   "source": [
    "def show_scores(model, X_train, y_train, X_test, y_test, show=True):\n",
    "    \"\"\"\n",
    "    Calculate the scores \n",
    "    \"\"\"\n",
    "    y_pred_train = model.predict(X_train)\n",
    "    y_pred_test = model.predict(X_test)\n",
    "    score_result = {\"accuracy\":[], \"recall\":[], \"precision\":[], \"roc_auc_score\":[], \"f1_score\":[]}\n",
    "    score_result[\"accuracy\"].append(round(accuracy_score(y_train, y_pred_train), 2))\n",
    "    score_result[\"accuracy\"].append(round(accuracy_score(y_test, y_pred_test), 2))\n",
    "    score_result[\"recall\"].append(round(recall_score(y_train, y_pred_train), 2))\n",
    "    score_result[\"recall\"].append(round(recall_score(y_test, y_pred_test), 2))\n",
    "    score_result[\"precision\"].append(round(precision_score(y_train, y_pred_train), 2))\n",
    "    score_result[\"precision\"].append(round(precision_score(y_test, y_pred_test), 2))\n",
    "    score_result[\"roc_auc_score\"].append(round(roc_auc_score(y_train, model.predict_proba(X_train)[:,1]), 2))\n",
    "    score_result[\"roc_auc_score\"].append(round(roc_auc_score(y_test, model.predict_proba(X_test)[:,1]), 2))\n",
    "    score_result[\"f1_score\"].append(round(f1_score(y_train, y_pred_train), 2))\n",
    "    score_result[\"f1_score\"].append(round(f1_score(y_test, y_pred_test), 2))\n",
    "    if show:\n",
    "        score_result = pd.DataFrame(score_result, index=[\"train\", \"valid\"])\n",
    "        return score_result\n",
    "    else:\n",
    "        return "
   ]
  },
  {
   "cell_type": "code",
   "execution_count": 4,
   "metadata": {},
   "outputs": [],
   "source": [
    "def show_weights(feat_names, weights, num):\n",
    "    #feat_names #= X_train_sel_cols\n",
    "    #weights #= lr.coef_.flatten()\n",
    "\n",
    "    # Sort the coefficients in descending order \n",
    "    inds = np.argsort(weights)\n",
    "\n",
    "    # pick the first 20 as most informative features for negative reviews  \n",
    "    negative_words = [feat_names[index] for index in inds[:num]]\n",
    "\n",
    "    # pick the last 20 features as most informative features for positive reviews  \n",
    "    positive_words = [feat_names[index] for index in inds[-num:][::-1]]\n",
    "\n",
    "    neg_words_weights = [(weights[index]) for index in inds[:num]]\n",
    "    pos_words_weights = [(weights[index]) for index in inds[-num:][::-1]]\n",
    "\n",
    "    df = pd.DataFrame({'Neg feats':negative_words, 'Neg weights':neg_words_weights, \n",
    "                       'Pos feats':positive_words, 'Pos weights':pos_words_weights})\n",
    "    return df"
   ]
  },
  {
   "cell_type": "code",
   "execution_count": 5,
   "metadata": {},
   "outputs": [],
   "source": [
    "def show_probs(employee_code, y_obs, y_pred, probs, dataset = \"train\"):\n",
    "    '''\n",
    "    Show probabilities \n",
    "    '''\n",
    "    if dataset == \"train\":\n",
    "        df1 = pd.DataFrame({\"employee_code\": employee_code, \"y_obs_train\": y_obs, \"y_pred_train\":y_pred}).reset_index(drop=True)\n",
    "        df2 = pd.DataFrame(columns=[\"non-high performer\", \"high performer\"],  data=probs)\n",
    "        df_prob = pd.concat([df1, df2], axis =1)\n",
    "        df_prob[\"False_positive\"] = df_prob.apply(lambda row: 1 if row.y_obs_train == 0 and row.y_pred_train == 1 else 0, axis=1)\n",
    "        df_prob[\"False_negative\"] = df_prob.apply(lambda row: 1 if row.y_obs_train == 1 and row.y_pred_train == 0 else 0, axis=1)\n",
    "    elif dataset == \"valid\":\n",
    "        df1 = pd.DataFrame({\"employee_code\": employee_code, \"y_obs_valid\": y_obs, \"y_pred_valid\":y_pred}).reset_index(drop=True)\n",
    "        df2 = pd.DataFrame(columns=[\"non-high performer\", \"high performer\"],  data=probs)\n",
    "        df_prob = pd.concat([df1, df2], axis =1)\n",
    "        df_prob[\"False_positive\"] = df_prob.apply(lambda row: 1 if row.y_obs_valid == 0 and row.y_pred_valid ==1 else 0, axis=1)\n",
    "        df_prob[\"False_negative\"] = df_prob.apply(lambda row: 1 if row.y_obs_valid == 1 and row.y_pred_valid ==0 else 0, axis=1)\n",
    "    return df_prob"
   ]
  },
  {
   "cell_type": "code",
   "execution_count": 6,
   "metadata": {},
   "outputs": [
    {
     "data": {
      "text/html": [
       "<div>\n",
       "<style scoped>\n",
       "    .dataframe tbody tr th:only-of-type {\n",
       "        vertical-align: middle;\n",
       "    }\n",
       "\n",
       "    .dataframe tbody tr th {\n",
       "        vertical-align: top;\n",
       "    }\n",
       "\n",
       "    .dataframe thead th {\n",
       "        text-align: right;\n",
       "    }\n",
       "</style>\n",
       "<table border=\"1\" class=\"dataframe\">\n",
       "  <thead>\n",
       "    <tr style=\"text-align: right;\">\n",
       "      <th></th>\n",
       "      <th>employee_code</th>\n",
       "      <th>rehired_</th>\n",
       "      <th>referral_flag</th>\n",
       "      <th>job_hopper</th>\n",
       "      <th>competitor_experience</th>\n",
       "      <th>Freedom_competitor_exp</th>\n",
       "      <th>Koodo_competitor_exp</th>\n",
       "      <th>Shaw_competitor_exp</th>\n",
       "      <th>Telus_competitor_exp</th>\n",
       "      <th>Bell_competitor_exp</th>\n",
       "      <th>...</th>\n",
       "      <th>hp_class</th>\n",
       "      <th>_industry_exp</th>\n",
       "      <th>Clothing &amp; Footwear_industry_exp</th>\n",
       "      <th>Consumer electronics_industry_exp</th>\n",
       "      <th>Food Service_industry_exp</th>\n",
       "      <th>Food-Convenience-Pharmacy_industry_exp</th>\n",
       "      <th>Other_industry_exp</th>\n",
       "      <th>Sport_Travel_Enterntain_Hotel_industry_exp</th>\n",
       "      <th>Telecommunications_industry_exp</th>\n",
       "      <th>unknown_industry_exp</th>\n",
       "    </tr>\n",
       "  </thead>\n",
       "  <tbody>\n",
       "    <tr>\n",
       "      <th>0</th>\n",
       "      <td>MZE</td>\n",
       "      <td>No</td>\n",
       "      <td>1.0</td>\n",
       "      <td>0.0</td>\n",
       "      <td>1.0</td>\n",
       "      <td>0.0</td>\n",
       "      <td>0.0</td>\n",
       "      <td>0.0</td>\n",
       "      <td>0.0</td>\n",
       "      <td>0.0</td>\n",
       "      <td>...</td>\n",
       "      <td>0.0</td>\n",
       "      <td>1.0</td>\n",
       "      <td>0.0</td>\n",
       "      <td>0.0</td>\n",
       "      <td>0.0</td>\n",
       "      <td>0.0</td>\n",
       "      <td>0.0</td>\n",
       "      <td>0.0</td>\n",
       "      <td>1.0</td>\n",
       "      <td>0.0</td>\n",
       "    </tr>\n",
       "    <tr>\n",
       "      <th>1</th>\n",
       "      <td>MRU</td>\n",
       "      <td>No</td>\n",
       "      <td>0.0</td>\n",
       "      <td>0.0</td>\n",
       "      <td>1.0</td>\n",
       "      <td>0.0</td>\n",
       "      <td>0.0</td>\n",
       "      <td>0.0</td>\n",
       "      <td>0.0</td>\n",
       "      <td>0.0</td>\n",
       "      <td>...</td>\n",
       "      <td>0.0</td>\n",
       "      <td>1.0</td>\n",
       "      <td>0.0</td>\n",
       "      <td>0.0</td>\n",
       "      <td>0.0</td>\n",
       "      <td>0.0</td>\n",
       "      <td>0.0</td>\n",
       "      <td>0.0</td>\n",
       "      <td>1.0</td>\n",
       "      <td>0.0</td>\n",
       "    </tr>\n",
       "    <tr>\n",
       "      <th>2</th>\n",
       "      <td>LAP</td>\n",
       "      <td>Yes</td>\n",
       "      <td>0.0</td>\n",
       "      <td>0.0</td>\n",
       "      <td>0.0</td>\n",
       "      <td>0.0</td>\n",
       "      <td>0.0</td>\n",
       "      <td>0.0</td>\n",
       "      <td>0.0</td>\n",
       "      <td>0.0</td>\n",
       "      <td>...</td>\n",
       "      <td>0.0</td>\n",
       "      <td>1.0</td>\n",
       "      <td>0.0</td>\n",
       "      <td>0.0</td>\n",
       "      <td>0.0</td>\n",
       "      <td>0.0</td>\n",
       "      <td>1.0</td>\n",
       "      <td>0.0</td>\n",
       "      <td>0.0</td>\n",
       "      <td>0.0</td>\n",
       "    </tr>\n",
       "    <tr>\n",
       "      <th>3</th>\n",
       "      <td>MYD</td>\n",
       "      <td>No</td>\n",
       "      <td>0.0</td>\n",
       "      <td>0.0</td>\n",
       "      <td>0.0</td>\n",
       "      <td>0.0</td>\n",
       "      <td>0.0</td>\n",
       "      <td>0.0</td>\n",
       "      <td>0.0</td>\n",
       "      <td>0.0</td>\n",
       "      <td>...</td>\n",
       "      <td>1.0</td>\n",
       "      <td>1.0</td>\n",
       "      <td>0.0</td>\n",
       "      <td>0.0</td>\n",
       "      <td>0.0</td>\n",
       "      <td>0.0</td>\n",
       "      <td>0.0</td>\n",
       "      <td>1.0</td>\n",
       "      <td>0.0</td>\n",
       "      <td>0.0</td>\n",
       "    </tr>\n",
       "    <tr>\n",
       "      <th>4</th>\n",
       "      <td>JJB</td>\n",
       "      <td>Yes</td>\n",
       "      <td>0.0</td>\n",
       "      <td>0.0</td>\n",
       "      <td>0.0</td>\n",
       "      <td>0.0</td>\n",
       "      <td>0.0</td>\n",
       "      <td>0.0</td>\n",
       "      <td>0.0</td>\n",
       "      <td>0.0</td>\n",
       "      <td>...</td>\n",
       "      <td>0.0</td>\n",
       "      <td>1.0</td>\n",
       "      <td>0.0</td>\n",
       "      <td>0.0</td>\n",
       "      <td>0.0</td>\n",
       "      <td>0.0</td>\n",
       "      <td>0.0</td>\n",
       "      <td>1.0</td>\n",
       "      <td>1.0</td>\n",
       "      <td>1.0</td>\n",
       "    </tr>\n",
       "  </tbody>\n",
       "</table>\n",
       "<p>5 rows × 86 columns</p>\n",
       "</div>"
      ],
      "text/plain": [
       "  employee_code rehired_  referral_flag  job_hopper  competitor_experience  \\\n",
       "0           MZE       No            1.0         0.0                    1.0   \n",
       "1           MRU       No            0.0         0.0                    1.0   \n",
       "2           LAP      Yes            0.0         0.0                    0.0   \n",
       "3           MYD       No            0.0         0.0                    0.0   \n",
       "4           JJB      Yes            0.0         0.0                    0.0   \n",
       "\n",
       "   Freedom_competitor_exp  Koodo_competitor_exp  Shaw_competitor_exp  \\\n",
       "0                     0.0                   0.0                  0.0   \n",
       "1                     0.0                   0.0                  0.0   \n",
       "2                     0.0                   0.0                  0.0   \n",
       "3                     0.0                   0.0                  0.0   \n",
       "4                     0.0                   0.0                  0.0   \n",
       "\n",
       "   Telus_competitor_exp  Bell_competitor_exp  ...  hp_class  _industry_exp  \\\n",
       "0                   0.0                  0.0  ...       0.0            1.0   \n",
       "1                   0.0                  0.0  ...       0.0            1.0   \n",
       "2                   0.0                  0.0  ...       0.0            1.0   \n",
       "3                   0.0                  0.0  ...       1.0            1.0   \n",
       "4                   0.0                  0.0  ...       0.0            1.0   \n",
       "\n",
       "   Clothing & Footwear_industry_exp  Consumer electronics_industry_exp  \\\n",
       "0                               0.0                                0.0   \n",
       "1                               0.0                                0.0   \n",
       "2                               0.0                                0.0   \n",
       "3                               0.0                                0.0   \n",
       "4                               0.0                                0.0   \n",
       "\n",
       "   Food Service_industry_exp  Food-Convenience-Pharmacy_industry_exp  \\\n",
       "0                        0.0                                     0.0   \n",
       "1                        0.0                                     0.0   \n",
       "2                        0.0                                     0.0   \n",
       "3                        0.0                                     0.0   \n",
       "4                        0.0                                     0.0   \n",
       "\n",
       "   Other_industry_exp  Sport_Travel_Enterntain_Hotel_industry_exp  \\\n",
       "0                 0.0                                         0.0   \n",
       "1                 0.0                                         0.0   \n",
       "2                 1.0                                         0.0   \n",
       "3                 0.0                                         1.0   \n",
       "4                 0.0                                         1.0   \n",
       "\n",
       "   Telecommunications_industry_exp  unknown_industry_exp  \n",
       "0                              1.0                   0.0  \n",
       "1                              1.0                   0.0  \n",
       "2                              0.0                   0.0  \n",
       "3                              0.0                   0.0  \n",
       "4                              1.0                   1.0  \n",
       "\n",
       "[5 rows x 86 columns]"
      ]
     },
     "execution_count": 6,
     "metadata": {},
     "output_type": "execute_result"
    }
   ],
   "source": [
    "# Train data \n",
    "#df = pd.read_csv(\"../data/0604_training_dataset.csv\")\n",
    "df = pd.read_csv(\"C:/Users/NIW/Glentel Inc/HR Analytics - Capstone Data/ubc_mds_team_share/06_clean_data/0605_training_dataset.csv\")\n",
    "df.head(5)"
   ]
  },
  {
   "cell_type": "code",
   "execution_count": 7,
   "metadata": {
    "scrolled": true
   },
   "outputs": [
    {
     "data": {
      "text/plain": [
       "Index(['employee_code', 'rehired_', 'referral_flag', 'job_hopper',\n",
       "       'competitor_experience', 'Freedom_competitor_exp',\n",
       "       'Koodo_competitor_exp', 'Shaw_competitor_exp', 'Telus_competitor_exp',\n",
       "       'Bell_competitor_exp', 'Rogers_competitor_exp',\n",
       "       'The Mobile Shop_competitor_exp', 'Best Buy_competitor_exp',\n",
       "       'Videotron_competitor_exp', 'Wow[!]* Mobile_competitor_exp',\n",
       "       'The Source_competitor_exp', 'Walmart_competitor_exp',\n",
       "       'Virgin Mobile_competitor_exp', 'Osl_competitor_exp',\n",
       "       'accounting_concentration', 'arts_concentration',\n",
       "       'business_concentration', 'computer_systems_concentration',\n",
       "       'engineering_concentration', 'finance_concentration',\n",
       "       'general_concentration', 'human_resource_concentration',\n",
       "       'interactive_arts_and_technology_concentration',\n",
       "       'marketing_concentration', 'not_specified_concentration',\n",
       "       'other_concentration', 'administrative', 'assistant manager',\n",
       "       'blue collar', 'cashier', 'cook', 'customer service representative',\n",
       "       'driver', 'education', 'financial services', 'fitness/sports',\n",
       "       'manager', 'no work', 'other', 'sales associate', 'technicians',\n",
       "       'telemarketers', 'highest_degree', 'background_highest_degree',\n",
       "       'country_highest_degree', 'sales_exp', 'customer_serv_exp',\n",
       "       'leader_ship_exp', 'efficient service', 'mobile expert', 'high school',\n",
       "       'information system', 'cash register', 'raw_date_chall_readability',\n",
       "       'food_service_industry_exp', 'apparel_industry_exp',\n",
       "       'supercenter_convenience_industry_exp', 'automotive_sales_industry_exp',\n",
       "       'blue_collar_industry_exp', 'consumer_electronics', 'no_lang_spoken',\n",
       "       'trilingual_flag', 'goal_record', 'sales_customer_base_exp',\n",
       "       'volunteer_exp', 'problem_solver', 'sports_mention',\n",
       "       'communication_skills', 'team_player', 'leadership_mention',\n",
       "       'clean_text', 'hp_class', '_industry_exp',\n",
       "       'Clothing & Footwear_industry_exp', 'Consumer electronics_industry_exp',\n",
       "       'Food Service_industry_exp', 'Food-Convenience-Pharmacy_industry_exp',\n",
       "       'Other_industry_exp', 'Sport_Travel_Enterntain_Hotel_industry_exp',\n",
       "       'Telecommunications_industry_exp', 'unknown_industry_exp'],\n",
       "      dtype='object')"
      ]
     },
     "execution_count": 7,
     "metadata": {},
     "output_type": "execute_result"
    }
   ],
   "source": [
    "df.columns"
   ]
  },
  {
   "cell_type": "code",
   "execution_count": 8,
   "metadata": {},
   "outputs": [
    {
     "data": {
      "text/html": [
       "<div>\n",
       "<style scoped>\n",
       "    .dataframe tbody tr th:only-of-type {\n",
       "        vertical-align: middle;\n",
       "    }\n",
       "\n",
       "    .dataframe tbody tr th {\n",
       "        vertical-align: top;\n",
       "    }\n",
       "\n",
       "    .dataframe thead th {\n",
       "        text-align: right;\n",
       "    }\n",
       "</style>\n",
       "<table border=\"1\" class=\"dataframe\">\n",
       "  <thead>\n",
       "    <tr style=\"text-align: right;\">\n",
       "      <th></th>\n",
       "      <th>employee_code</th>\n",
       "      <th>hp_class</th>\n",
       "    </tr>\n",
       "    <tr>\n",
       "      <th>fitness/sports</th>\n",
       "      <th></th>\n",
       "      <th></th>\n",
       "    </tr>\n",
       "  </thead>\n",
       "  <tbody>\n",
       "    <tr>\n",
       "      <th>0.0</th>\n",
       "      <td>271</td>\n",
       "      <td>0.254613</td>\n",
       "    </tr>\n",
       "    <tr>\n",
       "      <th>1.0</th>\n",
       "      <td>17</td>\n",
       "      <td>0.058824</td>\n",
       "    </tr>\n",
       "  </tbody>\n",
       "</table>\n",
       "</div>"
      ],
      "text/plain": [
       "                employee_code  hp_class\n",
       "fitness/sports                         \n",
       "0.0                       271  0.254613\n",
       "1.0                        17  0.058824"
      ]
     },
     "execution_count": 8,
     "metadata": {},
     "output_type": "execute_result"
    }
   ],
   "source": [
    "df.groupby(['fitness/sports']).agg({\"employee_code\":\"count\",\"hp_class\":\"mean\"})"
   ]
  },
  {
   "cell_type": "code",
   "execution_count": 9,
   "metadata": {},
   "outputs": [],
   "source": [
    "# Split data \n",
    "X_train = df.drop(columns=[\"hp_class\"])\n",
    "y_train = df[\"hp_class\"]\n",
    "X_train, X_valid, y_train, y_valid = train_test_split(X_train, y_train, \n",
    "                                                         train_size=0.8, random_state=1234)"
   ]
  },
  {
   "cell_type": "code",
   "execution_count": 10,
   "metadata": {},
   "outputs": [],
   "source": [
    "numeric_features =['referral_flag', \n",
    "               \"job_hopper\",               #avg_work \n",
    "               'competitor_experience',\n",
    "               #'Freedom_competitor_exp', 'Koodo_competitor_exp', 'Shaw_competitor_exp',\n",
    "               #'Telus_competitor_exp', 'Bell_competitor_exp', 'Rogers_competitor_exp',\n",
    "               #'The Mobile Shop_competitor_exp', 'Best Buy_competitor_exp',\n",
    "               #'Videotron_competitor_exp', 'Wow[!]* Mobile_competitor_exp',\n",
    "               #'The Source_competitor_exp', 'Walmart_competitor_exp',\n",
    "               #'Virgin Mobile_competitor_exp', 'Osl_competitor_exp',    #competitor_experience\n",
    "               'accounting_concentration',\n",
    "       'arts_concentration', 'business_concentration',\n",
    "       'computer_systems_concentration', 'engineering_concentration',\n",
    "       'finance_concentration', 'general_concentration',\n",
    "       'human_resource_concentration',\n",
    "       'interactive_arts_and_technology_concentration',\n",
    "       'marketing_concentration', #'not_specified_concentration',\n",
    "       'other_concentration',#education concentration \n",
    "               'administrative', 'assistant manager', 'blue collar', 'cashier', 'cook',\n",
    "               'customer service representative', 'driver', 'education',\n",
    "               'financial services', 'fitness/sports', 'manager', 'no work', 'other',\n",
    "               'sales associate', 'technicians', 'telemarketers', # work_title \n",
    "               'sales_exp', 'customer_serv_exp','leader_ship_exp', #sales_cus_exp\n",
    "               #'efficient service', 'mobile expert', 'high school',\n",
    "                #'information system', 'cash register', # word count\n",
    "               'raw_date_chall_readability', # communication level \n",
    "               'food_service_industry_exp',\n",
    "               'apparel_industry_exp', 'supercenter_convenience_industry_exp',\n",
    "               'automotive_sales_industry_exp', 'blue_collar_industry_exp',\n",
    "               'consumer_electronics', #industry_exp\n",
    "               'no_lang_spoken', 'trilingual_flag', 'goal_record',\n",
    "               'sales_customer_base_exp', 'volunteer_exp', 'problem_solver',\n",
    "               'sports_mention', 'communication_skills', 'team_player',\n",
    "               'leadership_mention']# others features in consolidate dataset \n",
    "                   # new_industry_cat updated\n",
    "                #'Clothing & Footwear_industry_exp',\n",
    "       #'Consumer electronics_industry_exp', 'Food Service_industry_exp',\n",
    "       #'Food-Convenience-Pharmacy_industry_exp', 'Other_industry_exp',\n",
    "       #'Sport_Travel_Enterntain_Hotel_industry_exp',\n",
    "       #'Telecommunications_industry_exp', 'unknown_industry_exp'] \n",
    "                \n",
    "categorical_features = ['rehired_', 'highest_degree', 'country_highest_degree', 'background_highest_degree'] #'background_highest_degree', 'country_highest_degree']"
   ]
  },
  {
   "cell_type": "code",
   "execution_count": 11,
   "metadata": {},
   "outputs": [],
   "source": [
    "# Preprocess \n",
    "numeric_transformer = Pipeline(steps=[\n",
    "                                      ('imputer', SimpleImputer(strategy='mean')),\n",
    "                                      ('scaler', StandardScaler())\n",
    "                                    ])\n",
    "\n",
    "\n",
    "categorical_transformer = Pipeline(steps=[\n",
    "                                          ('imputer', SimpleImputer(strategy='constant', \n",
    "                                                                    fill_value='missing')),\n",
    "                                          ('onehot', OneHotEncoder(handle_unknown='ignore'))\n",
    "                                         ])\n",
    "\n",
    "preprocessor = ColumnTransformer(\n",
    "                                 transformers=[\n",
    "                                    ('num', numeric_transformer, numeric_features),\n",
    "                                    ('cat', categorical_transformer, categorical_features)\n",
    "                                ])"
   ]
  },
  {
   "cell_type": "markdown",
   "metadata": {},
   "source": [
    "## Dummy baseline "
   ]
  },
  {
   "cell_type": "code",
   "execution_count": 12,
   "metadata": {},
   "outputs": [
    {
     "name": "stdout",
     "output_type": "stream",
     "text": [
      "Fitting baseline model: \n"
     ]
    },
    {
     "data": {
      "text/html": [
       "<div>\n",
       "<style scoped>\n",
       "    .dataframe tbody tr th:only-of-type {\n",
       "        vertical-align: middle;\n",
       "    }\n",
       "\n",
       "    .dataframe tbody tr th {\n",
       "        vertical-align: top;\n",
       "    }\n",
       "\n",
       "    .dataframe thead th {\n",
       "        text-align: right;\n",
       "    }\n",
       "</style>\n",
       "<table border=\"1\" class=\"dataframe\">\n",
       "  <thead>\n",
       "    <tr style=\"text-align: right;\">\n",
       "      <th></th>\n",
       "      <th>model</th>\n",
       "      <th>accuracy</th>\n",
       "      <th>recall</th>\n",
       "      <th>precision</th>\n",
       "      <th>roc_auc_score</th>\n",
       "      <th>f1_score</th>\n",
       "    </tr>\n",
       "  </thead>\n",
       "  <tbody>\n",
       "    <tr>\n",
       "      <th>train</th>\n",
       "      <td>dummy</td>\n",
       "      <td>0.64</td>\n",
       "      <td>0.29</td>\n",
       "      <td>0.29</td>\n",
       "      <td>0.55</td>\n",
       "      <td>0.29</td>\n",
       "    </tr>\n",
       "    <tr>\n",
       "      <th>valid</th>\n",
       "      <td>dummy</td>\n",
       "      <td>0.69</td>\n",
       "      <td>0.33</td>\n",
       "      <td>0.29</td>\n",
       "      <td>0.43</td>\n",
       "      <td>0.31</td>\n",
       "    </tr>\n",
       "  </tbody>\n",
       "</table>\n",
       "</div>"
      ],
      "text/plain": [
       "       model  accuracy  recall  precision  roc_auc_score  f1_score\n",
       "train  dummy      0.64    0.29       0.29           0.55      0.29\n",
       "valid  dummy      0.69    0.33       0.29           0.43      0.31"
      ]
     },
     "execution_count": 12,
     "metadata": {},
     "output_type": "execute_result"
    },
    {
     "data": {
      "image/png": "[encoded data removed]",
      "text/plain": [
       "<Figure size 432x288 with 2 Axes>"
      ]
     },
     "metadata": {
      "needs_background": "light"
     },
     "output_type": "display_data"
    },
    {
     "data": {
      "image/png": "[encoded data removed]",
      "text/plain": [
       "<Figure size 432x288 with 2 Axes>"
      ]
     },
     "metadata": {
      "needs_background": "light"
     },
     "output_type": "display_data"
    }
   ],
   "source": [
    "# Baseline model\n",
    "from sklearn.dummy import DummyClassifier\n",
    "print('Fitting baseline model: ')\n",
    "dummy = DummyClassifier()\n",
    "\n",
    "clf = Pipeline(steps=[('preprocessor', preprocessor),\n",
    "                      ('classifier', dummy)])\n",
    "\n",
    "clf.fit(X_train, y_train)\n",
    "disp = plot_confusion_matrix(clf, X_train, y_train,\n",
    "                             display_labels=['Non-high performer', 'high performer'],\n",
    "                             cmap=plt.cm.Blues, \n",
    "                             values_format = 'd')\n",
    "disp.ax_.set_title('Confusion matrix for high performer training data set')\n",
    "disp = plot_confusion_matrix(clf, X_valid, y_valid,\n",
    "                             display_labels=['Non-high performer', 'high performer'],\n",
    "                             cmap=plt.cm.Blues, \n",
    "                             values_format = 'd')\n",
    "disp.ax_.set_title('Confusion matrix for high performer validation data set')\n",
    "m1 = show_scores(clf, X_train, y_train, X_valid, y_valid)\n",
    "m1.insert(0,\"model\",\"dummy\")\n",
    "m1"
   ]
  },
  {
   "cell_type": "markdown",
   "metadata": {},
   "source": [
    "## Logistic regression"
   ]
  },
  {
   "cell_type": "code",
   "execution_count": 13,
   "metadata": {},
   "outputs": [],
   "source": [
    "clf_featr_sele = LogisticRegression(solver='liblinear', penalty=\"l1\") \n",
    "rfecv = RFECV(estimator=clf_featr_sele, \n",
    "              step=1, \n",
    "              cv=5, \n",
    "              scoring = 'f1'\n",
    "             )\n",
    "\n",
    "weights = np.linspace(0.1, 0.5, 9)\n",
    "lg_param_grid = {\"C\": [0.2, 0.3, 0.5, 1.0, 2.0, 3.0, 10],\n",
    "                'class_weight': [{0: x, 1: 1.0-x} for x in weights],\n",
    "                 'l1_ratio':[0, 0.1, 0.2, 0.3, 0.4, 0.5, 0.6, 0.7, 0.8, 0.9, 1.0],\n",
    "                 'penalty':[\"l1\", \"l2\"]\n",
    "                }\n",
    "CV_rfc = GridSearchCV(clf_featr_sele, \n",
    "                      lg_param_grid,\n",
    "                     cv= 5, scoring = 'f1')"
   ]
  },
  {
   "cell_type": "code",
   "execution_count": 14,
   "metadata": {},
   "outputs": [],
   "source": [
    "# Baseline model \n",
    "clf = Pipeline(steps=[('preprocessor', preprocessor),\n",
    "                          ('feature_sele',rfecv),\n",
    "                         ('clf_cv',CV_rfc)])"
   ]
  },
  {
   "cell_type": "code",
   "execution_count": 15,
   "metadata": {},
   "outputs": [],
   "source": [
    "clf.fit(X_train, y_train);\n"
   ]
  },
  {
   "cell_type": "code",
   "execution_count": 16,
   "metadata": {},
   "outputs": [
    {
     "data": {
      "text/plain": [
       "Text(0.5, 1.0, 'Confusion matrix for high performer training data set')"
      ]
     },
     "execution_count": 16,
     "metadata": {},
     "output_type": "execute_result"
    },
    {
     "data": {
      "image/png": "[encoded data removed]",
      "text/plain": [
       "<Figure size 432x288 with 2 Axes>"
      ]
     },
     "metadata": {
      "needs_background": "light"
     },
     "output_type": "display_data"
    }
   ],
   "source": [
    "disp = plot_confusion_matrix(clf, X_train, y_train,\n",
    "                             display_labels=['Non-high performer', 'high performer'],\n",
    "                             cmap=plt.cm.Blues, \n",
    "                             values_format = 'd')\n",
    "disp.ax_.set_title('Confusion matrix for high performer training data set')"
   ]
  },
  {
   "cell_type": "code",
   "execution_count": 17,
   "metadata": {},
   "outputs": [
    {
     "data": {
      "text/plain": [
       "Text(0.5, 1.0, 'Confusion matrix for high performer validation data set')"
      ]
     },
     "execution_count": 17,
     "metadata": {},
     "output_type": "execute_result"
    },
    {
     "data": {
      "image/png": "[encoded data removed]",
      "text/plain": [
       "<Figure size 432x288 with 2 Axes>"
      ]
     },
     "metadata": {
      "needs_background": "light"
     },
     "output_type": "display_data"
    }
   ],
   "source": [
    "disp = plot_confusion_matrix(clf, X_valid, y_valid,\n",
    "                             display_labels=['Non-high performer', 'high performer'],\n",
    "                             cmap=plt.cm.Blues, \n",
    "                             values_format = 'd')\n",
    "disp.ax_.set_title('Confusion matrix for high performer validation data set')\n"
   ]
  },
  {
   "cell_type": "code",
   "execution_count": 18,
   "metadata": {},
   "outputs": [
    {
     "data": {
      "image/png": "[encoded data removed]",
      "text/plain": [
       "<Figure size 432x288 with 1 Axes>"
      ]
     },
     "metadata": {
      "needs_background": "light"
     },
     "output_type": "display_data"
    }
   ],
   "source": [
    "from sklearn.metrics import roc_curve\n",
    "from sklearn.model_selection import cross_validate\n",
    "\n",
    "fpr, tpr, thresholds = roc_curve(y_valid, clf.predict_proba(X_valid)[:,1])\n",
    "\n",
    "plt.plot(fpr, tpr);\n",
    "plt.plot((0,1),(0,1),'--k');\n",
    "plt.xlabel('false positive rate');\n",
    "plt.ylabel('true positive rate');"
   ]
  },
  {
   "cell_type": "code",
   "execution_count": 19,
   "metadata": {
    "scrolled": true
   },
   "outputs": [
    {
     "name": "stdout",
     "output_type": "stream",
     "text": [
      "Best param is:  {'C': 2.0, 'class_weight': {0: 0.2, 1: 0.8}, 'l1_ratio': 0, 'penalty': 'l2'}\n"
     ]
    }
   ],
   "source": [
    "print(\"Best param is: \", CV_rfc.best_params_)\n"
   ]
  },
  {
   "cell_type": "code",
   "execution_count": 20,
   "metadata": {},
   "outputs": [
    {
     "data": {
      "text/html": [
       "<div>\n",
       "<style scoped>\n",
       "    .dataframe tbody tr th:only-of-type {\n",
       "        vertical-align: middle;\n",
       "    }\n",
       "\n",
       "    .dataframe tbody tr th {\n",
       "        vertical-align: top;\n",
       "    }\n",
       "\n",
       "    .dataframe thead th {\n",
       "        text-align: right;\n",
       "    }\n",
       "</style>\n",
       "<table border=\"1\" class=\"dataframe\">\n",
       "  <thead>\n",
       "    <tr style=\"text-align: right;\">\n",
       "      <th></th>\n",
       "      <th>model</th>\n",
       "      <th>accuracy</th>\n",
       "      <th>recall</th>\n",
       "      <th>precision</th>\n",
       "      <th>roc_auc_score</th>\n",
       "      <th>f1_score</th>\n",
       "    </tr>\n",
       "  </thead>\n",
       "  <tbody>\n",
       "    <tr>\n",
       "      <th>train</th>\n",
       "      <td>logistic_regression-m2</td>\n",
       "      <td>0.75</td>\n",
       "      <td>0.88</td>\n",
       "      <td>0.50</td>\n",
       "      <td>0.84</td>\n",
       "      <td>0.64</td>\n",
       "    </tr>\n",
       "    <tr>\n",
       "      <th>valid</th>\n",
       "      <td>logistic_regression-m2</td>\n",
       "      <td>0.71</td>\n",
       "      <td>0.75</td>\n",
       "      <td>0.39</td>\n",
       "      <td>0.73</td>\n",
       "      <td>0.51</td>\n",
       "    </tr>\n",
       "  </tbody>\n",
       "</table>\n",
       "</div>"
      ],
      "text/plain": [
       "                        model  accuracy  recall  precision  roc_auc_score  \\\n",
       "train  logistic_regression-m2      0.75    0.88       0.50           0.84   \n",
       "valid  logistic_regression-m2      0.71    0.75       0.39           0.73   \n",
       "\n",
       "       f1_score  \n",
       "train      0.64  \n",
       "valid      0.51  "
      ]
     },
     "execution_count": 20,
     "metadata": {},
     "output_type": "execute_result"
    }
   ],
   "source": [
    "m2 =show_scores(clf, X_train, y_train, X_valid, y_valid)\n",
    "m2.insert(0,\"model\",\"logistic_regression-m2\")\n",
    "m2"
   ]
  },
  {
   "cell_type": "code",
   "execution_count": 21,
   "metadata": {},
   "outputs": [],
   "source": [
    "# Take out the training dataset after preprocessing \n",
    "X_train_trans = pd.DataFrame(preprocessor.fit_transform(X_train),\n",
    "                           index=X_train.index,\n",
    "                           columns=(numeric_features +\n",
    "                                      list(preprocessor.named_transformers_['cat']['onehot']\n",
    "                                           .get_feature_names(categorical_features))))\n",
    "X_valid_trans = pd.DataFrame(preprocessor.fit(X_train).transform(X_valid),\n",
    "                           index=X_valid.index,\n",
    "                           columns=(numeric_features +\n",
    "                                      list(preprocessor.named_transformers_['cat']['onehot']\n",
    "                                           .get_feature_names(categorical_features))))"
   ]
  },
  {
   "cell_type": "code",
   "execution_count": 22,
   "metadata": {
    "scrolled": true
   },
   "outputs": [
    {
     "ename": "NameError",
     "evalue": "name 'lr' is not defined",
     "output_type": "error",
     "traceback": [
      "\u001b[1;31m---------------------------------------------------------------------------\u001b[0m",
      "\u001b[1;31mNameError\u001b[0m                                 Traceback (most recent call last)",
      "\u001b[1;32m<ipython-input-22-a313edfad734>\u001b[0m in \u001b[0;36m<module>\u001b[1;34m\u001b[0m\n\u001b[1;32m----> 1\u001b[1;33m scores = cross_validate(lr, X_train_sel, y_train, cv=5,\n\u001b[0m\u001b[0;32m      2\u001b[0m                         \u001b[0mscoring\u001b[0m\u001b[1;33m=\u001b[0m\u001b[1;33m(\u001b[0m\u001b[1;34m'accuracy'\u001b[0m\u001b[1;33m,\u001b[0m\u001b[1;34m'f1'\u001b[0m\u001b[1;33m,\u001b[0m\u001b[1;34m'recall'\u001b[0m\u001b[1;33m,\u001b[0m\u001b[1;34m'precision'\u001b[0m\u001b[1;33m,\u001b[0m\u001b[1;34m'roc_auc'\u001b[0m\u001b[1;33m)\u001b[0m\u001b[1;33m,\u001b[0m\u001b[1;33m\u001b[0m\u001b[1;33m\u001b[0m\u001b[0m\n\u001b[0;32m      3\u001b[0m                         return_train_score=False)\n\u001b[0;32m      4\u001b[0m \u001b[1;33m\u001b[0m\u001b[0m\n\u001b[0;32m      5\u001b[0m \u001b[1;32mfor\u001b[0m \u001b[0mi\u001b[0m \u001b[1;32min\u001b[0m \u001b[0mscores\u001b[0m\u001b[1;33m.\u001b[0m\u001b[0mkeys\u001b[0m\u001b[1;33m(\u001b[0m\u001b[1;33m)\u001b[0m\u001b[1;33m:\u001b[0m\u001b[1;33m\u001b[0m\u001b[1;33m\u001b[0m\u001b[0m\n",
      "\u001b[1;31mNameError\u001b[0m: name 'lr' is not defined"
     ]
    }
   ],
   "source": [
    "scores = cross_validate(lr, X_train_sel, y_train, cv=5,\n",
    "                        scoring=('accuracy','f1','recall','precision','roc_auc'),\n",
    "                        return_train_score=False)\n",
    "\n",
    "for i in scores.keys():\n",
    "    scores[i]=scores[i].mean()\n",
    "scor = pd.DataFrame.from_dict([scores])\n",
    "scor['mean_res'] = \"valid\"\n",
    "scor = scor.set_index('mean_res')\n",
    "m2 = m2.join(scor)\n",
    "m2"
   ]
  },
  {
   "cell_type": "code",
   "execution_count": null,
   "metadata": {},
   "outputs": [],
   "source": [
    "X_train_sel = X_train_trans.to_numpy()[:, rfecv.support_]\n",
    "X_valid_sel = X_valid_trans.to_numpy()[:, rfecv.support_]\n",
    "X_train_sel_cols = list(compress(X_train_trans.columns, rfecv.support_))\n",
    "lr = LogisticRegression(solver='liblinear', C = 2.0, class_weight = {0: 0.2, 1: 0.8}, l1_ratio=0, penalty=\"l2\") \n",
    "lr.fit(X_train_sel, y_train);"
   ]
  },
  {
   "cell_type": "code",
   "execution_count": null,
   "metadata": {},
   "outputs": [],
   "source": [
    "print(\"Summary:\")\n",
    "print(\"- before feature selection, after preprocessing, there are %d features\"%(len(X_train)))\n",
    "print(\"- after feature selection, after preprocessing, there are %d features\"%(len(X_train_sel_cols)))"
   ]
  },
  {
   "cell_type": "code",
   "execution_count": null,
   "metadata": {},
   "outputs": [],
   "source": [
    "disp = plot_confusion_matrix(lr, X_valid_sel, y_valid,\n",
    "                             display_labels=['Non-high performer', 'high performer'],\n",
    "                             cmap=plt.cm.Blues, \n",
    "                             values_format = 'd')\n",
    "disp.ax_.set_title('Confusion matrix for high performer validation data set')"
   ]
  },
  {
   "cell_type": "code",
   "execution_count": null,
   "metadata": {},
   "outputs": [],
   "source": [
    "# Show feature weights \n",
    "feat_names = X_train_sel_cols\n",
    "weights = lr.coef_.flatten()\n",
    "show_weights(feat_names, weights, 10)"
   ]
  },
  {
   "cell_type": "markdown",
   "metadata": {},
   "source": [
    "### Let's see probabilities for each employee"
   ]
  },
  {
   "cell_type": "code",
   "execution_count": null,
   "metadata": {},
   "outputs": [],
   "source": [
    "# Show probabilities for training set \n",
    "show_probs(X_train.employee_code, y_train, lr.predict(X_train_sel), lr.predict_proba(X_train_sel))\n"
   ]
  },
  {
   "cell_type": "code",
   "execution_count": null,
   "metadata": {},
   "outputs": [],
   "source": [
    "# Show probabilities for validation set (here is test set)\n",
    "df = show_probs(X_valid.employee_code, y_valid, lr.predict(X_valid_sel), lr.predict_proba(X_valid_sel), dataset=\"valid\")\n"
   ]
  },
  {
   "cell_type": "code",
   "execution_count": null,
   "metadata": {},
   "outputs": [],
   "source": [
    "# This are False negative\n",
    "df[df.False_negative==1]\n"
   ]
  },
  {
   "cell_type": "markdown",
   "metadata": {},
   "source": [
    "### Use SHAP for visualization"
   ]
  },
  {
   "cell_type": "code",
   "execution_count": null,
   "metadata": {},
   "outputs": [],
   "source": [
    "## Explain the Linear model \n",
    "explainer = shap.LinearExplainer(lr, X_train_sel, feature_dependence=\"independent\")\n",
    "shap_values = explainer.shap_values(X_valid_sel)\n",
    "X_valid_array = X_valid_sel # we need to pass a dense version for the plotting functions"
   ]
  },
  {
   "cell_type": "code",
   "execution_count": null,
   "metadata": {},
   "outputs": [],
   "source": [
    "shap.summary_plot(shap_values, X_valid_array, feature_names=X_train_sel_cols)\n"
   ]
  },
  {
   "cell_type": "code",
   "execution_count": null,
   "metadata": {},
   "outputs": [],
   "source": [
    "# Let's take a look at false negative case \n",
    "ind = 22\n",
    "shap.force_plot(\n",
    "    explainer.expected_value, shap_values[ind,:], X_valid_array[ind,:],\n",
    "    feature_names=X_train_sel_cols\n",
    ")"
   ]
  },
  {
   "cell_type": "code",
   "execution_count": null,
   "metadata": {},
   "outputs": [],
   "source": [
    "# Let's take a look at false negative case \n",
    "ind = 41\n",
    "shap.force_plot(\n",
    "    explainer.expected_value, shap_values[ind,:], X_valid_array[ind,:],\n",
    "    feature_names=X_train_sel_cols\n",
    ")"
   ]
  },
  {
   "cell_type": "code",
   "execution_count": null,
   "metadata": {},
   "outputs": [],
   "source": [
    "# Let's take a look at false negative case \n",
    "ind = 48\n",
    "shap.force_plot(\n",
    "    explainer.expected_value, shap_values[ind,:], X_valid_array[ind,:],\n",
    "    feature_names=X_train_sel_cols\n",
    ")"
   ]
  },
  {
   "cell_type": "markdown",
   "metadata": {},
   "source": [
    "--- "
   ]
  },
  {
   "cell_type": "markdown",
   "metadata": {},
   "source": [
    "# Use SMOTE\n",
    "\n",
    "[link](https://machinelearningmastery.com/bagging-and-random-forest-for-imbalanced-classification/#:~:text=An%20easy%20way%20to%20overcome,drawn%20from%20the%20original%20dataset)"
   ]
  },
  {
   "cell_type": "code",
   "execution_count": null,
   "metadata": {},
   "outputs": [],
   "source": [
    "from imblearn.over_sampling import SMOTE\n"
   ]
  },
  {
   "cell_type": "code",
   "execution_count": null,
   "metadata": {},
   "outputs": [],
   "source": [
    "sm = SMOTE(random_state=42)\n",
    "X_train_sm, y_train_sm = sm.fit_resample(X_train_trans, y_train)\n",
    "#smote_model = LogisticRegression(class_weight=\"balanced\", C = 0.05, solver='saga', penalty='elasticnet', l1_ratio=0.2, max_iter=500)\n",
    "#smote_model.fit(X_train_sm, y_train_sm);\n",
    "smote_model = Pipeline(steps=[('feature_sele',rfecv),\n",
    "                         ('clf_cv',CV_rfc)])\n",
    "smote_model.fit(X_train_sm, y_train_sm);"
   ]
  },
  {
   "cell_type": "code",
   "execution_count": null,
   "metadata": {},
   "outputs": [],
   "source": [
    "disp = plot_confusion_matrix(smote_model, X_valid_trans, y_valid,\n",
    "                             display_labels=['Non-high performer', 'high performer'],\n",
    "                             cmap=plt.cm.Blues, \n",
    "                             values_format = 'd')\n",
    "disp.ax_.set_title('Confusion matrix for high performer validation data set')\n"
   ]
  },
  {
   "cell_type": "code",
   "execution_count": null,
   "metadata": {
    "scrolled": true
   },
   "outputs": [],
   "source": [
    "m3 = show_scores(smote_model, X_train_trans, y_train, X_valid_trans, y_valid)\n",
    "m3.insert(0,\"model\",\"smote\")\n",
    "m3"
   ]
  },
  {
   "cell_type": "markdown",
   "metadata": {},
   "source": [
    "## Try other ML classifiers"
   ]
  },
  {
   "cell_type": "code",
   "execution_count": null,
   "metadata": {},
   "outputs": [],
   "source": [
    "models = {\n",
    "          #'decision tree': DecisionTreeClassifier(class_weight=\"balanced\"),\n",
    "          #'kNN': KNeighborsClassifier(),\n",
    "          #'logistic regression': LogisticRegression(class_weight=\"balanced\", solver='liblinear'),\n",
    "          #'RBF SVM' : SVC(), \n",
    "          'random forest' : RandomForestClassifier(), \n",
    "          'lgbm': LGBMClassifier(),\n",
    "          'xgboost' : XGBClassifier(),\n",
    "         }"
   ]
  },
  {
   "cell_type": "code",
   "execution_count": null,
   "metadata": {},
   "outputs": [],
   "source": [
    "results_dict = {}\n",
    "for model_name, model in models.items(): \n",
    "    rfecv = RFECV(estimator=model, \n",
    "              step=1, \n",
    "              cv=5, \n",
    "              scoring = 'f1')\n",
    "    weights = np.linspace(0.1, 0.5, 9)\n",
    "    lg_param_grid = {#\"C\": [0.1, 0.2, 0.3, 0.5, 1.0, 2.0, 3.0, 10],\n",
    "                    'class_weight': [{0: x, 1: 1.0-x} for x in weights],\n",
    "                    }\n",
    "    CV_rfc = GridSearchCV(model, \n",
    "                          lg_param_grid,\n",
    "                         cv= 5, scoring = 'f1')\n",
    "    clf = Pipeline(steps=[('feature_sele',rfecv),\n",
    "                          ('clf_cv',CV_rfc)\n",
    "                         ])\n",
    "    clf.fit(X_train_sm, y_train_sm);\n",
    "    print(show_scores(clf, X_train_trans, y_train, X_valid_trans, y_valid))\n",
    "    disp = plot_confusion_matrix(clf, X_valid_trans, y_valid,\n",
    "                             display_labels=['Non-high performer', 'high performer'],\n",
    "                             cmap=plt.cm.Blues, \n",
    "                             values_format = 'd')\n",
    "    disp.ax_.set_title('Confusion matrix for high performer validation data set: '+model_name)\n",
    "    "
   ]
  },
  {
   "cell_type": "code",
   "execution_count": null,
   "metadata": {},
   "outputs": [],
   "source": [
    "clf_featr_sele = XGBClassifier() \n",
    "rfecv = RFECV(estimator=clf_featr_sele, \n",
    "              step=1, \n",
    "              cv=5, \n",
    "              scoring = 'f1'\n",
    "             )\n",
    "\n",
    "weights = np.linspace(0.1, 0.5, 9)\n",
    "lg_param_grid = {\n",
    "                'class_weight': [{0: x, 1: 1.0-x} for x in weights]\n",
    "                }\n",
    "CV_rfc = GridSearchCV(clf_featr_sele, \n",
    "                      lg_param_grid,\n",
    "                     cv= 5, scoring = 'f1')\n",
    "\n",
    "sm = SMOTE(random_state=42)\n",
    "X_train_sm, y_train_sm = sm.fit_resample(X_train_trans, y_train)\n",
    "#smote_model = LogisticRegression(class_weight=\"balanced\", C = 0.05, solver='saga', penalty='elasticnet', l1_ratio=0.2, max_iter=500)\n",
    "#smote_model.fit(X_train_sm, y_train_sm);\n",
    "smote_model = Pipeline(steps=[('feature_sele',rfecv),\n",
    "                         ('clf_cv',CV_rfc)])\n",
    "smote_model.fit(X_train_sm, y_train_sm);\n",
    "\n",
    "show_scores(smote_model, X_train_trans, y_train, X_valid_trans, y_valid)"
   ]
  },
  {
   "cell_type": "code",
   "execution_count": null,
   "metadata": {},
   "outputs": [],
   "source": [
    "X_train_sel = X_train_trans.to_numpy()[:, rfecv.support_]\n",
    "X_valid_sel = X_valid_trans.to_numpy()[:, rfecv.support_]\n",
    "X_train_sel_cols = list(compress(X_train_trans.columns, rfecv.support_))"
   ]
  },
  {
   "cell_type": "code",
   "execution_count": null,
   "metadata": {},
   "outputs": [],
   "source": [
    "CV_rfc.predict(X_train_sel)"
   ]
  },
  {
   "cell_type": "code",
   "execution_count": null,
   "metadata": {},
   "outputs": [],
   "source": [
    "show_scores(CV_rfc, X_train_sel, y_train, X_valid_sel, y_valid)"
   ]
  },
  {
   "cell_type": "code",
   "execution_count": null,
   "metadata": {},
   "outputs": [],
   "source": [
    "CV_rfc.estimator"
   ]
  },
  {
   "cell_type": "code",
   "execution_count": null,
   "metadata": {},
   "outputs": [],
   "source": [
    "len(X_train.columns)"
   ]
  },
  {
   "cell_type": "code",
   "execution_count": null,
   "metadata": {},
   "outputs": [],
   "source": [
    "CV_rfc.estimator.feature_importances_.shape"
   ]
  },
  {
   "cell_type": "code",
   "execution_count": null,
   "metadata": {},
   "outputs": [],
   "source": [
    "CV_rfc.estimator."
   ]
  },
  {
   "cell_type": "code",
   "execution_count": null,
   "metadata": {
    "scrolled": true
   },
   "outputs": [],
   "source": [
    "from xgboost import plot_importance\n",
    "from matplotlib import pyplot\n",
    "\n",
    "ax = plot_importance(CV_rfc.estimator)\n",
    "fig = ax.figure\n",
    "fig.set_size_inches(80, 100)\n"
   ]
  },
  {
   "cell_type": "code",
   "execution_count": null,
   "metadata": {},
   "outputs": [],
   "source": []
  },
  {
   "cell_type": "code",
   "execution_count": null,
   "metadata": {},
   "outputs": [],
   "source": [
    "##Modifying Logistic Regression"
   ]
  },
  {
   "cell_type": "code",
   "execution_count": null,
   "metadata": {
    "scrolled": true
   },
   "outputs": [],
   "source": [
    "df = pd.read_csv(\"C:/Users/NIW/Documents/Capstone Project/data/clean_data/0607_02_training_dataset.csv\")\n",
    "df.head(5)"
   ]
  },
  {
   "cell_type": "code",
   "execution_count": null,
   "metadata": {},
   "outputs": [],
   "source": [
    "X_train = df.drop(columns=[\"hp_class\"])\n",
    "y_train = df[\"hp_class\"]\n",
    "X_train, X_valid, y_train, y_valid = train_test_split(X_train, y_train, \n",
    "                                                         train_size=0.8, random_state=1234)"
   ]
  },
  {
   "cell_type": "code",
   "execution_count": null,
   "metadata": {},
   "outputs": [],
   "source": [
    "list(df.columns)"
   ]
  },
  {
   "cell_type": "code",
   "execution_count": null,
   "metadata": {},
   "outputs": [],
   "source": [
    "\n",
    "numeric_features =['referral_flag', \n",
    "               \"job_hopper\",\"shortest_tenure\",#\"average_tenure_per_job\",           #avg_work \n",
    "               'competitor_experience',\n",
    "               #'Freedom_competitor_exp', 'Koodo_competitor_exp', 'Shaw_competitor_exp',\n",
    "               #'Telus_competitor_exp', 'Bell_competitor_exp', 'Rogers_competitor_exp',\n",
    "               #'The Mobile Shop_competitor_exp', 'Best Buy_competitor_exp',\n",
    "               #'Videotron_competitor_exp', 'Wow[!]* Mobile_competitor_exp',\n",
    "               #'The Source_competitor_exp', 'Walmart_competitor_exp',\n",
    "               #'Virgin Mobile_competitor_exp', 'Osl_competitor_exp',    #competitor_experience\n",
    "               'accounting_concentration',\n",
    "       'arts_concentration',# 'business_concentration',\n",
    "       'computer_systems_concentration', 'engineering_concentration',\n",
    "       'finance_concentration', 'general_concentration',\n",
    "       'human_resource_concentration',\n",
    "       'interactive_arts_and_technology_concentration',\n",
    "       'marketing_concentration', #'not_specified_concentration',\n",
    "       'other_concentration',#education concentration \n",
    "               #'administrative', 'assistant manager', 'blue collar', 'cashier', 'cook',\n",
    "               #'customer service representative', 'driver', 'education',\n",
    "               #'financial services', 'fitness/sports', 'manager', 'no work', 'other',\n",
    "               #'sales associate', 'technicians', 'telemarketers', # work_title \n",
    "               #'sales_exp', #'customer_serv_exp',\n",
    "               #    'leader_ship_exp', #sales_cus_exp\n",
    "               #'efficient service', 'mobile expert', 'high school',\n",
    "                #'information system', 'cash register', # word count\n",
    "               #'raw_date_chall_readability',\"clean_Flesch-Kincaid_readability\", # communication level \n",
    "               'food_service_industry_exp',\n",
    "               'apparel_industry_exp', 'supercenter_convenience_industry_exp',\n",
    "               'automotive_sales_industry_exp', 'blue_collar_industry_exp',\n",
    "               'consumer_electronics', #industry_exp\n",
    "               'no_lang_spoken', 'trilingual_flag', 'goal_record',\n",
    "               'sales_customer_base_exp', 'volunteer_exp', 'problem_solver',\n",
    "               'sports_mention', 'communication_skills', 'team_player',\n",
    "               'leadership_mention','flag_hd_highschool','business_flag']# others features in consolidate dataset \n",
    "                   # new_industry_cat updated\n",
    "                #'Clothing & Footwear_industry_exp',\n",
    "       #'Consumer electronics_industry_exp', 'Food Service_industry_exp',\n",
    "       #'Food-Convenience-Pharmacy_industry_exp', 'Other_industry_exp',\n",
    "       #'Sport_Travel_Enterntain_Hotel_industry_exp',\n",
    "       #'Telecommunications_industry_exp', 'unknown_industry_exp'] \n",
    "                \n",
    "categorical_features = ['rehired_', 'background_highest_degree','read_score_categorical'] #'country_highest_degree''background_highest_degree', 'country_highest_degree']"
   ]
  },
  {
   "cell_type": "code",
   "execution_count": null,
   "metadata": {},
   "outputs": [],
   "source": [
    "numeric_transformer = Pipeline(steps=[\n",
    "                                      ('imputer', SimpleImputer(strategy='mean')),\n",
    "                                      ('scaler', StandardScaler())\n",
    "                                    ])\n",
    "\n",
    "\n",
    "categorical_transformer = Pipeline(steps=[\n",
    "                                          ('imputer', SimpleImputer(strategy='constant', \n",
    "                                                                    fill_value='missing')),\n",
    "                                          ('onehot', OneHotEncoder(handle_unknown='ignore'))\n",
    "                                         ])\n",
    "\n",
    "preprocessor = ColumnTransformer(\n",
    "                                 transformers=[\n",
    "                                    ('num', numeric_transformer, numeric_features),\n",
    "                                    ('cat', categorical_transformer, categorical_features)\n",
    "                                ])"
   ]
  },
  {
   "cell_type": "code",
   "execution_count": null,
   "metadata": {},
   "outputs": [],
   "source": [
    "clf_featr_sele = LogisticRegression(solver='liblinear', penalty=\"l1\") \n",
    "rfecv = RFECV(estimator=clf_featr_sele, \n",
    "              step=1, \n",
    "              cv=5, \n",
    "              scoring = 'f1',\n",
    "              #min_features_to_select = 15\n",
    "             )\n",
    "\n",
    "weights = np.linspace(0.1, 0.5, 9)\n",
    "lg_param_grid = {\"C\": [0.2, 0.3, 0.5, 1.0, 2.0, 3.0, 10],\n",
    "                'class_weight': [{0: x, 1: 1.0-x} for x in weights]+[None,\"balanced\"],\n",
    "                 'l1_ratio':[0, 0.1, 0.2, 0.3, 0.4, 0.5, 0.6, 0.7, 0.8, 0.9, 1.0],\n",
    "                 'penalty':[\"l1\", \"l2\"]\n",
    "                }\n",
    "CV_rfc = GridSearchCV(clf_featr_sele, \n",
    "                      lg_param_grid,\n",
    "                     cv= 5, scoring = 'f1')"
   ]
  },
  {
   "cell_type": "code",
   "execution_count": null,
   "metadata": {},
   "outputs": [],
   "source": [
    "# Baseline model \n",
    "clf = Pipeline(steps=[('preprocessor', preprocessor),\n",
    "                          ('feature_sele',rfecv),\n",
    "                         ('clf_cv',CV_rfc)])"
   ]
  },
  {
   "cell_type": "code",
   "execution_count": null,
   "metadata": {},
   "outputs": [],
   "source": [
    "clf.fit(X_train, y_train);"
   ]
  },
  {
   "cell_type": "code",
   "execution_count": null,
   "metadata": {},
   "outputs": [],
   "source": [
    "print(\"Best param is: \", CV_rfc.best_params_)\n"
   ]
  },
  {
   "cell_type": "code",
   "execution_count": null,
   "metadata": {},
   "outputs": [],
   "source": [
    "m2"
   ]
  },
  {
   "cell_type": "code",
   "execution_count": null,
   "metadata": {
    "scrolled": true
   },
   "outputs": [],
   "source": [
    "m4 =show_scores(clf, X_train, y_train, X_valid, y_valid)\n",
    "m4.insert(0,\"model\",\"logistic_regression-m4\")\n",
    "m4"
   ]
  },
  {
   "cell_type": "code",
   "execution_count": null,
   "metadata": {},
   "outputs": [],
   "source": [
    "# Take out the training dataset after preprocessing \n",
    "X_train_trans = pd.DataFrame(preprocessor.fit_transform(X_train),\n",
    "                           index=X_train.index,\n",
    "                           columns=(numeric_features +\n",
    "                                      list(preprocessor.named_transformers_['cat']['onehot']\n",
    "                                           .get_feature_names(categorical_features))))\n",
    "X_valid_trans = pd.DataFrame(preprocessor.fit(X_train).transform(X_valid),\n",
    "                           index=X_valid.index,\n",
    "                           columns=(numeric_features +\n",
    "                                      list(preprocessor.named_transformers_['cat']['onehot']\n",
    "                                           .get_feature_names(categorical_features))))"
   ]
  },
  {
   "cell_type": "code",
   "execution_count": null,
   "metadata": {},
   "outputs": [],
   "source": [
    "X_train_sel = X_train_trans.to_numpy()[:, rfecv.support_]\n",
    "X_valid_sel = X_valid_trans.to_numpy()[:, rfecv.support_]\n",
    "X_train_sel_cols = list(compress(X_train_trans.columns, rfecv.support_))\n",
    "#lr = LogisticRegression(solver='liblinear', C = 2.0, class_weight = {0: 0.2, 1: 0.8}, l1_ratio=0, penalty=\"l2\") \n",
    "lr = LogisticRegression(solver='liblinear',C= 0.5, class_weight= {0: 0.35, 1: 0.65}, l1_ratio= 0, penalty= 'l2') \n",
    "\n",
    "lr.fit(X_train_sel, y_train);"
   ]
  },
  {
   "cell_type": "code",
   "execution_count": null,
   "metadata": {},
   "outputs": [],
   "source": [
    "scores = cross_validate(lr, X_train_sel, y_train, cv=5,\n",
    "                        scoring=('accuracy','f1','recall','precision','roc_auc'),\n",
    "                        return_train_score=False)\n",
    "\n",
    "for i in scores.keys():\n",
    "    scores[i]=scores[i].mean()\n",
    "scor = pd.DataFrame.from_dict([scores])\n",
    "scor['mean_res'] = \"valid\"\n",
    "scor = scor.set_index('mean_res')\n",
    "m4 = m4.join(scor)\n",
    "m4"
   ]
  },
  {
   "cell_type": "code",
   "execution_count": null,
   "metadata": {},
   "outputs": [],
   "source": [
    "# Show feature weights \n",
    "feat_names = X_train_sel_cols\n",
    "weights = lr.coef_.flatten()\n",
    "show_weights(feat_names, weights, 7)"
   ]
  },
  {
   "cell_type": "code",
   "execution_count": null,
   "metadata": {},
   "outputs": [],
   "source": []
  },
  {
   "cell_type": "code",
   "execution_count": null,
   "metadata": {},
   "outputs": [],
   "source": [
    "#### Final  Try"
   ]
  },
  {
   "cell_type": "code",
   "execution_count": 23,
   "metadata": {},
   "outputs": [
    {
     "data": {
      "text/html": [
       "<div>\n",
       "<style scoped>\n",
       "    .dataframe tbody tr th:only-of-type {\n",
       "        vertical-align: middle;\n",
       "    }\n",
       "\n",
       "    .dataframe tbody tr th {\n",
       "        vertical-align: top;\n",
       "    }\n",
       "\n",
       "    .dataframe thead th {\n",
       "        text-align: right;\n",
       "    }\n",
       "</style>\n",
       "<table border=\"1\" class=\"dataframe\">\n",
       "  <thead>\n",
       "    <tr style=\"text-align: right;\">\n",
       "      <th></th>\n",
       "      <th>employee_code</th>\n",
       "      <th>rehired_</th>\n",
       "      <th>referral_flag</th>\n",
       "      <th>job_hopper</th>\n",
       "      <th>average_tenure_per_job</th>\n",
       "      <th>shortest_tenure</th>\n",
       "      <th>competitor_experience</th>\n",
       "      <th>Freedom_competitor_exp</th>\n",
       "      <th>Koodo_competitor_exp</th>\n",
       "      <th>Shaw_competitor_exp</th>\n",
       "      <th>...</th>\n",
       "      <th>telco_electro_jobs</th>\n",
       "      <th>telco_electro_recency</th>\n",
       "      <th>recency_type_telco_electro_exp</th>\n",
       "      <th>no_job_categorical</th>\n",
       "      <th>telco_electro_perc_group</th>\n",
       "      <th>read_score_categorical</th>\n",
       "      <th>flag_hd_bachelor_plus</th>\n",
       "      <th>flag_hd_highschool</th>\n",
       "      <th>business_flag</th>\n",
       "      <th>no_jobs</th>\n",
       "    </tr>\n",
       "  </thead>\n",
       "  <tbody>\n",
       "    <tr>\n",
       "      <th>0</th>\n",
       "      <td>MZE</td>\n",
       "      <td>No</td>\n",
       "      <td>1.0</td>\n",
       "      <td>0.0</td>\n",
       "      <td>22.00</td>\n",
       "      <td>14.0</td>\n",
       "      <td>1</td>\n",
       "      <td>0</td>\n",
       "      <td>0</td>\n",
       "      <td>0</td>\n",
       "      <td>...</td>\n",
       "      <td>1</td>\n",
       "      <td>2</td>\n",
       "      <td>low</td>\n",
       "      <td>few</td>\n",
       "      <td>significant</td>\n",
       "      <td>low</td>\n",
       "      <td>0</td>\n",
       "      <td>1</td>\n",
       "      <td>0</td>\n",
       "      <td>2</td>\n",
       "    </tr>\n",
       "    <tr>\n",
       "      <th>1</th>\n",
       "      <td>MRU</td>\n",
       "      <td>No</td>\n",
       "      <td>0.0</td>\n",
       "      <td>0.0</td>\n",
       "      <td>12.33</td>\n",
       "      <td>3.0</td>\n",
       "      <td>1</td>\n",
       "      <td>0</td>\n",
       "      <td>0</td>\n",
       "      <td>0</td>\n",
       "      <td>...</td>\n",
       "      <td>1</td>\n",
       "      <td>1</td>\n",
       "      <td>high</td>\n",
       "      <td>multiple</td>\n",
       "      <td>significant</td>\n",
       "      <td>high</td>\n",
       "      <td>0</td>\n",
       "      <td>0</td>\n",
       "      <td>0</td>\n",
       "      <td>3</td>\n",
       "    </tr>\n",
       "    <tr>\n",
       "      <th>2</th>\n",
       "      <td>LAP</td>\n",
       "      <td>Yes</td>\n",
       "      <td>0.0</td>\n",
       "      <td>0.0</td>\n",
       "      <td>40.33</td>\n",
       "      <td>8.0</td>\n",
       "      <td>0</td>\n",
       "      <td>0</td>\n",
       "      <td>0</td>\n",
       "      <td>0</td>\n",
       "      <td>...</td>\n",
       "      <td>1</td>\n",
       "      <td>2</td>\n",
       "      <td>low</td>\n",
       "      <td>multiple</td>\n",
       "      <td>low</td>\n",
       "      <td>high</td>\n",
       "      <td>0</td>\n",
       "      <td>0</td>\n",
       "      <td>0</td>\n",
       "      <td>6</td>\n",
       "    </tr>\n",
       "    <tr>\n",
       "      <th>3</th>\n",
       "      <td>MYD</td>\n",
       "      <td>No</td>\n",
       "      <td>0.0</td>\n",
       "      <td>0.0</td>\n",
       "      <td>25.17</td>\n",
       "      <td>8.0</td>\n",
       "      <td>0</td>\n",
       "      <td>0</td>\n",
       "      <td>0</td>\n",
       "      <td>0</td>\n",
       "      <td>...</td>\n",
       "      <td>0</td>\n",
       "      <td>0</td>\n",
       "      <td>inexistant</td>\n",
       "      <td>multiple</td>\n",
       "      <td>inexistant</td>\n",
       "      <td>high</td>\n",
       "      <td>0</td>\n",
       "      <td>0</td>\n",
       "      <td>1</td>\n",
       "      <td>6</td>\n",
       "    </tr>\n",
       "    <tr>\n",
       "      <th>4</th>\n",
       "      <td>JJB</td>\n",
       "      <td>Yes</td>\n",
       "      <td>0.0</td>\n",
       "      <td>0.0</td>\n",
       "      <td>15.33</td>\n",
       "      <td>0.0</td>\n",
       "      <td>0</td>\n",
       "      <td>0</td>\n",
       "      <td>0</td>\n",
       "      <td>0</td>\n",
       "      <td>...</td>\n",
       "      <td>2</td>\n",
       "      <td>1</td>\n",
       "      <td>high</td>\n",
       "      <td>multiple</td>\n",
       "      <td>significant</td>\n",
       "      <td>low</td>\n",
       "      <td>1</td>\n",
       "      <td>0</td>\n",
       "      <td>1</td>\n",
       "      <td>3</td>\n",
       "    </tr>\n",
       "  </tbody>\n",
       "</table>\n",
       "<p>5 rows × 75 columns</p>\n",
       "</div>"
      ],
      "text/plain": [
       "  employee_code rehired_  referral_flag  job_hopper  average_tenure_per_job  \\\n",
       "0           MZE       No            1.0         0.0                   22.00   \n",
       "1           MRU       No            0.0         0.0                   12.33   \n",
       "2           LAP      Yes            0.0         0.0                   40.33   \n",
       "3           MYD       No            0.0         0.0                   25.17   \n",
       "4           JJB      Yes            0.0         0.0                   15.33   \n",
       "\n",
       "   shortest_tenure  competitor_experience  Freedom_competitor_exp  \\\n",
       "0             14.0                      1                       0   \n",
       "1              3.0                      1                       0   \n",
       "2              8.0                      0                       0   \n",
       "3              8.0                      0                       0   \n",
       "4              0.0                      0                       0   \n",
       "\n",
       "   Koodo_competitor_exp  Shaw_competitor_exp  ...  telco_electro_jobs  \\\n",
       "0                     0                    0  ...                   1   \n",
       "1                     0                    0  ...                   1   \n",
       "2                     0                    0  ...                   1   \n",
       "3                     0                    0  ...                   0   \n",
       "4                     0                    0  ...                   2   \n",
       "\n",
       "   telco_electro_recency  recency_type_telco_electro_exp  no_job_categorical  \\\n",
       "0                      2                             low                 few   \n",
       "1                      1                            high            multiple   \n",
       "2                      2                             low            multiple   \n",
       "3                      0                      inexistant            multiple   \n",
       "4                      1                            high            multiple   \n",
       "\n",
       "   telco_electro_perc_group  read_score_categorical  flag_hd_bachelor_plus  \\\n",
       "0               significant                     low                      0   \n",
       "1               significant                    high                      0   \n",
       "2                       low                    high                      0   \n",
       "3                inexistant                    high                      0   \n",
       "4               significant                     low                      1   \n",
       "\n",
       "   flag_hd_highschool  business_flag  no_jobs  \n",
       "0                   1              0        2  \n",
       "1                   0              0        3  \n",
       "2                   0              0        6  \n",
       "3                   0              1        6  \n",
       "4                   0              1        3  \n",
       "\n",
       "[5 rows x 75 columns]"
      ]
     },
     "execution_count": 23,
     "metadata": {},
     "output_type": "execute_result"
    }
   ],
   "source": [
    "df = pd.read_csv(\"C:/Users/NIW/Documents/Capstone Project/data/clean_data/0607_02_training_dataset.csv\")\n",
    "df.head(5)"
   ]
  },
  {
   "cell_type": "code",
   "execution_count": null,
   "metadata": {},
   "outputs": [],
   "source": []
  },
  {
   "cell_type": "code",
   "execution_count": null,
   "metadata": {},
   "outputs": [],
   "source": [
    "X_train_1 = df.drop(columns=[\"hp_class\"])\n",
    "y_train_1 = df[\"hp_class\"]\n",
    "X_train, X_valid, y_train, y_valid = train_test_split(X_train_1, y_train_1, \n",
    "                                                         train_size=0.8, random_state=1234)"
   ]
  },
  {
   "cell_type": "code",
   "execution_count": null,
   "metadata": {},
   "outputs": [],
   "source": []
  },
  {
   "cell_type": "code",
   "execution_count": null,
   "metadata": {},
   "outputs": [],
   "source": [
    "import scipy.stats.stats as stats\n",
    "import traceback\n",
    "import pandas.core.algorithms as algos"
   ]
  },
  {
   "cell_type": "code",
   "execution_count": null,
   "metadata": {},
   "outputs": [],
   "source": [
    "max_bin = 20\n",
    "force_bin = 3\n",
    "def mono_bin(Y, X, n = max_bin):\n",
    "    df1 = pd.DataFrame({\"X\": X, \"Y\": Y})\n",
    "    justmiss = df1[['X','Y']][df1.X.isnull()]\n",
    "    notmiss = df1[['X','Y']][df1.X.notnull()]\n",
    "    r = 0\n",
    "    while np.abs(r) < 1:\n",
    "        try:\n",
    "            d1 = pd.DataFrame({\"X\": notmiss.X, \"Y\": notmiss.Y, \"Bucket\": pd.qcut(notmiss.X, n)})\n",
    "            d2 = d1.groupby('Bucket', as_index=True)\n",
    "            r, p = stats.spearmanr(d2.mean().X, d2.mean().Y)\n",
    "            n = n - 1 \n",
    "        except Exception as e:\n",
    "            n = n - 1\n",
    "\n",
    "    if len(d2) == 1:\n",
    "        n = force_bin         \n",
    "        bins = algos.quantile(notmiss.X, np.linspace(0, 1, n))\n",
    "        if len(np.unique(bins)) == 2:\n",
    "            bins = np.insert(bins, 0, 1)\n",
    "            bins[1] = bins[1]-(bins[1]/2)\n",
    "        d1 = pd.DataFrame({\"X\": notmiss.X, \"Y\": notmiss.Y, \"Bucket\": pd.cut(notmiss.X, np.unique(bins),include_lowest=True)}) \n",
    "        d2 = d1.groupby('Bucket', as_index=True)\n",
    "    \n",
    "    d3 = pd.DataFrame({},index=[])\n",
    "    d3[\"MIN_VALUE\"] = d2.min().X\n",
    "    d3[\"MAX_VALUE\"] = d2.max().X\n",
    "    d3[\"COUNT\"] = d2.count().Y\n",
    "    d3[\"EVENT\"] = d2.sum().Y\n",
    "    d3[\"NONEVENT\"] = d2.count().Y - d2.sum().Y\n",
    "    d3=d3.reset_index(drop=True)\n",
    "    \n",
    "    if len(justmiss.index) > 0:\n",
    "        d4 = pd.DataFrame({'MIN_VALUE':np.nan},index=[0])\n",
    "        d4[\"MAX_VALUE\"] = np.nan\n",
    "        d4[\"COUNT\"] = justmiss.count().Y\n",
    "        d4[\"EVENT\"] = justmiss.sum().Y\n",
    "        d4[\"NONEVENT\"] = justmiss.count().Y - justmiss.sum().Y\n",
    "        d3 = d3.append(d4,ignore_index=True)\n",
    "    \n",
    "    d3[\"EVENT_RATE\"] = d3.EVENT/d3.COUNT\n",
    "    d3[\"NON_EVENT_RATE\"] = d3.NONEVENT/d3.COUNT\n",
    "    d3[\"DIST_EVENT\"] = d3.EVENT/d3.sum().EVENT\n",
    "    d3[\"DIST_NON_EVENT\"] = d3.NONEVENT/d3.sum().NONEVENT\n",
    "    d3[\"WOE\"] = np.log(d3.DIST_EVENT/d3.DIST_NON_EVENT)\n",
    "    d3[\"IV\"] = (d3.DIST_EVENT-d3.DIST_NON_EVENT)*np.log(d3.DIST_EVENT/d3.DIST_NON_EVENT)\n",
    "    d3[\"VAR_NAME\"] = \"VAR\"\n",
    "    d3 = d3[['VAR_NAME','MIN_VALUE', 'MAX_VALUE', 'COUNT', 'EVENT', 'EVENT_RATE', 'NONEVENT', 'NON_EVENT_RATE', 'DIST_EVENT','DIST_NON_EVENT','WOE', 'IV']]       \n",
    "    d3 = d3.replace([np.inf, -np.inf], 0)\n",
    "    d3.IV = d3.IV.sum()\n",
    "    \n",
    "    return(d3)"
   ]
  },
  {
   "cell_type": "code",
   "execution_count": null,
   "metadata": {},
   "outputs": [],
   "source": [
    "def char_bin(Y, X):\n",
    "        \n",
    "    df1 = pd.DataFrame({\"X\": X, \"Y\": Y})\n",
    "    justmiss = df1[['X','Y']][df1.X.isnull()]\n",
    "    notmiss = df1[['X','Y']][df1.X.notnull()]    \n",
    "    df2 = notmiss.groupby('X',as_index=True)\n",
    "    \n",
    "    d3 = pd.DataFrame({},index=[])\n",
    "    d3[\"COUNT\"] = df2.count().Y\n",
    "    d3[\"MIN_VALUE\"] = df2.sum().Y.index\n",
    "    d3[\"MAX_VALUE\"] = d3[\"MIN_VALUE\"]\n",
    "    d3[\"EVENT\"] = df2.sum().Y\n",
    "    d3[\"NONEVENT\"] = df2.count().Y - df2.sum().Y\n",
    "    \n",
    "    if len(justmiss.index) > 0:\n",
    "        d4 = pd.DataFrame({'MIN_VALUE':np.nan},index=[0])\n",
    "        d4[\"MAX_VALUE\"] = np.nan\n",
    "        d4[\"COUNT\"] = justmiss.count().Y\n",
    "        d4[\"EVENT\"] = justmiss.sum().Y\n",
    "        d4[\"NONEVENT\"] = justmiss.count().Y - justmiss.sum().Y\n",
    "        d3 = d3.append(d4,ignore_index=True)\n",
    "    \n",
    "    d3[\"EVENT_RATE\"] = d3.EVENT/d3.COUNT\n",
    "    d3[\"NON_EVENT_RATE\"] = d3.NONEVENT/d3.COUNT\n",
    "    d3[\"DIST_EVENT\"] = d3.EVENT/d3.sum().EVENT\n",
    "    d3[\"DIST_NON_EVENT\"] = d3.NONEVENT/d3.sum().NONEVENT\n",
    "    d3[\"WOE\"] = np.log(d3.DIST_EVENT/d3.DIST_NON_EVENT)\n",
    "    d3[\"IV\"] = (d3.DIST_EVENT-d3.DIST_NON_EVENT)*np.log(d3.DIST_EVENT/d3.DIST_NON_EVENT)\n",
    "    d3[\"VAR_NAME\"] = \"VAR\"\n",
    "    d3 = d3[['VAR_NAME','MIN_VALUE', 'MAX_VALUE', 'COUNT', 'EVENT', 'EVENT_RATE', 'NONEVENT', 'NON_EVENT_RATE', 'DIST_EVENT','DIST_NON_EVENT','WOE', 'IV']]      \n",
    "    d3 = d3.replace([np.inf, -np.inf], 0)\n",
    "    d3.IV = d3.IV.sum()\n",
    "    d3 = d3.reset_index(drop=True)\n",
    "    \n",
    "    return(d3)"
   ]
  },
  {
   "cell_type": "code",
   "execution_count": null,
   "metadata": {},
   "outputs": [],
   "source": [
    "def data_vars(df1, target):\n",
    "    \n",
    "    stack = traceback.extract_stack()\n",
    "    filename, lineno, function_name, code = stack[-2]\n",
    "    vars_name = re.compile(r'\\((.*?)\\).*$').search(code).groups()[0]\n",
    "    final = (re.findall(r\"[\\w']+\", vars_name))[-1]\n",
    "    \n",
    "    x = df1.dtypes.index\n",
    "    count = -1\n",
    "    \n",
    "    for i in x:\n",
    "        if i.upper() not in (final.upper()):\n",
    "            if np.issubdtype(df1[i], np.number) and len(pd.Series.unique(df1[i])) > 2:\n",
    "                conv = mono_bin(target, df1[i])\n",
    "                conv[\"VAR_NAME\"] = i\n",
    "                count = count + 1\n",
    "            else:\n",
    "                conv = char_bin(target, df1[i])\n",
    "                conv[\"VAR_NAME\"] = i            \n",
    "                count = count + 1\n",
    "                \n",
    "            if count == 0:\n",
    "                iv_df = conv\n",
    "            else:\n",
    "                iv_df = iv_df.append(conv,ignore_index=True)\n",
    "    \n",
    "    iv = pd.DataFrame({'IV':iv_df.groupby('VAR_NAME').IV.max()})\n",
    "    iv = iv.reset_index()\n",
    "    return(iv_df,iv)"
   ]
  },
  {
   "cell_type": "code",
   "execution_count": null,
   "metadata": {},
   "outputs": [],
   "source": [
    "X_train.dtypes"
   ]
  },
  {
   "cell_type": "code",
   "execution_count": null,
   "metadata": {},
   "outputs": [],
   "source": [
    "final_iv, IV = data_vars(X_train,y_train)"
   ]
  },
  {
   "cell_type": "code",
   "execution_count": null,
   "metadata": {},
   "outputs": [],
   "source": [
    "IV.sort_values(by=\"IV\",ascending = False)"
   ]
  },
  {
   "cell_type": "code",
   "execution_count": null,
   "metadata": {
    "scrolled": true
   },
   "outputs": [],
   "source": [
    "list(IV[IV['IV']>=0.02]['VAR_NAME'])"
   ]
  },
  {
   "cell_type": "code",
   "execution_count": null,
   "metadata": {},
   "outputs": [],
   "source": [
    "numeric_features =['communication_skills',\n",
    " 'competitor_experience',\n",
    " 'consumer_electronics','finance_concentration',\n",
    " 'flag_hd_bachelor_plus',\n",
    " 'flag_hd_highschool',\n",
    " 'food_service_industry_exp',\n",
    " 'goal_record','problem_solver',\n",
    " 'raw_date_chall_readability','sales_customer_base_exp',\n",
    " 'shortest_tenure',\n",
    " 'sports_mention',\n",
    " 'supercenter_convenience_industry_exp',\n",
    " 'team_player','trilingual_flag']\n",
    "\n",
    "categorical_features = ['background_highest_degree','telco_electro_perc_group','no_job_categorical','recency_type_telco_electro_exp'] #'country_highest_degree''background_highest_degree', 'country_highest_degree']"
   ]
  },
  {
   "cell_type": "code",
   "execution_count": null,
   "metadata": {},
   "outputs": [],
   "source": [
    "numeric_transformer = Pipeline(steps=[\n",
    "                                      ('imputer', SimpleImputer(strategy='mean')),\n",
    "                                      ('scaler', StandardScaler())\n",
    "                                    ])\n",
    "\n",
    "\n",
    "categorical_transformer = Pipeline(steps=[\n",
    "                                          ('imputer', SimpleImputer(strategy='constant', \n",
    "                                                                    fill_value='missing')),\n",
    "                                          ('onehot', OneHotEncoder(handle_unknown='ignore'))\n",
    "                                         ])\n",
    "\n",
    "preprocessor = ColumnTransformer(\n",
    "                                 transformers=[\n",
    "                                    ('num', numeric_transformer, numeric_features),\n",
    "                                    ('cat', categorical_transformer, categorical_features)\n",
    "                                ])"
   ]
  },
  {
   "cell_type": "code",
   "execution_count": null,
   "metadata": {},
   "outputs": [],
   "source": [
    "clf_featr_sele = LogisticRegression(solver='liblinear', penalty=\"l1\") \n",
    "rfecv = RFECV(estimator=clf_featr_sele, \n",
    "              step=1, \n",
    "              cv=5, \n",
    "              scoring = 'f1',\n",
    "              #min_features_to_select = 15\n",
    "             )\n",
    "\n",
    "weights = np.linspace(0.1, 0.5, 9)\n",
    "lg_param_grid = {\"C\": [0.2, 0.3, 0.5, 1.0, 2.0, 3.0, 10],\n",
    "                'class_weight': [{0: x, 1: 1.0-x} for x in weights]+[None,\"balanced\"],\n",
    "                 'l1_ratio':[0, 0.1, 0.2, 0.3, 0.4, 0.5, 0.6, 0.7, 0.8, 0.9, 1.0],\n",
    "                 'penalty':[\"l1\", \"l2\"]\n",
    "                }\n",
    "CV_rfc = GridSearchCV(clf_featr_sele, \n",
    "                      lg_param_grid,\n",
    "                     cv= 5, scoring = 'f1')"
   ]
  },
  {
   "cell_type": "code",
   "execution_count": null,
   "metadata": {},
   "outputs": [],
   "source": [
    "# Baseline model \n",
    "clf = Pipeline(steps=[('preprocessor', preprocessor),\n",
    "                          ('feature_sele',rfecv),\n",
    "                         ('clf_cv',CV_rfc)])"
   ]
  },
  {
   "cell_type": "code",
   "execution_count": null,
   "metadata": {},
   "outputs": [],
   "source": [
    "clf.fit(X_train, y_train);"
   ]
  },
  {
   "cell_type": "code",
   "execution_count": null,
   "metadata": {},
   "outputs": [],
   "source": [
    "print(\"Best param is: \", CV_rfc.best_params_)"
   ]
  },
  {
   "cell_type": "code",
   "execution_count": null,
   "metadata": {},
   "outputs": [],
   "source": [
    "m2"
   ]
  },
  {
   "cell_type": "code",
   "execution_count": null,
   "metadata": {},
   "outputs": [],
   "source": [
    "m5 =show_scores(clf, X_train, y_train, X_valid, y_valid)\n",
    "m5.insert(0,\"model\",\"logistic_regression-m5\")\n",
    "m5"
   ]
  },
  {
   "cell_type": "code",
   "execution_count": null,
   "metadata": {},
   "outputs": [],
   "source": [
    "# Take out the training dataset after preprocessing \n",
    "X_train_trans = pd.DataFrame(preprocessor.fit_transform(X_train),\n",
    "                           index=X_train.index,\n",
    "                           columns=(numeric_features +\n",
    "                                      list(preprocessor.named_transformers_['cat']['onehot']\n",
    "                                           .get_feature_names(categorical_features))))\n",
    "X_valid_trans = pd.DataFrame(preprocessor.fit(X_train).transform(X_valid),\n",
    "                           index=X_valid.index,\n",
    "                           columns=(numeric_features +\n",
    "                                      list(preprocessor.named_transformers_['cat']['onehot']\n",
    "                                           .get_feature_names(categorical_features))))"
   ]
  },
  {
   "cell_type": "code",
   "execution_count": null,
   "metadata": {},
   "outputs": [],
   "source": [
    "from sklearn.model_selection import cross_val_score"
   ]
  },
  {
   "cell_type": "code",
   "execution_count": null,
   "metadata": {},
   "outputs": [],
   "source": [
    "X_train_sel = X_train_trans.to_numpy()[:, rfecv.support_]\n",
    "X_valid_sel = X_valid_trans.to_numpy()[:, rfecv.support_]\n",
    "X_train_sel_cols = list(compress(X_train_trans.columns, rfecv.support_))\n",
    "#lr = LogisticRegression(solver='liblinear', C = 2.0, class_weight = {0: 0.2, 1: 0.8}, l1_ratio=0, penalty=\"l2\") \n",
    "lr = LogisticRegression(solver='liblinear',C= 0.2, class_weight= {0: 0.2, 1: 0.8}, l1_ratio= 0, penalty= 'l2') \n",
    "\n",
    "lr.fit(X_train_sel, y_train);"
   ]
  },
  {
   "cell_type": "code",
   "execution_count": null,
   "metadata": {},
   "outputs": [],
   "source": [
    "scores = cross_validate(lr, X_train_sel, y_train, cv=5,\n",
    "                        scoring=('accuracy','f1','recall','precision','roc_auc'),\n",
    "                        return_train_score=False)\n",
    "\n",
    "for i in scores.keys():\n",
    "    scores[i]=scores[i].mean()\n",
    "scor = pd.DataFrame.from_dict([scores])\n",
    "scor['mean_res'] = \"valid\"\n",
    "scor = scor.set_index('mean_res')\n",
    "m5 = m5.join(scor)\n",
    "m5"
   ]
  },
  {
   "cell_type": "code",
   "execution_count": null,
   "metadata": {},
   "outputs": [],
   "source": [
    "# Show feature weights \n",
    "feat_names = X_train_sel_cols\n",
    "weights = lr.coef_.flatten()\n",
    "show_weights(feat_names, weights, 8)"
   ]
  },
  {
   "cell_type": "code",
   "execution_count": null,
   "metadata": {},
   "outputs": [],
   "source": [
    "pd.concat([m1,m2,m3,m4,m5]).loc[['valid'] ,:]"
   ]
  },
  {
   "cell_type": "code",
   "execution_count": null,
   "metadata": {},
   "outputs": [],
   "source": []
  },
  {
   "cell_type": "code",
   "execution_count": null,
   "metadata": {},
   "outputs": [],
   "source": []
  },
  {
   "cell_type": "code",
   "execution_count": null,
   "metadata": {},
   "outputs": [],
   "source": []
  }
 ],
 "metadata": {
  "kernelspec": {
   "display_name": "Python 3",
   "language": "python",
   "name": "python3"
  },
  "language_info": {
   "codemirror_mode": {
    "name": "ipython",
    "version": 3
   },
   "file_extension": ".py",
   "mimetype": "text/x-python",
   "name": "python",
   "nbconvert_exporter": "python",
   "pygments_lexer": "ipython3",
   "version": "3.7.6"
  }
 },
 "nbformat": 4,
 "nbformat_minor": 4
}
